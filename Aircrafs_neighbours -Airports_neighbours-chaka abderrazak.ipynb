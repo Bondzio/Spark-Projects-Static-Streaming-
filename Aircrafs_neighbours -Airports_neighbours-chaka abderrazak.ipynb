{
 "cells": [
  {
   "cell_type": "code",
   "execution_count": 26,
   "metadata": {},
   "outputs": [],
   "source": [
    "import findspark\n",
    "findspark.init()\n",
    "import pyspark # only run after findspark.init()\n",
    "\n",
    "from pyspark.sql import SparkSession\n",
    "from pyspark.context import SparkContext \n",
    "spark = SparkSession.builder.getOrCreate()#create spark session \n",
    "sc = spark.sparkContext#create sparkContext\n",
    "from pyspark.sql.types import  (StructType, \n",
    "                                StructField, \n",
    "                                DateType, \n",
    "                                BooleanType,\n",
    "                                DoubleType,\n",
    "                                IntegerType,\n",
    "                                StringType,\n",
    "                                DecimalType,\n",
    "                                LongType,\n",
    "                                ArrayType,\n",
    "                                TimestampType)\n"
   ]
  },
  {
   "cell_type": "code",
   "execution_count": 27,
   "metadata": {
    "scrolled": true
   },
   "outputs": [
    {
     "name": "stdout",
     "output_type": "stream",
     "text": [
      "+---+-------------------+--------+----------------+----------------+------------+-----------+---------------+--------------------+\n",
      "| id|       timeAtServer|aircraft|        latitude|       longitude|baroAltitude|geoAltitude|numMeasurements|        measurements|\n",
      "+---+-------------------+--------+----------------+----------------+------------+-----------+---------------+--------------------+\n",
      "|  1|                0.0|    1787|49.5238952636719|7.80282271535773|      6400.8|    6537.96|              3|[[463,963309455,4...|\n",
      "|  2|                0.0|    1605|50.4821311821372|7.35423320048564|     10363.2|   10500.36|              5|[[463,963756980,2...|\n",
      "|  3|                0.0|    2022|45.9829505015228|8.61870574951172|     11277.6|   11445.24|              3|[[14,981538828,29...|\n",
      "|  4|0.00100016593933105|    2359|47.8106379104873|9.30739182692308|     10820.4|   10965.18|              2|[[125,957894484,8...|\n",
      "|  5|0.00100016593933105|    1283|49.8303533004502|5.40037412901183|      9753.6|     9906.0|              5|[[463,960120430,4...|\n",
      "|  6|0.00300002098083496|    1602|47.5003672454317|11.9126305213341|      9448.8|     9715.5|              3|[[125,982469546,8...|\n",
      "|  7|0.00400018692016602|    2200|44.6677551269531|9.30751255580357|     10668.0|    10820.4|              2|[[113,983717296,7...|\n",
      "|  8|0.00400018692016602|     370|43.4799957275391|9.03995957485465|     10972.8|   11148.06|              3|[[113,988943718,6...|\n",
      "|  9|0.00600004196166992|    1023|51.6607818603516| 4.7578966295397|     11277.6|   11369.04|              2|[[322,967774218,1...|\n",
      "| 10|0.00600004196166992|    1675|            null|            null|     11582.4|       null|              2|[[238,982721828,2...|\n",
      "+---+-------------------+--------+----------------+----------------+------------+-----------+---------------+--------------------+\n",
      "only showing top 10 rows\n",
      "\n"
     ]
    }
   ],
   "source": [
    "\n",
    "#Measurement Data File Format\n",
    "\n",
    "#The header line of the measurement data files is as follows:\n",
    "#id,timeAtServer,aircraft,latitude,longitude,baroAltitude,geoAltitude,numMeasurements,measurements\n",
    "\n",
    "#1-id: a unique identifier for each received transponder signal. This identifier will be used to join the result file (output of your localization algorithm) with the measurement data.\n",
    "#2-timeAtServer: a timestamp (double) in seconds indicating the time when the information was received by OpenSky's ingestion server.\n",
    "#In each 1h data set, this timestamp starts with 0 and counts up to 3600 seconds. \n",
    "#This timestamp has roughly millisecond accuracy. \n",
    "#Note that this timestamp was determined after propagation delay, processing delay, and Internet delay.\n",
    "#3-aircraft: an aircraft identifier which is unique for each aircraft within each data set. \n",
    "#This identifier allows grouping the measurements that belong to signals from the same transponder.\n",
    "#Note that aircraft 123 in data set X is not the same transponder as aircraft 123 in data set Y. \n",
    "#This means that data sets cannot be combined.\n",
    "#4-latitude/longitude/geoAltitude: the location that was reported by the transmitting aircraft. \n",
    "#As in the sensor meta data, latitude and longitude are provided in decimal degrees (WGS84), geoAltitude in meters. \n",
    "#The accuracy of these location information is generally unknown. \n",
    "#However, most aircraft should report their locations at a decent accuracy (10s of meters accuracy). \n",
    "#It is worth noting here that there are some aircraft sending location information derived from their intertial system rather that their GPS sensor.\n",
    "#In this case, location information is subject to drifting and might be wrong by several hundred meters. \n",
    "#However, this case is rather rare but should nevertheless be considered when cleansing the data.\n",
    "#5-baroAltitude: the barometric altitude reported by the aircraft in meters. \n",
    "#Note that the barometric altitude is weather dependent and might differ from the geometric altitude by several hundred meters.\n",
    "#However, the difference might be learned from \"known\" aircraft and this information could then be used to estimate the geometric altitude or estimate bounds.\n",
    "#6-numMeasurements: the number of measurements, i.e., the number of sensors which received this particular transponder signal.\n",
    "#7-measurements: the measurement data for each receiver which received this particular transponder signal. \n",
    "#The measurement data is provided as a JSON array string containing triples.\n",
    "#Each triple contains the serial number of the sensor which reported the measurement data, the timestamp for the time of arrival of the signal at the receiver (in nanoseconds), and the received signal strength indicator (RSSI).\n",
    "#The exact definition of the RSSI depends on the type of receiver but is usually provided in dB. \n",
    "#The properties of the nanosecond timestamp also strongly depend of the type of receiver. \n",
    "#For dump1090 receivers, these timestamps are generally unsynchronized and typically have a 12MHz resolution. \n",
    "#Unsynchronized timestamp means in particular that these timestamps are subject to (sometimes heavy) drifting. \n",
    "#For Radarcape and GRX1090, these timestamps are usually GPS synchronized and have a resolution of about 40-60MHz. GPS synchronized means that they are constantly resynchronized to compensate for clock drift.\n",
    "sample_schema = StructType([StructField(\"id\",  IntegerType(), True),\n",
    "                            StructField(\"timeAtServer\", DoubleType(), True),\n",
    "                            StructField(\"aircraft\",  IntegerType(), True ),\n",
    "                            StructField(\"latitude\", DoubleType(), True),\n",
    "                            StructField(\"longitude\", DoubleType(), True  ),\n",
    "                            StructField(\"baroAltitude\", DoubleType(), True ),\n",
    "                            StructField(\"geoAltitude\", DoubleType(), True ),\n",
    "                            StructField(\"numMeasurements\",IntegerType(), True),\n",
    "                            StructField(\"measurements\", StringType(), True)           \n",
    "                            ])\n",
    "                               \n",
    "\n",
    "sample_aircarft = spark.read.csv(\"C:/Users/rzouga/Desktop/PFE/TEST/sample.csv\",\n",
    "                       header = True, \n",
    "                        schema = sample_schema)\n",
    "\n",
    "\n",
    "sample_aircarft.show(10)\n"
   ]
  },
  {
   "cell_type": "code",
   "execution_count": 28,
   "metadata": {},
   "outputs": [
    {
     "name": "stdout",
     "output_type": "stream",
     "text": [
      "+----+-----------------+--------+----------------+----------------+------------+-----------+---------------+--------------------+\n",
      "|  id|     timeAtServer|aircraft|        latitude|       longitude|baroAltitude|geoAltitude|numMeasurements|        measurements|\n",
      "+----+-----------------+--------+----------------+----------------+------------+-----------+---------------+--------------------+\n",
      "| 299|0.523000001907349|       2|49.8963643736759|8.40246252111487|      2400.3|     2400.3|              3|[[440,1509552325,...|\n",
      "| 615| 1.11700010299683|       2|49.8959454035355|8.40149750580659|     2407.92|    2407.92|              2|[[101,2104674703,...|\n",
      "| 847| 1.54299998283386|       2|49.8956660901086|8.40075518633868|     2415.54|    2415.54|              3|[[101,2524676140,...|\n",
      "|1117| 2.03600001335144|       2|49.8952789306641|8.39991519325658|     2423.16|    2423.16|              2|[[101,3024702015,...|\n",
      "|1685| 3.12700009346008|       2|49.8945953886388|8.39786014041385|      2438.4|    2446.02|              2|[[440,4109714750,...|\n",
      "|2242| 4.11899995803833|       2|49.8939902095471|8.39622703758446|     2453.64|    2461.26|              2|[[101,5104687875,...|\n",
      "|2510| 4.63499999046326|       2|49.8936767578125|8.39536164936266|     2461.26|    2461.26|              2|[[440,5609613475,...|\n",
      "|2797|  5.1470000743866|       2|49.8933384782177|8.39451970280828|     2468.88|     2476.5|              2|[[101,6134911640,...|\n",
      "|3102| 5.69099998474121|       2|49.8929660603152|8.39348045555321|      2476.5|     2476.5|              3|[[440,6669628800,...|\n",
      "|3370| 6.18400001525879|       2|49.8926239013672|8.39268734580592|     2484.12|    2491.74|              2|[[101,7169694765,...|\n",
      "|3590|  6.6470000743866|       2|49.8923492431641|8.39203683953536|     2491.74|    2499.36|              4|[[101,7634918828,...|\n",
      "|3809|  7.0460000038147|       2|49.8921203613281| 8.3913140547903|     2499.36|    2506.98|              2|[[101,8039698015,...|\n",
      "|4086|  7.5920000076294|       2|49.8917541503906| 8.3902298776727|     2506.98|    2506.98|              3|[[101,8579700421,...|\n",
      "|4355| 8.09000015258789|       2|49.8915229409428|8.38924923458615|      2514.6|    2522.22|              2|[[101,9079712500,...|\n",
      "|4594| 8.51500010490418|       2|49.8912901797537|8.38858114706503|     2522.22|    2522.22|              3|[[101,9504704078,...|\n",
      "|4938| 9.06599998474121|       2| 49.890964314089|8.38746766786318|     2529.84|    2537.46|              2|[[101,10054713500...|\n",
      "|5256| 9.60300016403198|       2|49.8907012939453|8.38654367547286|     2537.46|    2537.46|              3|[[101,10584980812...|\n",
      "|5548| 10.1520001888275|       2| 49.890380859375|8.38545949835526|     2545.08|     2552.7|              2|[[101,11144710468...|\n",
      "|6016| 11.0080001354218|       2|49.8899688720703|8.38401392886513|     2560.32|    2575.56|              2|[[101,11999801484...|\n",
      "|6229| 11.4260001182556|       2|49.8897399902344|8.38336342259457|     2560.32|    2567.94|              3|[[101,12409717343...|\n",
      "+----+-----------------+--------+----------------+----------------+------------+-----------+---------------+--------------------+\n",
      "only showing top 20 rows\n",
      "\n"
     ]
    }
   ],
   "source": [
    "#sort our data  by distinct aircraft and time at server \n",
    "sorted_flights =sample_aircarft.orderBy('aircraft','timeAtServer')\n",
    "sorted_flights.show()"
   ]
  },
  {
   "cell_type": "code",
   "execution_count": 29,
   "metadata": {
    "scrolled": true
   },
   "outputs": [
    {
     "name": "stdout",
     "output_type": "stream",
     "text": [
      "+----+-----------------+--------+----------------+----------------+------------+-----------+---------------+--------------------+\n",
      "|  id|     timeAtServer|aircraft|        latitude|       longitude|baroAltitude|geoAltitude|numMeasurements|        measurements|\n",
      "+----+-----------------+--------+----------------+----------------+------------+-----------+---------------+--------------------+\n",
      "| 220|0.425000190734863|     296|50.4569929737156|7.42067079286318|     10668.0|   10812.78|              4|[[320,1405224250,...|\n",
      "| 516|0.942000150680542|     296|50.4567260742188|7.42263793945312|     10668.0|   10812.78|              2|[[394,1915311265,...|\n",
      "| 823| 1.50300002098084|     296|50.4564343468618|7.42460508604308|     10668.0|   10812.78|              3|[[101,2495094109,...|\n",
      "|1066| 1.94500017166138|     296|50.4562946901483|7.42586702913851|     10668.0|   10812.78|              2|[[115,2904190750,...|\n",
      "|1617| 3.00600004196167|     296|50.4558563232422|7.42914300215872|     10668.0|   10812.78|              6|[[101,3994946687,...|\n",
      "+----+-----------------+--------+----------------+----------------+------------+-----------+---------------+--------------------+\n",
      "only showing top 5 rows\n",
      "\n"
     ]
    }
   ],
   "source": [
    "#exapmle of a flight trip 296\n",
    "trip296=sorted_flights.filter('aircraft= 296')\n",
    "trip296.show(5)"
   ]
  },
  {
   "cell_type": "code",
   "execution_count": 30,
   "metadata": {
    "scrolled": false
   },
   "outputs": [
    {
     "name": "stdout",
     "output_type": "stream",
     "text": [
      "55536\n",
      "+------+-----+-------------+--------------------+-----------------+------------------+------------+---------+-----------+----------+------------+-----------------+--------+---------+----------+---------+--------------+--------+\n",
      "|    id|ident|         type|                name|     latitude_deg|     longitude_deg|elevation_ft|continent|iso_country|iso_region|municipality|scheduled_service|gps_code|iata_code|local_code|home_link|wikipedia_link|keywords|\n",
      "+------+-----+-------------+--------------------+-----------------+------------------+------------+---------+-----------+----------+------------+-----------------+--------+---------+----------+---------+--------------+--------+\n",
      "|  6523|  00A|     heliport|   Total Rf Heliport|   40.07080078125|-74.93360137939453|        11.0|       NA|         US|     US-PA|    Bensalem|               no|     00A|     null|       00A|     null|          null|    null|\n",
      "|323361| 00AA|small_airport|Aero B Ranch Airport|        38.704022|       -101.473911|      3435.0|       NA|         US|     US-KS|       Leoti|               no|    00AA|     null|      00AA|     null|          null|    null|\n",
      "|  6524| 00AK|small_airport|        Lowell Field|      59.94919968|    -151.695999146|       450.0|       NA|         US|     US-AK|Anchor Point|               no|    00AK|     null|      00AK|     null|          null|    null|\n",
      "|  6525| 00AL|small_airport|        Epps Airpark|34.86479949951172|-86.77030181884766|       820.0|       NA|         US|     US-AL|     Harvest|               no|    00AL|     null|      00AL|     null|          null|    null|\n",
      "|  6526| 00AR|       closed|Newport Hospital ...|          35.6087|        -91.254898|       237.0|       NA|         US|     US-AR|     Newport|               no|    null|     null|      null|     null|          null|    00AR|\n",
      "+------+-----+-------------+--------------------+-----------------+------------------+------------+---------+-----------+----------+------------+-----------------+--------+---------+----------+---------+--------------+--------+\n",
      "only showing top 5 rows\n",
      "\n"
     ]
    }
   ],
   "source": [
    "#this is a complete csv of airports with correct names \n",
    "airport_schema = StructType([StructField(\"id\",IntegerType(), True),\n",
    "                            StructField(\"ident\", StringType(), True),\n",
    "                            StructField(\"type\", StringType(), True ),\n",
    "                            StructField(\"name\", StringType(), True),\n",
    "                            StructField(\"latitude_deg\", DoubleType(), True  ),\n",
    "                            StructField(\"longitude_deg\", DoubleType(), True ),\n",
    "                            StructField(\"elevation_ft\", DoubleType(), True ),\n",
    "                            StructField(\"continent\",StringType(), True),\n",
    "                            StructField(\"iso_country\",StringType(), True),\n",
    "                            StructField(\"iso_region\", StringType(), True),\n",
    "                            StructField(\"municipality\", StringType(), True),\n",
    "                            StructField(\"scheduled_service\", StringType(), True),\n",
    "                            StructField(\"gps_code\", StringType(), True),\n",
    "                             StructField(\"iata_code\", StringType(), True),\n",
    "                            StructField(\"local_code\", StringType(), True),\n",
    "                            StructField(\"home_link\", StringType(), True),\n",
    "                             StructField(\"wikipedia_link\", StringType(), True),\n",
    "                            StructField(\"keywords\", StringType(), True)\n",
    "                            ])\n",
    "\n",
    "\n",
    "airport = spark.read.csv(\"C:/Users/rzouga/Desktop/PFE/TEST/airports.csv\",\n",
    "                       header = True, \n",
    "                        schema = airport_schema)\n",
    "print(airport.count())\n",
    "airport.show(5)\n"
   ]
  },
  {
   "cell_type": "code",
   "execution_count": 31,
   "metadata": {
    "scrolled": true
   },
   "outputs": [
    {
     "name": "stdout",
     "output_type": "stream",
     "text": [
      "+----------------+----------------+-----------+-----------------+-------------+\n",
      "|        latitude|       longitude|geoAltitude|     timeAtServer|Hash_Aircraft|\n",
      "+----------------+----------------+-----------+-----------------+-------------+\n",
      "|50.4569929737156|7.42067079286318|   10812.78|0.425000190734863|         u0vr|\n",
      "|50.4567260742188|7.42263793945312|   10812.78|0.942000150680542|         u0vr|\n",
      "|50.4564343468618|7.42460508604308|   10812.78| 1.50300002098084|         u0vr|\n",
      "|50.4562946901483|7.42586702913851|   10812.78| 1.94500017166138|         u0vr|\n",
      "|50.4558563232422|7.42914300215872|   10812.78| 3.00600004196167|         u0vr|\n",
      "| 50.455596406581|7.43113749736064|   10812.78| 3.57500004768372|         u0vr|\n",
      "|50.4554101976298|7.43239944045608|   10812.78| 4.09000015258789|         u0vr|\n",
      "|50.4551696777344| 7.4344193307977|   10812.78| 4.61700010299683|         u0vr|\n",
      "|50.4548981230138|7.43633373363598|   10812.78| 5.13400006294251|         u0vr|\n",
      "|50.4547119140625|7.43766990867821|   10812.78|            5.625|         u0vr|\n",
      "|50.4544830322266|7.43962338096217|   10812.78| 6.17000007629395|         u0vr|\n",
      "|50.4542999267578|7.44092439350329|   10812.78| 6.69799995422363|         u0vr|\n",
      "|50.4540601827331|7.44286614495355|   10812.78| 7.21000003814697|         u0vr|\n",
      "|50.4537963867188|7.44482743112664|   10812.78| 7.72099995613098|         u0vr|\n",
      "|  50.45361328125|7.44612844366776|   10812.78| 8.15900015830994|         u0vr|\n",
      "|50.4534301757813|7.44742945620888|   10812.78| 8.66000008583069|         u0vr|\n",
      "|50.4532928466797|   7.44873046875|   10812.78| 9.09300017356873|         u0vr|\n",
      "|50.4530360335011|7.45073473131335|   10812.78| 9.56299996376038|         u0vr|\n",
      "|50.4528498245498|7.45199667440878|   10812.78| 9.97800016403198|         u0vr|\n",
      "|50.4526062011719|7.45400679738898|   10812.78| 10.5210001468658|         u0vr|\n",
      "+----------------+----------------+-----------+-----------------+-------------+\n",
      "only showing top 20 rows\n",
      "\n"
     ]
    }
   ],
   "source": [
    "import geohash2\n",
    "import pyspark.sql.functions as F\n",
    "from pyspark.sql.functions import udf\n",
    "from pyspark.sql.types import *\n",
    "from pyspark.sql.functions import udf,col\n",
    "from pyspark.sql.types import StringType\n",
    "import pandas as pd\n",
    "from math import radians, cos, sin, asin, sqrt\n",
    "from geopy.geocoders import Nominatim\n",
    "from geopy.extra.rate_limiter import RateLimiter\n",
    "udf1 = F.udf(lambda x,y: geohash2.encode(x,y,precision=4))\n",
    "trip296=trip296.select('latitude','longitude','geoAltitude','timeAtServer')\n",
    "trip296=trip296.withColumn('Hash_Aircraft', udf1('latitude','longitude'))\n",
    "trip296.show()"
   ]
  },
  {
   "cell_type": "code",
   "execution_count": 32,
   "metadata": {},
   "outputs": [
    {
     "data": {
      "text/plain": [
       "Neighbours(n='u0vr3', ne='u0vr6', e='u0vr4', se='u0vqf', s='u0vqc', sw='u0vqb', w='u0vr0', nw='u0vr2')"
      ]
     },
     "execution_count": 32,
     "metadata": {},
     "output_type": "execute_result"
    }
   ],
   "source": [
    "#this give us the neigbourghs of each point of our aircraft.\n",
    "from geolib import geohash\n",
    "#udf2 = F.udf(lambda x: geohash.neighbours(x))\n",
    "#trip296=trip296.withColumn('craft_neighbors', udf2('Hash-Aircraft'))\n",
    "#trip296.show()\n",
    "                  \n",
    "neighbours = geohash.neighbours('u0vr1')\n",
    "\n",
    "neighbours"
   ]
  },
  {
   "cell_type": "code",
   "execution_count": 33,
   "metadata": {},
   "outputs": [
    {
     "data": {
      "text/plain": [
       "'Geohash length \\tCell width \\tCell height\\n1 \\t≤ 5,000km \\t× \\t5,000km\\n2 \\t≤ 1,250km \\t× \\t625km\\n3 \\t≤ 156km \\t× \\t156km\\n4 \\t≤ 39.1km \\t× \\t19.5km\\n5 \\t≤ 4.89km \\t× \\t4.89km\\n6 \\t≤ 1.22km \\t× \\t0.61km\\n7 \\t≤ 153m \\t× \\t153m\\n8 \\t≤ 38.2m \\t× \\t19.1m\\n9 \\t≤ 4.77m \\t× \\t4.77m\\n10 \\t≤ 1.19m \\t× \\t0.596m\\n11 \\t≤ 149mm \\t× \\t149mm\\n12 \\t≤ 37.2mm \\t× \\t18.6mm'"
      ]
     },
     "execution_count": 33,
     "metadata": {},
     "output_type": "execute_result"
    }
   ],
   "source": [
    "'''Geohash length \tCell width \tCell height\n",
    "1 \t≤ 5,000km \t× \t5,000km\n",
    "2 \t≤ 1,250km \t× \t625km\n",
    "3 \t≤ 156km \t× \t156km\n",
    "4 \t≤ 39.1km \t× \t19.5km\n",
    "5 \t≤ 4.89km \t× \t4.89km\n",
    "6 \t≤ 1.22km \t× \t0.61km\n",
    "7 \t≤ 153m \t× \t153m\n",
    "8 \t≤ 38.2m \t× \t19.1m\n",
    "9 \t≤ 4.77m \t× \t4.77m\n",
    "10 \t≤ 1.19m \t× \t0.596m\n",
    "11 \t≤ 149mm \t× \t149mm\n",
    "12 \t≤ 37.2mm \t× \t18.6mm'''"
   ]
  },
  {
   "cell_type": "code",
   "execution_count": 34,
   "metadata": {
    "scrolled": false
   },
   "outputs": [
    {
     "name": "stdout",
     "output_type": "stream",
     "text": [
      "+--------------------+-----------------+------------------+------------+------------+\n",
      "|                name|     latitude_deg|     longitude_deg|elevation_ft|airport_hash|\n",
      "+--------------------+-----------------+------------------+------------+------------+\n",
      "|   Total Rf Heliport|   40.07080078125|-74.93360137939453|        11.0|        dr4e|\n",
      "|Aero B Ranch Airport|        38.704022|       -101.473911|      3435.0|        9wzu|\n",
      "|        Lowell Field|      59.94919968|    -151.695999146|       450.0|        bdsj|\n",
      "|        Epps Airpark|34.86479949951172|-86.77030181884766|       820.0|        dn4q|\n",
      "|Newport Hospital ...|          35.6087|        -91.254898|       237.0|        9yr4|\n",
      "+--------------------+-----------------+------------------+------------+------------+\n",
      "only showing top 5 rows\n",
      "\n"
     ]
    }
   ],
   "source": [
    "airport_hash=airport.select('name','latitude_deg','longitude_deg','elevation_ft')\n",
    "airport_hash=airport_hash.withColumn('airport_hash', udf1('latitude_deg','longitude_deg'))\n",
    "airport_hash.show(5)"
   ]
  },
  {
   "cell_type": "code",
   "execution_count": 35,
   "metadata": {
    "scrolled": true
   },
   "outputs": [
    {
     "name": "stdout",
     "output_type": "stream",
     "text": [
      "+-----------------+-------------+------------+\n",
      "|     timeAtServer|Hash_Aircraft|airport_hash|\n",
      "+-----------------+-------------+------------+\n",
      "|0.425000190734863|         u0vr|        u0vr|\n",
      "|0.942000150680542|         u0vr|        u0vr|\n",
      "| 1.50300002098084|         u0vr|        u0vr|\n",
      "| 1.94500017166138|         u0vr|        u0vr|\n",
      "| 3.00600004196167|         u0vr|        u0vr|\n",
      "| 3.57500004768372|         u0vr|        u0vr|\n",
      "| 4.09000015258789|         u0vr|        u0vr|\n",
      "| 4.61700010299683|         u0vr|        u0vr|\n",
      "| 5.13400006294251|         u0vr|        u0vr|\n",
      "|            5.625|         u0vr|        u0vr|\n",
      "| 6.17000007629395|         u0vr|        u0vr|\n",
      "| 6.69799995422363|         u0vr|        u0vr|\n",
      "| 7.21000003814697|         u0vr|        u0vr|\n",
      "| 7.72099995613098|         u0vr|        u0vr|\n",
      "| 8.15900015830994|         u0vr|        u0vr|\n",
      "| 8.66000008583069|         u0vr|        u0vr|\n",
      "| 9.09300017356873|         u0vr|        u0vr|\n",
      "| 9.56299996376038|         u0vr|        u0vr|\n",
      "| 9.97800016403198|         u0vr|        u0vr|\n",
      "| 10.5210001468658|         u0vr|        u0vr|\n",
      "| 10.9100000858307|         u0vr|        u0vr|\n",
      "| 11.9210000038147|         u0vr|        u0vr|\n",
      "| 12.4390001296997|         u0vr|        u0vr|\n",
      "| 12.8810000419617|         u0vr|        u0vr|\n",
      "| 13.3510000705719|         u0vr|        u0vr|\n",
      "| 13.7200000286102|         u0vr|        u0vr|\n",
      "| 14.2330000400543|         u0vr|        u0vr|\n",
      "| 14.7000000476837|         u0vr|        u0vr|\n",
      "| 15.7090001106262|         u0vr|        u0vr|\n",
      "| 16.6419999599457|         u0vr|        u0vr|\n",
      "| 17.1750001907349|         u0vr|        u0vr|\n",
      "| 17.6490001678467|         u0vr|        u0vr|\n",
      "+-----------------+-------------+------------+\n",
      "\n"
     ]
    }
   ],
   "source": [
    "#left outer join , all trip data+matched airoports\n",
    "trip296_leftjoin= trip296.join(airport_hash, trip296.Hash_Aircraft==airport_hash.airport_hash,how='left_outer')\n",
    "trip296_leftjoin.select('timeAtServer','Hash_Aircraft','airport_hash').show(50)"
   ]
  },
  {
   "cell_type": "code",
   "execution_count": 36,
   "metadata": {},
   "outputs": [
    {
     "name": "stdout",
     "output_type": "stream",
     "text": [
      "+--------------------+-----------------+------------------+\n",
      "|                name|     timeAtServer|       Distance_2d|\n",
      "+--------------------+-----------------+------------------+\n",
      "|Dierdorf-Wienau A...|0.425000190734863| 20.48647200201234|\n",
      "|Dierdorf-Wienau A...|0.942000150680542|20.391974988876658|\n",
      "|Dierdorf-Wienau A...| 1.50300002098084| 20.29970256895435|\n",
      "|Dierdorf-Wienau A...| 1.94500017166138| 20.23762499424197|\n",
      "|Dierdorf-Wienau A...| 3.00600004196167|20.082654019759396|\n",
      "|Dierdorf-Wienau A...| 3.57500004768372|19.988617009333993|\n",
      "|Dierdorf-Wienau A...| 4.09000015258789| 19.93092717818425|\n",
      "|Dierdorf-Wienau A...| 4.61700010299683|19.835133362137707|\n",
      "|Dierdorf-Wienau A...| 5.13400006294251| 19.74794860249954|\n",
      "|Dierdorf-Wienau A...|            5.625|19.687216939601743|\n",
      "|Dierdorf-Wienau A...| 6.17000007629395|19.595890856072884|\n",
      "|Dierdorf-Wienau A...| 6.69799995422363| 19.53756944866718|\n",
      "|Dierdorf-Wienau A...| 7.21000003814697|19.448657631667036|\n",
      "|Dierdorf-Wienau A...| 7.72099995613098|19.361023689322415|\n",
      "|Dierdorf-Wienau A...| 8.15900015830994| 19.30383595853205|\n",
      "|Dierdorf-Wienau A...| 8.66000008583069| 19.24694182285862|\n",
      "|Dierdorf-Wienau A...| 9.09300017356873|19.187007572429366|\n",
      "|Dierdorf-Wienau A...| 9.56299996376038| 19.09852432227315|\n",
      "|Dierdorf-Wienau A...| 9.97800016403198| 19.04497412389448|\n",
      "|Dierdorf-Wienau A...| 10.5210001468658| 18.95634900358192|\n",
      "|Dierdorf-Wienau A...| 10.9100000858307|18.901255220014967|\n",
      "|Dierdorf-Wienau A...| 11.9210000038147|18.763017435967427|\n",
      "|Dierdorf-Wienau A...| 12.4390001296997|18.707411975026783|\n",
      "|Dierdorf-Wienau A...| 12.8810000419617| 18.65214484872725|\n",
      "|Dierdorf-Wienau A...| 13.3510000705719|18.570340203419512|\n",
      "|Dierdorf-Wienau A...| 13.7200000286102|  18.5174597898287|\n",
      "|Dierdorf-Wienau A...| 14.2330000400543|18.464911155601108|\n",
      "|Dierdorf-Wienau A...| 14.7000000476837|18.412697146726888|\n",
      "|Dierdorf-Wienau A...| 15.7090001106262|18.250860959155137|\n",
      "|Dierdorf-Wienau A...| 16.6419999599457|18.145889057717703|\n",
      "|Dierdorf-Wienau A...| 17.1750001907349|18.070908389008824|\n",
      "|Dierdorf-Wienau A...| 17.6490001678467|18.019789558288362|\n",
      "+--------------------+-----------------+------------------+\n",
      "\n"
     ]
    }
   ],
   "source": [
    "# lets look for nearest airports in each time  in area=S≤ 39.1km × 19.5km\n",
    "import geohash2\n",
    "import pyspark.sql.functions as F\n",
    "from pyspark.sql.functions import udf,col\n",
    "from pyspark.sql.types import IntegerType\n",
    "from pyspark.sql.types import *\n",
    "from pyspark.sql.functions import udf\n",
    "import pandas as pd\n",
    "from math import radians, cos, sin, asin, sqrt\n",
    "from geopy.distance import geodesic\n",
    "from geopy.geocoders import Nominatim\n",
    "from geopy.extra.rate_limiter import RateLimiter\n",
    "from pyspark.sql.functions import lit\n",
    "#inner join \n",
    "trip296_nearest_airports= trip296.join(airport_hash, trip296.Hash_Aircraft==airport_hash.airport_hash,how='inner')\n",
    "def get_distance_2d(lat_1, lng_1, lat_2, lng_2): \n",
    "    A =(lat_1, lng_1)\n",
    "    B = (lat_2, lng_2)\n",
    "    d=geodesic(A, B).kilometers\n",
    "    return d\n",
    "udf_get_distance_2d = F.udf(get_distance_2d)\n",
    "trip296_nearest_airports=trip296_nearest_airports.withColumn('Distance_2d', udf_get_distance_2d('latitude','longitude','latitude_deg','longitude_deg').cast(DoubleType()))\n",
    "trip296_nearest_airports.orderBy('timeAtServer','Distance_2d').select('name','timeAtServer','Distance_2d').show(50)"
   ]
  },
  {
   "cell_type": "code",
   "execution_count": 37,
   "metadata": {
    "scrolled": false
   },
   "outputs": [
    {
     "name": "stdout",
     "output_type": "stream",
     "text": [
      "+--------------------+-----------------+------------------+------------+------------+-----------------+\n",
      "|                name|     latitude_deg|     longitude_deg|elevation_ft|airport_hash|      Distance_2d|\n",
      "+--------------------+-----------------+------------------+------------+------------+-----------------+\n",
      "|Dierdorf-Wienau A...|50.56611251831055|7.6533331871032715|       951.0|        u0vr|20.48647200201234|\n",
      "+--------------------+-----------------+------------------+------------+------------+-----------------+\n",
      "\n"
     ]
    }
   ],
   "source": [
    "#let's show the nearest airport informations  at first reported point (timeAtServer\" == \"0.425000190734863\") of our aircraft\n",
    "trip296_nearest_airports.filter(trip296_nearest_airports.timeAtServer==0.425000190734863).select('name','latitude_deg','longitude_deg','elevation_ft','airport_hash','Distance_2d').show()"
   ]
  },
  {
   "cell_type": "code",
   "execution_count": 38,
   "metadata": {
    "scrolled": true
   },
   "outputs": [
    {
     "data": {
      "text/plain": [
       "[<matplotlib.lines.Line2D at 0xc85b0f0>]"
      ]
     },
     "execution_count": 38,
     "metadata": {},
     "output_type": "execute_result"
    },
    {
     "data": {
      "image/png": "[encoded data removed]",
      "text/plain": [
       "<Figure size 432x288 with 1 Axes>"
      ]
     },
     "metadata": {
      "needs_background": "light"
     },
     "output_type": "display_data"
    }
   ],
   "source": [
    "import plotly.graph_objs as go\n",
    "import pandas as pd\n",
    "import requests\n",
    "import matplotlib.pyplot as plt\n",
    "\n",
    "#We can also use matplotlib and Pandas to visualize the total number of crimes per year\n",
    "import pandas as pd\n",
    "\n",
    "%matplotlib inline\n",
    "trip296_pandas_DataFrame = pd.DataFrame.from_records(trip296.collect(), columns=trip296.columns)\n",
    "plt.plot(trip296_pandas_DataFrame['latitude'], trip296_pandas_DataFrame['longitude'])"
   ]
  },
  {
   "cell_type": "code",
   "execution_count": 39,
   "metadata": {
    "scrolled": false
   },
   "outputs": [
    {
     "data": {
      "text/plain": [
       "[<matplotlib.lines.Line2D at 0xf326630>]"
      ]
     },
     "execution_count": 39,
     "metadata": {},
     "output_type": "execute_result"
    },
    {
     "data": {
      "image/png": "[encoded data removed]",
      "text/plain": [
       "<Figure size 432x288 with 1 Axes>"
      ]
     },
     "metadata": {
      "needs_background": "light"
     },
     "output_type": "display_data"
    }
   ],
   "source": [
    "plt.plot(trip296_pandas_DataFrame['timeAtServer'],trip296_pandas_DataFrame['geoAltitude'])"
   ]
  },
  {
   "cell_type": "code",
   "execution_count": 40,
   "metadata": {},
   "outputs": [
    {
     "data": {
      "text/plain": [
       "['latitude',\n",
       " 'longitude',\n",
       " 'geoAltitude',\n",
       " 'timeAtServer',\n",
       " 'Hash_Aircraft',\n",
       " 'name',\n",
       " 'latitude_deg',\n",
       " 'longitude_deg',\n",
       " 'elevation_ft',\n",
       " 'airport_hash',\n",
       " 'Distance_2d']"
      ]
     },
     "execution_count": 40,
     "metadata": {},
     "output_type": "execute_result"
    }
   ],
   "source": [
    "trip296_nearest_airports.columns"
   ]
  },
  {
   "cell_type": "code",
   "execution_count": 41,
   "metadata": {},
   "outputs": [
    {
     "data": {
      "application/vnd.plotly.v1+json": {
       "config": {
        "linkText": "Export to plot.ly",
        "plotlyServerURL": "https://plot.ly",
        "showLink": false
       },
       "data": [
        {
         "mode": "lines+markers",
         "type": "scatter3d",
         "x": [
          50.4569929737156,
          50.4567260742188,
          50.4564343468618,
          50.4562946901483,
          50.4558563232422,
          50.455596406581,
          50.4554101976298,
          50.4551696777344,
          50.4548981230138,
          50.4547119140625,
          50.4544830322266,
          50.4542999267578,
          50.4540601827331,
          50.4537963867188,
          50.45361328125,
          50.4534301757813,
          50.4532928466797,
          50.4530360335011,
          50.4528498245498,
          50.4526062011719,
          50.4524230957031,
          50.4520118842691,
          50.4518256753178,
          50.4516394663665,
          50.451416015625,
          50.4512329101563,
          50.4510498046875,
          50.4508666992188,
          50.4503631591797,
          50.4500427246094,
          50.4497773768538,
          50.4495911679025
         ],
         "y": [
          7.42067079286318,
          7.42263793945312,
          7.42460508604308,
          7.42586702913851,
          7.42914300215872,
          7.43113749736064,
          7.43239944045608,
          7.4344193307977,
          7.43633373363598,
          7.43766990867821,
          7.43962338096217,
          7.44092439350329,
          7.44286614495355,
          7.44482743112664,
          7.44612844366776,
          7.44742945620888,
          7.44873046875,
          7.45073473131335,
          7.45199667440878,
          7.45400679738898,
          7.4553078099301,
          7.45852908572635,
          7.45986526076858,
          7.46120143581081,
          7.46311388517681,
          7.46441489771793,
          7.46571591025905,
          7.46701692280016,
          7.47099223889803,
          7.47359426398026,
          7.47552820154139,
          7.47686437658362
         ],
         "z": [
          10812.78,
          10812.78,
          10812.78,
          10812.78,
          10812.78,
          10812.78,
          10812.78,
          10812.78,
          10812.78,
          10812.78,
          10812.78,
          10812.78,
          10812.78,
          10812.78,
          10812.78,
          10812.78,
          10812.78,
          10812.78,
          10812.78,
          10812.78,
          10812.78,
          10812.78,
          10812.78,
          10812.78,
          10812.78,
          10812.78,
          10812.78,
          10812.78,
          10812.78,
          10812.78,
          10812.78,
          10812.78
         ]
        },
        {
         "mode": "markers",
         "type": "scatter3d",
         "x": [
          50.56611251831055,
          50.56611251831055,
          50.56611251831055,
          50.56611251831055,
          50.56611251831055,
          50.56611251831055,
          50.56611251831055,
          50.56611251831055,
          50.56611251831055,
          50.56611251831055,
          50.56611251831055,
          50.56611251831055,
          50.56611251831055,
          50.56611251831055,
          50.56611251831055,
          50.56611251831055,
          50.56611251831055,
          50.56611251831055,
          50.56611251831055,
          50.56611251831055,
          50.56611251831055,
          50.56611251831055,
          50.56611251831055,
          50.56611251831055,
          50.56611251831055,
          50.56611251831055,
          50.56611251831055,
          50.56611251831055,
          50.56611251831055,
          50.56611251831055,
          50.56611251831055,
          50.56611251831055
         ],
         "y": [
          7.6533331871032715,
          7.6533331871032715,
          7.6533331871032715,
          7.6533331871032715,
          7.6533331871032715,
          7.6533331871032715,
          7.6533331871032715,
          7.6533331871032715,
          7.6533331871032715,
          7.6533331871032715,
          7.6533331871032715,
          7.6533331871032715,
          7.6533331871032715,
          7.6533331871032715,
          7.6533331871032715,
          7.6533331871032715,
          7.6533331871032715,
          7.6533331871032715,
          7.6533331871032715,
          7.6533331871032715,
          7.6533331871032715,
          7.6533331871032715,
          7.6533331871032715,
          7.6533331871032715,
          7.6533331871032715,
          7.6533331871032715,
          7.6533331871032715,
          7.6533331871032715,
          7.6533331871032715,
          7.6533331871032715,
          7.6533331871032715,
          7.6533331871032715
         ],
         "z": [
          951,
          951,
          951,
          951,
          951,
          951,
          951,
          951,
          951,
          951,
          951,
          951,
          951,
          951,
          951,
          951,
          951,
          951,
          951,
          951,
          951,
          951,
          951,
          951,
          951,
          951,
          951,
          951,
          951,
          951,
          951,
          951
         ]
        }
       ],
       "layout": {
        "template": {
         "data": {
          "bar": [
           {
            "error_x": {
             "color": "#2a3f5f"
            },
            "error_y": {
             "color": "#2a3f5f"
            },
            "marker": {
             "line": {
              "color": "#E5ECF6",
              "width": 0.5
             }
            },
            "type": "bar"
           }
          ],
          "barpolar": [
           {
            "marker": {
             "line": {
              "color": "#E5ECF6",
              "width": 0.5
             }
            },
            "type": "barpolar"
           }
          ],
          "carpet": [
           {
            "aaxis": {
             "endlinecolor": "#2a3f5f",
             "gridcolor": "white",
             "linecolor": "white",
             "minorgridcolor": "white",
             "startlinecolor": "#2a3f5f"
            },
            "baxis": {
             "endlinecolor": "#2a3f5f",
             "gridcolor": "white",
             "linecolor": "white",
             "minorgridcolor": "white",
             "startlinecolor": "#2a3f5f"
            },
            "type": "carpet"
           }
          ],
          "choropleth": [
           {
            "colorbar": {
             "outlinewidth": 0,
             "ticks": ""
            },
            "type": "choropleth"
           }
          ],
          "contour": [
           {
            "colorbar": {
             "outlinewidth": 0,
             "ticks": ""
            },
            "colorscale": [
             [
              0,
              "#0d0887"
             ],
             [
              0.1111111111111111,
              "#46039f"
             ],
             [
              0.2222222222222222,
              "#7201a8"
             ],
             [
              0.3333333333333333,
              "#9c179e"
             ],
             [
              0.4444444444444444,
              "#bd3786"
             ],
             [
              0.5555555555555556,
              "#d8576b"
             ],
             [
              0.6666666666666666,
              "#ed7953"
             ],
             [
              0.7777777777777778,
              "#fb9f3a"
             ],
             [
              0.8888888888888888,
              "#fdca26"
             ],
             [
              1,
              "#f0f921"
             ]
            ],
            "type": "contour"
           }
          ],
          "contourcarpet": [
           {
            "colorbar": {
             "outlinewidth": 0,
             "ticks": ""
            },
            "type": "contourcarpet"
           }
          ],
          "heatmap": [
           {
            "colorbar": {
             "outlinewidth": 0,
             "ticks": ""
            },
            "colorscale": [
             [
              0,
              "#0d0887"
             ],
             [
              0.1111111111111111,
              "#46039f"
             ],
             [
              0.2222222222222222,
              "#7201a8"
             ],
             [
              0.3333333333333333,
              "#9c179e"
             ],
             [
              0.4444444444444444,
              "#bd3786"
             ],
             [
              0.5555555555555556,
              "#d8576b"
             ],
             [
              0.6666666666666666,
              "#ed7953"
             ],
             [
              0.7777777777777778,
              "#fb9f3a"
             ],
             [
              0.8888888888888888,
              "#fdca26"
             ],
             [
              1,
              "#f0f921"
             ]
            ],
            "type": "heatmap"
           }
          ],
          "heatmapgl": [
           {
            "colorbar": {
             "outlinewidth": 0,
             "ticks": ""
            },
            "colorscale": [
             [
              0,
              "#0d0887"
             ],
             [
              0.1111111111111111,
              "#46039f"
             ],
             [
              0.2222222222222222,
              "#7201a8"
             ],
             [
              0.3333333333333333,
              "#9c179e"
             ],
             [
              0.4444444444444444,
              "#bd3786"
             ],
             [
              0.5555555555555556,
              "#d8576b"
             ],
             [
              0.6666666666666666,
              "#ed7953"
             ],
             [
              0.7777777777777778,
              "#fb9f3a"
             ],
             [
              0.8888888888888888,
              "#fdca26"
             ],
             [
              1,
              "#f0f921"
             ]
            ],
            "type": "heatmapgl"
           }
          ],
          "histogram": [
           {
            "marker": {
             "colorbar": {
              "outlinewidth": 0,
              "ticks": ""
             }
            },
            "type": "histogram"
           }
          ],
          "histogram2d": [
           {
            "colorbar": {
             "outlinewidth": 0,
             "ticks": ""
            },
            "colorscale": [
             [
              0,
              "#0d0887"
             ],
             [
              0.1111111111111111,
              "#46039f"
             ],
             [
              0.2222222222222222,
              "#7201a8"
             ],
             [
              0.3333333333333333,
              "#9c179e"
             ],
             [
              0.4444444444444444,
              "#bd3786"
             ],
             [
              0.5555555555555556,
              "#d8576b"
             ],
             [
              0.6666666666666666,
              "#ed7953"
             ],
             [
              0.7777777777777778,
              "#fb9f3a"
             ],
             [
              0.8888888888888888,
              "#fdca26"
             ],
             [
              1,
              "#f0f921"
             ]
            ],
            "type": "histogram2d"
           }
          ],
          "histogram2dcontour": [
           {
            "colorbar": {
             "outlinewidth": 0,
             "ticks": ""
            },
            "colorscale": [
             [
              0,
              "#0d0887"
             ],
             [
              0.1111111111111111,
              "#46039f"
             ],
             [
              0.2222222222222222,
              "#7201a8"
             ],
             [
              0.3333333333333333,
              "#9c179e"
             ],
             [
              0.4444444444444444,
              "#bd3786"
             ],
             [
              0.5555555555555556,
              "#d8576b"
             ],
             [
              0.6666666666666666,
              "#ed7953"
             ],
             [
              0.7777777777777778,
              "#fb9f3a"
             ],
             [
              0.8888888888888888,
              "#fdca26"
             ],
             [
              1,
              "#f0f921"
             ]
            ],
            "type": "histogram2dcontour"
           }
          ],
          "mesh3d": [
           {
            "colorbar": {
             "outlinewidth": 0,
             "ticks": ""
            },
            "type": "mesh3d"
           }
          ],
          "parcoords": [
           {
            "line": {
             "colorbar": {
              "outlinewidth": 0,
              "ticks": ""
             }
            },
            "type": "parcoords"
           }
          ],
          "scatter": [
           {
            "marker": {
             "colorbar": {
              "outlinewidth": 0,
              "ticks": ""
             }
            },
            "type": "scatter"
           }
          ],
          "scatter3d": [
           {
            "line": {
             "colorbar": {
              "outlinewidth": 0,
              "ticks": ""
             }
            },
            "marker": {
             "colorbar": {
              "outlinewidth": 0,
              "ticks": ""
             }
            },
            "type": "scatter3d"
           }
          ],
          "scattercarpet": [
           {
            "marker": {
             "colorbar": {
              "outlinewidth": 0,
              "ticks": ""
             }
            },
            "type": "scattercarpet"
           }
          ],
          "scattergeo": [
           {
            "marker": {
             "colorbar": {
              "outlinewidth": 0,
              "ticks": ""
             }
            },
            "type": "scattergeo"
           }
          ],
          "scattergl": [
           {
            "marker": {
             "colorbar": {
              "outlinewidth": 0,
              "ticks": ""
             }
            },
            "type": "scattergl"
           }
          ],
          "scattermapbox": [
           {
            "marker": {
             "colorbar": {
              "outlinewidth": 0,
              "ticks": ""
             }
            },
            "type": "scattermapbox"
           }
          ],
          "scatterpolar": [
           {
            "marker": {
             "colorbar": {
              "outlinewidth": 0,
              "ticks": ""
             }
            },
            "type": "scatterpolar"
           }
          ],
          "scatterpolargl": [
           {
            "marker": {
             "colorbar": {
              "outlinewidth": 0,
              "ticks": ""
             }
            },
            "type": "scatterpolargl"
           }
          ],
          "scatterternary": [
           {
            "marker": {
             "colorbar": {
              "outlinewidth": 0,
              "ticks": ""
             }
            },
            "type": "scatterternary"
           }
          ],
          "surface": [
           {
            "colorbar": {
             "outlinewidth": 0,
             "ticks": ""
            },
            "colorscale": [
             [
              0,
              "#0d0887"
             ],
             [
              0.1111111111111111,
              "#46039f"
             ],
             [
              0.2222222222222222,
              "#7201a8"
             ],
             [
              0.3333333333333333,
              "#9c179e"
             ],
             [
              0.4444444444444444,
              "#bd3786"
             ],
             [
              0.5555555555555556,
              "#d8576b"
             ],
             [
              0.6666666666666666,
              "#ed7953"
             ],
             [
              0.7777777777777778,
              "#fb9f3a"
             ],
             [
              0.8888888888888888,
              "#fdca26"
             ],
             [
              1,
              "#f0f921"
             ]
            ],
            "type": "surface"
           }
          ],
          "table": [
           {
            "cells": {
             "fill": {
              "color": "#EBF0F8"
             },
             "line": {
              "color": "white"
             }
            },
            "header": {
             "fill": {
              "color": "#C8D4E3"
             },
             "line": {
              "color": "white"
             }
            },
            "type": "table"
           }
          ]
         },
         "layout": {
          "annotationdefaults": {
           "arrowcolor": "#2a3f5f",
           "arrowhead": 0,
           "arrowwidth": 1
          },
          "colorscale": {
           "diverging": [
            [
             0,
             "#8e0152"
            ],
            [
             0.1,
             "#c51b7d"
            ],
            [
             0.2,
             "#de77ae"
            ],
            [
             0.3,
             "#f1b6da"
            ],
            [
             0.4,
             "#fde0ef"
            ],
            [
             0.5,
             "#f7f7f7"
            ],
            [
             0.6,
             "#e6f5d0"
            ],
            [
             0.7,
             "#b8e186"
            ],
            [
             0.8,
             "#7fbc41"
            ],
            [
             0.9,
             "#4d9221"
            ],
            [
             1,
             "#276419"
            ]
           ],
           "sequential": [
            [
             0,
             "#0d0887"
            ],
            [
             0.1111111111111111,
             "#46039f"
            ],
            [
             0.2222222222222222,
             "#7201a8"
            ],
            [
             0.3333333333333333,
             "#9c179e"
            ],
            [
             0.4444444444444444,
             "#bd3786"
            ],
            [
             0.5555555555555556,
             "#d8576b"
            ],
            [
             0.6666666666666666,
             "#ed7953"
            ],
            [
             0.7777777777777778,
             "#fb9f3a"
            ],
            [
             0.8888888888888888,
             "#fdca26"
            ],
            [
             1,
             "#f0f921"
            ]
           ],
           "sequentialminus": [
            [
             0,
             "#0d0887"
            ],
            [
             0.1111111111111111,
             "#46039f"
            ],
            [
             0.2222222222222222,
             "#7201a8"
            ],
            [
             0.3333333333333333,
             "#9c179e"
            ],
            [
             0.4444444444444444,
             "#bd3786"
            ],
            [
             0.5555555555555556,
             "#d8576b"
            ],
            [
             0.6666666666666666,
             "#ed7953"
            ],
            [
             0.7777777777777778,
             "#fb9f3a"
            ],
            [
             0.8888888888888888,
             "#fdca26"
            ],
            [
             1,
             "#f0f921"
            ]
           ]
          },
          "colorway": [
           "#636efa",
           "#EF553B",
           "#00cc96",
           "#ab63fa",
           "#FFA15A",
           "#19d3f3",
           "#FF6692",
           "#B6E880",
           "#FF97FF",
           "#FECB52"
          ],
          "font": {
           "color": "#2a3f5f"
          },
          "geo": {
           "bgcolor": "white",
           "lakecolor": "white",
           "landcolor": "#E5ECF6",
           "showlakes": true,
           "showland": true,
           "subunitcolor": "white"
          },
          "hoverlabel": {
           "align": "left"
          },
          "hovermode": "closest",
          "mapbox": {
           "style": "light"
          },
          "paper_bgcolor": "white",
          "plot_bgcolor": "#E5ECF6",
          "polar": {
           "angularaxis": {
            "gridcolor": "white",
            "linecolor": "white",
            "ticks": ""
           },
           "bgcolor": "#E5ECF6",
           "radialaxis": {
            "gridcolor": "white",
            "linecolor": "white",
            "ticks": ""
           }
          },
          "scene": {
           "xaxis": {
            "backgroundcolor": "#E5ECF6",
            "gridcolor": "white",
            "gridwidth": 2,
            "linecolor": "white",
            "showbackground": true,
            "ticks": "",
            "zerolinecolor": "white"
           },
           "yaxis": {
            "backgroundcolor": "#E5ECF6",
            "gridcolor": "white",
            "gridwidth": 2,
            "linecolor": "white",
            "showbackground": true,
            "ticks": "",
            "zerolinecolor": "white"
           },
           "zaxis": {
            "backgroundcolor": "#E5ECF6",
            "gridcolor": "white",
            "gridwidth": 2,
            "linecolor": "white",
            "showbackground": true,
            "ticks": "",
            "zerolinecolor": "white"
           }
          },
          "shapedefaults": {
           "line": {
            "color": "#2a3f5f"
           }
          },
          "ternary": {
           "aaxis": {
            "gridcolor": "white",
            "linecolor": "white",
            "ticks": ""
           },
           "baxis": {
            "gridcolor": "white",
            "linecolor": "white",
            "ticks": ""
           },
           "bgcolor": "#E5ECF6",
           "caxis": {
            "gridcolor": "white",
            "linecolor": "white",
            "ticks": ""
           }
          },
          "title": {
           "x": 0.05
          },
          "xaxis": {
           "automargin": true,
           "gridcolor": "white",
           "linecolor": "white",
           "ticks": "",
           "zerolinecolor": "white",
           "zerolinewidth": 2
          },
          "yaxis": {
           "automargin": true,
           "gridcolor": "white",
           "linecolor": "white",
           "ticks": "",
           "zerolinecolor": "white",
           "zerolinewidth": 2
          }
         }
        }
       }
      },
      "text/html": [
       "<div>\n",
       "        \n",
       "        \n",
       "            <div id=\"a9c7dc25-706f-495f-8445-f7c0e8484f13\" class=\"plotly-graph-div\" style=\"height:525px; width:100%;\"></div>\n",
       "            <script type=\"text/javascript\">\n",
       "                require([\"plotly\"], function(Plotly) {\n",
       "                    window.PLOTLYENV=window.PLOTLYENV || {};\n",
       "                    \n",
       "                if (document.getElementById(\"a9c7dc25-706f-495f-8445-f7c0e8484f13\")) {\n",
       "                    Plotly.newPlot(\n",
       "                        'a9c7dc25-706f-495f-8445-f7c0e8484f13',\n",
       "                        [{\"mode\": \"lines+markers\", \"type\": \"scatter3d\", \"x\": [50.4569929737156, 50.4567260742188, 50.4564343468618, 50.4562946901483, 50.4558563232422, 50.455596406581, 50.4554101976298, 50.4551696777344, 50.4548981230138, 50.4547119140625, 50.4544830322266, 50.4542999267578, 50.4540601827331, 50.4537963867188, 50.45361328125, 50.4534301757813, 50.4532928466797, 50.4530360335011, 50.4528498245498, 50.4526062011719, 50.4524230957031, 50.4520118842691, 50.4518256753178, 50.4516394663665, 50.451416015625, 50.4512329101563, 50.4510498046875, 50.4508666992188, 50.4503631591797, 50.4500427246094, 50.4497773768538, 50.4495911679025], \"y\": [7.42067079286318, 7.42263793945312, 7.42460508604308, 7.42586702913851, 7.42914300215872, 7.43113749736064, 7.43239944045608, 7.4344193307977, 7.43633373363598, 7.43766990867821, 7.43962338096217, 7.44092439350329, 7.44286614495355, 7.44482743112664, 7.44612844366776, 7.44742945620888, 7.44873046875, 7.45073473131335, 7.45199667440878, 7.45400679738898, 7.4553078099301, 7.45852908572635, 7.45986526076858, 7.46120143581081, 7.46311388517681, 7.46441489771793, 7.46571591025905, 7.46701692280016, 7.47099223889803, 7.47359426398026, 7.47552820154139, 7.47686437658362], \"z\": [10812.78, 10812.78, 10812.78, 10812.78, 10812.78, 10812.78, 10812.78, 10812.78, 10812.78, 10812.78, 10812.78, 10812.78, 10812.78, 10812.78, 10812.78, 10812.78, 10812.78, 10812.78, 10812.78, 10812.78, 10812.78, 10812.78, 10812.78, 10812.78, 10812.78, 10812.78, 10812.78, 10812.78, 10812.78, 10812.78, 10812.78, 10812.78]}, {\"mode\": \"markers\", \"type\": \"scatter3d\", \"x\": [50.56611251831055, 50.56611251831055, 50.56611251831055, 50.56611251831055, 50.56611251831055, 50.56611251831055, 50.56611251831055, 50.56611251831055, 50.56611251831055, 50.56611251831055, 50.56611251831055, 50.56611251831055, 50.56611251831055, 50.56611251831055, 50.56611251831055, 50.56611251831055, 50.56611251831055, 50.56611251831055, 50.56611251831055, 50.56611251831055, 50.56611251831055, 50.56611251831055, 50.56611251831055, 50.56611251831055, 50.56611251831055, 50.56611251831055, 50.56611251831055, 50.56611251831055, 50.56611251831055, 50.56611251831055, 50.56611251831055, 50.56611251831055], \"y\": [7.6533331871032715, 7.6533331871032715, 7.6533331871032715, 7.6533331871032715, 7.6533331871032715, 7.6533331871032715, 7.6533331871032715, 7.6533331871032715, 7.6533331871032715, 7.6533331871032715, 7.6533331871032715, 7.6533331871032715, 7.6533331871032715, 7.6533331871032715, 7.6533331871032715, 7.6533331871032715, 7.6533331871032715, 7.6533331871032715, 7.6533331871032715, 7.6533331871032715, 7.6533331871032715, 7.6533331871032715, 7.6533331871032715, 7.6533331871032715, 7.6533331871032715, 7.6533331871032715, 7.6533331871032715, 7.6533331871032715, 7.6533331871032715, 7.6533331871032715, 7.6533331871032715, 7.6533331871032715], \"z\": [951.0, 951.0, 951.0, 951.0, 951.0, 951.0, 951.0, 951.0, 951.0, 951.0, 951.0, 951.0, 951.0, 951.0, 951.0, 951.0, 951.0, 951.0, 951.0, 951.0, 951.0, 951.0, 951.0, 951.0, 951.0, 951.0, 951.0, 951.0, 951.0, 951.0, 951.0, 951.0]}],\n",
       "                        {\"template\": {\"data\": {\"bar\": [{\"error_x\": {\"color\": \"#2a3f5f\"}, \"error_y\": {\"color\": \"#2a3f5f\"}, \"marker\": {\"line\": {\"color\": \"#E5ECF6\", \"width\": 0.5}}, \"type\": \"bar\"}], \"barpolar\": [{\"marker\": {\"line\": {\"color\": \"#E5ECF6\", \"width\": 0.5}}, \"type\": \"barpolar\"}], \"carpet\": [{\"aaxis\": {\"endlinecolor\": \"#2a3f5f\", \"gridcolor\": \"white\", \"linecolor\": \"white\", \"minorgridcolor\": \"white\", \"startlinecolor\": \"#2a3f5f\"}, \"baxis\": {\"endlinecolor\": \"#2a3f5f\", \"gridcolor\": \"white\", \"linecolor\": \"white\", \"minorgridcolor\": \"white\", \"startlinecolor\": \"#2a3f5f\"}, \"type\": \"carpet\"}], \"choropleth\": [{\"colorbar\": {\"outlinewidth\": 0, \"ticks\": \"\"}, \"type\": \"choropleth\"}], \"contour\": [{\"colorbar\": {\"outlinewidth\": 0, \"ticks\": \"\"}, \"colorscale\": [[0.0, \"#0d0887\"], [0.1111111111111111, \"#46039f\"], [0.2222222222222222, \"#7201a8\"], [0.3333333333333333, \"#9c179e\"], [0.4444444444444444, \"#bd3786\"], [0.5555555555555556, \"#d8576b\"], [0.6666666666666666, \"#ed7953\"], [0.7777777777777778, \"#fb9f3a\"], [0.8888888888888888, \"#fdca26\"], [1.0, \"#f0f921\"]], \"type\": \"contour\"}], \"contourcarpet\": [{\"colorbar\": {\"outlinewidth\": 0, \"ticks\": \"\"}, \"type\": \"contourcarpet\"}], \"heatmap\": [{\"colorbar\": {\"outlinewidth\": 0, \"ticks\": \"\"}, \"colorscale\": [[0.0, \"#0d0887\"], [0.1111111111111111, \"#46039f\"], [0.2222222222222222, \"#7201a8\"], [0.3333333333333333, \"#9c179e\"], [0.4444444444444444, \"#bd3786\"], [0.5555555555555556, \"#d8576b\"], [0.6666666666666666, \"#ed7953\"], [0.7777777777777778, \"#fb9f3a\"], [0.8888888888888888, \"#fdca26\"], [1.0, \"#f0f921\"]], \"type\": \"heatmap\"}], \"heatmapgl\": [{\"colorbar\": {\"outlinewidth\": 0, \"ticks\": \"\"}, \"colorscale\": [[0.0, \"#0d0887\"], [0.1111111111111111, \"#46039f\"], [0.2222222222222222, \"#7201a8\"], [0.3333333333333333, \"#9c179e\"], [0.4444444444444444, \"#bd3786\"], [0.5555555555555556, \"#d8576b\"], [0.6666666666666666, \"#ed7953\"], [0.7777777777777778, \"#fb9f3a\"], [0.8888888888888888, \"#fdca26\"], [1.0, \"#f0f921\"]], \"type\": \"heatmapgl\"}], \"histogram\": [{\"marker\": {\"colorbar\": {\"outlinewidth\": 0, \"ticks\": \"\"}}, \"type\": \"histogram\"}], \"histogram2d\": [{\"colorbar\": {\"outlinewidth\": 0, \"ticks\": \"\"}, \"colorscale\": [[0.0, \"#0d0887\"], [0.1111111111111111, \"#46039f\"], [0.2222222222222222, \"#7201a8\"], [0.3333333333333333, \"#9c179e\"], [0.4444444444444444, \"#bd3786\"], [0.5555555555555556, \"#d8576b\"], [0.6666666666666666, \"#ed7953\"], [0.7777777777777778, \"#fb9f3a\"], [0.8888888888888888, \"#fdca26\"], [1.0, \"#f0f921\"]], \"type\": \"histogram2d\"}], \"histogram2dcontour\": [{\"colorbar\": {\"outlinewidth\": 0, \"ticks\": \"\"}, \"colorscale\": [[0.0, \"#0d0887\"], [0.1111111111111111, \"#46039f\"], [0.2222222222222222, \"#7201a8\"], [0.3333333333333333, \"#9c179e\"], [0.4444444444444444, \"#bd3786\"], [0.5555555555555556, \"#d8576b\"], [0.6666666666666666, \"#ed7953\"], [0.7777777777777778, \"#fb9f3a\"], [0.8888888888888888, \"#fdca26\"], [1.0, \"#f0f921\"]], \"type\": \"histogram2dcontour\"}], \"mesh3d\": [{\"colorbar\": {\"outlinewidth\": 0, \"ticks\": \"\"}, \"type\": \"mesh3d\"}], \"parcoords\": [{\"line\": {\"colorbar\": {\"outlinewidth\": 0, \"ticks\": \"\"}}, \"type\": \"parcoords\"}], \"scatter\": [{\"marker\": {\"colorbar\": {\"outlinewidth\": 0, \"ticks\": \"\"}}, \"type\": \"scatter\"}], \"scatter3d\": [{\"line\": {\"colorbar\": {\"outlinewidth\": 0, \"ticks\": \"\"}}, \"marker\": {\"colorbar\": {\"outlinewidth\": 0, \"ticks\": \"\"}}, \"type\": \"scatter3d\"}], \"scattercarpet\": [{\"marker\": {\"colorbar\": {\"outlinewidth\": 0, \"ticks\": \"\"}}, \"type\": \"scattercarpet\"}], \"scattergeo\": [{\"marker\": {\"colorbar\": {\"outlinewidth\": 0, \"ticks\": \"\"}}, \"type\": \"scattergeo\"}], \"scattergl\": [{\"marker\": {\"colorbar\": {\"outlinewidth\": 0, \"ticks\": \"\"}}, \"type\": \"scattergl\"}], \"scattermapbox\": [{\"marker\": {\"colorbar\": {\"outlinewidth\": 0, \"ticks\": \"\"}}, \"type\": \"scattermapbox\"}], \"scatterpolar\": [{\"marker\": {\"colorbar\": {\"outlinewidth\": 0, \"ticks\": \"\"}}, \"type\": \"scatterpolar\"}], \"scatterpolargl\": [{\"marker\": {\"colorbar\": {\"outlinewidth\": 0, \"ticks\": \"\"}}, \"type\": \"scatterpolargl\"}], \"scatterternary\": [{\"marker\": {\"colorbar\": {\"outlinewidth\": 0, \"ticks\": \"\"}}, \"type\": \"scatterternary\"}], \"surface\": [{\"colorbar\": {\"outlinewidth\": 0, \"ticks\": \"\"}, \"colorscale\": [[0.0, \"#0d0887\"], [0.1111111111111111, \"#46039f\"], [0.2222222222222222, \"#7201a8\"], [0.3333333333333333, \"#9c179e\"], [0.4444444444444444, \"#bd3786\"], [0.5555555555555556, \"#d8576b\"], [0.6666666666666666, \"#ed7953\"], [0.7777777777777778, \"#fb9f3a\"], [0.8888888888888888, \"#fdca26\"], [1.0, \"#f0f921\"]], \"type\": \"surface\"}], \"table\": [{\"cells\": {\"fill\": {\"color\": \"#EBF0F8\"}, \"line\": {\"color\": \"white\"}}, \"header\": {\"fill\": {\"color\": \"#C8D4E3\"}, \"line\": {\"color\": \"white\"}}, \"type\": \"table\"}]}, \"layout\": {\"annotationdefaults\": {\"arrowcolor\": \"#2a3f5f\", \"arrowhead\": 0, \"arrowwidth\": 1}, \"colorscale\": {\"diverging\": [[0, \"#8e0152\"], [0.1, \"#c51b7d\"], [0.2, \"#de77ae\"], [0.3, \"#f1b6da\"], [0.4, \"#fde0ef\"], [0.5, \"#f7f7f7\"], [0.6, \"#e6f5d0\"], [0.7, \"#b8e186\"], [0.8, \"#7fbc41\"], [0.9, \"#4d9221\"], [1, \"#276419\"]], \"sequential\": [[0.0, \"#0d0887\"], [0.1111111111111111, \"#46039f\"], [0.2222222222222222, \"#7201a8\"], [0.3333333333333333, \"#9c179e\"], [0.4444444444444444, \"#bd3786\"], [0.5555555555555556, \"#d8576b\"], [0.6666666666666666, \"#ed7953\"], [0.7777777777777778, \"#fb9f3a\"], [0.8888888888888888, \"#fdca26\"], [1.0, \"#f0f921\"]], \"sequentialminus\": [[0.0, \"#0d0887\"], [0.1111111111111111, \"#46039f\"], [0.2222222222222222, \"#7201a8\"], [0.3333333333333333, \"#9c179e\"], [0.4444444444444444, \"#bd3786\"], [0.5555555555555556, \"#d8576b\"], [0.6666666666666666, \"#ed7953\"], [0.7777777777777778, \"#fb9f3a\"], [0.8888888888888888, \"#fdca26\"], [1.0, \"#f0f921\"]]}, \"colorway\": [\"#636efa\", \"#EF553B\", \"#00cc96\", \"#ab63fa\", \"#FFA15A\", \"#19d3f3\", \"#FF6692\", \"#B6E880\", \"#FF97FF\", \"#FECB52\"], \"font\": {\"color\": \"#2a3f5f\"}, \"geo\": {\"bgcolor\": \"white\", \"lakecolor\": \"white\", \"landcolor\": \"#E5ECF6\", \"showlakes\": true, \"showland\": true, \"subunitcolor\": \"white\"}, \"hoverlabel\": {\"align\": \"left\"}, \"hovermode\": \"closest\", \"mapbox\": {\"style\": \"light\"}, \"paper_bgcolor\": \"white\", \"plot_bgcolor\": \"#E5ECF6\", \"polar\": {\"angularaxis\": {\"gridcolor\": \"white\", \"linecolor\": \"white\", \"ticks\": \"\"}, \"bgcolor\": \"#E5ECF6\", \"radialaxis\": {\"gridcolor\": \"white\", \"linecolor\": \"white\", \"ticks\": \"\"}}, \"scene\": {\"xaxis\": {\"backgroundcolor\": \"#E5ECF6\", \"gridcolor\": \"white\", \"gridwidth\": 2, \"linecolor\": \"white\", \"showbackground\": true, \"ticks\": \"\", \"zerolinecolor\": \"white\"}, \"yaxis\": {\"backgroundcolor\": \"#E5ECF6\", \"gridcolor\": \"white\", \"gridwidth\": 2, \"linecolor\": \"white\", \"showbackground\": true, \"ticks\": \"\", \"zerolinecolor\": \"white\"}, \"zaxis\": {\"backgroundcolor\": \"#E5ECF6\", \"gridcolor\": \"white\", \"gridwidth\": 2, \"linecolor\": \"white\", \"showbackground\": true, \"ticks\": \"\", \"zerolinecolor\": \"white\"}}, \"shapedefaults\": {\"line\": {\"color\": \"#2a3f5f\"}}, \"ternary\": {\"aaxis\": {\"gridcolor\": \"white\", \"linecolor\": \"white\", \"ticks\": \"\"}, \"baxis\": {\"gridcolor\": \"white\", \"linecolor\": \"white\", \"ticks\": \"\"}, \"bgcolor\": \"#E5ECF6\", \"caxis\": {\"gridcolor\": \"white\", \"linecolor\": \"white\", \"ticks\": \"\"}}, \"title\": {\"x\": 0.05}, \"xaxis\": {\"automargin\": true, \"gridcolor\": \"white\", \"linecolor\": \"white\", \"ticks\": \"\", \"zerolinecolor\": \"white\", \"zerolinewidth\": 2}, \"yaxis\": {\"automargin\": true, \"gridcolor\": \"white\", \"linecolor\": \"white\", \"ticks\": \"\", \"zerolinecolor\": \"white\", \"zerolinewidth\": 2}}}},\n",
       "                        {\"responsive\": true}\n",
       "                    ).then(function(){\n",
       "                            \n",
       "var gd = document.getElementById('a9c7dc25-706f-495f-8445-f7c0e8484f13');\n",
       "var x = new MutationObserver(function (mutations, observer) {{\n",
       "        var display = window.getComputedStyle(gd).display;\n",
       "        if (!display || display === 'none') {{\n",
       "            console.log([gd, 'removed!']);\n",
       "            Plotly.purge(gd);\n",
       "            observer.disconnect();\n",
       "        }}\n",
       "}});\n",
       "\n",
       "// Listen for the removal of the full notebook cells\n",
       "var notebookContainer = gd.closest('#notebook-container');\n",
       "if (notebookContainer) {{\n",
       "    x.observe(notebookContainer, {childList: true});\n",
       "}}\n",
       "\n",
       "// Listen for the clearing of the current output cell\n",
       "var outputEl = gd.closest('.output');\n",
       "if (outputEl) {{\n",
       "    x.observe(outputEl, {childList: true});\n",
       "}}\n",
       "\n",
       "                        })\n",
       "                };\n",
       "                });\n",
       "            </script>\n",
       "        </div>"
      ]
     },
     "metadata": {},
     "output_type": "display_data"
    },
    {
     "data": {
      "text/plain": [
       "'ploting 3D nearest airoport.html'"
      ]
     },
     "execution_count": 41,
     "metadata": {},
     "output_type": "execute_result"
    }
   ],
   "source": [
    "#ploting 3D our aircraft with the nearest airports in each time  in area=S≤ 39.1km × 19.5km\n",
    "import plotly.offline as py\n",
    "import numpy as np\n",
    "trip296_nearest_airports_pandas_DataFrame = pd.DataFrame.from_records(trip296_nearest_airports.collect(), columns=trip296_nearest_airports.columns)\n",
    "_data = [go.Scatter3d(x=trip296_pandas_DataFrame['latitude'], \n",
    "         y=trip296_pandas_DataFrame['longitude'], z=trip296_pandas_DataFrame['geoAltitude'], mode='lines+markers')]\n",
    "_data1 = [go.Scatter3d(x=trip296_nearest_airports_pandas_DataFrame['latitude_deg'], \n",
    "         y=trip296_nearest_airports_pandas_DataFrame['longitude_deg'], z=trip296_nearest_airports_pandas_DataFrame['elevation_ft'], mode='markers')]\n",
    "py.iplot(_data+_data1)\n",
    "py.plot(_data+_data1, filename='ploting 3D nearest airoport.html')"
   ]
  },
  {
   "cell_type": "code",
   "execution_count": 42,
   "metadata": {},
   "outputs": [
    {
     "data": {
      "text/plain": [
       "7.42067079286318"
      ]
     },
     "execution_count": 42,
     "metadata": {},
     "output_type": "execute_result"
    }
   ],
   "source": [
    "## Start Position\n",
    "start = trip296_pandas_DataFrame.iloc[0,:]\n",
    "## End Position\n",
    "finish = trip296_pandas_DataFrame.iloc[-1,:]\n",
    "start['longitude']\n"
   ]
  },
  {
   "cell_type": "code",
   "execution_count": 43,
   "metadata": {
    "scrolled": true
   },
   "outputs": [
    {
     "data": {
      "application/vnd.plotly.v1+json": {
       "config": {
        "linkText": "Export to plot.ly",
        "plotlyServerURL": "https://plot.ly",
        "showLink": false
       },
       "data": [
        {
         "hoverinfo": "text",
         "lat": [
          50.56611251831055,
          50.56611251831055,
          50.56611251831055,
          50.56611251831055,
          50.56611251831055,
          50.56611251831055,
          50.56611251831055,
          50.56611251831055,
          50.56611251831055,
          50.56611251831055,
          50.56611251831055,
          50.56611251831055,
          50.56611251831055,
          50.56611251831055,
          50.56611251831055,
          50.56611251831055,
          50.56611251831055,
          50.56611251831055,
          50.56611251831055,
          50.56611251831055,
          50.56611251831055,
          50.56611251831055,
          50.56611251831055,
          50.56611251831055,
          50.56611251831055,
          50.56611251831055,
          50.56611251831055,
          50.56611251831055,
          50.56611251831055,
          50.56611251831055,
          50.56611251831055,
          50.56611251831055
         ],
         "locationmode": "ISO-3",
         "lon": [
          7.6533331871032715,
          7.6533331871032715,
          7.6533331871032715,
          7.6533331871032715,
          7.6533331871032715,
          7.6533331871032715,
          7.6533331871032715,
          7.6533331871032715,
          7.6533331871032715,
          7.6533331871032715,
          7.6533331871032715,
          7.6533331871032715,
          7.6533331871032715,
          7.6533331871032715,
          7.6533331871032715,
          7.6533331871032715,
          7.6533331871032715,
          7.6533331871032715,
          7.6533331871032715,
          7.6533331871032715,
          7.6533331871032715,
          7.6533331871032715,
          7.6533331871032715,
          7.6533331871032715,
          7.6533331871032715,
          7.6533331871032715,
          7.6533331871032715,
          7.6533331871032715,
          7.6533331871032715,
          7.6533331871032715,
          7.6533331871032715,
          7.6533331871032715
         ],
         "marker": {
          "color": "rgb(255, 0, 0)",
          "line": {
           "color": "rgba(68, 68, 68, 0)",
           "width": 3
          },
          "size": 10
         },
         "mode": "markers",
         "name": "airport nearest ",
         "text": [
          "name: Dierdorf-Wienau Airport<br>",
          "name: Dierdorf-Wienau Airport<br>",
          "name: Dierdorf-Wienau Airport<br>",
          "name: Dierdorf-Wienau Airport<br>",
          "name: Dierdorf-Wienau Airport<br>",
          "name: Dierdorf-Wienau Airport<br>",
          "name: Dierdorf-Wienau Airport<br>",
          "name: Dierdorf-Wienau Airport<br>",
          "name: Dierdorf-Wienau Airport<br>",
          "name: Dierdorf-Wienau Airport<br>",
          "name: Dierdorf-Wienau Airport<br>",
          "name: Dierdorf-Wienau Airport<br>",
          "name: Dierdorf-Wienau Airport<br>",
          "name: Dierdorf-Wienau Airport<br>",
          "name: Dierdorf-Wienau Airport<br>",
          "name: Dierdorf-Wienau Airport<br>",
          "name: Dierdorf-Wienau Airport<br>",
          "name: Dierdorf-Wienau Airport<br>",
          "name: Dierdorf-Wienau Airport<br>",
          "name: Dierdorf-Wienau Airport<br>",
          "name: Dierdorf-Wienau Airport<br>",
          "name: Dierdorf-Wienau Airport<br>",
          "name: Dierdorf-Wienau Airport<br>",
          "name: Dierdorf-Wienau Airport<br>",
          "name: Dierdorf-Wienau Airport<br>",
          "name: Dierdorf-Wienau Airport<br>",
          "name: Dierdorf-Wienau Airport<br>",
          "name: Dierdorf-Wienau Airport<br>",
          "name: Dierdorf-Wienau Airport<br>",
          "name: Dierdorf-Wienau Airport<br>",
          "name: Dierdorf-Wienau Airport<br>",
          "name: Dierdorf-Wienau Airport<br>"
         ],
         "type": "scattergeo"
        },
        {
         "hoverinfo": "text",
         "lat": [
          50.4495911679025,
          50.4497773768538,
          50.4500427246094,
          50.4503631591797,
          50.4508666992188,
          50.4510498046875,
          50.4512329101563,
          50.451416015625,
          50.4516394663665,
          50.4518256753178,
          50.4520118842691,
          50.4524230957031,
          50.4526062011719,
          50.4528498245498,
          50.4530360335011,
          50.4532928466797,
          50.4534301757813,
          50.45361328125,
          50.4537963867188,
          50.4540601827331,
          50.4542999267578,
          50.4544830322266,
          50.4547119140625,
          50.4548981230138,
          50.4551696777344,
          50.4554101976298,
          50.455596406581,
          50.4558563232422,
          50.4562946901483,
          50.4564343468618,
          50.4567260742188,
          50.4569929737156
         ],
         "locationmode": "ISO-3",
         "lon": [
          7.47686437658362,
          7.47552820154139,
          7.47359426398026,
          7.47099223889803,
          7.46701692280016,
          7.46571591025905,
          7.46441489771793,
          7.46311388517681,
          7.46120143581081,
          7.45986526076858,
          7.45852908572635,
          7.4553078099301,
          7.45400679738898,
          7.45199667440878,
          7.45073473131335,
          7.44873046875,
          7.44742945620888,
          7.44612844366776,
          7.44482743112664,
          7.44286614495355,
          7.44092439350329,
          7.43962338096217,
          7.43766990867821,
          7.43633373363598,
          7.4344193307977,
          7.43239944045608,
          7.43113749736064,
          7.42914300215872,
          7.42586702913851,
          7.42460508604308,
          7.42263793945312,
          7.42067079286318
         ],
         "marker": {
          "color": "rgb(255, 20, 147)",
          "line": {
           "color": "rgba(68, 68, 68, 0)",
           "width": 3
          },
          "size": 3
         },
         "mode": "lines+markers",
         "name": "trip296",
         "text": [
          18.019789558288362,
          18.070908389008824,
          18.145889057717703,
          18.250860959155137,
          18.412697146726888,
          18.464911155601108,
          18.5174597898287,
          18.570340203419512,
          18.65214484872725,
          18.707411975026783,
          18.763017435967427,
          18.901255220014967,
          18.95634900358192,
          19.04497412389448,
          19.09852432227315,
          19.187007572429366,
          19.24694182285862,
          19.30383595853205,
          19.361023689322415,
          19.448657631667036,
          19.53756944866718,
          19.595890856072884,
          19.687216939601743,
          19.74794860249954,
          19.835133362137707,
          19.93092717818425,
          19.988617009333993,
          20.082654019759396,
          20.23762499424197,
          20.29970256895435,
          20.391974988876658,
          20.48647200201234
         ],
         "type": "scattergeo"
        }
       ],
       "layout": {
        "annotations": [
         {
          "showarrow": false,
          "text": "Projection",
          "x": 0.1,
          "xanchor": "right",
          "xref": "paper",
          "y": 0.8,
          "yanchor": "bottom"
         }
        ],
        "geo": {
         "countrywidth": 0.5,
         "lakecolor": "rgb(0, 255, 255)",
         "landcolor": "rgb(230, 145, 56)",
         "lataxis": {
          "gridcolor": "rgb(102, 102, 102)",
          "gridwidth": 0.5,
          "showgrid": true
         },
         "lonaxis": {
          "gridcolor": "rgb(102, 102, 102)",
          "gridwidth": 0.5,
          "showgrid": true
         },
         "oceancolor": "rgb(0, 255, 255)",
         "projection": {
          "rotation": {
           "lat": 0,
           "lon": 0,
           "roll": 0
          },
          "type": "orthographic"
         },
         "showcountries": true,
         "showlakes": true,
         "showland": true,
         "showocean": true
        },
        "margin": {
         "b": 0,
         "l": 0,
         "r": 0,
         "t": 0
        },
        "showlegend": false,
        "sliders": [
         {
          "active": 18,
          "currentvalue": {
           "prefix": "Longitude: "
          },
          "pad": {
           "t": 0
          },
          "steps": [
           {
            "args": [
             "geo.projection.rotation.lon",
             -180
            ],
            "label": "-180",
            "method": "relayout"
           },
           {
            "args": [
             "geo.projection.rotation.lon",
             -170
            ],
            "label": "-170",
            "method": "relayout"
           },
           {
            "args": [
             "geo.projection.rotation.lon",
             -160
            ],
            "label": "-160",
            "method": "relayout"
           },
           {
            "args": [
             "geo.projection.rotation.lon",
             -150
            ],
            "label": "-150",
            "method": "relayout"
           },
           {
            "args": [
             "geo.projection.rotation.lon",
             -140
            ],
            "label": "-140",
            "method": "relayout"
           },
           {
            "args": [
             "geo.projection.rotation.lon",
             -130
            ],
            "label": "-130",
            "method": "relayout"
           },
           {
            "args": [
             "geo.projection.rotation.lon",
             -120
            ],
            "label": "-120",
            "method": "relayout"
           },
           {
            "args": [
             "geo.projection.rotation.lon",
             -110
            ],
            "label": "-110",
            "method": "relayout"
           },
           {
            "args": [
             "geo.projection.rotation.lon",
             -100
            ],
            "label": "-100",
            "method": "relayout"
           },
           {
            "args": [
             "geo.projection.rotation.lon",
             -90
            ],
            "label": "-90",
            "method": "relayout"
           },
           {
            "args": [
             "geo.projection.rotation.lon",
             -80
            ],
            "label": "-80",
            "method": "relayout"
           },
           {
            "args": [
             "geo.projection.rotation.lon",
             -70
            ],
            "label": "-70",
            "method": "relayout"
           },
           {
            "args": [
             "geo.projection.rotation.lon",
             -60
            ],
            "label": "-60",
            "method": "relayout"
           },
           {
            "args": [
             "geo.projection.rotation.lon",
             -50
            ],
            "label": "-50",
            "method": "relayout"
           },
           {
            "args": [
             "geo.projection.rotation.lon",
             -40
            ],
            "label": "-40",
            "method": "relayout"
           },
           {
            "args": [
             "geo.projection.rotation.lon",
             -30
            ],
            "label": "-30",
            "method": "relayout"
           },
           {
            "args": [
             "geo.projection.rotation.lon",
             -20
            ],
            "label": "-20",
            "method": "relayout"
           },
           {
            "args": [
             "geo.projection.rotation.lon",
             -10
            ],
            "label": "-10",
            "method": "relayout"
           },
           {
            "args": [
             "geo.projection.rotation.lon",
             0
            ],
            "label": "0",
            "method": "relayout"
           },
           {
            "args": [
             "geo.projection.rotation.lon",
             10
            ],
            "label": "10",
            "method": "relayout"
           },
           {
            "args": [
             "geo.projection.rotation.lon",
             20
            ],
            "label": "20",
            "method": "relayout"
           },
           {
            "args": [
             "geo.projection.rotation.lon",
             30
            ],
            "label": "30",
            "method": "relayout"
           },
           {
            "args": [
             "geo.projection.rotation.lon",
             40
            ],
            "label": "40",
            "method": "relayout"
           },
           {
            "args": [
             "geo.projection.rotation.lon",
             50
            ],
            "label": "50",
            "method": "relayout"
           },
           {
            "args": [
             "geo.projection.rotation.lon",
             60
            ],
            "label": "60",
            "method": "relayout"
           },
           {
            "args": [
             "geo.projection.rotation.lon",
             70
            ],
            "label": "70",
            "method": "relayout"
           },
           {
            "args": [
             "geo.projection.rotation.lon",
             80
            ],
            "label": "80",
            "method": "relayout"
           },
           {
            "args": [
             "geo.projection.rotation.lon",
             90
            ],
            "label": "90",
            "method": "relayout"
           },
           {
            "args": [
             "geo.projection.rotation.lon",
             100
            ],
            "label": "100",
            "method": "relayout"
           },
           {
            "args": [
             "geo.projection.rotation.lon",
             110
            ],
            "label": "110",
            "method": "relayout"
           },
           {
            "args": [
             "geo.projection.rotation.lon",
             120
            ],
            "label": "120",
            "method": "relayout"
           },
           {
            "args": [
             "geo.projection.rotation.lon",
             130
            ],
            "label": "130",
            "method": "relayout"
           },
           {
            "args": [
             "geo.projection.rotation.lon",
             140
            ],
            "label": "140",
            "method": "relayout"
           },
           {
            "args": [
             "geo.projection.rotation.lon",
             150
            ],
            "label": "150",
            "method": "relayout"
           },
           {
            "args": [
             "geo.projection.rotation.lon",
             160
            ],
            "label": "160",
            "method": "relayout"
           },
           {
            "args": [
             "geo.projection.rotation.lon",
             170
            ],
            "label": "170",
            "method": "relayout"
           }
          ]
         },
         {
          "active": 9,
          "currentvalue": {
           "prefix": "Latitude: "
          },
          "pad": {
           "t": 100
          },
          "steps": [
           {
            "args": [
             "geo.projection.rotation.lat",
             -90
            ],
            "label": "-90",
            "method": "relayout"
           },
           {
            "args": [
             "geo.projection.rotation.lat",
             -80
            ],
            "label": "-80",
            "method": "relayout"
           },
           {
            "args": [
             "geo.projection.rotation.lat",
             -70
            ],
            "label": "-70",
            "method": "relayout"
           },
           {
            "args": [
             "geo.projection.rotation.lat",
             -60
            ],
            "label": "-60",
            "method": "relayout"
           },
           {
            "args": [
             "geo.projection.rotation.lat",
             -50
            ],
            "label": "-50",
            "method": "relayout"
           },
           {
            "args": [
             "geo.projection.rotation.lat",
             -40
            ],
            "label": "-40",
            "method": "relayout"
           },
           {
            "args": [
             "geo.projection.rotation.lat",
             -30
            ],
            "label": "-30",
            "method": "relayout"
           },
           {
            "args": [
             "geo.projection.rotation.lat",
             -20
            ],
            "label": "-20",
            "method": "relayout"
           },
           {
            "args": [
             "geo.projection.rotation.lat",
             -10
            ],
            "label": "-10",
            "method": "relayout"
           },
           {
            "args": [
             "geo.projection.rotation.lat",
             0
            ],
            "label": "0",
            "method": "relayout"
           },
           {
            "args": [
             "geo.projection.rotation.lat",
             10
            ],
            "label": "10",
            "method": "relayout"
           },
           {
            "args": [
             "geo.projection.rotation.lat",
             20
            ],
            "label": "20",
            "method": "relayout"
           },
           {
            "args": [
             "geo.projection.rotation.lat",
             30
            ],
            "label": "30",
            "method": "relayout"
           },
           {
            "args": [
             "geo.projection.rotation.lat",
             40
            ],
            "label": "40",
            "method": "relayout"
           },
           {
            "args": [
             "geo.projection.rotation.lat",
             50
            ],
            "label": "50",
            "method": "relayout"
           },
           {
            "args": [
             "geo.projection.rotation.lat",
             60
            ],
            "label": "60",
            "method": "relayout"
           },
           {
            "args": [
             "geo.projection.rotation.lat",
             70
            ],
            "label": "70",
            "method": "relayout"
           },
           {
            "args": [
             "geo.projection.rotation.lat",
             80
            ],
            "label": "80",
            "method": "relayout"
           }
          ]
         }
        ],
        "template": {
         "data": {
          "bar": [
           {
            "error_x": {
             "color": "#2a3f5f"
            },
            "error_y": {
             "color": "#2a3f5f"
            },
            "marker": {
             "line": {
              "color": "#E5ECF6",
              "width": 0.5
             }
            },
            "type": "bar"
           }
          ],
          "barpolar": [
           {
            "marker": {
             "line": {
              "color": "#E5ECF6",
              "width": 0.5
             }
            },
            "type": "barpolar"
           }
          ],
          "carpet": [
           {
            "aaxis": {
             "endlinecolor": "#2a3f5f",
             "gridcolor": "white",
             "linecolor": "white",
             "minorgridcolor": "white",
             "startlinecolor": "#2a3f5f"
            },
            "baxis": {
             "endlinecolor": "#2a3f5f",
             "gridcolor": "white",
             "linecolor": "white",
             "minorgridcolor": "white",
             "startlinecolor": "#2a3f5f"
            },
            "type": "carpet"
           }
          ],
          "choropleth": [
           {
            "colorbar": {
             "outlinewidth": 0,
             "ticks": ""
            },
            "type": "choropleth"
           }
          ],
          "contour": [
           {
            "colorbar": {
             "outlinewidth": 0,
             "ticks": ""
            },
            "colorscale": [
             [
              0,
              "#0d0887"
             ],
             [
              0.1111111111111111,
              "#46039f"
             ],
             [
              0.2222222222222222,
              "#7201a8"
             ],
             [
              0.3333333333333333,
              "#9c179e"
             ],
             [
              0.4444444444444444,
              "#bd3786"
             ],
             [
              0.5555555555555556,
              "#d8576b"
             ],
             [
              0.6666666666666666,
              "#ed7953"
             ],
             [
              0.7777777777777778,
              "#fb9f3a"
             ],
             [
              0.8888888888888888,
              "#fdca26"
             ],
             [
              1,
              "#f0f921"
             ]
            ],
            "type": "contour"
           }
          ],
          "contourcarpet": [
           {
            "colorbar": {
             "outlinewidth": 0,
             "ticks": ""
            },
            "type": "contourcarpet"
           }
          ],
          "heatmap": [
           {
            "colorbar": {
             "outlinewidth": 0,
             "ticks": ""
            },
            "colorscale": [
             [
              0,
              "#0d0887"
             ],
             [
              0.1111111111111111,
              "#46039f"
             ],
             [
              0.2222222222222222,
              "#7201a8"
             ],
             [
              0.3333333333333333,
              "#9c179e"
             ],
             [
              0.4444444444444444,
              "#bd3786"
             ],
             [
              0.5555555555555556,
              "#d8576b"
             ],
             [
              0.6666666666666666,
              "#ed7953"
             ],
             [
              0.7777777777777778,
              "#fb9f3a"
             ],
             [
              0.8888888888888888,
              "#fdca26"
             ],
             [
              1,
              "#f0f921"
             ]
            ],
            "type": "heatmap"
           }
          ],
          "heatmapgl": [
           {
            "colorbar": {
             "outlinewidth": 0,
             "ticks": ""
            },
            "colorscale": [
             [
              0,
              "#0d0887"
             ],
             [
              0.1111111111111111,
              "#46039f"
             ],
             [
              0.2222222222222222,
              "#7201a8"
             ],
             [
              0.3333333333333333,
              "#9c179e"
             ],
             [
              0.4444444444444444,
              "#bd3786"
             ],
             [
              0.5555555555555556,
              "#d8576b"
             ],
             [
              0.6666666666666666,
              "#ed7953"
             ],
             [
              0.7777777777777778,
              "#fb9f3a"
             ],
             [
              0.8888888888888888,
              "#fdca26"
             ],
             [
              1,
              "#f0f921"
             ]
            ],
            "type": "heatmapgl"
           }
          ],
          "histogram": [
           {
            "marker": {
             "colorbar": {
              "outlinewidth": 0,
              "ticks": ""
             }
            },
            "type": "histogram"
           }
          ],
          "histogram2d": [
           {
            "colorbar": {
             "outlinewidth": 0,
             "ticks": ""
            },
            "colorscale": [
             [
              0,
              "#0d0887"
             ],
             [
              0.1111111111111111,
              "#46039f"
             ],
             [
              0.2222222222222222,
              "#7201a8"
             ],
             [
              0.3333333333333333,
              "#9c179e"
             ],
             [
              0.4444444444444444,
              "#bd3786"
             ],
             [
              0.5555555555555556,
              "#d8576b"
             ],
             [
              0.6666666666666666,
              "#ed7953"
             ],
             [
              0.7777777777777778,
              "#fb9f3a"
             ],
             [
              0.8888888888888888,
              "#fdca26"
             ],
             [
              1,
              "#f0f921"
             ]
            ],
            "type": "histogram2d"
           }
          ],
          "histogram2dcontour": [
           {
            "colorbar": {
             "outlinewidth": 0,
             "ticks": ""
            },
            "colorscale": [
             [
              0,
              "#0d0887"
             ],
             [
              0.1111111111111111,
              "#46039f"
             ],
             [
              0.2222222222222222,
              "#7201a8"
             ],
             [
              0.3333333333333333,
              "#9c179e"
             ],
             [
              0.4444444444444444,
              "#bd3786"
             ],
             [
              0.5555555555555556,
              "#d8576b"
             ],
             [
              0.6666666666666666,
              "#ed7953"
             ],
             [
              0.7777777777777778,
              "#fb9f3a"
             ],
             [
              0.8888888888888888,
              "#fdca26"
             ],
             [
              1,
              "#f0f921"
             ]
            ],
            "type": "histogram2dcontour"
           }
          ],
          "mesh3d": [
           {
            "colorbar": {
             "outlinewidth": 0,
             "ticks": ""
            },
            "type": "mesh3d"
           }
          ],
          "parcoords": [
           {
            "line": {
             "colorbar": {
              "outlinewidth": 0,
              "ticks": ""
             }
            },
            "type": "parcoords"
           }
          ],
          "scatter": [
           {
            "marker": {
             "colorbar": {
              "outlinewidth": 0,
              "ticks": ""
             }
            },
            "type": "scatter"
           }
          ],
          "scatter3d": [
           {
            "line": {
             "colorbar": {
              "outlinewidth": 0,
              "ticks": ""
             }
            },
            "marker": {
             "colorbar": {
              "outlinewidth": 0,
              "ticks": ""
             }
            },
            "type": "scatter3d"
           }
          ],
          "scattercarpet": [
           {
            "marker": {
             "colorbar": {
              "outlinewidth": 0,
              "ticks": ""
             }
            },
            "type": "scattercarpet"
           }
          ],
          "scattergeo": [
           {
            "marker": {
             "colorbar": {
              "outlinewidth": 0,
              "ticks": ""
             }
            },
            "type": "scattergeo"
           }
          ],
          "scattergl": [
           {
            "marker": {
             "colorbar": {
              "outlinewidth": 0,
              "ticks": ""
             }
            },
            "type": "scattergl"
           }
          ],
          "scattermapbox": [
           {
            "marker": {
             "colorbar": {
              "outlinewidth": 0,
              "ticks": ""
             }
            },
            "type": "scattermapbox"
           }
          ],
          "scatterpolar": [
           {
            "marker": {
             "colorbar": {
              "outlinewidth": 0,
              "ticks": ""
             }
            },
            "type": "scatterpolar"
           }
          ],
          "scatterpolargl": [
           {
            "marker": {
             "colorbar": {
              "outlinewidth": 0,
              "ticks": ""
             }
            },
            "type": "scatterpolargl"
           }
          ],
          "scatterternary": [
           {
            "marker": {
             "colorbar": {
              "outlinewidth": 0,
              "ticks": ""
             }
            },
            "type": "scatterternary"
           }
          ],
          "surface": [
           {
            "colorbar": {
             "outlinewidth": 0,
             "ticks": ""
            },
            "colorscale": [
             [
              0,
              "#0d0887"
             ],
             [
              0.1111111111111111,
              "#46039f"
             ],
             [
              0.2222222222222222,
              "#7201a8"
             ],
             [
              0.3333333333333333,
              "#9c179e"
             ],
             [
              0.4444444444444444,
              "#bd3786"
             ],
             [
              0.5555555555555556,
              "#d8576b"
             ],
             [
              0.6666666666666666,
              "#ed7953"
             ],
             [
              0.7777777777777778,
              "#fb9f3a"
             ],
             [
              0.8888888888888888,
              "#fdca26"
             ],
             [
              1,
              "#f0f921"
             ]
            ],
            "type": "surface"
           }
          ],
          "table": [
           {
            "cells": {
             "fill": {
              "color": "#EBF0F8"
             },
             "line": {
              "color": "white"
             }
            },
            "header": {
             "fill": {
              "color": "#C8D4E3"
             },
             "line": {
              "color": "white"
             }
            },
            "type": "table"
           }
          ]
         },
         "layout": {
          "annotationdefaults": {
           "arrowcolor": "#2a3f5f",
           "arrowhead": 0,
           "arrowwidth": 1
          },
          "colorscale": {
           "diverging": [
            [
             0,
             "#8e0152"
            ],
            [
             0.1,
             "#c51b7d"
            ],
            [
             0.2,
             "#de77ae"
            ],
            [
             0.3,
             "#f1b6da"
            ],
            [
             0.4,
             "#fde0ef"
            ],
            [
             0.5,
             "#f7f7f7"
            ],
            [
             0.6,
             "#e6f5d0"
            ],
            [
             0.7,
             "#b8e186"
            ],
            [
             0.8,
             "#7fbc41"
            ],
            [
             0.9,
             "#4d9221"
            ],
            [
             1,
             "#276419"
            ]
           ],
           "sequential": [
            [
             0,
             "#0d0887"
            ],
            [
             0.1111111111111111,
             "#46039f"
            ],
            [
             0.2222222222222222,
             "#7201a8"
            ],
            [
             0.3333333333333333,
             "#9c179e"
            ],
            [
             0.4444444444444444,
             "#bd3786"
            ],
            [
             0.5555555555555556,
             "#d8576b"
            ],
            [
             0.6666666666666666,
             "#ed7953"
            ],
            [
             0.7777777777777778,
             "#fb9f3a"
            ],
            [
             0.8888888888888888,
             "#fdca26"
            ],
            [
             1,
             "#f0f921"
            ]
           ],
           "sequentialminus": [
            [
             0,
             "#0d0887"
            ],
            [
             0.1111111111111111,
             "#46039f"
            ],
            [
             0.2222222222222222,
             "#7201a8"
            ],
            [
             0.3333333333333333,
             "#9c179e"
            ],
            [
             0.4444444444444444,
             "#bd3786"
            ],
            [
             0.5555555555555556,
             "#d8576b"
            ],
            [
             0.6666666666666666,
             "#ed7953"
            ],
            [
             0.7777777777777778,
             "#fb9f3a"
            ],
            [
             0.8888888888888888,
             "#fdca26"
            ],
            [
             1,
             "#f0f921"
            ]
           ]
          },
          "colorway": [
           "#636efa",
           "#EF553B",
           "#00cc96",
           "#ab63fa",
           "#FFA15A",
           "#19d3f3",
           "#FF6692",
           "#B6E880",
           "#FF97FF",
           "#FECB52"
          ],
          "font": {
           "color": "#2a3f5f"
          },
          "geo": {
           "bgcolor": "white",
           "lakecolor": "white",
           "landcolor": "#E5ECF6",
           "showlakes": true,
           "showland": true,
           "subunitcolor": "white"
          },
          "hoverlabel": {
           "align": "left"
          },
          "hovermode": "closest",
          "mapbox": {
           "style": "light"
          },
          "paper_bgcolor": "white",
          "plot_bgcolor": "#E5ECF6",
          "polar": {
           "angularaxis": {
            "gridcolor": "white",
            "linecolor": "white",
            "ticks": ""
           },
           "bgcolor": "#E5ECF6",
           "radialaxis": {
            "gridcolor": "white",
            "linecolor": "white",
            "ticks": ""
           }
          },
          "scene": {
           "xaxis": {
            "backgroundcolor": "#E5ECF6",
            "gridcolor": "white",
            "gridwidth": 2,
            "linecolor": "white",
            "showbackground": true,
            "ticks": "",
            "zerolinecolor": "white"
           },
           "yaxis": {
            "backgroundcolor": "#E5ECF6",
            "gridcolor": "white",
            "gridwidth": 2,
            "linecolor": "white",
            "showbackground": true,
            "ticks": "",
            "zerolinecolor": "white"
           },
           "zaxis": {
            "backgroundcolor": "#E5ECF6",
            "gridcolor": "white",
            "gridwidth": 2,
            "linecolor": "white",
            "showbackground": true,
            "ticks": "",
            "zerolinecolor": "white"
           }
          },
          "shapedefaults": {
           "line": {
            "color": "#2a3f5f"
           }
          },
          "ternary": {
           "aaxis": {
            "gridcolor": "white",
            "linecolor": "white",
            "ticks": ""
           },
           "baxis": {
            "gridcolor": "white",
            "linecolor": "white",
            "ticks": ""
           },
           "bgcolor": "#E5ECF6",
           "caxis": {
            "gridcolor": "white",
            "linecolor": "white",
            "ticks": ""
           }
          },
          "title": {
           "x": 0.05
          },
          "xaxis": {
           "automargin": true,
           "gridcolor": "white",
           "linecolor": "white",
           "ticks": "",
           "zerolinecolor": "white",
           "zerolinewidth": 2
          },
          "yaxis": {
           "automargin": true,
           "gridcolor": "white",
           "linecolor": "white",
           "ticks": "",
           "zerolinecolor": "white",
           "zerolinewidth": 2
          }
         }
        },
        "updatemenus": [
         {
          "buttons": [
           {
            "args": [
             "geo.projection.type",
             "equirectangular"
            ],
            "label": "equirectangular",
            "method": "relayout"
           },
           {
            "args": [
             "geo.projection.type",
             "mercator"
            ],
            "label": "mercator",
            "method": "relayout"
           },
           {
            "args": [
             "geo.projection.type",
             "orthographic"
            ],
            "label": "orthographic",
            "method": "relayout"
           },
           {
            "args": [
             "geo.projection.type",
             "natural earth"
            ],
            "label": "natural earth",
            "method": "relayout"
           },
           {
            "args": [
             "geo.projection.type",
             "kavrayskiy7"
            ],
            "label": "kavrayskiy7",
            "method": "relayout"
           },
           {
            "args": [
             "geo.projection.type",
             "miller"
            ],
            "label": "miller",
            "method": "relayout"
           },
           {
            "args": [
             "geo.projection.type",
             "robinson"
            ],
            "label": "robinson",
            "method": "relayout"
           },
           {
            "args": [
             "geo.projection.type",
             "eckert4"
            ],
            "label": "eckert4",
            "method": "relayout"
           },
           {
            "args": [
             "geo.projection.type",
             "azimuthal equal area"
            ],
            "label": "azimuthal equal area",
            "method": "relayout"
           },
           {
            "args": [
             "geo.projection.type",
             "azimuthal equidistant"
            ],
            "label": "azimuthal equidistant",
            "method": "relayout"
           },
           {
            "args": [
             "geo.projection.type",
             "conic equal area"
            ],
            "label": "conic equal area",
            "method": "relayout"
           },
           {
            "args": [
             "geo.projection.type",
             "conic conformal"
            ],
            "label": "conic conformal",
            "method": "relayout"
           },
           {
            "args": [
             "geo.projection.type",
             "conic equidistant"
            ],
            "label": "conic equidistant",
            "method": "relayout"
           },
           {
            "args": [
             "geo.projection.type",
             "gnomonic"
            ],
            "label": "gnomonic",
            "method": "relayout"
           },
           {
            "args": [
             "geo.projection.type",
             "stereographic"
            ],
            "label": "stereographic",
            "method": "relayout"
           },
           {
            "args": [
             "geo.projection.type",
             "mollweide"
            ],
            "label": "mollweide",
            "method": "relayout"
           },
           {
            "args": [
             "geo.projection.type",
             "hammer"
            ],
            "label": "hammer",
            "method": "relayout"
           },
           {
            "args": [
             "geo.projection.type",
             "transverse mercator"
            ],
            "label": "transverse mercator",
            "method": "relayout"
           },
           {
            "args": [
             "geo.projection.type",
             "albers usa"
            ],
            "label": "albers usa",
            "method": "relayout"
           },
           {
            "args": [
             "geo.projection.type",
             "winkel tripel"
            ],
            "label": "winkel tripel",
            "method": "relayout"
           }
          ],
          "x": 0.1,
          "y": 0.8,
          "yanchor": "top"
         }
        ]
       }
      },
      "text/html": [
       "<div>\n",
       "        \n",
       "        \n",
       "            <div id=\"33cd1296-9189-46b0-b41f-7e881ec3e860\" class=\"plotly-graph-div\" style=\"height:525px; width:100%;\"></div>\n",
       "            <script type=\"text/javascript\">\n",
       "                require([\"plotly\"], function(Plotly) {\n",
       "                    window.PLOTLYENV=window.PLOTLYENV || {};\n",
       "                    \n",
       "                if (document.getElementById(\"33cd1296-9189-46b0-b41f-7e881ec3e860\")) {\n",
       "                    Plotly.newPlot(\n",
       "                        '33cd1296-9189-46b0-b41f-7e881ec3e860',\n",
       "                        [{\"hoverinfo\": \"text\", \"lat\": [50.56611251831055, 50.56611251831055, 50.56611251831055, 50.56611251831055, 50.56611251831055, 50.56611251831055, 50.56611251831055, 50.56611251831055, 50.56611251831055, 50.56611251831055, 50.56611251831055, 50.56611251831055, 50.56611251831055, 50.56611251831055, 50.56611251831055, 50.56611251831055, 50.56611251831055, 50.56611251831055, 50.56611251831055, 50.56611251831055, 50.56611251831055, 50.56611251831055, 50.56611251831055, 50.56611251831055, 50.56611251831055, 50.56611251831055, 50.56611251831055, 50.56611251831055, 50.56611251831055, 50.56611251831055, 50.56611251831055, 50.56611251831055], \"locationmode\": \"ISO-3\", \"lon\": [7.6533331871032715, 7.6533331871032715, 7.6533331871032715, 7.6533331871032715, 7.6533331871032715, 7.6533331871032715, 7.6533331871032715, 7.6533331871032715, 7.6533331871032715, 7.6533331871032715, 7.6533331871032715, 7.6533331871032715, 7.6533331871032715, 7.6533331871032715, 7.6533331871032715, 7.6533331871032715, 7.6533331871032715, 7.6533331871032715, 7.6533331871032715, 7.6533331871032715, 7.6533331871032715, 7.6533331871032715, 7.6533331871032715, 7.6533331871032715, 7.6533331871032715, 7.6533331871032715, 7.6533331871032715, 7.6533331871032715, 7.6533331871032715, 7.6533331871032715, 7.6533331871032715, 7.6533331871032715], \"marker\": {\"color\": \"rgb(255, 0, 0)\", \"line\": {\"color\": \"rgba(68, 68, 68, 0)\", \"width\": 3}, \"size\": 10}, \"mode\": \"markers\", \"name\": \"airport nearest \", \"text\": [\"name: Dierdorf-Wienau Airport<br>\", \"name: Dierdorf-Wienau Airport<br>\", \"name: Dierdorf-Wienau Airport<br>\", \"name: Dierdorf-Wienau Airport<br>\", \"name: Dierdorf-Wienau Airport<br>\", \"name: Dierdorf-Wienau Airport<br>\", \"name: Dierdorf-Wienau Airport<br>\", \"name: Dierdorf-Wienau Airport<br>\", \"name: Dierdorf-Wienau Airport<br>\", \"name: Dierdorf-Wienau Airport<br>\", \"name: Dierdorf-Wienau Airport<br>\", \"name: Dierdorf-Wienau Airport<br>\", \"name: Dierdorf-Wienau Airport<br>\", \"name: Dierdorf-Wienau Airport<br>\", \"name: Dierdorf-Wienau Airport<br>\", \"name: Dierdorf-Wienau Airport<br>\", \"name: Dierdorf-Wienau Airport<br>\", \"name: Dierdorf-Wienau Airport<br>\", \"name: Dierdorf-Wienau Airport<br>\", \"name: Dierdorf-Wienau Airport<br>\", \"name: Dierdorf-Wienau Airport<br>\", \"name: Dierdorf-Wienau Airport<br>\", \"name: Dierdorf-Wienau Airport<br>\", \"name: Dierdorf-Wienau Airport<br>\", \"name: Dierdorf-Wienau Airport<br>\", \"name: Dierdorf-Wienau Airport<br>\", \"name: Dierdorf-Wienau Airport<br>\", \"name: Dierdorf-Wienau Airport<br>\", \"name: Dierdorf-Wienau Airport<br>\", \"name: Dierdorf-Wienau Airport<br>\", \"name: Dierdorf-Wienau Airport<br>\", \"name: Dierdorf-Wienau Airport<br>\"], \"type\": \"scattergeo\"}, {\"hoverinfo\": \"text\", \"lat\": [50.4495911679025, 50.4497773768538, 50.4500427246094, 50.4503631591797, 50.4508666992188, 50.4510498046875, 50.4512329101563, 50.451416015625, 50.4516394663665, 50.4518256753178, 50.4520118842691, 50.4524230957031, 50.4526062011719, 50.4528498245498, 50.4530360335011, 50.4532928466797, 50.4534301757813, 50.45361328125, 50.4537963867188, 50.4540601827331, 50.4542999267578, 50.4544830322266, 50.4547119140625, 50.4548981230138, 50.4551696777344, 50.4554101976298, 50.455596406581, 50.4558563232422, 50.4562946901483, 50.4564343468618, 50.4567260742188, 50.4569929737156], \"locationmode\": \"ISO-3\", \"lon\": [7.47686437658362, 7.47552820154139, 7.47359426398026, 7.47099223889803, 7.46701692280016, 7.46571591025905, 7.46441489771793, 7.46311388517681, 7.46120143581081, 7.45986526076858, 7.45852908572635, 7.4553078099301, 7.45400679738898, 7.45199667440878, 7.45073473131335, 7.44873046875, 7.44742945620888, 7.44612844366776, 7.44482743112664, 7.44286614495355, 7.44092439350329, 7.43962338096217, 7.43766990867821, 7.43633373363598, 7.4344193307977, 7.43239944045608, 7.43113749736064, 7.42914300215872, 7.42586702913851, 7.42460508604308, 7.42263793945312, 7.42067079286318], \"marker\": {\"color\": \"rgb(255, 20, 147)\", \"line\": {\"color\": \"rgba(68, 68, 68, 0)\", \"width\": 3}, \"size\": 3}, \"mode\": \"lines+markers\", \"name\": \"trip296\", \"text\": [18.019789558288362, 18.070908389008824, 18.145889057717703, 18.250860959155137, 18.412697146726888, 18.464911155601108, 18.5174597898287, 18.570340203419512, 18.65214484872725, 18.707411975026783, 18.763017435967427, 18.901255220014967, 18.95634900358192, 19.04497412389448, 19.09852432227315, 19.187007572429366, 19.24694182285862, 19.30383595853205, 19.361023689322415, 19.448657631667036, 19.53756944866718, 19.595890856072884, 19.687216939601743, 19.74794860249954, 19.835133362137707, 19.93092717818425, 19.988617009333993, 20.082654019759396, 20.23762499424197, 20.29970256895435, 20.391974988876658, 20.48647200201234], \"type\": \"scattergeo\"}],\n",
       "                        {\"annotations\": [{\"showarrow\": false, \"text\": \"Projection\", \"x\": 0.1, \"xanchor\": \"right\", \"xref\": \"paper\", \"y\": 0.8, \"yanchor\": \"bottom\"}], \"geo\": {\"countrywidth\": 0.5, \"lakecolor\": \"rgb(0, 255, 255)\", \"landcolor\": \"rgb(230, 145, 56)\", \"lataxis\": {\"gridcolor\": \"rgb(102, 102, 102)\", \"gridwidth\": 0.5, \"showgrid\": true}, \"lonaxis\": {\"gridcolor\": \"rgb(102, 102, 102)\", \"gridwidth\": 0.5, \"showgrid\": true}, \"oceancolor\": \"rgb(0, 255, 255)\", \"projection\": {\"rotation\": {\"lat\": 0, \"lon\": 0, \"roll\": 0}, \"type\": \"orthographic\"}, \"showcountries\": true, \"showlakes\": true, \"showland\": true, \"showocean\": true}, \"margin\": {\"b\": 0, \"l\": 0, \"r\": 0, \"t\": 0}, \"showlegend\": false, \"sliders\": [{\"active\": 18.0, \"currentvalue\": {\"prefix\": \"Longitude: \"}, \"pad\": {\"t\": 0}, \"steps\": [{\"args\": [\"geo.projection.rotation.lon\", -180], \"label\": \"-180\", \"method\": \"relayout\"}, {\"args\": [\"geo.projection.rotation.lon\", -170], \"label\": \"-170\", \"method\": \"relayout\"}, {\"args\": [\"geo.projection.rotation.lon\", -160], \"label\": \"-160\", \"method\": \"relayout\"}, {\"args\": [\"geo.projection.rotation.lon\", -150], \"label\": \"-150\", \"method\": \"relayout\"}, {\"args\": [\"geo.projection.rotation.lon\", -140], \"label\": \"-140\", \"method\": \"relayout\"}, {\"args\": [\"geo.projection.rotation.lon\", -130], \"label\": \"-130\", \"method\": \"relayout\"}, {\"args\": [\"geo.projection.rotation.lon\", -120], \"label\": \"-120\", \"method\": \"relayout\"}, {\"args\": [\"geo.projection.rotation.lon\", -110], \"label\": \"-110\", \"method\": \"relayout\"}, {\"args\": [\"geo.projection.rotation.lon\", -100], \"label\": \"-100\", \"method\": \"relayout\"}, {\"args\": [\"geo.projection.rotation.lon\", -90], \"label\": \"-90\", \"method\": \"relayout\"}, {\"args\": [\"geo.projection.rotation.lon\", -80], \"label\": \"-80\", \"method\": \"relayout\"}, {\"args\": [\"geo.projection.rotation.lon\", -70], \"label\": \"-70\", \"method\": \"relayout\"}, {\"args\": [\"geo.projection.rotation.lon\", -60], \"label\": \"-60\", \"method\": \"relayout\"}, {\"args\": [\"geo.projection.rotation.lon\", -50], \"label\": \"-50\", \"method\": \"relayout\"}, {\"args\": [\"geo.projection.rotation.lon\", -40], \"label\": \"-40\", \"method\": \"relayout\"}, {\"args\": [\"geo.projection.rotation.lon\", -30], \"label\": \"-30\", \"method\": \"relayout\"}, {\"args\": [\"geo.projection.rotation.lon\", -20], \"label\": \"-20\", \"method\": \"relayout\"}, {\"args\": [\"geo.projection.rotation.lon\", -10], \"label\": \"-10\", \"method\": \"relayout\"}, {\"args\": [\"geo.projection.rotation.lon\", 0], \"label\": \"0\", \"method\": \"relayout\"}, {\"args\": [\"geo.projection.rotation.lon\", 10], \"label\": \"10\", \"method\": \"relayout\"}, {\"args\": [\"geo.projection.rotation.lon\", 20], \"label\": \"20\", \"method\": \"relayout\"}, {\"args\": [\"geo.projection.rotation.lon\", 30], \"label\": \"30\", \"method\": \"relayout\"}, {\"args\": [\"geo.projection.rotation.lon\", 40], \"label\": \"40\", \"method\": \"relayout\"}, {\"args\": [\"geo.projection.rotation.lon\", 50], \"label\": \"50\", \"method\": \"relayout\"}, {\"args\": [\"geo.projection.rotation.lon\", 60], \"label\": \"60\", \"method\": \"relayout\"}, {\"args\": [\"geo.projection.rotation.lon\", 70], \"label\": \"70\", \"method\": \"relayout\"}, {\"args\": [\"geo.projection.rotation.lon\", 80], \"label\": \"80\", \"method\": \"relayout\"}, {\"args\": [\"geo.projection.rotation.lon\", 90], \"label\": \"90\", \"method\": \"relayout\"}, {\"args\": [\"geo.projection.rotation.lon\", 100], \"label\": \"100\", \"method\": \"relayout\"}, {\"args\": [\"geo.projection.rotation.lon\", 110], \"label\": \"110\", \"method\": \"relayout\"}, {\"args\": [\"geo.projection.rotation.lon\", 120], \"label\": \"120\", \"method\": \"relayout\"}, {\"args\": [\"geo.projection.rotation.lon\", 130], \"label\": \"130\", \"method\": \"relayout\"}, {\"args\": [\"geo.projection.rotation.lon\", 140], \"label\": \"140\", \"method\": \"relayout\"}, {\"args\": [\"geo.projection.rotation.lon\", 150], \"label\": \"150\", \"method\": \"relayout\"}, {\"args\": [\"geo.projection.rotation.lon\", 160], \"label\": \"160\", \"method\": \"relayout\"}, {\"args\": [\"geo.projection.rotation.lon\", 170], \"label\": \"170\", \"method\": \"relayout\"}]}, {\"active\": 9.0, \"currentvalue\": {\"prefix\": \"Latitude: \"}, \"pad\": {\"t\": 100}, \"steps\": [{\"args\": [\"geo.projection.rotation.lat\", -90], \"label\": \"-90\", \"method\": \"relayout\"}, {\"args\": [\"geo.projection.rotation.lat\", -80], \"label\": \"-80\", \"method\": \"relayout\"}, {\"args\": [\"geo.projection.rotation.lat\", -70], \"label\": \"-70\", \"method\": \"relayout\"}, {\"args\": [\"geo.projection.rotation.lat\", -60], \"label\": \"-60\", \"method\": \"relayout\"}, {\"args\": [\"geo.projection.rotation.lat\", -50], \"label\": \"-50\", \"method\": \"relayout\"}, {\"args\": [\"geo.projection.rotation.lat\", -40], \"label\": \"-40\", \"method\": \"relayout\"}, {\"args\": [\"geo.projection.rotation.lat\", -30], \"label\": \"-30\", \"method\": \"relayout\"}, {\"args\": [\"geo.projection.rotation.lat\", -20], \"label\": \"-20\", \"method\": \"relayout\"}, {\"args\": [\"geo.projection.rotation.lat\", -10], \"label\": \"-10\", \"method\": \"relayout\"}, {\"args\": [\"geo.projection.rotation.lat\", 0], \"label\": \"0\", \"method\": \"relayout\"}, {\"args\": [\"geo.projection.rotation.lat\", 10], \"label\": \"10\", \"method\": \"relayout\"}, {\"args\": [\"geo.projection.rotation.lat\", 20], \"label\": \"20\", \"method\": \"relayout\"}, {\"args\": [\"geo.projection.rotation.lat\", 30], \"label\": \"30\", \"method\": \"relayout\"}, {\"args\": [\"geo.projection.rotation.lat\", 40], \"label\": \"40\", \"method\": \"relayout\"}, {\"args\": [\"geo.projection.rotation.lat\", 50], \"label\": \"50\", \"method\": \"relayout\"}, {\"args\": [\"geo.projection.rotation.lat\", 60], \"label\": \"60\", \"method\": \"relayout\"}, {\"args\": [\"geo.projection.rotation.lat\", 70], \"label\": \"70\", \"method\": \"relayout\"}, {\"args\": [\"geo.projection.rotation.lat\", 80], \"label\": \"80\", \"method\": \"relayout\"}]}], \"template\": {\"data\": {\"bar\": [{\"error_x\": {\"color\": \"#2a3f5f\"}, \"error_y\": {\"color\": \"#2a3f5f\"}, \"marker\": {\"line\": {\"color\": \"#E5ECF6\", \"width\": 0.5}}, \"type\": \"bar\"}], \"barpolar\": [{\"marker\": {\"line\": {\"color\": \"#E5ECF6\", \"width\": 0.5}}, \"type\": \"barpolar\"}], \"carpet\": [{\"aaxis\": {\"endlinecolor\": \"#2a3f5f\", \"gridcolor\": \"white\", \"linecolor\": \"white\", \"minorgridcolor\": \"white\", \"startlinecolor\": \"#2a3f5f\"}, \"baxis\": {\"endlinecolor\": \"#2a3f5f\", \"gridcolor\": \"white\", \"linecolor\": \"white\", \"minorgridcolor\": \"white\", \"startlinecolor\": \"#2a3f5f\"}, \"type\": \"carpet\"}], \"choropleth\": [{\"colorbar\": {\"outlinewidth\": 0, \"ticks\": \"\"}, \"type\": \"choropleth\"}], \"contour\": [{\"colorbar\": {\"outlinewidth\": 0, \"ticks\": \"\"}, \"colorscale\": [[0.0, \"#0d0887\"], [0.1111111111111111, \"#46039f\"], [0.2222222222222222, \"#7201a8\"], [0.3333333333333333, \"#9c179e\"], [0.4444444444444444, \"#bd3786\"], [0.5555555555555556, \"#d8576b\"], [0.6666666666666666, \"#ed7953\"], [0.7777777777777778, \"#fb9f3a\"], [0.8888888888888888, \"#fdca26\"], [1.0, \"#f0f921\"]], \"type\": \"contour\"}], \"contourcarpet\": [{\"colorbar\": {\"outlinewidth\": 0, \"ticks\": \"\"}, \"type\": \"contourcarpet\"}], \"heatmap\": [{\"colorbar\": {\"outlinewidth\": 0, \"ticks\": \"\"}, \"colorscale\": [[0.0, \"#0d0887\"], [0.1111111111111111, \"#46039f\"], [0.2222222222222222, \"#7201a8\"], [0.3333333333333333, \"#9c179e\"], [0.4444444444444444, \"#bd3786\"], [0.5555555555555556, \"#d8576b\"], [0.6666666666666666, \"#ed7953\"], [0.7777777777777778, \"#fb9f3a\"], [0.8888888888888888, \"#fdca26\"], [1.0, \"#f0f921\"]], \"type\": \"heatmap\"}], \"heatmapgl\": [{\"colorbar\": {\"outlinewidth\": 0, \"ticks\": \"\"}, \"colorscale\": [[0.0, \"#0d0887\"], [0.1111111111111111, \"#46039f\"], [0.2222222222222222, \"#7201a8\"], [0.3333333333333333, \"#9c179e\"], [0.4444444444444444, \"#bd3786\"], [0.5555555555555556, \"#d8576b\"], [0.6666666666666666, \"#ed7953\"], [0.7777777777777778, \"#fb9f3a\"], [0.8888888888888888, \"#fdca26\"], [1.0, \"#f0f921\"]], \"type\": \"heatmapgl\"}], \"histogram\": [{\"marker\": {\"colorbar\": {\"outlinewidth\": 0, \"ticks\": \"\"}}, \"type\": \"histogram\"}], \"histogram2d\": [{\"colorbar\": {\"outlinewidth\": 0, \"ticks\": \"\"}, \"colorscale\": [[0.0, \"#0d0887\"], [0.1111111111111111, \"#46039f\"], [0.2222222222222222, \"#7201a8\"], [0.3333333333333333, \"#9c179e\"], [0.4444444444444444, \"#bd3786\"], [0.5555555555555556, \"#d8576b\"], [0.6666666666666666, \"#ed7953\"], [0.7777777777777778, \"#fb9f3a\"], [0.8888888888888888, \"#fdca26\"], [1.0, \"#f0f921\"]], \"type\": \"histogram2d\"}], \"histogram2dcontour\": [{\"colorbar\": {\"outlinewidth\": 0, \"ticks\": \"\"}, \"colorscale\": [[0.0, \"#0d0887\"], [0.1111111111111111, \"#46039f\"], [0.2222222222222222, \"#7201a8\"], [0.3333333333333333, \"#9c179e\"], [0.4444444444444444, \"#bd3786\"], [0.5555555555555556, \"#d8576b\"], [0.6666666666666666, \"#ed7953\"], [0.7777777777777778, \"#fb9f3a\"], [0.8888888888888888, \"#fdca26\"], [1.0, \"#f0f921\"]], \"type\": \"histogram2dcontour\"}], \"mesh3d\": [{\"colorbar\": {\"outlinewidth\": 0, \"ticks\": \"\"}, \"type\": \"mesh3d\"}], \"parcoords\": [{\"line\": {\"colorbar\": {\"outlinewidth\": 0, \"ticks\": \"\"}}, \"type\": \"parcoords\"}], \"scatter\": [{\"marker\": {\"colorbar\": {\"outlinewidth\": 0, \"ticks\": \"\"}}, \"type\": \"scatter\"}], \"scatter3d\": [{\"line\": {\"colorbar\": {\"outlinewidth\": 0, \"ticks\": \"\"}}, \"marker\": {\"colorbar\": {\"outlinewidth\": 0, \"ticks\": \"\"}}, \"type\": \"scatter3d\"}], \"scattercarpet\": [{\"marker\": {\"colorbar\": {\"outlinewidth\": 0, \"ticks\": \"\"}}, \"type\": \"scattercarpet\"}], \"scattergeo\": [{\"marker\": {\"colorbar\": {\"outlinewidth\": 0, \"ticks\": \"\"}}, \"type\": \"scattergeo\"}], \"scattergl\": [{\"marker\": {\"colorbar\": {\"outlinewidth\": 0, \"ticks\": \"\"}}, \"type\": \"scattergl\"}], \"scattermapbox\": [{\"marker\": {\"colorbar\": {\"outlinewidth\": 0, \"ticks\": \"\"}}, \"type\": \"scattermapbox\"}], \"scatterpolar\": [{\"marker\": {\"colorbar\": {\"outlinewidth\": 0, \"ticks\": \"\"}}, \"type\": \"scatterpolar\"}], \"scatterpolargl\": [{\"marker\": {\"colorbar\": {\"outlinewidth\": 0, \"ticks\": \"\"}}, \"type\": \"scatterpolargl\"}], \"scatterternary\": [{\"marker\": {\"colorbar\": {\"outlinewidth\": 0, \"ticks\": \"\"}}, \"type\": \"scatterternary\"}], \"surface\": [{\"colorbar\": {\"outlinewidth\": 0, \"ticks\": \"\"}, \"colorscale\": [[0.0, \"#0d0887\"], [0.1111111111111111, \"#46039f\"], [0.2222222222222222, \"#7201a8\"], [0.3333333333333333, \"#9c179e\"], [0.4444444444444444, \"#bd3786\"], [0.5555555555555556, \"#d8576b\"], [0.6666666666666666, \"#ed7953\"], [0.7777777777777778, \"#fb9f3a\"], [0.8888888888888888, \"#fdca26\"], [1.0, \"#f0f921\"]], \"type\": \"surface\"}], \"table\": [{\"cells\": {\"fill\": {\"color\": \"#EBF0F8\"}, \"line\": {\"color\": \"white\"}}, \"header\": {\"fill\": {\"color\": \"#C8D4E3\"}, \"line\": {\"color\": \"white\"}}, \"type\": \"table\"}]}, \"layout\": {\"annotationdefaults\": {\"arrowcolor\": \"#2a3f5f\", \"arrowhead\": 0, \"arrowwidth\": 1}, \"colorscale\": {\"diverging\": [[0, \"#8e0152\"], [0.1, \"#c51b7d\"], [0.2, \"#de77ae\"], [0.3, \"#f1b6da\"], [0.4, \"#fde0ef\"], [0.5, \"#f7f7f7\"], [0.6, \"#e6f5d0\"], [0.7, \"#b8e186\"], [0.8, \"#7fbc41\"], [0.9, \"#4d9221\"], [1, \"#276419\"]], \"sequential\": [[0.0, \"#0d0887\"], [0.1111111111111111, \"#46039f\"], [0.2222222222222222, \"#7201a8\"], [0.3333333333333333, \"#9c179e\"], [0.4444444444444444, \"#bd3786\"], [0.5555555555555556, \"#d8576b\"], [0.6666666666666666, \"#ed7953\"], [0.7777777777777778, \"#fb9f3a\"], [0.8888888888888888, \"#fdca26\"], [1.0, \"#f0f921\"]], \"sequentialminus\": [[0.0, \"#0d0887\"], [0.1111111111111111, \"#46039f\"], [0.2222222222222222, \"#7201a8\"], [0.3333333333333333, \"#9c179e\"], [0.4444444444444444, \"#bd3786\"], [0.5555555555555556, \"#d8576b\"], [0.6666666666666666, \"#ed7953\"], [0.7777777777777778, \"#fb9f3a\"], [0.8888888888888888, \"#fdca26\"], [1.0, \"#f0f921\"]]}, \"colorway\": [\"#636efa\", \"#EF553B\", \"#00cc96\", \"#ab63fa\", \"#FFA15A\", \"#19d3f3\", \"#FF6692\", \"#B6E880\", \"#FF97FF\", \"#FECB52\"], \"font\": {\"color\": \"#2a3f5f\"}, \"geo\": {\"bgcolor\": \"white\", \"lakecolor\": \"white\", \"landcolor\": \"#E5ECF6\", \"showlakes\": true, \"showland\": true, \"subunitcolor\": \"white\"}, \"hoverlabel\": {\"align\": \"left\"}, \"hovermode\": \"closest\", \"mapbox\": {\"style\": \"light\"}, \"paper_bgcolor\": \"white\", \"plot_bgcolor\": \"#E5ECF6\", \"polar\": {\"angularaxis\": {\"gridcolor\": \"white\", \"linecolor\": \"white\", \"ticks\": \"\"}, \"bgcolor\": \"#E5ECF6\", \"radialaxis\": {\"gridcolor\": \"white\", \"linecolor\": \"white\", \"ticks\": \"\"}}, \"scene\": {\"xaxis\": {\"backgroundcolor\": \"#E5ECF6\", \"gridcolor\": \"white\", \"gridwidth\": 2, \"linecolor\": \"white\", \"showbackground\": true, \"ticks\": \"\", \"zerolinecolor\": \"white\"}, \"yaxis\": {\"backgroundcolor\": \"#E5ECF6\", \"gridcolor\": \"white\", \"gridwidth\": 2, \"linecolor\": \"white\", \"showbackground\": true, \"ticks\": \"\", \"zerolinecolor\": \"white\"}, \"zaxis\": {\"backgroundcolor\": \"#E5ECF6\", \"gridcolor\": \"white\", \"gridwidth\": 2, \"linecolor\": \"white\", \"showbackground\": true, \"ticks\": \"\", \"zerolinecolor\": \"white\"}}, \"shapedefaults\": {\"line\": {\"color\": \"#2a3f5f\"}}, \"ternary\": {\"aaxis\": {\"gridcolor\": \"white\", \"linecolor\": \"white\", \"ticks\": \"\"}, \"baxis\": {\"gridcolor\": \"white\", \"linecolor\": \"white\", \"ticks\": \"\"}, \"bgcolor\": \"#E5ECF6\", \"caxis\": {\"gridcolor\": \"white\", \"linecolor\": \"white\", \"ticks\": \"\"}}, \"title\": {\"x\": 0.05}, \"xaxis\": {\"automargin\": true, \"gridcolor\": \"white\", \"linecolor\": \"white\", \"ticks\": \"\", \"zerolinecolor\": \"white\", \"zerolinewidth\": 2}, \"yaxis\": {\"automargin\": true, \"gridcolor\": \"white\", \"linecolor\": \"white\", \"ticks\": \"\", \"zerolinecolor\": \"white\", \"zerolinewidth\": 2}}}, \"updatemenus\": [{\"buttons\": [{\"args\": [\"geo.projection.type\", \"equirectangular\"], \"label\": \"equirectangular\", \"method\": \"relayout\"}, {\"args\": [\"geo.projection.type\", \"mercator\"], \"label\": \"mercator\", \"method\": \"relayout\"}, {\"args\": [\"geo.projection.type\", \"orthographic\"], \"label\": \"orthographic\", \"method\": \"relayout\"}, {\"args\": [\"geo.projection.type\", \"natural earth\"], \"label\": \"natural earth\", \"method\": \"relayout\"}, {\"args\": [\"geo.projection.type\", \"kavrayskiy7\"], \"label\": \"kavrayskiy7\", \"method\": \"relayout\"}, {\"args\": [\"geo.projection.type\", \"miller\"], \"label\": \"miller\", \"method\": \"relayout\"}, {\"args\": [\"geo.projection.type\", \"robinson\"], \"label\": \"robinson\", \"method\": \"relayout\"}, {\"args\": [\"geo.projection.type\", \"eckert4\"], \"label\": \"eckert4\", \"method\": \"relayout\"}, {\"args\": [\"geo.projection.type\", \"azimuthal equal area\"], \"label\": \"azimuthal equal area\", \"method\": \"relayout\"}, {\"args\": [\"geo.projection.type\", \"azimuthal equidistant\"], \"label\": \"azimuthal equidistant\", \"method\": \"relayout\"}, {\"args\": [\"geo.projection.type\", \"conic equal area\"], \"label\": \"conic equal area\", \"method\": \"relayout\"}, {\"args\": [\"geo.projection.type\", \"conic conformal\"], \"label\": \"conic conformal\", \"method\": \"relayout\"}, {\"args\": [\"geo.projection.type\", \"conic equidistant\"], \"label\": \"conic equidistant\", \"method\": \"relayout\"}, {\"args\": [\"geo.projection.type\", \"gnomonic\"], \"label\": \"gnomonic\", \"method\": \"relayout\"}, {\"args\": [\"geo.projection.type\", \"stereographic\"], \"label\": \"stereographic\", \"method\": \"relayout\"}, {\"args\": [\"geo.projection.type\", \"mollweide\"], \"label\": \"mollweide\", \"method\": \"relayout\"}, {\"args\": [\"geo.projection.type\", \"hammer\"], \"label\": \"hammer\", \"method\": \"relayout\"}, {\"args\": [\"geo.projection.type\", \"transverse mercator\"], \"label\": \"transverse mercator\", \"method\": \"relayout\"}, {\"args\": [\"geo.projection.type\", \"albers usa\"], \"label\": \"albers usa\", \"method\": \"relayout\"}, {\"args\": [\"geo.projection.type\", \"winkel tripel\"], \"label\": \"winkel tripel\", \"method\": \"relayout\"}], \"x\": 0.1, \"y\": 0.8, \"yanchor\": \"top\"}]},\n",
       "                        {\"responsive\": true}\n",
       "                    ).then(function(){\n",
       "                            \n",
       "var gd = document.getElementById('33cd1296-9189-46b0-b41f-7e881ec3e860');\n",
       "var x = new MutationObserver(function (mutations, observer) {{\n",
       "        var display = window.getComputedStyle(gd).display;\n",
       "        if (!display || display === 'none') {{\n",
       "            console.log([gd, 'removed!']);\n",
       "            Plotly.purge(gd);\n",
       "            observer.disconnect();\n",
       "        }}\n",
       "}});\n",
       "\n",
       "// Listen for the removal of the full notebook cells\n",
       "var notebookContainer = gd.closest('#notebook-container');\n",
       "if (notebookContainer) {{\n",
       "    x.observe(notebookContainer, {childList: true});\n",
       "}}\n",
       "\n",
       "// Listen for the clearing of the current output cell\n",
       "var outputEl = gd.closest('.output');\n",
       "if (outputEl) {{\n",
       "    x.observe(outputEl, {childList: true});\n",
       "}}\n",
       "\n",
       "                        })\n",
       "                };\n",
       "                });\n",
       "            </script>\n",
       "        </div>"
      ]
     },
     "metadata": {},
     "output_type": "display_data"
    },
    {
     "data": {
      "text/plain": [
       "'nearest airoport.html'"
      ]
     },
     "execution_count": 43,
     "metadata": {},
     "output_type": "execute_result"
    }
   ],
   "source": [
    "#using plotly \n",
    "import plotly.offline as py\n",
    "import pandas as pd\n",
    "import numpy as np\n",
    "import plotly.graph_objs as go\n",
    "import json\n",
    "\n",
    "trip296_nearest_airports_pandas_DataFrame['latitude'] = pd.to_numeric(trip296_nearest_airports_pandas_DataFrame['latitude'],errors='coerce')\n",
    "trip296_nearest_airports_pandas_DataFrame['longitude'] = pd.to_numeric(trip296_nearest_airports_pandas_DataFrame['longitude'],errors='coerce')\n",
    "trip296_nearest_airports_pandas_DataFrame['latitude'] = trip296_nearest_airports_pandas_DataFrame['latitude'].astype(float)\n",
    "trip296_nearest_airports_pandas_DataFrame['longitude'] = trip296_nearest_airports_pandas_DataFrame['longitude'].astype(float)\n",
    "trip296_nearest_airports_pandas_DataFrame=trip296_nearest_airports_pandas_DataFrame.dropna()\n",
    "pandas_df = [ dict(\n",
    "        type = 'scattergeo',\n",
    "        locationmode = 'ISO-3',\n",
    "        lon = trip296_nearest_airports_pandas_DataFrame['longitude'],\n",
    "        lat =trip296_nearest_airports_pandas_DataFrame['latitude'] ,\n",
    "        hoverinfo = 'text',\n",
    "        text = trip296_nearest_airports_pandas_DataFrame.Distance_2d,\n",
    "        mode = 'lines+markers',\n",
    "        marker = dict(\n",
    "            size=3,\n",
    "            color='rgb(255, 20, 147)',\n",
    "            line = dict(\n",
    "                width=3,\n",
    "                color='rgba(68, 68, 68, 0)'\n",
    "            )\n",
    "        ) ,\n",
    "      name='trip296')]\n",
    "\n",
    "airport_pandas_DataFrame = [ dict(\n",
    "        type = 'scattergeo',\n",
    "        locationmode = 'ISO-3',\n",
    "        lon = trip296_nearest_airports_pandas_DataFrame['longitude_deg'],\n",
    "        lat =trip296_nearest_airports_pandas_DataFrame['latitude_deg'] ,\n",
    "        hoverinfo = 'text',\n",
    "        text =  'name: '+ trip296_nearest_airports_pandas_DataFrame.name+'<br>',\n",
    "        mode = 'markers',\n",
    "        marker = dict(\n",
    "            size=10,\n",
    "            color='rgb(255, 0, 0)',\n",
    "            line = dict(\n",
    "                width=3,\n",
    "                color='rgba(68, 68, 68, 0)'\n",
    "            )\n",
    "        ) ,\n",
    "      name='airport nearest ')]\n",
    "\n",
    "\n",
    "\n",
    "layout = dict(\n",
    "        margin = dict( t = 0, l = 0, r = 0, b = 0 ),\n",
    "        showlegend = False,         \n",
    "        geo = dict(\n",
    "            showland = True,\n",
    "            showlakes = True,\n",
    "            showcountries = True,\n",
    "            showocean = True,\n",
    "            countrywidth = 0.5,\n",
    "            landcolor = 'rgb(230, 145, 56)',\n",
    "            lakecolor = 'rgb(0, 255, 255)',\n",
    "            oceancolor = 'rgb(0, 255, 255)',\n",
    "            projection = dict( \n",
    "                type = 'orthographic',\n",
    "                rotation = dict(lon = 0, lat = 0, roll = 0 )            \n",
    "            ),\n",
    "            lonaxis = dict( \n",
    "                showgrid = True,\n",
    "                gridcolor = 'rgb(102, 102, 102)',\n",
    "                gridwidth = 0.5\n",
    "            ),\n",
    "            lataxis = dict( \n",
    "                showgrid = True,\n",
    "                gridcolor = 'rgb(102, 102, 102)',\n",
    "                gridwidth = 0.5\n",
    "            )\n",
    "        )\n",
    "    )\n",
    "\n",
    "sliders = []\n",
    "\n",
    "lon_range = np.arange(-180, 180, 10)\n",
    "lat_range = np.arange(-90, 90, 10)\n",
    "\n",
    "sliders.append( \n",
    "    dict(\n",
    "        active = len(lon_range)/2,\n",
    "        currentvalue = {\"prefix\": \"Longitude: \"},\n",
    "        pad = {\"t\": 0},\n",
    "        steps = [{\n",
    "                'method':'relayout', \n",
    "                'label':str(i),\n",
    "                'args':['geo.projection.rotation.lon', i]} for i in lon_range]\n",
    "    )      \n",
    ")\n",
    "\n",
    "sliders.append( \n",
    "    dict(\n",
    "        active = len(lat_range)/2,\n",
    "        currentvalue = {\"prefix\": \"Latitude: \"},\n",
    "        pad = {\"t\": 100},\n",
    "        steps = [{\n",
    "                'method':'relayout', \n",
    "                'label':str(i),\n",
    "                'args':['geo.projection.rotation.lat', i]} for i in lat_range]\n",
    "    )      \n",
    ")\n",
    "\n",
    "projections = [ \"equirectangular\", \"mercator\", \"orthographic\", \"natural earth\",\"kavrayskiy7\", \n",
    "               \"miller\", \"robinson\", \"eckert4\", \"azimuthal equal area\",\"azimuthal equidistant\", \n",
    "               \"conic equal area\", \"conic conformal\", \"conic equidistant\", \"gnomonic\", \"stereographic\", \n",
    "               \"mollweide\", \"hammer\", \"transverse mercator\", \"albers usa\", \"winkel tripel\" ]\n",
    "\n",
    "buttons = [ dict( args=['geo.projection.type', p], label=p, method='relayout' ) for p in projections ]\n",
    "\n",
    "annot = list([ dict( x=0.1, y=0.8, text='Projection', yanchor='bottom', \n",
    "                    xref='paper', xanchor='right', showarrow=False )])\n",
    "\n",
    "# Update Layout Object\n",
    "\n",
    "layout[ 'updatemenus' ] = list([ dict( x=0.1, y=0.8, buttons=buttons, yanchor='top' )])\n",
    "\n",
    "layout[ 'annotations' ] = annot\n",
    "\n",
    "layout[ 'sliders' ] = sliders\n",
    "fig = dict( data=airport_pandas_DataFrame +pandas_df , layout=layout )\n",
    "py.iplot( fig)\n",
    "py.plot(fig, filename='nearest airoport.html')"
   ]
  },
  {
   "cell_type": "code",
   "execution_count": 45,
   "metadata": {},
   "outputs": [
    {
     "name": "stdout",
     "output_type": "stream",
     "text": [
      "Kehlbachstraße, Hüllenberg, Feldkirchen, Neuwied, Landkreis Neuwied, Rheinland-Pfalz, 56567, Deutschland\n",
      "{'place_id': 84628260, 'licence': 'Data © OpenStreetMap contributors, ODbL 1.0. https://osm.org/copyright', 'osm_type': 'way', 'osm_id': 35963506, 'lat': '50.4569915878107', 'lon': '7.42066935433932', 'display_name': 'Kehlbachstraße, Hüllenberg, Feldkirchen, Neuwied, Landkreis Neuwied, Rheinland-Pfalz, 56567, Deutschland', 'address': {'road': 'Kehlbachstraße', 'neighbourhood': 'Hüllenberg', 'suburb': 'Feldkirchen', 'town': 'Neuwied', 'county': 'Landkreis Neuwied', 'state': 'Rheinland-Pfalz', 'postcode': '56567', 'country': 'Deutschland', 'country_code': 'de'}, 'boundingbox': ['50.4543091', '50.4584299', '7.4197924', '7.4227705']}\n"
     ]
    }
   ],
   "source": [
    "#from geopy.geocoders import Nominatim, with this we can have a complete description of our departure or end position \n",
    "from geopy.distance import geodesic\n",
    "geolocator = Nominatim(user_agent=\"change name to address\")\n",
    "location = geolocator.reverse(\"50.4569929737156,7.42067079286318\")\n",
    "print(location.address)\n",
    "print(location.raw)"
   ]
  },
  {
   "cell_type": "code",
   "execution_count": 46,
   "metadata": {
    "scrolled": true
   },
   "outputs": [
    {
     "data": {
      "text/plain": [
       "0      0\n",
       "1      1\n",
       "2      2\n",
       "3      3\n",
       "4      4\n",
       "5      5\n",
       "6      6\n",
       "7      7\n",
       "8      8\n",
       "9      9\n",
       "10    10\n",
       "11    11\n",
       "12    12\n",
       "13    13\n",
       "14    14\n",
       "15    15\n",
       "16    16\n",
       "17    17\n",
       "18    18\n",
       "19    19\n",
       "20    20\n",
       "21    21\n",
       "22    22\n",
       "23    23\n",
       "24    24\n",
       "25    25\n",
       "26    26\n",
       "27    27\n",
       "28    28\n",
       "29    29\n",
       "30    30\n",
       "31    31\n",
       "Name: timeAtServerint, dtype: int32"
      ]
     },
     "execution_count": 46,
     "metadata": {},
     "output_type": "execute_result"
    }
   ],
   "source": [
    "import numpy as np\n",
    "trip296_nearest_airports_pandas_DataFrame['timeAtServerint'] = np.arange(len(trip296_nearest_airports_pandas_DataFrame))\n",
    "trip296_nearest_airports_pandas_DataFrame['timeAtServerint']\n"
   ]
  },
  {
   "cell_type": "code",
   "execution_count": 47,
   "metadata": {},
   "outputs": [
    {
     "name": "stdout",
     "output_type": "stream",
     "text": [
      "<class 'pandas.core.frame.DataFrame'>\n",
      "Int64Index: 32 entries, 0 to 31\n",
      "Data columns (total 12 columns):\n",
      "latitude           32 non-null float64\n",
      "longitude          32 non-null float64\n",
      "geoAltitude        32 non-null float64\n",
      "timeAtServer       32 non-null float64\n",
      "Hash_Aircraft      32 non-null object\n",
      "name               32 non-null object\n",
      "latitude_deg       32 non-null float64\n",
      "longitude_deg      32 non-null float64\n",
      "elevation_ft       32 non-null float64\n",
      "airport_hash       32 non-null object\n",
      "Distance_2d        32 non-null float64\n",
      "timeAtServerint    32 non-null int32\n",
      "dtypes: float64(8), int32(1), object(3)\n",
      "memory usage: 3.1+ KB\n"
     ]
    }
   ],
   "source": [
    "trip296_nearest_airports_pandas_DataFrame.info() "
   ]
  },
  {
   "cell_type": "code",
   "execution_count": 48,
   "metadata": {},
   "outputs": [
    {
     "name": "stderr",
     "output_type": "stream",
     "text": [
      "C:\\Users\\rzouga\\Anaconda3\\lib\\site-packages\\ipykernel_launcher.py:14: SettingWithCopyWarning:\n",
      "\n",
      "\n",
      "A value is trying to be set on a copy of a slice from a DataFrame.\n",
      "Try using .loc[row_indexer,col_indexer] = value instead\n",
      "\n",
      "See the caveats in the documentation: http://pandas.pydata.org/pandas-docs/stable/indexing.html#indexing-view-versus-copy\n",
      "\n",
      "C:\\Users\\rzouga\\Anaconda3\\lib\\site-packages\\ipykernel_launcher.py:15: SettingWithCopyWarning:\n",
      "\n",
      "\n",
      "A value is trying to be set on a copy of a slice from a DataFrame.\n",
      "Try using .loc[row_indexer,col_indexer] = value instead\n",
      "\n",
      "See the caveats in the documentation: http://pandas.pydata.org/pandas-docs/stable/indexing.html#indexing-view-versus-copy\n",
      "\n"
     ]
    },
    {
     "data": {
      "text/html": [
       "<div style=\"width:100%;\"><div style=\"position:relative;width:100%;height:0;padding-bottom:60%;\"><iframe src=\"data:text/html;charset=utf-8;base64,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\" style=\"position:absolute;width:100%;height:100%;left:0;top:0;border:none !important;\" allowfullscreen webkitallowfullscreen mozallowfullscreen></iframe></div></div>"
      ],
      "text/plain": [
       "<folium.folium.Map at 0xddc0c50>"
      ]
     },
     "execution_count": 48,
     "metadata": {},
     "output_type": "execute_result"
    }
   ],
   "source": [
    "#ploting dynamic  in progress time \n",
    "import folium\n",
    "from folium import plugins\n",
    "from folium.plugins import HeatMap\n",
    "map_hooray1 = folium.Map() \n",
    "\n",
    "# Ensure you're handing it floats\n",
    "trip296_nearest_airports_pandas_DataFrame= trip296_nearest_airports_pandas_DataFrame.dropna()\n",
    "\n",
    "\n",
    "trip296_nearest_airports_pandas_DataFrame1= trip296_nearest_airports_pandas_DataFrame[['latitude','longitude']]# List comprehension to make out list of lists\n",
    "\n",
    "# Create weight column, using date\n",
    "trip296_nearest_airports_pandas_DataFrame1['Weight1'] = np.arange(len(trip296_nearest_airports_pandas_DataFrame))\n",
    "trip296_nearest_airports_pandas_DataFrame1['Weight1'] = trip296_nearest_airports_pandas_DataFrame1['Weight1'].astype(int)\n",
    "\n",
    "trip296_nearest_airports_pandas_DataFrame1 = trip296_nearest_airports_pandas_DataFrame1.dropna(axis=0, subset=['latitude','longitude', 'Weight1'])\n",
    "\n",
    "# List comprehension to make out list of lists\n",
    "trip296_nearest_airports_pandas_DataFrame1 = [[[row['latitude'],row['longitude']] for index, row in trip296_nearest_airports_pandas_DataFrame1[trip296_nearest_airports_pandas_DataFrame1['Weight1'] == i].iterrows()] for i in range(0,len(trip296_nearest_airports_pandas_DataFrame)+1)]\n",
    "\n",
    "# Plot it on the map\n",
    "hm = plugins.HeatMapWithTime(trip296_nearest_airports_pandas_DataFrame1 ,\n",
    "                              auto_play=True,max_opacity=0.8)\n",
    "\n",
    "hm.add_to(map_hooray1)\n",
    "map_hooray1"
   ]
  },
  {
   "cell_type": "code",
   "execution_count": 49,
   "metadata": {
    "scrolled": false
   },
   "outputs": [
    {
     "name": "stderr",
     "output_type": "stream",
     "text": [
      "C:\\Users\\rzouga\\Anaconda3\\lib\\site-packages\\ipykernel_launcher.py:7: SettingWithCopyWarning:\n",
      "\n",
      "\n",
      "A value is trying to be set on a copy of a slice from a DataFrame.\n",
      "Try using .loc[row_indexer,col_indexer] = value instead\n",
      "\n",
      "See the caveats in the documentation: http://pandas.pydata.org/pandas-docs/stable/indexing.html#indexing-view-versus-copy\n",
      "\n",
      "C:\\Users\\rzouga\\Anaconda3\\lib\\site-packages\\ipykernel_launcher.py:8: SettingWithCopyWarning:\n",
      "\n",
      "\n",
      "A value is trying to be set on a copy of a slice from a DataFrame.\n",
      "Try using .loc[row_indexer,col_indexer] = value instead\n",
      "\n",
      "See the caveats in the documentation: http://pandas.pydata.org/pandas-docs/stable/indexing.html#indexing-view-versus-copy\n",
      "\n"
     ]
    },
    {
     "data": {
      "text/html": [
       "<div style=\"width:100%;\"><div style=\"position:relative;width:100%;height:0;padding-bottom:60%;\"><iframe src=\"data:text/html;charset=utf-8;base64,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\" style=\"position:absolute;width:100%;height:100%;left:0;top:0;border:none !important;\" allowfullscreen webkitallowfullscreen mozallowfullscreen></iframe></div></div>"
      ],
      "text/plain": [
       "<folium.folium.Map at 0x84b2a20>"
      ]
     },
     "execution_count": 49,
     "metadata": {},
     "output_type": "execute_result"
    }
   ],
   "source": [
    "#plot nearest aeroprt in each point \n",
    "import folium\n",
    "from folium import plugins\n",
    "from folium.plugins import HeatMap\n",
    "map_hooray= folium.Map() \n",
    "trip296_nearest_airports_pandas_DataFrame2= trip296_nearest_airports_pandas_DataFrame[['latitude_deg','longitude_deg']]\n",
    "trip296_nearest_airports_pandas_DataFrame2['Weight2'] = np.arange(len(trip296_nearest_airports_pandas_DataFrame))\n",
    "trip296_nearest_airports_pandas_DataFrame2['Weight2'] = trip296_nearest_airports_pandas_DataFrame2['Weight2'].astype(int)\n",
    "trip296_nearest_airports_pandas_DataFrame2 = trip296_nearest_airports_pandas_DataFrame2.dropna(axis=0, subset=['latitude_deg','longitude_deg', 'Weight2'])\n",
    "trip296_nearest_airports_pandas_DataFrame2 = [[[row['latitude_deg'],row['longitude_deg']] for index, row in trip296_nearest_airports_pandas_DataFrame2[trip296_nearest_airports_pandas_DataFrame2['Weight2'] == i].iterrows()] for i in range(0,len(trip296_nearest_airports_pandas_DataFrame)+1)]\n",
    "hm2 = plugins.HeatMapWithTime(trip296_nearest_airports_pandas_DataFrame2,\n",
    "                              auto_play=True,max_opacity=0.8)\n",
    "hm2.add_to(map_hooray)\n",
    "# Display the map\n",
    "map_hooray"
   ]
  },
  {
   "cell_type": "code",
   "execution_count": 50,
   "metadata": {
    "scrolled": true
   },
   "outputs": [
    {
     "name": "stdout",
     "output_type": "stream",
     "text": [
      "+----------------+----------------+-----------+-----------------+-------------+\n",
      "|        latitude|       longitude|geoAltitude|     timeAtServer|Hash_Aircraft|\n",
      "+----------------+----------------+-----------+-----------------+-------------+\n",
      "|49.8963643736759|8.40246252111487|     2400.3|0.523000001907349|         u0vg|\n",
      "|49.8959454035355|8.40149750580659|    2407.92| 1.11700010299683|         u0vg|\n",
      "|49.8956660901086|8.40075518633868|    2415.54| 1.54299998283386|         u0vg|\n",
      "|49.8952789306641|8.39991519325658|    2423.16| 2.03600001335144|         u0vg|\n",
      "|49.8945953886388|8.39786014041385|    2446.02| 3.12700009346008|         u0vg|\n",
      "|49.8939902095471|8.39622703758446|    2461.26| 4.11899995803833|         u0vg|\n",
      "|49.8936767578125|8.39536164936266|    2461.26| 4.63499999046326|         u0vg|\n",
      "|49.8933384782177|8.39451970280828|     2476.5|  5.1470000743866|         u0vg|\n",
      "|49.8929660603152|8.39348045555321|     2476.5| 5.69099998474121|         u0vg|\n",
      "|49.8926239013672|8.39268734580592|    2491.74| 6.18400001525879|         u0vg|\n",
      "|49.8923492431641|8.39203683953536|    2499.36|  6.6470000743866|         u0vg|\n",
      "|49.8921203613281| 8.3913140547903|    2506.98|  7.0460000038147|         u0vg|\n",
      "|49.8917541503906| 8.3902298776727|    2506.98|  7.5920000076294|         u0vg|\n",
      "|49.8915229409428|8.38924923458615|    2522.22| 8.09000015258789|         u0vg|\n",
      "|49.8912901797537|8.38858114706503|    2522.22| 8.51500010490418|         u0vg|\n",
      "| 49.890964314089|8.38746766786318|    2537.46| 9.06599998474121|         u0vg|\n",
      "|49.8907012939453|8.38654367547286|    2537.46| 9.60300016403198|         u0vg|\n",
      "| 49.890380859375|8.38545949835526|     2552.7| 10.1520001888275|         u0vg|\n",
      "|49.8899688720703|8.38401392886513|    2575.56| 11.0080001354218|         u0vg|\n",
      "|49.8897399902344|8.38336342259457|    2567.94| 11.4260001182556|         u0vg|\n",
      "+----------------+----------------+-----------+-----------------+-------------+\n",
      "only showing top 20 rows\n",
      "\n"
     ]
    }
   ],
   "source": [
    "#geohash precesion 4\n",
    "from pyspark.sql.functions import col\n",
    "sorted_flights.dropna()\n",
    "\n",
    "sorted_flights=sorted_flights.where(col(\"latitude\").isNotNull())\n",
    "sorted_flights=sorted_flights.where(col(\"longitude\").isNotNull())\n",
    "udf1 = F.udf(lambda x,y: geohash2.encode(x,y,precision=4))\n",
    "sorted_flights=sorted_flights.select('latitude','longitude','geoAltitude','timeAtServer')\n",
    "sorted_flights=sorted_flights.withColumn('Hash_Aircraft', udf1('latitude','longitude').cast(StringType()))\n",
    "sorted_flights.show()\n"
   ]
  },
  {
   "cell_type": "code",
   "execution_count": 51,
   "metadata": {},
   "outputs": [
    {
     "name": "stdout",
     "output_type": "stream",
     "text": [
      "Best Western Plus Paris Orly Airport, Avenue Charles Lindbergh, Rungis, Arrondissement de L'Haÿ-les-Roses, Val-de-Marne, Île-de-France, France métropolitaine, 94150, France\n",
      "(48.753404, 2.35070227482561)\n"
     ]
    }
   ],
   "source": [
    "#extract Paris location\n",
    ">>> from geopy.geocoders import Nominatim\n",
    ">>> geolocator = Nominatim(user_agent=\"specify_your_app_name_here\")\n",
    ">>> location = geolocator.geocode(\"Paris-Orly Airport\")\n",
    ">>> print(location.address)\n",
    ">>> print((location.latitude, location.longitude))"
   ]
  },
  {
   "cell_type": "code",
   "execution_count": 52,
   "metadata": {},
   "outputs": [
    {
     "name": "stdout",
     "output_type": "stream",
     "text": [
      "+--------------------+------------+-------------+------------+------------+\n",
      "|                name|latitude_deg|longitude_deg|elevation_ft|airport_hash|\n",
      "+--------------------+------------+-------------+------------+------------+\n",
      "|Luxembourg-Findel...|  49.6233333|    6.2044444|      1234.0|        u0u6|\n",
      "|Centre Hospitalie...|   49.619279|     6.102534|      1079.0|        u0u6|\n",
      "+--------------------+------------+-------------+------------+------------+\n",
      "\n"
     ]
    }
   ],
   "source": [
    "#2 method to extract informations about paris airoport\n",
    "airport_hash.dropna()\n",
    "airport_hash.filter(airport_hash.name.contains('Luxembourg')).show(10)"
   ]
  },
  {
   "cell_type": "code",
   "execution_count": 53,
   "metadata": {
    "scrolled": true
   },
   "outputs": [
    {
     "name": "stdout",
     "output_type": "stream",
     "text": [
      "+----------------+----------------+-----------+-----------------+-------------+\n",
      "|        latitude|       longitude|geoAltitude|     timeAtServer|Hash_Aircraft|\n",
      "+----------------+----------------+-----------+-----------------+-------------+\n",
      "|50.4569929737156|7.42067079286318|   10812.78|0.425000190734863|         u0vr|\n",
      "|50.4567260742188|7.42263793945312|   10812.78|0.942000150680542|         u0vr|\n",
      "|50.4564343468618|7.42460508604308|   10812.78| 1.50300002098084|         u0vr|\n",
      "|50.4562946901483|7.42586702913851|   10812.78| 1.94500017166138|         u0vr|\n",
      "|50.4558563232422|7.42914300215872|   10812.78| 3.00600004196167|         u0vr|\n",
      "| 50.455596406581|7.43113749736064|   10812.78| 3.57500004768372|         u0vr|\n",
      "|50.4554101976298|7.43239944045608|   10812.78| 4.09000015258789|         u0vr|\n",
      "|50.4551696777344| 7.4344193307977|   10812.78| 4.61700010299683|         u0vr|\n",
      "|50.4548981230138|7.43633373363598|   10812.78| 5.13400006294251|         u0vr|\n",
      "|50.4547119140625|7.43766990867821|   10812.78|            5.625|         u0vr|\n",
      "|50.4544830322266|7.43962338096217|   10812.78| 6.17000007629395|         u0vr|\n",
      "|50.4542999267578|7.44092439350329|   10812.78| 6.69799995422363|         u0vr|\n",
      "|50.4540601827331|7.44286614495355|   10812.78| 7.21000003814697|         u0vr|\n",
      "|50.4537963867188|7.44482743112664|   10812.78| 7.72099995613098|         u0vr|\n",
      "|  50.45361328125|7.44612844366776|   10812.78| 8.15900015830994|         u0vr|\n",
      "|50.4534301757813|7.44742945620888|   10812.78| 8.66000008583069|         u0vr|\n",
      "|50.4532928466797|   7.44873046875|   10812.78| 9.09300017356873|         u0vr|\n",
      "|50.4530360335011|7.45073473131335|   10812.78| 9.56299996376038|         u0vr|\n",
      "|50.4528498245498|7.45199667440878|   10812.78| 9.97800016403198|         u0vr|\n",
      "|50.4526062011719|7.45400679738898|   10812.78| 10.5210001468658|         u0vr|\n",
      "+----------------+----------------+-----------+-----------------+-------------+\n",
      "only showing top 20 rows\n",
      "\n"
     ]
    }
   ],
   "source": [
    "#let's show the nearest aircrafts to Dierdorf Airport in aera S ≤ 39.1km \t× \t19.5km\n",
    "sorted_flights.dropna()\n",
    "t=sorted_flights.filter(sorted_flights['Hash_Aircraft']=='u0vr')\n",
    "t.select('latitude','longitude','geoAltitude','timeAtServer','Hash_Aircraft').show()"
   ]
  },
  {
   "cell_type": "code",
   "execution_count": 54,
   "metadata": {},
   "outputs": [
    {
     "name": "stdout",
     "output_type": "stream",
     "text": [
      "+----------------+----------------+-----------+-----------------+-------------+\n",
      "|        latitude|       longitude|geoAltitude|     timeAtServer|Hash_Aircraft|\n",
      "+----------------+----------------+-----------+-----------------+-------------+\n",
      "|49.7012173927437|6.04314855627112|    11125.2|0.152000188827515|         u0u6|\n",
      "|49.7010498046875|6.04146857010691|   11117.58|0.611000061035156|         u0u6|\n",
      "|49.7008666992188| 6.0402398360403|   11117.58| 1.01600003242493|         u0u6|\n",
      "|  49.70068359375|6.03843287417763|   11117.58| 1.56599998474121|         u0u6|\n",
      "|49.7004260047007|6.03676460884713|   11117.58| 2.16200017929077|         u0u6|\n",
      "|49.7001932435117|6.03490881017737|   11117.58| 2.73200011253357|         u0u6|\n",
      "|49.6999969482422|6.03344565943668|   11117.58| 3.18099999427795|         u0u6|\n",
      "|49.6998138427734|6.03221692537007|   11117.58| 3.60700011253357|         u0u6|\n",
      "|49.6996765136719|6.03113274825247|    11125.2| 4.04500007629395|         u0u6|\n",
      "|49.6996307373047|6.03069907740543|   11117.58|  4.6230001449585|         u0u6|\n",
      "|  49.69958806442|6.03023219752956|    11125.2| 5.06800007820129|         u0u6|\n",
      "|49.6995849609375|6.02997629266036|    11125.2| 5.56000018119812|         u0u6|\n",
      "|49.6994476318359|6.02889211554276|    11125.2| 6.01100015640259|         u0u6|\n",
      "|49.6991690942797|6.02696599187078|    11125.2| 6.47000002861023|         u0u6|\n",
      "|49.6989440917969|6.02506135639391|   11117.58| 6.97000002861023|         u0u6|\n",
      "|49.6984708107124|6.02154705975507|    11125.2| 7.94400000572205|         u0u6|\n",
      "|49.6982574462891|6.01964047080592|    11125.2|  8.3600001335144|         u0u6|\n",
      "|49.6981201171875|6.01884540758635|    11125.2| 8.77999997138977|         u0u6|\n",
      "|49.6979121838586|6.01776123046875|    11125.2| 9.30200004577637|         u0u6|\n",
      "|  49.69775390625|6.01624338250411|   11117.58| 9.77999997138977|         u0u6|\n",
      "+----------------+----------------+-----------+-----------------+-------------+\n",
      "only showing top 20 rows\n",
      "\n"
     ]
    }
   ],
   "source": [
    "#let's show the nearest aircrafts to Luxembourg Airport,hashcode= 'u0u6' in aera S ≤ 39.1km \t× \t19.5km\n",
    "t2=sorted_flights.filter(sorted_flights.Hash_Aircraft.contains('u0u6'))\n",
    "t2.select('latitude','longitude','geoAltitude','timeAtServer','Hash_Aircraft').show()"
   ]
  },
  {
   "cell_type": "code",
   "execution_count": 55,
   "metadata": {},
   "outputs": [
    {
     "ename": "AttributeError",
     "evalue": "'DataFrame' object has no attribute 'id'",
     "output_type": "error",
     "traceback": [
      "\u001b[1;31m---------------------------------------------------------------------------\u001b[0m",
      "\u001b[1;31mAttributeError\u001b[0m                            Traceback (most recent call last)",
      "\u001b[1;32m<ipython-input-55-ad89a47113d2>\u001b[0m in \u001b[0;36m<module>\u001b[1;34m\u001b[0m\n\u001b[0;32m      1\u001b[0m \u001b[1;31m#Let's Estimate\u001b[0m\u001b[1;33m\u001b[0m\u001b[1;33m\u001b[0m\u001b[1;33m\u001b[0m\u001b[0m\n\u001b[0;32m      2\u001b[0m \u001b[0mEstimate_trip296\u001b[0m\u001b[1;33m=\u001b[0m\u001b[0msorted_flights\u001b[0m\u001b[1;33m.\u001b[0m\u001b[0mfilter\u001b[0m\u001b[1;33m(\u001b[0m\u001b[1;34m'aircraft= 296'\u001b[0m\u001b[1;33m)\u001b[0m\u001b[1;33m\u001b[0m\u001b[1;33m\u001b[0m\u001b[0m\n\u001b[1;32m----> 3\u001b[1;33m \u001b[0mEstimate_trip296\u001b[0m\u001b[1;33m.\u001b[0m\u001b[0mwhere\u001b[0m\u001b[1;33m(\u001b[0m\u001b[0mEstimate_trip296\u001b[0m\u001b[1;33m.\u001b[0m\u001b[0mid\u001b[0m \u001b[1;33m==\u001b[0m \u001b[1;36m1\u001b[0m\u001b[1;33m)\u001b[0m\u001b[1;33m.\u001b[0m\u001b[0mshow\u001b[0m\u001b[1;33m(\u001b[0m\u001b[1;33m)\u001b[0m\u001b[1;33m\u001b[0m\u001b[1;33m\u001b[0m\u001b[0m\n\u001b[0m",
      "\u001b[1;32m~\\Anaconda3\\lib\\site-packages\\pyspark\\sql\\dataframe.py\u001b[0m in \u001b[0;36m__getattr__\u001b[1;34m(self, name)\u001b[0m\n\u001b[0;32m   1298\u001b[0m         \u001b[1;32mif\u001b[0m \u001b[0mname\u001b[0m \u001b[1;32mnot\u001b[0m \u001b[1;32min\u001b[0m \u001b[0mself\u001b[0m\u001b[1;33m.\u001b[0m\u001b[0mcolumns\u001b[0m\u001b[1;33m:\u001b[0m\u001b[1;33m\u001b[0m\u001b[1;33m\u001b[0m\u001b[0m\n\u001b[0;32m   1299\u001b[0m             raise AttributeError(\n\u001b[1;32m-> 1300\u001b[1;33m                 \"'%s' object has no attribute '%s'\" % (self.__class__.__name__, name))\n\u001b[0m\u001b[0;32m   1301\u001b[0m         \u001b[0mjc\u001b[0m \u001b[1;33m=\u001b[0m \u001b[0mself\u001b[0m\u001b[1;33m.\u001b[0m\u001b[0m_jdf\u001b[0m\u001b[1;33m.\u001b[0m\u001b[0mapply\u001b[0m\u001b[1;33m(\u001b[0m\u001b[0mname\u001b[0m\u001b[1;33m)\u001b[0m\u001b[1;33m\u001b[0m\u001b[1;33m\u001b[0m\u001b[0m\n\u001b[0;32m   1302\u001b[0m         \u001b[1;32mreturn\u001b[0m \u001b[0mColumn\u001b[0m\u001b[1;33m(\u001b[0m\u001b[0mjc\u001b[0m\u001b[1;33m)\u001b[0m\u001b[1;33m\u001b[0m\u001b[1;33m\u001b[0m\u001b[0m\n",
      "\u001b[1;31mAttributeError\u001b[0m: 'DataFrame' object has no attribute 'id'"
     ]
    }
   ],
   "source": [
    "#Let's Estimate \n",
    "Estimate_trip296=sorted_flights.filter('aircraft= 296')\n",
    "Estimate_trip296.where(Estimate_trip296.id == 1).show()"
   ]
  }
 ],
 "metadata": {
  "kernelspec": {
   "display_name": "Python 3",
   "language": "python",
   "name": "python3"
  },
  "language_info": {
   "codemirror_mode": {
    "name": "ipython",
    "version": 3
   },
   "file_extension": ".py",
   "mimetype": "text/x-python",
   "name": "python",
   "nbconvert_exporter": "python",
   "pygments_lexer": "ipython3",
   "version": "3.7.3"
  }
 },
 "nbformat": 4,
 "nbformat_minor": 2
}
