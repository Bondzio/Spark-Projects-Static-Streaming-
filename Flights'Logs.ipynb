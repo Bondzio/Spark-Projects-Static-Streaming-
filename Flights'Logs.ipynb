{
 "cells": [
  {
   "cell_type": "code",
   "execution_count": 1,
   "metadata": {},
   "outputs": [
    {
     "name": "stdout",
     "output_type": "stream",
     "text": [
      "+---+-------------------+--------+----------------+----------------+------------+-----------+---------------+--------------------+\n",
      "| id|       timeAtServer|aircraft|        latitude|       longitude|baroAltitude|geoAltitude|numMeasurements|        measurements|\n",
      "+---+-------------------+--------+----------------+----------------+------------+-----------+---------------+--------------------+\n",
      "|  1|                0.0|    1787|49.5238952636719|7.80282271535773|      6400.8|    6537.96|              3|[[463,963309455,4...|\n",
      "|  2|                0.0|    1605|50.4821311821372|7.35423320048564|     10363.2|   10500.36|              5|[[463,963756980,2...|\n",
      "|  3|                0.0|    2022|45.9829505015228|8.61870574951172|     11277.6|   11445.24|              3|[[14,981538828,29...|\n",
      "|  4|0.00100016593933105|    2359|47.8106379104873|9.30739182692308|     10820.4|   10965.18|              2|[[125,957894484,8...|\n",
      "|  5|0.00100016593933105|    1283|49.8303533004502|5.40037412901183|      9753.6|     9906.0|              5|[[463,960120430,4...|\n",
      "+---+-------------------+--------+----------------+----------------+------------+-----------+---------------+--------------------+\n",
      "only showing top 5 rows\n",
      "\n",
      "root\n",
      " |-- id: integer (nullable = true)\n",
      " |-- timeAtServer: double (nullable = true)\n",
      " |-- aircraft: integer (nullable = true)\n",
      " |-- latitude: double (nullable = true)\n",
      " |-- longitude: double (nullable = true)\n",
      " |-- baroAltitude: double (nullable = true)\n",
      " |-- geoAltitude: double (nullable = true)\n",
      " |-- numMeasurements: integer (nullable = true)\n",
      " |-- measurements: string (nullable = true)\n",
      "\n"
     ]
    }
   ],
   "source": [
    "import findspark\n",
    "findspark.init()\n",
    "import pyspark # only run after findspark.init()\n",
    "\n",
    "from pyspark.sql import SparkSession\n",
    "from pyspark.context import SparkContext \n",
    "spark = SparkSession.builder.getOrCreate()#create spark session \n",
    "sc = spark.sparkContext#create sparkContext\n",
    "from pyspark.sql.types import  (StructType, \n",
    "                                StructField, \n",
    "                                DateType, \n",
    "                                BooleanType,\n",
    "                                DoubleType,\n",
    "                                IntegerType,\n",
    "                                StringType,\n",
    "                                DecimalType,\n",
    "                                LongType,\n",
    "                                ArrayType,\n",
    "                                TimestampType)\n",
    "\n",
    "#Measurement Data File Format\n",
    "\n",
    "#The header line of the measurement data files is as follows:\n",
    "#id,timeAtServer,aircraft,latitude,longitude,baroAltitude,geoAltitude,numMeasurements,measurements\n",
    "\n",
    "#1-id: a unique identifier for each received transponder signal. This identifier will be used to join the result file (output of your localization algorithm) with the measurement data.\n",
    "#2-timeAtServer: a timestamp (double) in seconds indicating the time when the information was received by OpenSky's ingestion server.\n",
    "#In each 1h data set, this timestamp starts with 0 and counts up to 3600 seconds. \n",
    "#This timestamp has roughly millisecond accuracy. \n",
    "#Note that this timestamp was determined after propagation delay, processing delay, and Internet delay.\n",
    "#3-aircraft: an aircraft identifier which is unique for each aircraft within each data set. \n",
    "#This identifier allows grouping the measurements that belong to signals from the same transponder.\n",
    "#Note that aircraft 123 in data set X is not the same transponder as aircraft 123 in data set Y. \n",
    "#This means that data sets cannot be combined.\n",
    "#4-latitude/longitude/geoAltitude: the location that was reported by the transmitting aircraft. \n",
    "#As in the sensor meta data, latitude and longitude are provided in decimal degrees (WGS84), geoAltitude in meters. \n",
    "#The accuracy of these location information is generally unknown. \n",
    "#However, most aircraft should report their locations at a decent accuracy (10s of meters accuracy). \n",
    "#It is worth noting here that there are some aircraft sending location information derived from their intertial system rather that their GPS sensor.\n",
    "#In this case, location information is subject to drifting and might be wrong by several hundred meters. \n",
    "#However, this case is rather rare but should nevertheless be considered when cleansing the data.\n",
    "#5-baroAltitude: the barometric altitude reported by the aircraft in meters. \n",
    "#Note that the barometric altitude is weather dependent and might differ from the geometric altitude by several hundred meters.\n",
    "#However, the difference might be learned from \"known\" aircraft and this information could then be used to estimate the geometric altitude or estimate bounds.\n",
    "#6-numMeasurements: the number of measurements, i.e., the number of sensors which received this particular transponder signal.\n",
    "#7-measurements: the measurement data for each receiver which received this particular transponder signal. \n",
    "#The measurement data is provided as a JSON array string containing triples.\n",
    "#Each triple contains the serial number of the sensor which reported the measurement data, the timestamp for the time of arrival of the signal at the receiver (in nanoseconds), and the received signal strength indicator (RSSI).\n",
    "#The exact definition of the RSSI depends on the type of receiver but is usually provided in dB. \n",
    "#The properties of the nanosecond timestamp also strongly depend of the type of receiver. \n",
    "#For dump1090 receivers, these timestamps are generally unsynchronized and typically have a 12MHz resolution. \n",
    "#Unsynchronized timestamp means in particular that these timestamps are subject to (sometimes heavy) drifting. \n",
    "#For Radarcape and GRX1090, these timestamps are usually GPS synchronized and have a resolution of about 40-60MHz. GPS synchronized means that they are constantly resynchronized to compensate for clock drift.\n",
    "sample_schema = StructType([StructField(\"id\",  IntegerType(), True),\n",
    "                            StructField(\"timeAtServer\", DoubleType(), True),\n",
    "                            StructField(\"aircraft\",  IntegerType(), True ),\n",
    "                            StructField(\"latitude\", DoubleType(), True),\n",
    "                            StructField(\"longitude\", DoubleType(), True  ),\n",
    "                            StructField(\"baroAltitude\", DoubleType(), True ),\n",
    "                            StructField(\"geoAltitude\", DoubleType(), True ),\n",
    "                            StructField(\"numMeasurements\",IntegerType(), True),\n",
    "                            StructField(\"measurements\", StringType(), True)           \n",
    "                            ])\n",
    "                               \n",
    "\n",
    "sample_aircarft = spark.read.csv(\"C:/PFE/TEST/training_1_category_1.csv\",\n",
    "                       header = True, \n",
    "                        schema = sample_schema)\n",
    "\n",
    "\n",
    "sample_aircarft.show(5)\n",
    "\n",
    "sample_aircarft.printSchema()\n"
   ]
  },
  {
   "cell_type": "code",
   "execution_count": 2,
   "metadata": {},
   "outputs": [
    {
     "name": "stdout",
     "output_type": "stream",
     "text": [
      "+-------+-----------------+------------------+------------------+-----------------+------------------+\n",
      "|summary|         aircraft|      timeAtServer|          latitude|        longitude|       geoAltitude|\n",
      "+-------+-----------------+------------------+------------------+-----------------+------------------+\n",
      "|  count|          2074194|           2074194|           1974059|          1974059|           1974059|\n",
      "|   mean|1405.320938639298|1818.6544352795643|49.105843928856316|7.545431754547419| 9300.356869760097|\n",
      "| stddev|    809.000130626|1030.6661350541483|2.8839420829672093|4.493160773598425|3054.4550871929255|\n",
      "|    min|                2|               0.0|  31.1536560058594|-10.6397214143173|            129.54|\n",
      "|    max|             2769|   3599.9880001545|  61.6916307352357|  25.098620999244|          13921.74|\n",
      "+-------+-----------------+------------------+------------------+-----------------+------------------+\n",
      "\n"
     ]
    }
   ],
   "source": [
    "sample_aircarft.select( 'aircraft','timeAtServer','latitude', 'longitude','geoAltitude').describe().show()"
   ]
  },
  {
   "cell_type": "code",
   "execution_count": 3,
   "metadata": {},
   "outputs": [
    {
     "name": "stdout",
     "output_type": "stream",
     "text": [
      "+--------+-----+\n",
      "|aircraft|count|\n",
      "+--------+-----+\n",
      "|     148| 6251|\n",
      "|     463| 1933|\n",
      "|    2142| 1821|\n",
      "|    1088|  767|\n",
      "|     496|  218|\n",
      "|    2659|  664|\n",
      "|    1645|   75|\n",
      "|    1580|  514|\n",
      "|    2580| 3281|\n",
      "|    2387|   97|\n",
      "|    2235| 1296|\n",
      "|     540| 2536|\n",
      "|     737|  326|\n",
      "|    2563| 3131|\n",
      "|     623| 3191|\n",
      "|     243|    6|\n",
      "|    1721| 3366|\n",
      "|    1507| 2496|\n",
      "|    1127|   63|\n",
      "|    1896|   78|\n",
      "+--------+-----+\n",
      "only showing top 20 rows\n",
      "\n"
     ]
    }
   ],
   "source": [
    "#How many primary aircrafts are there?\n",
    "# return distinct elements.\n",
    "sample_aircarft.groupBy(\"aircraft\").count().show()"
   ]
  },
  {
   "cell_type": "code",
   "execution_count": 4,
   "metadata": {},
   "outputs": [
    {
     "data": {
      "image/png": "[encoded data removed]",
      "text/plain": [
       "<Figure size 1440x720 with 1 Axes>"
      ]
     },
     "metadata": {
      "needs_background": "light"
     },
     "output_type": "display_data"
    }
   ],
   "source": [
    "import plotly.graph_objs as go\n",
    "import pandas as pd\n",
    "import requests\n",
    "import matplotlib.pyplot as plt\n",
    "sample_aircarfs1=sample_aircarft.groupBy('aircraft').count()\n",
    "sample_aircarfs1=sample_aircarfs1.orderBy('count')\n",
    "#We can also use matplotlib and Pandas to visualize the total number of reported position for each aircraft   \n",
    "import pandas as pd\n",
    "\n",
    "%matplotlib inline\n",
    "sample_aircarfs1 = pd.DataFrame.from_records(sample_aircarfs1.collect(), columns=sample_aircarfs1.columns)\n",
    "#let's only show the 20 first aircrafts in the list.\n",
    "sample_aircarfs1=sample_aircarfs1.iloc[:60,:]\n",
    "sample_aircarfs1.plot(figsize = (20,10), kind = \"bar\",\n",
    "                               x = \"aircraft\", y = \"count\", legend = False)\n",
    "\n",
    "plt.xlabel(\"aircraft\", fontsize = 20)\n",
    "plt.ylabel(\"count\", fontsize = 20)\n",
    "plt.title(\"Number of reported positions  Per aircrafts\", fontsize = 28)\n",
    "plt.xticks(size = 20)\n",
    "plt.yticks(size = 20)\n",
    "plt.show()"
   ]
  },
  {
   "cell_type": "code",
   "execution_count": 8,
   "metadata": {},
   "outputs": [
    {
     "data": {
      "text/html": [
       "<div>\n",
       "<style scoped>\n",
       "    .dataframe tbody tr th:only-of-type {\n",
       "        vertical-align: middle;\n",
       "    }\n",
       "\n",
       "    .dataframe tbody tr th {\n",
       "        vertical-align: top;\n",
       "    }\n",
       "\n",
       "    .dataframe thead th {\n",
       "        text-align: right;\n",
       "    }\n",
       "</style>\n",
       "<table border=\"1\" class=\"dataframe\">\n",
       "  <thead>\n",
       "    <tr style=\"text-align: right;\">\n",
       "      <th></th>\n",
       "      <th>id</th>\n",
       "      <th>timeAtServer</th>\n",
       "      <th>aircraft</th>\n",
       "      <th>latitude</th>\n",
       "      <th>longitude</th>\n",
       "      <th>baroAltitude</th>\n",
       "      <th>geoAltitude</th>\n",
       "      <th>numMeasurements</th>\n",
       "      <th>measurements</th>\n",
       "    </tr>\n",
       "  </thead>\n",
       "  <tbody>\n",
       "    <tr>\n",
       "      <th>0</th>\n",
       "      <td>1</td>\n",
       "      <td>0.000</td>\n",
       "      <td>1787</td>\n",
       "      <td>49.523895</td>\n",
       "      <td>7.802823</td>\n",
       "      <td>6400.8</td>\n",
       "      <td>6537.96</td>\n",
       "      <td>3</td>\n",
       "      <td>[[463,963309455,4],[424,963315122,27],[412,963...</td>\n",
       "    </tr>\n",
       "    <tr>\n",
       "      <th>1</th>\n",
       "      <td>2</td>\n",
       "      <td>0.000</td>\n",
       "      <td>1605</td>\n",
       "      <td>50.482131</td>\n",
       "      <td>7.354233</td>\n",
       "      <td>10363.2</td>\n",
       "      <td>10500.36</td>\n",
       "      <td>5</td>\n",
       "      <td>[[463,963756980,25],[238,963870125,32],[115,96...</td>\n",
       "    </tr>\n",
       "    <tr>\n",
       "      <th>2</th>\n",
       "      <td>3</td>\n",
       "      <td>0.000</td>\n",
       "      <td>2022</td>\n",
       "      <td>45.982951</td>\n",
       "      <td>8.618706</td>\n",
       "      <td>11277.6</td>\n",
       "      <td>11445.24</td>\n",
       "      <td>3</td>\n",
       "      <td>[[14,981538828,29],[10,981594515,90],[477,9814...</td>\n",
       "    </tr>\n",
       "    <tr>\n",
       "      <th>3</th>\n",
       "      <td>4</td>\n",
       "      <td>0.001</td>\n",
       "      <td>2359</td>\n",
       "      <td>47.810638</td>\n",
       "      <td>9.307392</td>\n",
       "      <td>10820.4</td>\n",
       "      <td>10965.18</td>\n",
       "      <td>2</td>\n",
       "      <td>[[125,957894484,84],[123,957583812,94]]</td>\n",
       "    </tr>\n",
       "    <tr>\n",
       "      <th>4</th>\n",
       "      <td>5</td>\n",
       "      <td>0.001</td>\n",
       "      <td>1283</td>\n",
       "      <td>49.830353</td>\n",
       "      <td>5.400374</td>\n",
       "      <td>9753.6</td>\n",
       "      <td>9906.00</td>\n",
       "      <td>5</td>\n",
       "      <td>[[463,960120430,41],[424,960138097,44],[412,96...</td>\n",
       "    </tr>\n",
       "  </tbody>\n",
       "</table>\n",
       "</div>"
      ],
      "text/plain": [
       "   id  timeAtServer  aircraft   latitude  longitude  baroAltitude  \\\n",
       "0   1         0.000      1787  49.523895   7.802823        6400.8   \n",
       "1   2         0.000      1605  50.482131   7.354233       10363.2   \n",
       "2   3         0.000      2022  45.982951   8.618706       11277.6   \n",
       "3   4         0.001      2359  47.810638   9.307392       10820.4   \n",
       "4   5         0.001      1283  49.830353   5.400374        9753.6   \n",
       "\n",
       "   geoAltitude  numMeasurements  \\\n",
       "0      6537.96                3   \n",
       "1     10500.36                5   \n",
       "2     11445.24                3   \n",
       "3     10965.18                2   \n",
       "4      9906.00                5   \n",
       "\n",
       "                                        measurements  \n",
       "0  [[463,963309455,4],[424,963315122,27],[412,963...  \n",
       "1  [[463,963756980,25],[238,963870125,32],[115,96...  \n",
       "2  [[14,981538828,29],[10,981594515,90],[477,9814...  \n",
       "3            [[125,957894484,84],[123,957583812,94]]  \n",
       "4  [[463,960120430,41],[424,960138097,44],[412,96...  "
      ]
     },
     "execution_count": 8,
     "metadata": {},
     "output_type": "execute_result"
    }
   ],
   "source": [
    "#using Pandas power to analyse our filtred data\n",
    "import pandas as pd\n",
    "sample_aircarfts_DataFrame = pd.DataFrame.from_records(sample_aircarft.collect(), columns=sample_aircarft.columns)\n",
    "#let's plot only  500 reported positions in our training data\n",
    "sample_aircarfts_DataFrame=sample_aircarfts_DataFrame.iloc[:500,:]\n",
    "sample_aircarfts_DataFrame.head(5)"
   ]
  },
  {
   "cell_type": "code",
   "execution_count": 9,
   "metadata": {},
   "outputs": [
    {
     "data": {
      "application/vnd.plotly.v1+json": {
       "config": {
        "linkText": "Export to plot.ly",
        "plotlyServerURL": "https://plot.ly",
        "showLink": false
       },
       "data": [
        {
         "hoverinfo": "text",
         "lat": [
          49.5238952636719,
          50.4821311821372,
          45.9829505015228,
          47.8106379104873,
          49.8303533004502,
          47.5003672454317,
          44.6677551269531,
          43.4799957275391,
          51.6607818603516,
          51.0000457763672,
          49.2757415771484,
          49.0434722900391,
          50.0188751220703,
          46.7197793217029,
          51.4753875732422,
          51.1400756835938,
          51.5770111083984,
          45.7706909179688,
          47.0655670166016,
          47.564935199285,
          47.3407396219545,
          51.7884521484375,
          51.1305541992188,
          50.0416539079052,
          49.8892822265625,
          49.7308711682336,
          50.2825151863745,
          45.3296363959878,
          46.8131631107654,
          47.4933929443359,
          49.7344556905456,
          50.5022735595703,
          49.2272690595207,
          49.9686126708984,
          48.0603332519531,
          51.0847499006886,
          50.8251342773438,
          51.7574297371557,
          47.5177917480469,
          45.3257904052734,
          47.6027526855469,
          51.5487360550185,
          51.8992309570313,
          49.8801641949153,
          47.3230032193459,
          46.3201283600371,
          51.7475141105005,
          52.7527313232422,
          53.8373837228549,
          47.2820892333984,
          47.2820892333984,
          52.004150390625,
          49.4534912109375,
          51.2402801513672,
          46.9841766357422,
          46.304812673795,
          60.2156524658203,
          51.7730255126953,
          51.674333992651,
          45.6165618896484,
          51.6102781134137,
          48.299482959812,
          48.0575408935547,
          51.2071838378906,
          48.8002624511719,
          48.5999908447266,
          48.6786346435547,
          49.037615242651,
          48.44714665817,
          45.050835043697,
          46.3196868896484,
          51.2661895751953,
          50.7877931756488,
          52.2450178760593,
          51.6944732666016,
          59.7799987792969,
          43.7255393852622,
          46.0025024414063,
          46.8009338378906,
          49.5508575439453,
          49.7012173927437,
          49.7808682716499,
          49.7808682716499,
          49.8085327148438,
          47.3941497802734,
          52.4342527227887,
          50.5352325439453,
          46.2691955566406,
          46.5238494873047,
          46.1054759914592,
          49.9906792074947,
          46.3509924937103,
          45.9939422607422,
          47.7397388522908,
          47.4881286621094,
          48.9362710209216,
          49.2942577297405,
          45.9236895027807,
          53.7347259521484,
          51.5260651152013,
          50.4462859590175,
          50.4462859590175,
          49.6314697265625,
          47.7982177734375,
          45.4334564208984,
          53.6062774658203,
          53.0288644564354,
          51.8208804373014,
          50.7375167588056,
          49.7878976595604,
          45.4931488037109,
          50.3331640211202,
          50.3331640211202,
          48.6271641618114,
          46.4159794177039,
          45.0639495849609,
          51.7379709017479,
          48.2376615879899,
          50.6737867452331,
          52.1005554199219,
          50.5127160023835,
          45.3997192382813,
          50.7839758921478,
          60.3044586181641,
          51.7344794839115,
          51.9745493743379,
          44.3336047156382,
          53.2779654809984,
          51.0757141113281,
          48.8030385162871,
          50.8970947265625,
          45.0986938476563,
          46.4085310596531,
          47.6743927001953,
          48.6664542505297,
          48.9755401611328,
          46.6103668212891,
          47.4302595752781,
          46.0474548339844,
          51.2452239990234,
          49.88818359375,
          46.4820835954052,
          49.0241616459216,
          49.3006353863215,
          51.399675789526,
          49.5272516800185,
          47.7282404495498,
          47.9608619819253,
          50.3257622153072,
          47.0963869256488,
          51.6465888589115,
          51.6465888589115,
          51.7417416330111,
          52.0546417236328,
          52.0546417236328,
          51.5714069948358,
          51.5714069948358,
          44.7970275878906,
          51.2412872314453,
          46.4600372314453,
          48.5899200439453,
          46.3783186573093,
          46.3783186573093,
          47.2934417724609,
          44.7509455276748,
          49.6072540283203,
          47.3621536513506,
          49.566650390625,
          48.0005950927734,
          51.3663940429688,
          51.5309600830078,
          45.9833694716631,
          47.8677978515625,
          49.1044006347656,
          48.3901977539063,
          48.3901977539063,
          59.6119560629635,
          50.9088134765625,
          49.4304656982422,
          52.1856536865234,
          51.8643136751854,
          51.8643136751854,
          46.9554733017744,
          45.8383483886719,
          44.9159088134766,
          49.0083804373014,
          47.0135239423332,
          48.8409118652344,
          49.7990236443988,
          49.5060238595736,
          50.341403767214,
          47.137939453125,
          36.9110831567797,
          48.9357604980469,
          47.8231139102225,
          47.8106379104873,
          47.561862751589,
          51.8300512281515,
          52.8396148681641,
          44.1780853271484,
          49.9550170898438,
          47.3675537109375,
          47.1210130594545,
          49.5234375,
          47.41552734375,
          48.5999908447266,
          50.6527862548828,
          45.2788238525391,
          46.9384918212891,
          45.9820194567664,
          50.6152038574219,
          51.6613311767578,
          49.3928375244141,
          47.5264830508475,
          47.5264830508475,
          50.4569929737156,
          47.5647024380959,
          51.9061175847458,
          52.0919541181144,
          46.7190810381356,
          52.3229827880859,
          50.9995880126953,
          49.6611328125,
          51.1790771484375,
          44.7487110202595,
          51.532023801642,
          52.9520416259766,
          51.2482413599047,
          50.9311275158898,
          49.8022155761719,
          49.7946011818062,
          46.3639340158236,
          37.5038793531515,
          48.6836320262844,
          48.0878099344545,
          43.4806823730469,
          47.4928894042969,
          48.0850633524232,
          45.5679373013771,
          50.2487182617188,
          48.5799407958984,
          47.7152709960938,
          51.4757537841797,
          49.3880604889433,
          48.9410247802734,
          48.0400085449219,
          50.5785369873047,
          44.6246958587129,
          46.9374575857389,
          45.5011813923464,
          47.5783887960143,
          48.092791023901,
          49.0426428843353,
          46.4033203125,
          45.0312652587891,
          51.7468158269333,
          47.57592152741,
          47.4589823060117,
          47.6899108886719,
          47.7672512248411,
          47.3339538574219,
          49.5454536050053,
          51.4242095947266,
          48.4033813476563,
          48.2652205127781,
          48.8831176757813,
          47.5193023681641,
          47.8012847900391,
          48.4777679443359,
          47.6205596923828,
          44.0006103515625,
          44.4456024169922,
          49.2857208251953,
          49.5401932021319,
          49.8231377035885,
          52.43701171875,
          58.6336669921875,
          46.1998839297537,
          50.4824981689453,
          48.0611820544227,
          51.5135192871094,
          50.0944061279297,
          45.7099681789592,
          49.968017578125,
          49.7658318988347,
          49.8995299258475,
          46.9468688964844,
          52.7487487792969,
          51.8454134666314,
          47.9975916975636,
          50.9425328141552,
          48.8014557402013,
          49.8963643736759,
          47.2816182799259,
          47.3226773536811,
          48.0581359863281,
          47.0957817465572,
          45.7269744873047,
          44.4850856974974,
          51.1393556756488,
          52.1363649529926,
          50.7881011962891,
          51.3922119140625,
          46.8138885498047,
          45.7701602224576,
          47.0645141601563,
          45.3289031982422,
          52.0652160644531,
          51.7143402099609,
          52.245623055151,
          46.3055419921875,
          51.8089141845703,
          51.5490417480469,
          53.8492079912606,
          53.8383636474609,
          50.7776913400424,
          51.5771329200874,
          44.5539093017578,
          46.8019409179688,
          48.6010483563957,
          49.9298858642578,
          50.4456807799259,
          47.3687896728516,
          59.7803649902344,
          58.8758239746094,
          49.2265319824219,
          49.3966827392578,
          49.0367889404297,
          52.1340637207031,
          51.7893180200609,
          48.9209747314453,
          47.3522380246955,
          50.2831878662109,
          50.6481628417969,
          49.5844116210938,
          50.1160909361759,
          51.6467742919922,
          52.752018298133,
          53.6569006968353,
          53.6569006968353,
          51.3592071533203,
          45.9228057861328,
          44.3412322998047,
          46.1049041748047,
          50.2939670368777,
          49.7010498046875,
          52.3835107835673,
          50.1941590389963,
          48.9367365432998,
          60.2155058262712,
          51.0845636917373,
          47.7983946719412,
          51.7377777099609,
          48.6779479980469,
          51.9748077392578,
          51.4443054199219,
          51.6954221563824,
          49.8885955810547,
          50.7388000488281,
          45.1666717529297,
          51.9275207519531,
          45.0515333272643,
          46.2699915999073,
          45.4343789310779,
          50.8973693847656,
          46.4091827909825,
          45.4197615284031,
          51.9239936440678,
          50.1166030107919,
          47.9328840869968,
          46.5229564602092,
          48.298828125,
          49.6325225830078,
          49.9902648925781,
          51.7727454233978,
          53.1300690214513,
          51.0759429931641,
          50.5033590025821,
          53.0300903320313,
          50.2450561523438,
          46.8126510361494,
          45.9948213221663,
          46.4149087162341,
          49.2563781738281,
          52.1010783567267,
          50.7832310563427,
          49.2956085205078,
          47.3945540088718,
          51.4414331468485,
          47.739692300053,
          45.9695892333984,
          46.4594421386719,
          47.6736145019531,
          50.3339538574219,
          50.8505859375,
          49.5498504638672,
          52.4117889404297,
          47.2467506538003,
          47.2467506538003,
          46.3364681955111,
          47.674072265625,
          50.3860939155191,
          48.4427032470703,
          53.6064147949219,
          46.0471925897113,
          48.9765852588718,
          48.9765852588718,
          48.665771484375,
          47.2937622070313,
          48.3106842041016,
          48.6277770996094,
          51.8209533691406,
          51.8538394216764,
          51.8538394216764,
          49.0234168101165,
          48.8023223876953,
          47.0956420898438,
          37.7677917480469,
          51.3990783691406,
          49.3264253260726,
          51.0234832763672,
          47.9313354492188,
          47.7282404495498,
          53.2777792720471,
          51.5916572182865,
          49.9697772527145,
          46.6092681884766,
          46.5836140260858,
          49.6082991260593,
          51.1787567138672,
          43.8773803710938,
          50.3254363496425,
          50.872332039526,
          50.7715929968882,
          49.3001403808594,
          48.95763849808,
          54.8142700195313,
          50.4274788549391,
          49.5231085308528,
          48.5995330810547,
          47.41552734375,
          47.5643920898438,
          48.5891876220703,
          45.8344116210938,
          45.8344116210938,
          45.2793731689453,
          49.8292360467426,
          51.5754547119141,
          48.9348744537871,
          50.6149912688692,
          50.3425140380859,
          46.3794250488281,
          46.3794250488281,
          47.8105773925781,
          53.0149918895657,
          52.3224334716797,
          46.3038350768009,
          43.497945494571,
          46.9645975403867,
          45.2645874023438,
          46.9401110632945,
          51.7413692151086,
          47.3665924072266,
          49.8253256587659,
          47.6196899414063,
          48.0923767089844,
          46.3643646240234,
          49.7990112304688,
          51.6455841064453,
          51.248148255429,
          52.0555968203787,
          52.0555968203787,
          47.57592152741,
          43.9223785400391,
          44.7478637695313,
          47.7677632994571,
          49.0073547363281,
          49.8232308080641,
          45.2613908153469,
          51.4234771728516,
          51.4763946533203,
          49.7338970636917,
          49.7697422868114,
          50.4828294657045,
          47.1385345458984,
          44.7520751953125,
          38.4168152889963,
          50.9991302490234,
          49.1051330566406,
          52.7483825683594,
          51.472483489473,
          51.8638916015625
         ],
         "locationmode": "ISO-3",
         "lon": [
          7.80282271535773,
          7.35423320048564,
          8.61870574951172,
          9.30739182692308,
          5.40037412901183,
          11.9126305213341,
          9.30751255580357,
          9.03995957485465,
          4.7578966295397,
          7.77817184860642,
          10.2978515625,
          10.0634765625,
          9.97074327970806,
          10.1790390014648,
          -0.317786964210313,
          6.91975361592061,
          0.63312427417652,
          9.33496242616235,
          8.09836578369141,
          8.42271071213942,
          16.8712674654447,
          7.51078837626689,
          4.46586815086571,
          5.93781342377534,
          9.4823576274671,
          2.50814901815878,
          6.02154705975507,
          6.9000839605564,
          6.75013732910156,
          8.32035827636719,
          10.1904874234586,
          4.81020475688734,
          10.1446452893709,
          9.34343839946546,
          9.96473693847656,
          1.68838500976563,
          -0.338052285684114,
          -0.651092529296875,
          8.48721313476563,
          9.84662737165178,
          6.41217041015625,
          5.40603637695313,
          7.87361145019531,
          4.87251075538429,
          10.6418081430288,
          10.8700790405273,
          -1.24443054199219,
          -1.49147033691406,
          -1.59422930549175,
          7.86250305175781,
          7.86250305175781,
          -4.37522888183594,
          5.50169292249178,
          8.00947859480574,
          13.255485534668,
          6.46991729736328,
          9.68549004916487,
          -0.702085752744949,
          0.377120971679688,
          13.5448697718178,
          -2.36190795898438,
          11.1777215254934,
          11.1097183227539,
          8.15192970069679,
          6.25537578876202,
          9.45810171274038,
          9.37429574819711,
          10.6774822034334,
          9.04167576840049,
          13.5791015625,
          13.7703574576029,
          3.63951811919341,
          6.22047424316406,
          -0.915788922991055,
          0.0324393607474662,
          10.6006164550781,
          7.09389822823661,
          5.12699778487043,
          9.0863632574314,
          10.4367948833265,
          6.04314855627112,
          8.54060817409206,
          8.54060817409206,
          8.96404868678043,
          7.59567260742188,
          7.52045549665179,
          8.39015759919819,
          12.083286192359,
          11.3997222156059,
          10.5347900390625,
          8.52642987225507,
          5.69242858886719,
          6.1035751714939,
          10.0877732496995,
          15.5778579711914,
          9.14886474609375,
          9.19562891909951,
          6.25595855712891,
          8.69112723214286,
          8.51402282714844,
          5.16520732157939,
          5.16520732157939,
          6.09235261615954,
          8.20177459716797,
          14.5309230259487,
          -2.16187395368303,
          -1.19696044921875,
          -0.27069091796875,
          -1.390380859375,
          7.13985133815456,
          11.9420732770647,
          8.36787043391047,
          8.36787043391047,
          13.4584687885485,
          6.26529693603516,
          13.7886265345982,
          8.60824584960938,
          6.43661499023437,
          8.11134338378906,
          6.54708862304688,
          10.0299237225507,
          8.87152535574777,
          5.177001953125,
          9.20635354929957,
          -2.77122497558594,
          1.19280133928571,
          8.35195401819741,
          -0.796266443589161,
          4.25690522065034,
          14.3864521227385,
          8.7388074720228,
          7.20552716936384,
          7.56264495849609,
          15.909782409668,
          10.6919378983347,
          9.64092548076923,
          6.80160894626525,
          14.8287259615385,
          16.292724609375,
          8.52175325960726,
          3.42462640059622,
          14.1027374267578,
          6.94343165347451,
          9.06357614617599,
          6.13418579101563,
          3.32507159258868,
          9.63353083683894,
          6.67243370643029,
          4.66028161951014,
          11.6731849083534,
          -0.80230712890625,
          -0.80230712890625,
          2.70423889160156,
          -0.378265380859375,
          -0.378265380859375,
          7.97813415527344,
          7.97813415527344,
          9.26781790597098,
          3.15708469700169,
          14.1432897056021,
          9.67515211838942,
          9.45833587646484,
          9.45833587646484,
          9.50557708740234,
          9.84830530678354,
          9.25786068564967,
          12.9106257512019,
          5.75958251953125,
          9.56984710693359,
          1.43623970650338,
          5.85935025601774,
          11.495475769043,
          12.4034271240234,
          9.66648982121394,
          11.2916917067308,
          11.2916917067308,
          10.3424914129849,
          -0.612784720755883,
          8.03281282123766,
          -1.46690368652344,
          -0.350799560546875,
          -0.350799560546875,
          7.29351337139423,
          12.6542403058308,
          9.48414393833705,
          6.58587004009046,
          7.37872783954327,
          3.189697265625,
          7.1795654296875,
          9.52462686074747,
          6.53738485800253,
          8.479248046875,
          -9.17937568996263,
          10.2686251126803,
          16.075674203726,
          9.30612417367788,
          10.2461594801683,
          -0.628280639648438,
          -0.749130249023438,
          9.45916464162427,
          9.45084421258224,
          6.37145233154297,
          11.8430504432091,
          7.80390689247533,
          8.99395751953125,
          15.9818678635817,
          9.4097900390625,
          10.1799447195871,
          8.18316650390625,
          8.6187744140625,
          6.06944033974095,
          4.75871318095439,
          8.42073880709135,
          9.26767202524038,
          9.26767202524038,
          7.42067079286318,
          8.42306283804087,
          7.31705147879464,
          -5.11390032087053,
          10.180549621582,
          7.68226623535156,
          7.77921109586149,
          5.52446064196135,
          7.97585152290963,
          9.75987876333842,
          1.43692016601563,
          -2.16804504394531,
          1.65298461914063,
          8.37348937988281,
          8.909912109375,
          9.04620196368243,
          13.0823135375977,
          -8.8297835640285,
          10.9674634431538,
          13.4860698993389,
          9.04059831486192,
          8.32125091552734,
          6.24368520883413,
          5.56615447998047,
          6.05274401212993,
          10.2494694636418,
          9.18051910400391,
          -0.317490036423123,
          15.8401168020148,
          2.77552678034856,
          2.44562530517578,
          8.69090833162007,
          11.1805985613567,
          6.17192195012019,
          5.96577714129192,
          6.78398719200721,
          7.01124924879808,
          10.0622478284334,
          13.6518524914253,
          13.4548514229911,
          -1.24397277832031,
          9.92593618539663,
          8.46658559945913,
          15.7583084106445,
          15.3093778170072,
          8.69382476806641,
          4.95320088154561,
          4.39519933752112,
          10.8470271183894,
          13.2900599429482,
          8.54363074669471,
          10.9596862792969,
          11.7517318725586,
          12.8996394230769,
          6.6522216796875,
          6.92598564680233,
          10.5456978934152,
          7.95600304236779,
          5.95555485905828,
          6.07529098923142,
          6.41578674316406,
          24.1988938854587,
          6.56604766845703,
          7.35260009765625,
          9.96368408203125,
          6.81612581820101,
          3.5068070261102,
          4.44747161865234,
          9.34430574115954,
          2.22265295080237,
          6.62104426203547,
          12.8494033813477,
          1.84074401855469,
          0.0287628173828125,
          11.9424203725962,
          0.548629760742188,
          6.2544732344778,
          8.40246252111487,
          7.86099947415865,
          10.6432870718149,
          11.1086883544922,
          13.5705096905048,
          15.0731751976944,
          8.44560576648247,
          6.92153930664063,
          7.06585693359375,
          6.21892980627112,
          5.55403425886824,
          6.74862001000381,
          9.33357238769531,
          8.09898376464844,
          6.90111432756696,
          0.054168701171875,
          1.60719587996199,
          -0.916181291852638,
          6.47114823504192,
          7.62087435335726,
          5.40423419024493,
          9.19644524069393,
          -1.59521484375,
          -0.924301147460938,
          0.631561279296875,
          16.3103158133371,
          9.08643024723704,
          9.45836117393092,
          3.13854819849918,
          5.16401961043074,
          7.68170928955078,
          10.6014404296875,
          11.4241333007813,
          10.1457331730769,
          10.2380605844351,
          10.6786405123197,
          5.155029296875,
          7.51190185546875,
          10.9545663686899,
          16.4021653395433,
          6.01992958470395,
          9.47823775442023,
          3.02246896844161,
          9.64317527977196,
          0.170436549831081,
          -1.49162946428567,
          -3.30769258386948,
          -3.30769258386948,
          7.42148734427787,
          6.25557504049162,
          10.8231026785714,
          10.5338789777058,
          7.58954847181166,
          6.04146857010691,
          2.29237583705357,
          10.4419110272382,
          9.14785284745066,
          9.68395778111049,
          1.69029235839844,
          8.2006601186899,
          8.61157391522382,
          9.37302809495192,
          1.19422912597656,
          -1.26194309543916,
          0.030975341796875,
          9.48373091848273,
          -1.39051282728042,
          7.98150198800223,
          8.80294799804688,
          13.5782306950267,
          12.0822830200195,
          14.5314956292874,
          8.73747129698058,
          7.56326293945313,
          6.69388933879573,
          7.33541434151786,
          5.96787736222551,
          12.1527803861178,
          11.3991394042969,
          11.1791522686298,
          6.09242489463405,
          8.5264748021176,
          -0.701065063476563,
          1.29856782801011,
          4.25571750950169,
          4.80896820893159,
          -1.19796752929688,
          10.3473141318873,
          13.6176910400391,
          6.10530853271484,
          6.26529693603516,
          2.58150540865385,
          6.54581124441964,
          5.17601013183594,
          9.19604961688702,
          7.59380634014423,
          -1.12716674804688,
          10.086435171274,
          5.02899169921875,
          14.1440265934642,
          10.1396255493164,
          8.36666709498355,
          5.65766205658784,
          10.4354215923109,
          5.99319458007813,
          8.5388418344351,
          8.5388418344351,
          11.1538696289063,
          15.9109497070313,
          8.90924402185389,
          5.88705209585337,
          -2.16375732421875,
          16.2940979003906,
          9.64093660053454,
          9.64093660053454,
          10.6932185246394,
          9.50406646728516,
          12.1587665264423,
          13.4566321739784,
          -0.27191162109375,
          0.210952758789063,
          0.210952758789063,
          6.94328709652549,
          14.3877234825721,
          11.6722183227539,
          -8.62987761801861,
          6.1358642578125,
          3.4408890573602,
          3.73074918179899,
          8.82559204101563,
          9.63219275841346,
          -0.794893152573536,
          0.0156402587890625,
          9.93550068623311,
          6.80080506859756,
          11.1660232543945,
          9.25820840371622,
          7.97466381176098,
          6.96916447129361,
          4.66124663481841,
          4.29832458496094,
          3.25965881347656,
          9.06534048227163,
          4.10830849095395,
          9.88963407628676,
          10.33316122519,
          7.80482111750422,
          15.9808819110577,
          8.99505615234375,
          8.42349243164063,
          9.67627892127404,
          8.66506436975991,
          8.66506436975991,
          10.179683140346,
          5.40222992768159,
          0.237467997782939,
          10.2696870502673,
          6.07083707242399,
          6.53758801912007,
          9.45755377048399,
          9.45755377048399,
          9.30459594726562,
          9.48842075892857,
          7.68150329589844,
          15.4596176147461,
          7.43277413504464,
          13.8424213115986,
          15.3930882045201,
          8.18446232722356,
          2.70332336425781,
          6.37117767333984,
          9.6310754724451,
          6.65194702148438,
          7.01284790039063,
          13.0808983779535,
          7.17985454358553,
          -0.801556561444272,
          1.65428161621094,
          -0.379499162946388,
          -0.379499162946388,
          9.92593618539663,
          12.1515176462573,
          9.76056780133928,
          15.3084622896635,
          6.58595158503606,
          6.07402904613598,
          9.70260247951601,
          4.39512510557432,
          -0.317044644742396,
          10.1927886138091,
          11.8520210884713,
          7.35104122677365,
          8.47766876220703,
          9.84911237444196,
          -8.24005126953125,
          7.78017611116976,
          9.66465876652644,
          1.842041015625,
          -0.0243377685546875,
          -0.352156355574323
         ],
         "marker": {
          "color": "rgb(45, 100, 147)",
          "line": {
           "color": "rgba(68, 68, 68, 0)",
           "width": 3
          },
          "size": 3
         },
         "mode": "markers",
         "name": "sample_aircarfts",
         "text": [
          1787,
          1605,
          2022,
          2359,
          1283,
          1602,
          2200,
          370,
          1023,
          2769,
          1154,
          2037,
          1421,
          547,
          1632,
          1082,
          353,
          552,
          207,
          2331,
          405,
          1058,
          397,
          1643,
          2580,
          921,
          1749,
          1835,
          1336,
          1446,
          1300,
          2100,
          2617,
          975,
          1923,
          1621,
          2416,
          1654,
          2502,
          2248,
          599,
          354,
          2080,
          2611,
          2574,
          992,
          2000,
          1890,
          1482,
          1043,
          1043,
          1418,
          699,
          1851,
          1010,
          911,
          1112,
          1041,
          2389,
          2173,
          472,
          1841,
          2555,
          1739,
          1226,
          2146,
          332,
          1594,
          2610,
          1745,
          2412,
          1847,
          1752,
          2404,
          363,
          2387,
          1641,
          1327,
          1635,
          581,
          67,
          206,
          206,
          1919,
          635,
          1651,
          481,
          1352,
          79,
          2303,
          2034,
          949,
          2557,
          711,
          1351,
          1260,
          585,
          1640,
          156,
          2244,
          1423,
          1423,
          442,
          1047,
          2042,
          1093,
          1360,
          1062,
          2084,
          2290,
          1728,
          1945,
          1945,
          1456,
          2712,
          68,
          412,
          1855,
          1912,
          1015,
          2516,
          1473,
          869,
          460,
          2153,
          267,
          705,
          860,
          388,
          505,
          2124,
          2630,
          2364,
          2178,
          149,
          1691,
          1659,
          1833,
          2708,
          2328,
          910,
          557,
          1596,
          2319,
          1808,
          707,
          1469,
          2403,
          492,
          2717,
          1130,
          1130,
          2298,
          571,
          571,
          7,
          7,
          2767,
          617,
          757,
          2373,
          840,
          840,
          1201,
          2104,
          1748,
          2212,
          1518,
          2339,
          854,
          2138,
          1849,
          1628,
          1568,
          936,
          936,
          384,
          639,
          2751,
          2235,
          898,
          898,
          2526,
          1437,
          298,
          914,
          221,
          948,
          84,
          1881,
          2443,
          1494,
          925,
          1623,
          95,
          2359,
          877,
          1083,
          1585,
          1910,
          2149,
          2713,
          1786,
          1787,
          2449,
          923,
          1824,
          1830,
          2199,
          2022,
          1173,
          1023,
          320,
          1142,
          1142,
          296,
          2331,
          2134,
          1497,
          547,
          1381,
          2769,
          929,
          280,
          213,
          2120,
          2413,
          908,
          1716,
          1228,
          77,
          124,
          1199,
          2395,
          730,
          370,
          1446,
          2661,
          1389,
          414,
          2318,
          1159,
          1632,
          2513,
          1066,
          1774,
          2645,
          2575,
          1613,
          297,
          93,
          168,
          2037,
          2525,
          665,
          2000,
          2210,
          678,
          2033,
          569,
          2253,
          1563,
          621,
          2070,
          1218,
          1467,
          2128,
          2554,
          620,
          630,
          1509,
          2005,
          1196,
          615,
          2432,
          285,
          1037,
          1508,
          1605,
          1923,
          1466,
          2635,
          2402,
          975,
          244,
          2141,
          1354,
          852,
          1588,
          1109,
          1378,
          1226,
          2,
          1043,
          2574,
          2555,
          2626,
          1468,
          61,
          1082,
          2001,
          1752,
          1817,
          1336,
          552,
          207,
          1835,
          811,
          410,
          2404,
          911,
          2023,
          354,
          1192,
          1482,
          1100,
          353,
          1386,
          1635,
          2146,
          1519,
          1423,
          1533,
          2387,
          1380,
          2617,
          962,
          1594,
          2544,
          1058,
          1867,
          602,
          1749,
          1232,
          1181,
          2693,
          464,
          1890,
          1969,
          1969,
          1204,
          1640,
          2324,
          2303,
          1826,
          67,
          470,
          1290,
          1260,
          1112,
          1621,
          1047,
          412,
          332,
          267,
          1430,
          363,
          2580,
          2084,
          1538,
          2314,
          1745,
          1352,
          2042,
          2124,
          2364,
          507,
          2586,
          516,
          608,
          79,
          1841,
          442,
          2034,
          1041,
          956,
          388,
          2100,
          1360,
          1648,
          2182,
          2557,
          2712,
          2641,
          1015,
          869,
          585,
          635,
          572,
          711,
          1122,
          757,
          805,
          1945,
          175,
          581,
          1194,
          203,
          203,
          1902,
          2178,
          1586,
          1983,
          1093,
          2708,
          1691,
          1691,
          149,
          1201,
          115,
          1456,
          1062,
          696,
          696,
          1596,
          505,
          2717,
          1584,
          1808,
          666,
          651,
          38,
          1469,
          860,
          2125,
          2326,
          1659,
          1293,
          1748,
          280,
          993,
          492,
          646,
          46,
          2319,
          2684,
          1357,
          1757,
          1787,
          923,
          2449,
          2331,
          2373,
          1304,
          1304,
          1830,
          1283,
          1928,
          1623,
          1173,
          2443,
          840,
          840,
          2359,
          1610,
          1381,
          1481,
          1078,
          1994,
          2745,
          2199,
          2298,
          2713,
          561,
          630,
          168,
          124,
          84,
          1130,
          908,
          571,
          571,
          2210,
          1951,
          213,
          569,
          914,
          2432,
          540,
          621,
          1632,
          1300,
          1044,
          1605,
          1494,
          2104,
          2736,
          2769,
          1568,
          852,
          2753,
          898
         ],
         "type": "scattergeo"
        }
       ],
       "layout": {
        "annotations": [
         {
          "showarrow": false,
          "text": "Projection",
          "x": 0.1,
          "xanchor": "right",
          "xref": "paper",
          "y": 0.8,
          "yanchor": "bottom"
         }
        ],
        "geo": {
         "countrywidth": 0.5,
         "lakecolor": "rgb(0, 255, 255)",
         "landcolor": "rgb(230, 145, 56)",
         "lataxis": {
          "gridcolor": "rgb(102, 102, 102)",
          "gridwidth": 0.5,
          "showgrid": true
         },
         "lonaxis": {
          "gridcolor": "rgb(102, 102, 102)",
          "gridwidth": 0.5,
          "showgrid": true
         },
         "oceancolor": "rgb(0, 255, 255)",
         "projection": {
          "rotation": {
           "lat": 0,
           "lon": 0,
           "roll": 0
          },
          "type": "orthographic"
         },
         "showcountries": true,
         "showlakes": true,
         "showland": true,
         "showocean": true
        },
        "margin": {
         "b": 0,
         "l": 0,
         "r": 0,
         "t": 0
        },
        "showlegend": false,
        "sliders": [
         {
          "active": 18,
          "currentvalue": {
           "prefix": "Longitude: "
          },
          "pad": {
           "t": 0
          },
          "steps": [
           {
            "args": [
             "geo.projection.rotation.lon",
             -180
            ],
            "label": "-180",
            "method": "relayout"
           },
           {
            "args": [
             "geo.projection.rotation.lon",
             -170
            ],
            "label": "-170",
            "method": "relayout"
           },
           {
            "args": [
             "geo.projection.rotation.lon",
             -160
            ],
            "label": "-160",
            "method": "relayout"
           },
           {
            "args": [
             "geo.projection.rotation.lon",
             -150
            ],
            "label": "-150",
            "method": "relayout"
           },
           {
            "args": [
             "geo.projection.rotation.lon",
             -140
            ],
            "label": "-140",
            "method": "relayout"
           },
           {
            "args": [
             "geo.projection.rotation.lon",
             -130
            ],
            "label": "-130",
            "method": "relayout"
           },
           {
            "args": [
             "geo.projection.rotation.lon",
             -120
            ],
            "label": "-120",
            "method": "relayout"
           },
           {
            "args": [
             "geo.projection.rotation.lon",
             -110
            ],
            "label": "-110",
            "method": "relayout"
           },
           {
            "args": [
             "geo.projection.rotation.lon",
             -100
            ],
            "label": "-100",
            "method": "relayout"
           },
           {
            "args": [
             "geo.projection.rotation.lon",
             -90
            ],
            "label": "-90",
            "method": "relayout"
           },
           {
            "args": [
             "geo.projection.rotation.lon",
             -80
            ],
            "label": "-80",
            "method": "relayout"
           },
           {
            "args": [
             "geo.projection.rotation.lon",
             -70
            ],
            "label": "-70",
            "method": "relayout"
           },
           {
            "args": [
             "geo.projection.rotation.lon",
             -60
            ],
            "label": "-60",
            "method": "relayout"
           },
           {
            "args": [
             "geo.projection.rotation.lon",
             -50
            ],
            "label": "-50",
            "method": "relayout"
           },
           {
            "args": [
             "geo.projection.rotation.lon",
             -40
            ],
            "label": "-40",
            "method": "relayout"
           },
           {
            "args": [
             "geo.projection.rotation.lon",
             -30
            ],
            "label": "-30",
            "method": "relayout"
           },
           {
            "args": [
             "geo.projection.rotation.lon",
             -20
            ],
            "label": "-20",
            "method": "relayout"
           },
           {
            "args": [
             "geo.projection.rotation.lon",
             -10
            ],
            "label": "-10",
            "method": "relayout"
           },
           {
            "args": [
             "geo.projection.rotation.lon",
             0
            ],
            "label": "0",
            "method": "relayout"
           },
           {
            "args": [
             "geo.projection.rotation.lon",
             10
            ],
            "label": "10",
            "method": "relayout"
           },
           {
            "args": [
             "geo.projection.rotation.lon",
             20
            ],
            "label": "20",
            "method": "relayout"
           },
           {
            "args": [
             "geo.projection.rotation.lon",
             30
            ],
            "label": "30",
            "method": "relayout"
           },
           {
            "args": [
             "geo.projection.rotation.lon",
             40
            ],
            "label": "40",
            "method": "relayout"
           },
           {
            "args": [
             "geo.projection.rotation.lon",
             50
            ],
            "label": "50",
            "method": "relayout"
           },
           {
            "args": [
             "geo.projection.rotation.lon",
             60
            ],
            "label": "60",
            "method": "relayout"
           },
           {
            "args": [
             "geo.projection.rotation.lon",
             70
            ],
            "label": "70",
            "method": "relayout"
           },
           {
            "args": [
             "geo.projection.rotation.lon",
             80
            ],
            "label": "80",
            "method": "relayout"
           },
           {
            "args": [
             "geo.projection.rotation.lon",
             90
            ],
            "label": "90",
            "method": "relayout"
           },
           {
            "args": [
             "geo.projection.rotation.lon",
             100
            ],
            "label": "100",
            "method": "relayout"
           },
           {
            "args": [
             "geo.projection.rotation.lon",
             110
            ],
            "label": "110",
            "method": "relayout"
           },
           {
            "args": [
             "geo.projection.rotation.lon",
             120
            ],
            "label": "120",
            "method": "relayout"
           },
           {
            "args": [
             "geo.projection.rotation.lon",
             130
            ],
            "label": "130",
            "method": "relayout"
           },
           {
            "args": [
             "geo.projection.rotation.lon",
             140
            ],
            "label": "140",
            "method": "relayout"
           },
           {
            "args": [
             "geo.projection.rotation.lon",
             150
            ],
            "label": "150",
            "method": "relayout"
           },
           {
            "args": [
             "geo.projection.rotation.lon",
             160
            ],
            "label": "160",
            "method": "relayout"
           },
           {
            "args": [
             "geo.projection.rotation.lon",
             170
            ],
            "label": "170",
            "method": "relayout"
           }
          ]
         },
         {
          "active": 9,
          "currentvalue": {
           "prefix": "Latitude: "
          },
          "pad": {
           "t": 100
          },
          "steps": [
           {
            "args": [
             "geo.projection.rotation.lat",
             -90
            ],
            "label": "-90",
            "method": "relayout"
           },
           {
            "args": [
             "geo.projection.rotation.lat",
             -80
            ],
            "label": "-80",
            "method": "relayout"
           },
           {
            "args": [
             "geo.projection.rotation.lat",
             -70
            ],
            "label": "-70",
            "method": "relayout"
           },
           {
            "args": [
             "geo.projection.rotation.lat",
             -60
            ],
            "label": "-60",
            "method": "relayout"
           },
           {
            "args": [
             "geo.projection.rotation.lat",
             -50
            ],
            "label": "-50",
            "method": "relayout"
           },
           {
            "args": [
             "geo.projection.rotation.lat",
             -40
            ],
            "label": "-40",
            "method": "relayout"
           },
           {
            "args": [
             "geo.projection.rotation.lat",
             -30
            ],
            "label": "-30",
            "method": "relayout"
           },
           {
            "args": [
             "geo.projection.rotation.lat",
             -20
            ],
            "label": "-20",
            "method": "relayout"
           },
           {
            "args": [
             "geo.projection.rotation.lat",
             -10
            ],
            "label": "-10",
            "method": "relayout"
           },
           {
            "args": [
             "geo.projection.rotation.lat",
             0
            ],
            "label": "0",
            "method": "relayout"
           },
           {
            "args": [
             "geo.projection.rotation.lat",
             10
            ],
            "label": "10",
            "method": "relayout"
           },
           {
            "args": [
             "geo.projection.rotation.lat",
             20
            ],
            "label": "20",
            "method": "relayout"
           },
           {
            "args": [
             "geo.projection.rotation.lat",
             30
            ],
            "label": "30",
            "method": "relayout"
           },
           {
            "args": [
             "geo.projection.rotation.lat",
             40
            ],
            "label": "40",
            "method": "relayout"
           },
           {
            "args": [
             "geo.projection.rotation.lat",
             50
            ],
            "label": "50",
            "method": "relayout"
           },
           {
            "args": [
             "geo.projection.rotation.lat",
             60
            ],
            "label": "60",
            "method": "relayout"
           },
           {
            "args": [
             "geo.projection.rotation.lat",
             70
            ],
            "label": "70",
            "method": "relayout"
           },
           {
            "args": [
             "geo.projection.rotation.lat",
             80
            ],
            "label": "80",
            "method": "relayout"
           }
          ]
         }
        ],
        "template": {
         "data": {
          "bar": [
           {
            "error_x": {
             "color": "#2a3f5f"
            },
            "error_y": {
             "color": "#2a3f5f"
            },
            "marker": {
             "line": {
              "color": "#E5ECF6",
              "width": 0.5
             }
            },
            "type": "bar"
           }
          ],
          "barpolar": [
           {
            "marker": {
             "line": {
              "color": "#E5ECF6",
              "width": 0.5
             }
            },
            "type": "barpolar"
           }
          ],
          "carpet": [
           {
            "aaxis": {
             "endlinecolor": "#2a3f5f",
             "gridcolor": "white",
             "linecolor": "white",
             "minorgridcolor": "white",
             "startlinecolor": "#2a3f5f"
            },
            "baxis": {
             "endlinecolor": "#2a3f5f",
             "gridcolor": "white",
             "linecolor": "white",
             "minorgridcolor": "white",
             "startlinecolor": "#2a3f5f"
            },
            "type": "carpet"
           }
          ],
          "choropleth": [
           {
            "colorbar": {
             "outlinewidth": 0,
             "ticks": ""
            },
            "type": "choropleth"
           }
          ],
          "contour": [
           {
            "colorbar": {
             "outlinewidth": 0,
             "ticks": ""
            },
            "colorscale": [
             [
              0,
              "#0d0887"
             ],
             [
              0.1111111111111111,
              "#46039f"
             ],
             [
              0.2222222222222222,
              "#7201a8"
             ],
             [
              0.3333333333333333,
              "#9c179e"
             ],
             [
              0.4444444444444444,
              "#bd3786"
             ],
             [
              0.5555555555555556,
              "#d8576b"
             ],
             [
              0.6666666666666666,
              "#ed7953"
             ],
             [
              0.7777777777777778,
              "#fb9f3a"
             ],
             [
              0.8888888888888888,
              "#fdca26"
             ],
             [
              1,
              "#f0f921"
             ]
            ],
            "type": "contour"
           }
          ],
          "contourcarpet": [
           {
            "colorbar": {
             "outlinewidth": 0,
             "ticks": ""
            },
            "type": "contourcarpet"
           }
          ],
          "heatmap": [
           {
            "colorbar": {
             "outlinewidth": 0,
             "ticks": ""
            },
            "colorscale": [
             [
              0,
              "#0d0887"
             ],
             [
              0.1111111111111111,
              "#46039f"
             ],
             [
              0.2222222222222222,
              "#7201a8"
             ],
             [
              0.3333333333333333,
              "#9c179e"
             ],
             [
              0.4444444444444444,
              "#bd3786"
             ],
             [
              0.5555555555555556,
              "#d8576b"
             ],
             [
              0.6666666666666666,
              "#ed7953"
             ],
             [
              0.7777777777777778,
              "#fb9f3a"
             ],
             [
              0.8888888888888888,
              "#fdca26"
             ],
             [
              1,
              "#f0f921"
             ]
            ],
            "type": "heatmap"
           }
          ],
          "heatmapgl": [
           {
            "colorbar": {
             "outlinewidth": 0,
             "ticks": ""
            },
            "colorscale": [
             [
              0,
              "#0d0887"
             ],
             [
              0.1111111111111111,
              "#46039f"
             ],
             [
              0.2222222222222222,
              "#7201a8"
             ],
             [
              0.3333333333333333,
              "#9c179e"
             ],
             [
              0.4444444444444444,
              "#bd3786"
             ],
             [
              0.5555555555555556,
              "#d8576b"
             ],
             [
              0.6666666666666666,
              "#ed7953"
             ],
             [
              0.7777777777777778,
              "#fb9f3a"
             ],
             [
              0.8888888888888888,
              "#fdca26"
             ],
             [
              1,
              "#f0f921"
             ]
            ],
            "type": "heatmapgl"
           }
          ],
          "histogram": [
           {
            "marker": {
             "colorbar": {
              "outlinewidth": 0,
              "ticks": ""
             }
            },
            "type": "histogram"
           }
          ],
          "histogram2d": [
           {
            "colorbar": {
             "outlinewidth": 0,
             "ticks": ""
            },
            "colorscale": [
             [
              0,
              "#0d0887"
             ],
             [
              0.1111111111111111,
              "#46039f"
             ],
             [
              0.2222222222222222,
              "#7201a8"
             ],
             [
              0.3333333333333333,
              "#9c179e"
             ],
             [
              0.4444444444444444,
              "#bd3786"
             ],
             [
              0.5555555555555556,
              "#d8576b"
             ],
             [
              0.6666666666666666,
              "#ed7953"
             ],
             [
              0.7777777777777778,
              "#fb9f3a"
             ],
             [
              0.8888888888888888,
              "#fdca26"
             ],
             [
              1,
              "#f0f921"
             ]
            ],
            "type": "histogram2d"
           }
          ],
          "histogram2dcontour": [
           {
            "colorbar": {
             "outlinewidth": 0,
             "ticks": ""
            },
            "colorscale": [
             [
              0,
              "#0d0887"
             ],
             [
              0.1111111111111111,
              "#46039f"
             ],
             [
              0.2222222222222222,
              "#7201a8"
             ],
             [
              0.3333333333333333,
              "#9c179e"
             ],
             [
              0.4444444444444444,
              "#bd3786"
             ],
             [
              0.5555555555555556,
              "#d8576b"
             ],
             [
              0.6666666666666666,
              "#ed7953"
             ],
             [
              0.7777777777777778,
              "#fb9f3a"
             ],
             [
              0.8888888888888888,
              "#fdca26"
             ],
             [
              1,
              "#f0f921"
             ]
            ],
            "type": "histogram2dcontour"
           }
          ],
          "mesh3d": [
           {
            "colorbar": {
             "outlinewidth": 0,
             "ticks": ""
            },
            "type": "mesh3d"
           }
          ],
          "parcoords": [
           {
            "line": {
             "colorbar": {
              "outlinewidth": 0,
              "ticks": ""
             }
            },
            "type": "parcoords"
           }
          ],
          "scatter": [
           {
            "marker": {
             "colorbar": {
              "outlinewidth": 0,
              "ticks": ""
             }
            },
            "type": "scatter"
           }
          ],
          "scatter3d": [
           {
            "line": {
             "colorbar": {
              "outlinewidth": 0,
              "ticks": ""
             }
            },
            "marker": {
             "colorbar": {
              "outlinewidth": 0,
              "ticks": ""
             }
            },
            "type": "scatter3d"
           }
          ],
          "scattercarpet": [
           {
            "marker": {
             "colorbar": {
              "outlinewidth": 0,
              "ticks": ""
             }
            },
            "type": "scattercarpet"
           }
          ],
          "scattergeo": [
           {
            "marker": {
             "colorbar": {
              "outlinewidth": 0,
              "ticks": ""
             }
            },
            "type": "scattergeo"
           }
          ],
          "scattergl": [
           {
            "marker": {
             "colorbar": {
              "outlinewidth": 0,
              "ticks": ""
             }
            },
            "type": "scattergl"
           }
          ],
          "scattermapbox": [
           {
            "marker": {
             "colorbar": {
              "outlinewidth": 0,
              "ticks": ""
             }
            },
            "type": "scattermapbox"
           }
          ],
          "scatterpolar": [
           {
            "marker": {
             "colorbar": {
              "outlinewidth": 0,
              "ticks": ""
             }
            },
            "type": "scatterpolar"
           }
          ],
          "scatterpolargl": [
           {
            "marker": {
             "colorbar": {
              "outlinewidth": 0,
              "ticks": ""
             }
            },
            "type": "scatterpolargl"
           }
          ],
          "scatterternary": [
           {
            "marker": {
             "colorbar": {
              "outlinewidth": 0,
              "ticks": ""
             }
            },
            "type": "scatterternary"
           }
          ],
          "surface": [
           {
            "colorbar": {
             "outlinewidth": 0,
             "ticks": ""
            },
            "colorscale": [
             [
              0,
              "#0d0887"
             ],
             [
              0.1111111111111111,
              "#46039f"
             ],
             [
              0.2222222222222222,
              "#7201a8"
             ],
             [
              0.3333333333333333,
              "#9c179e"
             ],
             [
              0.4444444444444444,
              "#bd3786"
             ],
             [
              0.5555555555555556,
              "#d8576b"
             ],
             [
              0.6666666666666666,
              "#ed7953"
             ],
             [
              0.7777777777777778,
              "#fb9f3a"
             ],
             [
              0.8888888888888888,
              "#fdca26"
             ],
             [
              1,
              "#f0f921"
             ]
            ],
            "type": "surface"
           }
          ],
          "table": [
           {
            "cells": {
             "fill": {
              "color": "#EBF0F8"
             },
             "line": {
              "color": "white"
             }
            },
            "header": {
             "fill": {
              "color": "#C8D4E3"
             },
             "line": {
              "color": "white"
             }
            },
            "type": "table"
           }
          ]
         },
         "layout": {
          "annotationdefaults": {
           "arrowcolor": "#2a3f5f",
           "arrowhead": 0,
           "arrowwidth": 1
          },
          "colorscale": {
           "diverging": [
            [
             0,
             "#8e0152"
            ],
            [
             0.1,
             "#c51b7d"
            ],
            [
             0.2,
             "#de77ae"
            ],
            [
             0.3,
             "#f1b6da"
            ],
            [
             0.4,
             "#fde0ef"
            ],
            [
             0.5,
             "#f7f7f7"
            ],
            [
             0.6,
             "#e6f5d0"
            ],
            [
             0.7,
             "#b8e186"
            ],
            [
             0.8,
             "#7fbc41"
            ],
            [
             0.9,
             "#4d9221"
            ],
            [
             1,
             "#276419"
            ]
           ],
           "sequential": [
            [
             0,
             "#0d0887"
            ],
            [
             0.1111111111111111,
             "#46039f"
            ],
            [
             0.2222222222222222,
             "#7201a8"
            ],
            [
             0.3333333333333333,
             "#9c179e"
            ],
            [
             0.4444444444444444,
             "#bd3786"
            ],
            [
             0.5555555555555556,
             "#d8576b"
            ],
            [
             0.6666666666666666,
             "#ed7953"
            ],
            [
             0.7777777777777778,
             "#fb9f3a"
            ],
            [
             0.8888888888888888,
             "#fdca26"
            ],
            [
             1,
             "#f0f921"
            ]
           ],
           "sequentialminus": [
            [
             0,
             "#0d0887"
            ],
            [
             0.1111111111111111,
             "#46039f"
            ],
            [
             0.2222222222222222,
             "#7201a8"
            ],
            [
             0.3333333333333333,
             "#9c179e"
            ],
            [
             0.4444444444444444,
             "#bd3786"
            ],
            [
             0.5555555555555556,
             "#d8576b"
            ],
            [
             0.6666666666666666,
             "#ed7953"
            ],
            [
             0.7777777777777778,
             "#fb9f3a"
            ],
            [
             0.8888888888888888,
             "#fdca26"
            ],
            [
             1,
             "#f0f921"
            ]
           ]
          },
          "colorway": [
           "#636efa",
           "#EF553B",
           "#00cc96",
           "#ab63fa",
           "#FFA15A",
           "#19d3f3",
           "#FF6692",
           "#B6E880",
           "#FF97FF",
           "#FECB52"
          ],
          "font": {
           "color": "#2a3f5f"
          },
          "geo": {
           "bgcolor": "white",
           "lakecolor": "white",
           "landcolor": "#E5ECF6",
           "showlakes": true,
           "showland": true,
           "subunitcolor": "white"
          },
          "hoverlabel": {
           "align": "left"
          },
          "hovermode": "closest",
          "mapbox": {
           "style": "light"
          },
          "paper_bgcolor": "white",
          "plot_bgcolor": "#E5ECF6",
          "polar": {
           "angularaxis": {
            "gridcolor": "white",
            "linecolor": "white",
            "ticks": ""
           },
           "bgcolor": "#E5ECF6",
           "radialaxis": {
            "gridcolor": "white",
            "linecolor": "white",
            "ticks": ""
           }
          },
          "scene": {
           "xaxis": {
            "backgroundcolor": "#E5ECF6",
            "gridcolor": "white",
            "gridwidth": 2,
            "linecolor": "white",
            "showbackground": true,
            "ticks": "",
            "zerolinecolor": "white"
           },
           "yaxis": {
            "backgroundcolor": "#E5ECF6",
            "gridcolor": "white",
            "gridwidth": 2,
            "linecolor": "white",
            "showbackground": true,
            "ticks": "",
            "zerolinecolor": "white"
           },
           "zaxis": {
            "backgroundcolor": "#E5ECF6",
            "gridcolor": "white",
            "gridwidth": 2,
            "linecolor": "white",
            "showbackground": true,
            "ticks": "",
            "zerolinecolor": "white"
           }
          },
          "shapedefaults": {
           "line": {
            "color": "#2a3f5f"
           }
          },
          "ternary": {
           "aaxis": {
            "gridcolor": "white",
            "linecolor": "white",
            "ticks": ""
           },
           "baxis": {
            "gridcolor": "white",
            "linecolor": "white",
            "ticks": ""
           },
           "bgcolor": "#E5ECF6",
           "caxis": {
            "gridcolor": "white",
            "linecolor": "white",
            "ticks": ""
           }
          },
          "title": {
           "x": 0.05
          },
          "xaxis": {
           "automargin": true,
           "gridcolor": "white",
           "linecolor": "white",
           "ticks": "",
           "zerolinecolor": "white",
           "zerolinewidth": 2
          },
          "yaxis": {
           "automargin": true,
           "gridcolor": "white",
           "linecolor": "white",
           "ticks": "",
           "zerolinecolor": "white",
           "zerolinewidth": 2
          }
         }
        },
        "updatemenus": [
         {
          "buttons": [
           {
            "args": [
             "geo.projection.type",
             "equirectangular"
            ],
            "label": "equirectangular",
            "method": "relayout"
           },
           {
            "args": [
             "geo.projection.type",
             "mercator"
            ],
            "label": "mercator",
            "method": "relayout"
           },
           {
            "args": [
             "geo.projection.type",
             "orthographic"
            ],
            "label": "orthographic",
            "method": "relayout"
           },
           {
            "args": [
             "geo.projection.type",
             "natural earth"
            ],
            "label": "natural earth",
            "method": "relayout"
           },
           {
            "args": [
             "geo.projection.type",
             "kavrayskiy7"
            ],
            "label": "kavrayskiy7",
            "method": "relayout"
           },
           {
            "args": [
             "geo.projection.type",
             "miller"
            ],
            "label": "miller",
            "method": "relayout"
           },
           {
            "args": [
             "geo.projection.type",
             "robinson"
            ],
            "label": "robinson",
            "method": "relayout"
           },
           {
            "args": [
             "geo.projection.type",
             "eckert4"
            ],
            "label": "eckert4",
            "method": "relayout"
           },
           {
            "args": [
             "geo.projection.type",
             "azimuthal equal area"
            ],
            "label": "azimuthal equal area",
            "method": "relayout"
           },
           {
            "args": [
             "geo.projection.type",
             "azimuthal equidistant"
            ],
            "label": "azimuthal equidistant",
            "method": "relayout"
           },
           {
            "args": [
             "geo.projection.type",
             "conic equal area"
            ],
            "label": "conic equal area",
            "method": "relayout"
           },
           {
            "args": [
             "geo.projection.type",
             "conic conformal"
            ],
            "label": "conic conformal",
            "method": "relayout"
           },
           {
            "args": [
             "geo.projection.type",
             "conic equidistant"
            ],
            "label": "conic equidistant",
            "method": "relayout"
           },
           {
            "args": [
             "geo.projection.type",
             "gnomonic"
            ],
            "label": "gnomonic",
            "method": "relayout"
           },
           {
            "args": [
             "geo.projection.type",
             "stereographic"
            ],
            "label": "stereographic",
            "method": "relayout"
           },
           {
            "args": [
             "geo.projection.type",
             "mollweide"
            ],
            "label": "mollweide",
            "method": "relayout"
           },
           {
            "args": [
             "geo.projection.type",
             "hammer"
            ],
            "label": "hammer",
            "method": "relayout"
           },
           {
            "args": [
             "geo.projection.type",
             "transverse mercator"
            ],
            "label": "transverse mercator",
            "method": "relayout"
           },
           {
            "args": [
             "geo.projection.type",
             "albers usa"
            ],
            "label": "albers usa",
            "method": "relayout"
           },
           {
            "args": [
             "geo.projection.type",
             "winkel tripel"
            ],
            "label": "winkel tripel",
            "method": "relayout"
           }
          ],
          "x": 0.1,
          "y": 0.8,
          "yanchor": "top"
         }
        ]
       }
      },
      "text/html": [
       "<div>\n",
       "        \n",
       "        \n",
       "            <div id=\"604c4f63-b299-4ea8-9653-1ab50b018a7a\" class=\"plotly-graph-div\" style=\"height:525px; width:100%;\"></div>\n",
       "            <script type=\"text/javascript\">\n",
       "                require([\"plotly\"], function(Plotly) {\n",
       "                    window.PLOTLYENV=window.PLOTLYENV || {};\n",
       "                    \n",
       "                if (document.getElementById(\"604c4f63-b299-4ea8-9653-1ab50b018a7a\")) {\n",
       "                    Plotly.newPlot(\n",
       "                        '604c4f63-b299-4ea8-9653-1ab50b018a7a',\n",
       "                        [{\"hoverinfo\": \"text\", \"lat\": [49.5238952636719, 50.4821311821372, 45.9829505015228, 47.8106379104873, 49.8303533004502, 47.5003672454317, 44.6677551269531, 43.4799957275391, 51.6607818603516, 51.0000457763672, 49.2757415771484, 49.0434722900391, 50.0188751220703, 46.7197793217029, 51.4753875732422, 51.1400756835938, 51.5770111083984, 45.7706909179688, 47.0655670166016, 47.564935199285, 47.3407396219545, 51.7884521484375, 51.1305541992188, 50.0416539079052, 49.8892822265625, 49.7308711682336, 50.2825151863745, 45.3296363959878, 46.8131631107654, 47.4933929443359, 49.7344556905456, 50.5022735595703, 49.2272690595207, 49.9686126708984, 48.0603332519531, 51.0847499006886, 50.8251342773438, 51.7574297371557, 47.5177917480469, 45.3257904052734, 47.6027526855469, 51.5487360550185, 51.8992309570313, 49.8801641949153, 47.3230032193459, 46.3201283600371, 51.7475141105005, 52.7527313232422, 53.8373837228549, 47.2820892333984, 47.2820892333984, 52.004150390625, 49.4534912109375, 51.2402801513672, 46.9841766357422, 46.304812673795, 60.2156524658203, 51.7730255126953, 51.674333992651, 45.6165618896484, 51.6102781134137, 48.299482959812, 48.0575408935547, 51.2071838378906, 48.8002624511719, 48.5999908447266, 48.6786346435547, 49.037615242651, 48.44714665817, 45.050835043697, 46.3196868896484, 51.2661895751953, 50.7877931756488, 52.2450178760593, 51.6944732666016, 59.7799987792969, 43.7255393852622, 46.0025024414063, 46.8009338378906, 49.5508575439453, 49.7012173927437, 49.7808682716499, 49.7808682716499, 49.8085327148438, 47.3941497802734, 52.4342527227887, 50.5352325439453, 46.2691955566406, 46.5238494873047, 46.1054759914592, 49.9906792074947, 46.3509924937103, 45.9939422607422, 47.7397388522908, 47.4881286621094, 48.9362710209216, 49.2942577297405, 45.9236895027807, 53.7347259521484, 51.5260651152013, 50.4462859590175, 50.4462859590175, 49.6314697265625, 47.7982177734375, 45.4334564208984, 53.6062774658203, 53.0288644564354, 51.8208804373014, 50.7375167588056, 49.7878976595604, 45.4931488037109, 50.3331640211202, 50.3331640211202, 48.6271641618114, 46.4159794177039, 45.0639495849609, 51.7379709017479, 48.2376615879899, 50.6737867452331, 52.1005554199219, 50.5127160023835, 45.3997192382813, 50.7839758921478, 60.3044586181641, 51.7344794839115, 51.9745493743379, 44.3336047156382, 53.2779654809984, 51.0757141113281, 48.8030385162871, 50.8970947265625, 45.0986938476563, 46.4085310596531, 47.6743927001953, 48.6664542505297, 48.9755401611328, 46.6103668212891, 47.4302595752781, 46.0474548339844, 51.2452239990234, 49.88818359375, 46.4820835954052, 49.0241616459216, 49.3006353863215, 51.399675789526, 49.5272516800185, 47.7282404495498, 47.9608619819253, 50.3257622153072, 47.0963869256488, 51.6465888589115, 51.6465888589115, 51.7417416330111, 52.0546417236328, 52.0546417236328, 51.5714069948358, 51.5714069948358, 44.7970275878906, 51.2412872314453, 46.4600372314453, 48.5899200439453, 46.3783186573093, 46.3783186573093, 47.2934417724609, 44.7509455276748, 49.6072540283203, 47.3621536513506, 49.566650390625, 48.0005950927734, 51.3663940429688, 51.5309600830078, 45.9833694716631, 47.8677978515625, 49.1044006347656, 48.3901977539063, 48.3901977539063, 59.6119560629635, 50.9088134765625, 49.4304656982422, 52.1856536865234, 51.8643136751854, 51.8643136751854, 46.9554733017744, 45.8383483886719, 44.9159088134766, 49.0083804373014, 47.0135239423332, 48.8409118652344, 49.7990236443988, 49.5060238595736, 50.341403767214, 47.137939453125, 36.9110831567797, 48.9357604980469, 47.8231139102225, 47.8106379104873, 47.561862751589, 51.8300512281515, 52.8396148681641, 44.1780853271484, 49.9550170898438, 47.3675537109375, 47.1210130594545, 49.5234375, 47.41552734375, 48.5999908447266, 50.6527862548828, 45.2788238525391, 46.9384918212891, 45.9820194567664, 50.6152038574219, 51.6613311767578, 49.3928375244141, 47.5264830508475, 47.5264830508475, 50.4569929737156, 47.5647024380959, 51.9061175847458, 52.0919541181144, 46.7190810381356, 52.3229827880859, 50.9995880126953, 49.6611328125, 51.1790771484375, 44.7487110202595, 51.532023801642, 52.9520416259766, 51.2482413599047, 50.9311275158898, 49.8022155761719, 49.7946011818062, 46.3639340158236, 37.5038793531515, 48.6836320262844, 48.0878099344545, 43.4806823730469, 47.4928894042969, 48.0850633524232, 45.5679373013771, 50.2487182617188, 48.5799407958984, 47.7152709960938, 51.4757537841797, 49.3880604889433, 48.9410247802734, 48.0400085449219, 50.5785369873047, 44.6246958587129, 46.9374575857389, 45.5011813923464, 47.5783887960143, 48.092791023901, 49.0426428843353, 46.4033203125, 45.0312652587891, 51.7468158269333, 47.57592152741, 47.4589823060117, 47.6899108886719, 47.7672512248411, 47.3339538574219, 49.5454536050053, 51.4242095947266, 48.4033813476563, 48.2652205127781, 48.8831176757813, 47.5193023681641, 47.8012847900391, 48.4777679443359, 47.6205596923828, 44.0006103515625, 44.4456024169922, 49.2857208251953, 49.5401932021319, 49.8231377035885, 52.43701171875, 58.6336669921875, 46.1998839297537, 50.4824981689453, 48.0611820544227, 51.5135192871094, 50.0944061279297, 45.7099681789592, 49.968017578125, 49.7658318988347, 49.8995299258475, 46.9468688964844, 52.7487487792969, 51.8454134666314, 47.9975916975636, 50.9425328141552, 48.8014557402013, 49.8963643736759, 47.2816182799259, 47.3226773536811, 48.0581359863281, 47.0957817465572, 45.7269744873047, 44.4850856974974, 51.1393556756488, 52.1363649529926, 50.7881011962891, 51.3922119140625, 46.8138885498047, 45.7701602224576, 47.0645141601563, 45.3289031982422, 52.0652160644531, 51.7143402099609, 52.245623055151, 46.3055419921875, 51.8089141845703, 51.5490417480469, 53.8492079912606, 53.8383636474609, 50.7776913400424, 51.5771329200874, 44.5539093017578, 46.8019409179688, 48.6010483563957, 49.9298858642578, 50.4456807799259, 47.3687896728516, 59.7803649902344, 58.8758239746094, 49.2265319824219, 49.3966827392578, 49.0367889404297, 52.1340637207031, 51.7893180200609, 48.9209747314453, 47.3522380246955, 50.2831878662109, 50.6481628417969, 49.5844116210938, 50.1160909361759, 51.6467742919922, 52.752018298133, 53.6569006968353, 53.6569006968353, 51.3592071533203, 45.9228057861328, 44.3412322998047, 46.1049041748047, 50.2939670368777, 49.7010498046875, 52.3835107835673, 50.1941590389963, 48.9367365432998, 60.2155058262712, 51.0845636917373, 47.7983946719412, 51.7377777099609, 48.6779479980469, 51.9748077392578, 51.4443054199219, 51.6954221563824, 49.8885955810547, 50.7388000488281, 45.1666717529297, 51.9275207519531, 45.0515333272643, 46.2699915999073, 45.4343789310779, 50.8973693847656, 46.4091827909825, 45.4197615284031, 51.9239936440678, 50.1166030107919, 47.9328840869968, 46.5229564602092, 48.298828125, 49.6325225830078, 49.9902648925781, 51.7727454233978, 53.1300690214513, 51.0759429931641, 50.5033590025821, 53.0300903320313, 50.2450561523438, 46.8126510361494, 45.9948213221663, 46.4149087162341, 49.2563781738281, 52.1010783567267, 50.7832310563427, 49.2956085205078, 47.3945540088718, 51.4414331468485, 47.739692300053, 45.9695892333984, 46.4594421386719, 47.6736145019531, 50.3339538574219, 50.8505859375, 49.5498504638672, 52.4117889404297, 47.2467506538003, 47.2467506538003, 46.3364681955111, 47.674072265625, 50.3860939155191, 48.4427032470703, 53.6064147949219, 46.0471925897113, 48.9765852588718, 48.9765852588718, 48.665771484375, 47.2937622070313, 48.3106842041016, 48.6277770996094, 51.8209533691406, 51.8538394216764, 51.8538394216764, 49.0234168101165, 48.8023223876953, 47.0956420898438, 37.7677917480469, 51.3990783691406, 49.3264253260726, 51.0234832763672, 47.9313354492188, 47.7282404495498, 53.2777792720471, 51.5916572182865, 49.9697772527145, 46.6092681884766, 46.5836140260858, 49.6082991260593, 51.1787567138672, 43.8773803710938, 50.3254363496425, 50.872332039526, 50.7715929968882, 49.3001403808594, 48.95763849808, 54.8142700195313, 50.4274788549391, 49.5231085308528, 48.5995330810547, 47.41552734375, 47.5643920898438, 48.5891876220703, 45.8344116210938, 45.8344116210938, 45.2793731689453, 49.8292360467426, 51.5754547119141, 48.9348744537871, 50.6149912688692, 50.3425140380859, 46.3794250488281, 46.3794250488281, 47.8105773925781, 53.0149918895657, 52.3224334716797, 46.3038350768009, 43.497945494571, 46.9645975403867, 45.2645874023438, 46.9401110632945, 51.7413692151086, 47.3665924072266, 49.8253256587659, 47.6196899414063, 48.0923767089844, 46.3643646240234, 49.7990112304688, 51.6455841064453, 51.248148255429, 52.0555968203787, 52.0555968203787, 47.57592152741, 43.9223785400391, 44.7478637695313, 47.7677632994571, 49.0073547363281, 49.8232308080641, 45.2613908153469, 51.4234771728516, 51.4763946533203, 49.7338970636917, 49.7697422868114, 50.4828294657045, 47.1385345458984, 44.7520751953125, 38.4168152889963, 50.9991302490234, 49.1051330566406, 52.7483825683594, 51.472483489473, 51.8638916015625], \"locationmode\": \"ISO-3\", \"lon\": [7.80282271535773, 7.35423320048564, 8.61870574951172, 9.30739182692308, 5.40037412901183, 11.9126305213341, 9.30751255580357, 9.03995957485465, 4.7578966295397, 7.77817184860642, 10.2978515625, 10.0634765625, 9.97074327970806, 10.1790390014648, -0.317786964210313, 6.91975361592061, 0.63312427417652, 9.33496242616235, 8.09836578369141, 8.42271071213942, 16.8712674654447, 7.51078837626689, 4.46586815086571, 5.93781342377534, 9.4823576274671, 2.50814901815878, 6.02154705975507, 6.9000839605564, 6.75013732910156, 8.32035827636719, 10.1904874234586, 4.81020475688734, 10.1446452893709, 9.34343839946546, 9.96473693847656, 1.68838500976563, -0.338052285684114, -0.651092529296875, 8.48721313476563, 9.84662737165178, 6.41217041015625, 5.40603637695313, 7.87361145019531, 4.87251075538429, 10.6418081430288, 10.8700790405273, -1.24443054199219, -1.49147033691406, -1.59422930549175, 7.86250305175781, 7.86250305175781, -4.37522888183594, 5.50169292249178, 8.00947859480574, 13.255485534668, 6.46991729736328, 9.68549004916487, -0.702085752744949, 0.377120971679688, 13.5448697718178, -2.36190795898438, 11.1777215254934, 11.1097183227539, 8.15192970069679, 6.25537578876202, 9.45810171274038, 9.37429574819711, 10.6774822034334, 9.04167576840049, 13.5791015625, 13.7703574576029, 3.63951811919341, 6.22047424316406, -0.915788922991055, 0.0324393607474662, 10.6006164550781, 7.09389822823661, 5.12699778487043, 9.0863632574314, 10.4367948833265, 6.04314855627112, 8.54060817409206, 8.54060817409206, 8.96404868678043, 7.59567260742188, 7.52045549665179, 8.39015759919819, 12.083286192359, 11.3997222156059, 10.5347900390625, 8.52642987225507, 5.69242858886719, 6.1035751714939, 10.0877732496995, 15.5778579711914, 9.14886474609375, 9.19562891909951, 6.25595855712891, 8.69112723214286, 8.51402282714844, 5.16520732157939, 5.16520732157939, 6.09235261615954, 8.20177459716797, 14.5309230259487, -2.16187395368303, -1.19696044921875, -0.27069091796875, -1.390380859375, 7.13985133815456, 11.9420732770647, 8.36787043391047, 8.36787043391047, 13.4584687885485, 6.26529693603516, 13.7886265345982, 8.60824584960938, 6.43661499023437, 8.11134338378906, 6.54708862304688, 10.0299237225507, 8.87152535574777, 5.177001953125, 9.20635354929957, -2.77122497558594, 1.19280133928571, 8.35195401819741, -0.796266443589161, 4.25690522065034, 14.3864521227385, 8.7388074720228, 7.20552716936384, 7.56264495849609, 15.909782409668, 10.6919378983347, 9.64092548076923, 6.80160894626525, 14.8287259615385, 16.292724609375, 8.52175325960726, 3.42462640059622, 14.1027374267578, 6.94343165347451, 9.06357614617599, 6.13418579101563, 3.32507159258868, 9.63353083683894, 6.67243370643029, 4.66028161951014, 11.6731849083534, -0.80230712890625, -0.80230712890625, 2.70423889160156, -0.378265380859375, -0.378265380859375, 7.97813415527344, 7.97813415527344, 9.26781790597098, 3.15708469700169, 14.1432897056021, 9.67515211838942, 9.45833587646484, 9.45833587646484, 9.50557708740234, 9.84830530678354, 9.25786068564967, 12.9106257512019, 5.75958251953125, 9.56984710693359, 1.43623970650338, 5.85935025601774, 11.495475769043, 12.4034271240234, 9.66648982121394, 11.2916917067308, 11.2916917067308, 10.3424914129849, -0.612784720755883, 8.03281282123766, -1.46690368652344, -0.350799560546875, -0.350799560546875, 7.29351337139423, 12.6542403058308, 9.48414393833705, 6.58587004009046, 7.37872783954327, 3.189697265625, 7.1795654296875, 9.52462686074747, 6.53738485800253, 8.479248046875, -9.17937568996263, 10.2686251126803, 16.075674203726, 9.30612417367788, 10.2461594801683, -0.628280639648438, -0.749130249023438, 9.45916464162427, 9.45084421258224, 6.37145233154297, 11.8430504432091, 7.80390689247533, 8.99395751953125, 15.9818678635817, 9.4097900390625, 10.1799447195871, 8.18316650390625, 8.6187744140625, 6.06944033974095, 4.75871318095439, 8.42073880709135, 9.26767202524038, 9.26767202524038, 7.42067079286318, 8.42306283804087, 7.31705147879464, -5.11390032087053, 10.180549621582, 7.68226623535156, 7.77921109586149, 5.52446064196135, 7.97585152290963, 9.75987876333842, 1.43692016601563, -2.16804504394531, 1.65298461914063, 8.37348937988281, 8.909912109375, 9.04620196368243, 13.0823135375977, -8.8297835640285, 10.9674634431538, 13.4860698993389, 9.04059831486192, 8.32125091552734, 6.24368520883413, 5.56615447998047, 6.05274401212993, 10.2494694636418, 9.18051910400391, -0.317490036423123, 15.8401168020148, 2.77552678034856, 2.44562530517578, 8.69090833162007, 11.1805985613567, 6.17192195012019, 5.96577714129192, 6.78398719200721, 7.01124924879808, 10.0622478284334, 13.6518524914253, 13.4548514229911, -1.24397277832031, 9.92593618539663, 8.46658559945913, 15.7583084106445, 15.3093778170072, 8.69382476806641, 4.95320088154561, 4.39519933752112, 10.8470271183894, 13.2900599429482, 8.54363074669471, 10.9596862792969, 11.7517318725586, 12.8996394230769, 6.6522216796875, 6.92598564680233, 10.5456978934152, 7.95600304236779, 5.95555485905828, 6.07529098923142, 6.41578674316406, 24.1988938854587, 6.56604766845703, 7.35260009765625, 9.96368408203125, 6.81612581820101, 3.5068070261102, 4.44747161865234, 9.34430574115954, 2.22265295080237, 6.62104426203547, 12.8494033813477, 1.84074401855469, 0.0287628173828125, 11.9424203725962, 0.548629760742188, 6.2544732344778, 8.40246252111487, 7.86099947415865, 10.6432870718149, 11.1086883544922, 13.5705096905048, 15.0731751976944, 8.44560576648247, 6.92153930664063, 7.06585693359375, 6.21892980627112, 5.55403425886824, 6.74862001000381, 9.33357238769531, 8.09898376464844, 6.90111432756696, 0.054168701171875, 1.60719587996199, -0.916181291852638, 6.47114823504192, 7.62087435335726, 5.40423419024493, 9.19644524069393, -1.59521484375, -0.924301147460938, 0.631561279296875, 16.3103158133371, 9.08643024723704, 9.45836117393092, 3.13854819849918, 5.16401961043074, 7.68170928955078, 10.6014404296875, 11.4241333007813, 10.1457331730769, 10.2380605844351, 10.6786405123197, 5.155029296875, 7.51190185546875, 10.9545663686899, 16.4021653395433, 6.01992958470395, 9.47823775442023, 3.02246896844161, 9.64317527977196, 0.170436549831081, -1.49162946428567, -3.30769258386948, -3.30769258386948, 7.42148734427787, 6.25557504049162, 10.8231026785714, 10.5338789777058, 7.58954847181166, 6.04146857010691, 2.29237583705357, 10.4419110272382, 9.14785284745066, 9.68395778111049, 1.69029235839844, 8.2006601186899, 8.61157391522382, 9.37302809495192, 1.19422912597656, -1.26194309543916, 0.030975341796875, 9.48373091848273, -1.39051282728042, 7.98150198800223, 8.80294799804688, 13.5782306950267, 12.0822830200195, 14.5314956292874, 8.73747129698058, 7.56326293945313, 6.69388933879573, 7.33541434151786, 5.96787736222551, 12.1527803861178, 11.3991394042969, 11.1791522686298, 6.09242489463405, 8.5264748021176, -0.701065063476563, 1.29856782801011, 4.25571750950169, 4.80896820893159, -1.19796752929688, 10.3473141318873, 13.6176910400391, 6.10530853271484, 6.26529693603516, 2.58150540865385, 6.54581124441964, 5.17601013183594, 9.19604961688702, 7.59380634014423, -1.12716674804688, 10.086435171274, 5.02899169921875, 14.1440265934642, 10.1396255493164, 8.36666709498355, 5.65766205658784, 10.4354215923109, 5.99319458007813, 8.5388418344351, 8.5388418344351, 11.1538696289063, 15.9109497070313, 8.90924402185389, 5.88705209585337, -2.16375732421875, 16.2940979003906, 9.64093660053454, 9.64093660053454, 10.6932185246394, 9.50406646728516, 12.1587665264423, 13.4566321739784, -0.27191162109375, 0.210952758789063, 0.210952758789063, 6.94328709652549, 14.3877234825721, 11.6722183227539, -8.62987761801861, 6.1358642578125, 3.4408890573602, 3.73074918179899, 8.82559204101563, 9.63219275841346, -0.794893152573536, 0.0156402587890625, 9.93550068623311, 6.80080506859756, 11.1660232543945, 9.25820840371622, 7.97466381176098, 6.96916447129361, 4.66124663481841, 4.29832458496094, 3.25965881347656, 9.06534048227163, 4.10830849095395, 9.88963407628676, 10.33316122519, 7.80482111750422, 15.9808819110577, 8.99505615234375, 8.42349243164063, 9.67627892127404, 8.66506436975991, 8.66506436975991, 10.179683140346, 5.40222992768159, 0.237467997782939, 10.2696870502673, 6.07083707242399, 6.53758801912007, 9.45755377048399, 9.45755377048399, 9.30459594726562, 9.48842075892857, 7.68150329589844, 15.4596176147461, 7.43277413504464, 13.8424213115986, 15.3930882045201, 8.18446232722356, 2.70332336425781, 6.37117767333984, 9.6310754724451, 6.65194702148438, 7.01284790039063, 13.0808983779535, 7.17985454358553, -0.801556561444272, 1.65428161621094, -0.379499162946388, -0.379499162946388, 9.92593618539663, 12.1515176462573, 9.76056780133928, 15.3084622896635, 6.58595158503606, 6.07402904613598, 9.70260247951601, 4.39512510557432, -0.317044644742396, 10.1927886138091, 11.8520210884713, 7.35104122677365, 8.47766876220703, 9.84911237444196, -8.24005126953125, 7.78017611116976, 9.66465876652644, 1.842041015625, -0.0243377685546875, -0.352156355574323], \"marker\": {\"color\": \"rgb(45, 100, 147)\", \"line\": {\"color\": \"rgba(68, 68, 68, 0)\", \"width\": 3}, \"size\": 3}, \"mode\": \"markers\", \"name\": \"sample_aircarfts\", \"text\": [1787.0, 1605.0, 2022.0, 2359.0, 1283.0, 1602.0, 2200.0, 370.0, 1023.0, 2769.0, 1154.0, 2037.0, 1421.0, 547.0, 1632.0, 1082.0, 353.0, 552.0, 207.0, 2331.0, 405.0, 1058.0, 397.0, 1643.0, 2580.0, 921.0, 1749.0, 1835.0, 1336.0, 1446.0, 1300.0, 2100.0, 2617.0, 975.0, 1923.0, 1621.0, 2416.0, 1654.0, 2502.0, 2248.0, 599.0, 354.0, 2080.0, 2611.0, 2574.0, 992.0, 2000.0, 1890.0, 1482.0, 1043.0, 1043.0, 1418.0, 699.0, 1851.0, 1010.0, 911.0, 1112.0, 1041.0, 2389.0, 2173.0, 472.0, 1841.0, 2555.0, 1739.0, 1226.0, 2146.0, 332.0, 1594.0, 2610.0, 1745.0, 2412.0, 1847.0, 1752.0, 2404.0, 363.0, 2387.0, 1641.0, 1327.0, 1635.0, 581.0, 67.0, 206.0, 206.0, 1919.0, 635.0, 1651.0, 481.0, 1352.0, 79.0, 2303.0, 2034.0, 949.0, 2557.0, 711.0, 1351.0, 1260.0, 585.0, 1640.0, 156.0, 2244.0, 1423.0, 1423.0, 442.0, 1047.0, 2042.0, 1093.0, 1360.0, 1062.0, 2084.0, 2290.0, 1728.0, 1945.0, 1945.0, 1456.0, 2712.0, 68.0, 412.0, 1855.0, 1912.0, 1015.0, 2516.0, 1473.0, 869.0, 460.0, 2153.0, 267.0, 705.0, 860.0, 388.0, 505.0, 2124.0, 2630.0, 2364.0, 2178.0, 149.0, 1691.0, 1659.0, 1833.0, 2708.0, 2328.0, 910.0, 557.0, 1596.0, 2319.0, 1808.0, 707.0, 1469.0, 2403.0, 492.0, 2717.0, 1130.0, 1130.0, 2298.0, 571.0, 571.0, 7.0, 7.0, 2767.0, 617.0, 757.0, 2373.0, 840.0, 840.0, 1201.0, 2104.0, 1748.0, 2212.0, 1518.0, 2339.0, 854.0, 2138.0, 1849.0, 1628.0, 1568.0, 936.0, 936.0, 384.0, 639.0, 2751.0, 2235.0, 898.0, 898.0, 2526.0, 1437.0, 298.0, 914.0, 221.0, 948.0, 84.0, 1881.0, 2443.0, 1494.0, 925.0, 1623.0, 95.0, 2359.0, 877.0, 1083.0, 1585.0, 1910.0, 2149.0, 2713.0, 1786.0, 1787.0, 2449.0, 923.0, 1824.0, 1830.0, 2199.0, 2022.0, 1173.0, 1023.0, 320.0, 1142.0, 1142.0, 296.0, 2331.0, 2134.0, 1497.0, 547.0, 1381.0, 2769.0, 929.0, 280.0, 213.0, 2120.0, 2413.0, 908.0, 1716.0, 1228.0, 77.0, 124.0, 1199.0, 2395.0, 730.0, 370.0, 1446.0, 2661.0, 1389.0, 414.0, 2318.0, 1159.0, 1632.0, 2513.0, 1066.0, 1774.0, 2645.0, 2575.0, 1613.0, 297.0, 93.0, 168.0, 2037.0, 2525.0, 665.0, 2000.0, 2210.0, 678.0, 2033.0, 569.0, 2253.0, 1563.0, 621.0, 2070.0, 1218.0, 1467.0, 2128.0, 2554.0, 620.0, 630.0, 1509.0, 2005.0, 1196.0, 615.0, 2432.0, 285.0, 1037.0, 1508.0, 1605.0, 1923.0, 1466.0, 2635.0, 2402.0, 975.0, 244.0, 2141.0, 1354.0, 852.0, 1588.0, 1109.0, 1378.0, 1226.0, 2.0, 1043.0, 2574.0, 2555.0, 2626.0, 1468.0, 61.0, 1082.0, 2001.0, 1752.0, 1817.0, 1336.0, 552.0, 207.0, 1835.0, 811.0, 410.0, 2404.0, 911.0, 2023.0, 354.0, 1192.0, 1482.0, 1100.0, 353.0, 1386.0, 1635.0, 2146.0, 1519.0, 1423.0, 1533.0, 2387.0, 1380.0, 2617.0, 962.0, 1594.0, 2544.0, 1058.0, 1867.0, 602.0, 1749.0, 1232.0, 1181.0, 2693.0, 464.0, 1890.0, 1969.0, 1969.0, 1204.0, 1640.0, 2324.0, 2303.0, 1826.0, 67.0, 470.0, 1290.0, 1260.0, 1112.0, 1621.0, 1047.0, 412.0, 332.0, 267.0, 1430.0, 363.0, 2580.0, 2084.0, 1538.0, 2314.0, 1745.0, 1352.0, 2042.0, 2124.0, 2364.0, 507.0, 2586.0, 516.0, 608.0, 79.0, 1841.0, 442.0, 2034.0, 1041.0, 956.0, 388.0, 2100.0, 1360.0, 1648.0, 2182.0, 2557.0, 2712.0, 2641.0, 1015.0, 869.0, 585.0, 635.0, 572.0, 711.0, 1122.0, 757.0, 805.0, 1945.0, 175.0, 581.0, 1194.0, 203.0, 203.0, 1902.0, 2178.0, 1586.0, 1983.0, 1093.0, 2708.0, 1691.0, 1691.0, 149.0, 1201.0, 115.0, 1456.0, 1062.0, 696.0, 696.0, 1596.0, 505.0, 2717.0, 1584.0, 1808.0, 666.0, 651.0, 38.0, 1469.0, 860.0, 2125.0, 2326.0, 1659.0, 1293.0, 1748.0, 280.0, 993.0, 492.0, 646.0, 46.0, 2319.0, 2684.0, 1357.0, 1757.0, 1787.0, 923.0, 2449.0, 2331.0, 2373.0, 1304.0, 1304.0, 1830.0, 1283.0, 1928.0, 1623.0, 1173.0, 2443.0, 840.0, 840.0, 2359.0, 1610.0, 1381.0, 1481.0, 1078.0, 1994.0, 2745.0, 2199.0, 2298.0, 2713.0, 561.0, 630.0, 168.0, 124.0, 84.0, 1130.0, 908.0, 571.0, 571.0, 2210.0, 1951.0, 213.0, 569.0, 914.0, 2432.0, 540.0, 621.0, 1632.0, 1300.0, 1044.0, 1605.0, 1494.0, 2104.0, 2736.0, 2769.0, 1568.0, 852.0, 2753.0, 898.0], \"type\": \"scattergeo\"}],\n",
       "                        {\"annotations\": [{\"showarrow\": false, \"text\": \"Projection\", \"x\": 0.1, \"xanchor\": \"right\", \"xref\": \"paper\", \"y\": 0.8, \"yanchor\": \"bottom\"}], \"geo\": {\"countrywidth\": 0.5, \"lakecolor\": \"rgb(0, 255, 255)\", \"landcolor\": \"rgb(230, 145, 56)\", \"lataxis\": {\"gridcolor\": \"rgb(102, 102, 102)\", \"gridwidth\": 0.5, \"showgrid\": true}, \"lonaxis\": {\"gridcolor\": \"rgb(102, 102, 102)\", \"gridwidth\": 0.5, \"showgrid\": true}, \"oceancolor\": \"rgb(0, 255, 255)\", \"projection\": {\"rotation\": {\"lat\": 0, \"lon\": 0, \"roll\": 0}, \"type\": \"orthographic\"}, \"showcountries\": true, \"showlakes\": true, \"showland\": true, \"showocean\": true}, \"margin\": {\"b\": 0, \"l\": 0, \"r\": 0, \"t\": 0}, \"showlegend\": false, \"sliders\": [{\"active\": 18.0, \"currentvalue\": {\"prefix\": \"Longitude: \"}, \"pad\": {\"t\": 0}, \"steps\": [{\"args\": [\"geo.projection.rotation.lon\", -180], \"label\": \"-180\", \"method\": \"relayout\"}, {\"args\": [\"geo.projection.rotation.lon\", -170], \"label\": \"-170\", \"method\": \"relayout\"}, {\"args\": [\"geo.projection.rotation.lon\", -160], \"label\": \"-160\", \"method\": \"relayout\"}, {\"args\": [\"geo.projection.rotation.lon\", -150], \"label\": \"-150\", \"method\": \"relayout\"}, {\"args\": [\"geo.projection.rotation.lon\", -140], \"label\": \"-140\", \"method\": \"relayout\"}, {\"args\": [\"geo.projection.rotation.lon\", -130], \"label\": \"-130\", \"method\": \"relayout\"}, {\"args\": [\"geo.projection.rotation.lon\", -120], \"label\": \"-120\", \"method\": \"relayout\"}, {\"args\": [\"geo.projection.rotation.lon\", -110], \"label\": \"-110\", \"method\": \"relayout\"}, {\"args\": [\"geo.projection.rotation.lon\", -100], \"label\": \"-100\", \"method\": \"relayout\"}, {\"args\": [\"geo.projection.rotation.lon\", -90], \"label\": \"-90\", \"method\": \"relayout\"}, {\"args\": [\"geo.projection.rotation.lon\", -80], \"label\": \"-80\", \"method\": \"relayout\"}, {\"args\": [\"geo.projection.rotation.lon\", -70], \"label\": \"-70\", \"method\": \"relayout\"}, {\"args\": [\"geo.projection.rotation.lon\", -60], \"label\": \"-60\", \"method\": \"relayout\"}, {\"args\": [\"geo.projection.rotation.lon\", -50], \"label\": \"-50\", \"method\": \"relayout\"}, {\"args\": [\"geo.projection.rotation.lon\", -40], \"label\": \"-40\", \"method\": \"relayout\"}, {\"args\": [\"geo.projection.rotation.lon\", -30], \"label\": \"-30\", \"method\": \"relayout\"}, {\"args\": [\"geo.projection.rotation.lon\", -20], \"label\": \"-20\", \"method\": \"relayout\"}, {\"args\": [\"geo.projection.rotation.lon\", -10], \"label\": \"-10\", \"method\": \"relayout\"}, {\"args\": [\"geo.projection.rotation.lon\", 0], \"label\": \"0\", \"method\": \"relayout\"}, {\"args\": [\"geo.projection.rotation.lon\", 10], \"label\": \"10\", \"method\": \"relayout\"}, {\"args\": [\"geo.projection.rotation.lon\", 20], \"label\": \"20\", \"method\": \"relayout\"}, {\"args\": [\"geo.projection.rotation.lon\", 30], \"label\": \"30\", \"method\": \"relayout\"}, {\"args\": [\"geo.projection.rotation.lon\", 40], \"label\": \"40\", \"method\": \"relayout\"}, {\"args\": [\"geo.projection.rotation.lon\", 50], \"label\": \"50\", \"method\": \"relayout\"}, {\"args\": [\"geo.projection.rotation.lon\", 60], \"label\": \"60\", \"method\": \"relayout\"}, {\"args\": [\"geo.projection.rotation.lon\", 70], \"label\": \"70\", \"method\": \"relayout\"}, {\"args\": [\"geo.projection.rotation.lon\", 80], \"label\": \"80\", \"method\": \"relayout\"}, {\"args\": [\"geo.projection.rotation.lon\", 90], \"label\": \"90\", \"method\": \"relayout\"}, {\"args\": [\"geo.projection.rotation.lon\", 100], \"label\": \"100\", \"method\": \"relayout\"}, {\"args\": [\"geo.projection.rotation.lon\", 110], \"label\": \"110\", \"method\": \"relayout\"}, {\"args\": [\"geo.projection.rotation.lon\", 120], \"label\": \"120\", \"method\": \"relayout\"}, {\"args\": [\"geo.projection.rotation.lon\", 130], \"label\": \"130\", \"method\": \"relayout\"}, {\"args\": [\"geo.projection.rotation.lon\", 140], \"label\": \"140\", \"method\": \"relayout\"}, {\"args\": [\"geo.projection.rotation.lon\", 150], \"label\": \"150\", \"method\": \"relayout\"}, {\"args\": [\"geo.projection.rotation.lon\", 160], \"label\": \"160\", \"method\": \"relayout\"}, {\"args\": [\"geo.projection.rotation.lon\", 170], \"label\": \"170\", \"method\": \"relayout\"}]}, {\"active\": 9.0, \"currentvalue\": {\"prefix\": \"Latitude: \"}, \"pad\": {\"t\": 100}, \"steps\": [{\"args\": [\"geo.projection.rotation.lat\", -90], \"label\": \"-90\", \"method\": \"relayout\"}, {\"args\": [\"geo.projection.rotation.lat\", -80], \"label\": \"-80\", \"method\": \"relayout\"}, {\"args\": [\"geo.projection.rotation.lat\", -70], \"label\": \"-70\", \"method\": \"relayout\"}, {\"args\": [\"geo.projection.rotation.lat\", -60], \"label\": \"-60\", \"method\": \"relayout\"}, {\"args\": [\"geo.projection.rotation.lat\", -50], \"label\": \"-50\", \"method\": \"relayout\"}, {\"args\": [\"geo.projection.rotation.lat\", -40], \"label\": \"-40\", \"method\": \"relayout\"}, {\"args\": [\"geo.projection.rotation.lat\", -30], \"label\": \"-30\", \"method\": \"relayout\"}, {\"args\": [\"geo.projection.rotation.lat\", -20], \"label\": \"-20\", \"method\": \"relayout\"}, {\"args\": [\"geo.projection.rotation.lat\", -10], \"label\": \"-10\", \"method\": \"relayout\"}, {\"args\": [\"geo.projection.rotation.lat\", 0], \"label\": \"0\", \"method\": \"relayout\"}, {\"args\": [\"geo.projection.rotation.lat\", 10], \"label\": \"10\", \"method\": \"relayout\"}, {\"args\": [\"geo.projection.rotation.lat\", 20], \"label\": \"20\", \"method\": \"relayout\"}, {\"args\": [\"geo.projection.rotation.lat\", 30], \"label\": \"30\", \"method\": \"relayout\"}, {\"args\": [\"geo.projection.rotation.lat\", 40], \"label\": \"40\", \"method\": \"relayout\"}, {\"args\": [\"geo.projection.rotation.lat\", 50], \"label\": \"50\", \"method\": \"relayout\"}, {\"args\": [\"geo.projection.rotation.lat\", 60], \"label\": \"60\", \"method\": \"relayout\"}, {\"args\": [\"geo.projection.rotation.lat\", 70], \"label\": \"70\", \"method\": \"relayout\"}, {\"args\": [\"geo.projection.rotation.lat\", 80], \"label\": \"80\", \"method\": \"relayout\"}]}], \"template\": {\"data\": {\"bar\": [{\"error_x\": {\"color\": \"#2a3f5f\"}, \"error_y\": {\"color\": \"#2a3f5f\"}, \"marker\": {\"line\": {\"color\": \"#E5ECF6\", \"width\": 0.5}}, \"type\": \"bar\"}], \"barpolar\": [{\"marker\": {\"line\": {\"color\": \"#E5ECF6\", \"width\": 0.5}}, \"type\": \"barpolar\"}], \"carpet\": [{\"aaxis\": {\"endlinecolor\": \"#2a3f5f\", \"gridcolor\": \"white\", \"linecolor\": \"white\", \"minorgridcolor\": \"white\", \"startlinecolor\": \"#2a3f5f\"}, \"baxis\": {\"endlinecolor\": \"#2a3f5f\", \"gridcolor\": \"white\", \"linecolor\": \"white\", \"minorgridcolor\": \"white\", \"startlinecolor\": \"#2a3f5f\"}, \"type\": \"carpet\"}], \"choropleth\": [{\"colorbar\": {\"outlinewidth\": 0, \"ticks\": \"\"}, \"type\": \"choropleth\"}], \"contour\": [{\"colorbar\": {\"outlinewidth\": 0, \"ticks\": \"\"}, \"colorscale\": [[0.0, \"#0d0887\"], [0.1111111111111111, \"#46039f\"], [0.2222222222222222, \"#7201a8\"], [0.3333333333333333, \"#9c179e\"], [0.4444444444444444, \"#bd3786\"], [0.5555555555555556, \"#d8576b\"], [0.6666666666666666, \"#ed7953\"], [0.7777777777777778, \"#fb9f3a\"], [0.8888888888888888, \"#fdca26\"], [1.0, \"#f0f921\"]], \"type\": \"contour\"}], \"contourcarpet\": [{\"colorbar\": {\"outlinewidth\": 0, \"ticks\": \"\"}, \"type\": \"contourcarpet\"}], \"heatmap\": [{\"colorbar\": {\"outlinewidth\": 0, \"ticks\": \"\"}, \"colorscale\": [[0.0, \"#0d0887\"], [0.1111111111111111, \"#46039f\"], [0.2222222222222222, \"#7201a8\"], [0.3333333333333333, \"#9c179e\"], [0.4444444444444444, \"#bd3786\"], [0.5555555555555556, \"#d8576b\"], [0.6666666666666666, \"#ed7953\"], [0.7777777777777778, \"#fb9f3a\"], [0.8888888888888888, \"#fdca26\"], [1.0, \"#f0f921\"]], \"type\": \"heatmap\"}], \"heatmapgl\": [{\"colorbar\": {\"outlinewidth\": 0, \"ticks\": \"\"}, \"colorscale\": [[0.0, \"#0d0887\"], [0.1111111111111111, \"#46039f\"], [0.2222222222222222, \"#7201a8\"], [0.3333333333333333, \"#9c179e\"], [0.4444444444444444, \"#bd3786\"], [0.5555555555555556, \"#d8576b\"], [0.6666666666666666, \"#ed7953\"], [0.7777777777777778, \"#fb9f3a\"], [0.8888888888888888, \"#fdca26\"], [1.0, \"#f0f921\"]], \"type\": \"heatmapgl\"}], \"histogram\": [{\"marker\": {\"colorbar\": {\"outlinewidth\": 0, \"ticks\": \"\"}}, \"type\": \"histogram\"}], \"histogram2d\": [{\"colorbar\": {\"outlinewidth\": 0, \"ticks\": \"\"}, \"colorscale\": [[0.0, \"#0d0887\"], [0.1111111111111111, \"#46039f\"], [0.2222222222222222, \"#7201a8\"], [0.3333333333333333, \"#9c179e\"], [0.4444444444444444, \"#bd3786\"], [0.5555555555555556, \"#d8576b\"], [0.6666666666666666, \"#ed7953\"], [0.7777777777777778, \"#fb9f3a\"], [0.8888888888888888, \"#fdca26\"], [1.0, \"#f0f921\"]], \"type\": \"histogram2d\"}], \"histogram2dcontour\": [{\"colorbar\": {\"outlinewidth\": 0, \"ticks\": \"\"}, \"colorscale\": [[0.0, \"#0d0887\"], [0.1111111111111111, \"#46039f\"], [0.2222222222222222, \"#7201a8\"], [0.3333333333333333, \"#9c179e\"], [0.4444444444444444, \"#bd3786\"], [0.5555555555555556, \"#d8576b\"], [0.6666666666666666, \"#ed7953\"], [0.7777777777777778, \"#fb9f3a\"], [0.8888888888888888, \"#fdca26\"], [1.0, \"#f0f921\"]], \"type\": \"histogram2dcontour\"}], \"mesh3d\": [{\"colorbar\": {\"outlinewidth\": 0, \"ticks\": \"\"}, \"type\": \"mesh3d\"}], \"parcoords\": [{\"line\": {\"colorbar\": {\"outlinewidth\": 0, \"ticks\": \"\"}}, \"type\": \"parcoords\"}], \"scatter\": [{\"marker\": {\"colorbar\": {\"outlinewidth\": 0, \"ticks\": \"\"}}, \"type\": \"scatter\"}], \"scatter3d\": [{\"line\": {\"colorbar\": {\"outlinewidth\": 0, \"ticks\": \"\"}}, \"marker\": {\"colorbar\": {\"outlinewidth\": 0, \"ticks\": \"\"}}, \"type\": \"scatter3d\"}], \"scattercarpet\": [{\"marker\": {\"colorbar\": {\"outlinewidth\": 0, \"ticks\": \"\"}}, \"type\": \"scattercarpet\"}], \"scattergeo\": [{\"marker\": {\"colorbar\": {\"outlinewidth\": 0, \"ticks\": \"\"}}, \"type\": \"scattergeo\"}], \"scattergl\": [{\"marker\": {\"colorbar\": {\"outlinewidth\": 0, \"ticks\": \"\"}}, \"type\": \"scattergl\"}], \"scattermapbox\": [{\"marker\": {\"colorbar\": {\"outlinewidth\": 0, \"ticks\": \"\"}}, \"type\": \"scattermapbox\"}], \"scatterpolar\": [{\"marker\": {\"colorbar\": {\"outlinewidth\": 0, \"ticks\": \"\"}}, \"type\": \"scatterpolar\"}], \"scatterpolargl\": [{\"marker\": {\"colorbar\": {\"outlinewidth\": 0, \"ticks\": \"\"}}, \"type\": \"scatterpolargl\"}], \"scatterternary\": [{\"marker\": {\"colorbar\": {\"outlinewidth\": 0, \"ticks\": \"\"}}, \"type\": \"scatterternary\"}], \"surface\": [{\"colorbar\": {\"outlinewidth\": 0, \"ticks\": \"\"}, \"colorscale\": [[0.0, \"#0d0887\"], [0.1111111111111111, \"#46039f\"], [0.2222222222222222, \"#7201a8\"], [0.3333333333333333, \"#9c179e\"], [0.4444444444444444, \"#bd3786\"], [0.5555555555555556, \"#d8576b\"], [0.6666666666666666, \"#ed7953\"], [0.7777777777777778, \"#fb9f3a\"], [0.8888888888888888, \"#fdca26\"], [1.0, \"#f0f921\"]], \"type\": \"surface\"}], \"table\": [{\"cells\": {\"fill\": {\"color\": \"#EBF0F8\"}, \"line\": {\"color\": \"white\"}}, \"header\": {\"fill\": {\"color\": \"#C8D4E3\"}, \"line\": {\"color\": \"white\"}}, \"type\": \"table\"}]}, \"layout\": {\"annotationdefaults\": {\"arrowcolor\": \"#2a3f5f\", \"arrowhead\": 0, \"arrowwidth\": 1}, \"colorscale\": {\"diverging\": [[0, \"#8e0152\"], [0.1, \"#c51b7d\"], [0.2, \"#de77ae\"], [0.3, \"#f1b6da\"], [0.4, \"#fde0ef\"], [0.5, \"#f7f7f7\"], [0.6, \"#e6f5d0\"], [0.7, \"#b8e186\"], [0.8, \"#7fbc41\"], [0.9, \"#4d9221\"], [1, \"#276419\"]], \"sequential\": [[0.0, \"#0d0887\"], [0.1111111111111111, \"#46039f\"], [0.2222222222222222, \"#7201a8\"], [0.3333333333333333, \"#9c179e\"], [0.4444444444444444, \"#bd3786\"], [0.5555555555555556, \"#d8576b\"], [0.6666666666666666, \"#ed7953\"], [0.7777777777777778, \"#fb9f3a\"], [0.8888888888888888, \"#fdca26\"], [1.0, \"#f0f921\"]], \"sequentialminus\": [[0.0, \"#0d0887\"], [0.1111111111111111, \"#46039f\"], [0.2222222222222222, \"#7201a8\"], [0.3333333333333333, \"#9c179e\"], [0.4444444444444444, \"#bd3786\"], [0.5555555555555556, \"#d8576b\"], [0.6666666666666666, \"#ed7953\"], [0.7777777777777778, \"#fb9f3a\"], [0.8888888888888888, \"#fdca26\"], [1.0, \"#f0f921\"]]}, \"colorway\": [\"#636efa\", \"#EF553B\", \"#00cc96\", \"#ab63fa\", \"#FFA15A\", \"#19d3f3\", \"#FF6692\", \"#B6E880\", \"#FF97FF\", \"#FECB52\"], \"font\": {\"color\": \"#2a3f5f\"}, \"geo\": {\"bgcolor\": \"white\", \"lakecolor\": \"white\", \"landcolor\": \"#E5ECF6\", \"showlakes\": true, \"showland\": true, \"subunitcolor\": \"white\"}, \"hoverlabel\": {\"align\": \"left\"}, \"hovermode\": \"closest\", \"mapbox\": {\"style\": \"light\"}, \"paper_bgcolor\": \"white\", \"plot_bgcolor\": \"#E5ECF6\", \"polar\": {\"angularaxis\": {\"gridcolor\": \"white\", \"linecolor\": \"white\", \"ticks\": \"\"}, \"bgcolor\": \"#E5ECF6\", \"radialaxis\": {\"gridcolor\": \"white\", \"linecolor\": \"white\", \"ticks\": \"\"}}, \"scene\": {\"xaxis\": {\"backgroundcolor\": \"#E5ECF6\", \"gridcolor\": \"white\", \"gridwidth\": 2, \"linecolor\": \"white\", \"showbackground\": true, \"ticks\": \"\", \"zerolinecolor\": \"white\"}, \"yaxis\": {\"backgroundcolor\": \"#E5ECF6\", \"gridcolor\": \"white\", \"gridwidth\": 2, \"linecolor\": \"white\", \"showbackground\": true, \"ticks\": \"\", \"zerolinecolor\": \"white\"}, \"zaxis\": {\"backgroundcolor\": \"#E5ECF6\", \"gridcolor\": \"white\", \"gridwidth\": 2, \"linecolor\": \"white\", \"showbackground\": true, \"ticks\": \"\", \"zerolinecolor\": \"white\"}}, \"shapedefaults\": {\"line\": {\"color\": \"#2a3f5f\"}}, \"ternary\": {\"aaxis\": {\"gridcolor\": \"white\", \"linecolor\": \"white\", \"ticks\": \"\"}, \"baxis\": {\"gridcolor\": \"white\", \"linecolor\": \"white\", \"ticks\": \"\"}, \"bgcolor\": \"#E5ECF6\", \"caxis\": {\"gridcolor\": \"white\", \"linecolor\": \"white\", \"ticks\": \"\"}}, \"title\": {\"x\": 0.05}, \"xaxis\": {\"automargin\": true, \"gridcolor\": \"white\", \"linecolor\": \"white\", \"ticks\": \"\", \"zerolinecolor\": \"white\", \"zerolinewidth\": 2}, \"yaxis\": {\"automargin\": true, \"gridcolor\": \"white\", \"linecolor\": \"white\", \"ticks\": \"\", \"zerolinecolor\": \"white\", \"zerolinewidth\": 2}}}, \"updatemenus\": [{\"buttons\": [{\"args\": [\"geo.projection.type\", \"equirectangular\"], \"label\": \"equirectangular\", \"method\": \"relayout\"}, {\"args\": [\"geo.projection.type\", \"mercator\"], \"label\": \"mercator\", \"method\": \"relayout\"}, {\"args\": [\"geo.projection.type\", \"orthographic\"], \"label\": \"orthographic\", \"method\": \"relayout\"}, {\"args\": [\"geo.projection.type\", \"natural earth\"], \"label\": \"natural earth\", \"method\": \"relayout\"}, {\"args\": [\"geo.projection.type\", \"kavrayskiy7\"], \"label\": \"kavrayskiy7\", \"method\": \"relayout\"}, {\"args\": [\"geo.projection.type\", \"miller\"], \"label\": \"miller\", \"method\": \"relayout\"}, {\"args\": [\"geo.projection.type\", \"robinson\"], \"label\": \"robinson\", \"method\": \"relayout\"}, {\"args\": [\"geo.projection.type\", \"eckert4\"], \"label\": \"eckert4\", \"method\": \"relayout\"}, {\"args\": [\"geo.projection.type\", \"azimuthal equal area\"], \"label\": \"azimuthal equal area\", \"method\": \"relayout\"}, {\"args\": [\"geo.projection.type\", \"azimuthal equidistant\"], \"label\": \"azimuthal equidistant\", \"method\": \"relayout\"}, {\"args\": [\"geo.projection.type\", \"conic equal area\"], \"label\": \"conic equal area\", \"method\": \"relayout\"}, {\"args\": [\"geo.projection.type\", \"conic conformal\"], \"label\": \"conic conformal\", \"method\": \"relayout\"}, {\"args\": [\"geo.projection.type\", \"conic equidistant\"], \"label\": \"conic equidistant\", \"method\": \"relayout\"}, {\"args\": [\"geo.projection.type\", \"gnomonic\"], \"label\": \"gnomonic\", \"method\": \"relayout\"}, {\"args\": [\"geo.projection.type\", \"stereographic\"], \"label\": \"stereographic\", \"method\": \"relayout\"}, {\"args\": [\"geo.projection.type\", \"mollweide\"], \"label\": \"mollweide\", \"method\": \"relayout\"}, {\"args\": [\"geo.projection.type\", \"hammer\"], \"label\": \"hammer\", \"method\": \"relayout\"}, {\"args\": [\"geo.projection.type\", \"transverse mercator\"], \"label\": \"transverse mercator\", \"method\": \"relayout\"}, {\"args\": [\"geo.projection.type\", \"albers usa\"], \"label\": \"albers usa\", \"method\": \"relayout\"}, {\"args\": [\"geo.projection.type\", \"winkel tripel\"], \"label\": \"winkel tripel\", \"method\": \"relayout\"}], \"x\": 0.1, \"y\": 0.8, \"yanchor\": \"top\"}]},\n",
       "                        {\"responsive\": true}\n",
       "                    ).then(function(){\n",
       "                            \n",
       "var gd = document.getElementById('604c4f63-b299-4ea8-9653-1ab50b018a7a');\n",
       "var x = new MutationObserver(function (mutations, observer) {{\n",
       "        var display = window.getComputedStyle(gd).display;\n",
       "        if (!display || display === 'none') {{\n",
       "            console.log([gd, 'removed!']);\n",
       "            Plotly.purge(gd);\n",
       "            observer.disconnect();\n",
       "        }}\n",
       "}});\n",
       "\n",
       "// Listen for the removal of the full notebook cells\n",
       "var notebookContainer = gd.closest('#notebook-container');\n",
       "if (notebookContainer) {{\n",
       "    x.observe(notebookContainer, {childList: true});\n",
       "}}\n",
       "\n",
       "// Listen for the clearing of the current output cell\n",
       "var outputEl = gd.closest('.output');\n",
       "if (outputEl) {{\n",
       "    x.observe(outputEl, {childList: true});\n",
       "}}\n",
       "\n",
       "                        })\n",
       "                };\n",
       "                });\n",
       "            </script>\n",
       "        </div>"
      ]
     },
     "metadata": {},
     "output_type": "display_data"
    }
   ],
   "source": [
    "#using plotly \n",
    "import plotly.offline as py\n",
    "import pandas as pd\n",
    "import numpy as np\n",
    "import plotly.graph_objs as go\n",
    "import json\n",
    "\n",
    "sample_aircarfts_DataFrame['latitude'] = pd.to_numeric(sample_aircarfts_DataFrame['latitude'],errors='coerce')\n",
    "sample_aircarfts_DataFrame['longitude'] = pd.to_numeric(sample_aircarfts_DataFrame['longitude'],errors='coerce')\n",
    "sample_aircarfts_DataFrame['latitude'] = sample_aircarfts_DataFrame['latitude'].astype(float)\n",
    "sample_aircarfts_DataFrame['longitude'] = sample_aircarfts_DataFrame['longitude'].astype(float)\n",
    "sample_aircarfts_DataFrame=sample_aircarfts_DataFrame.dropna()\n",
    "sample_aircarfts_DataFrame = [ dict(\n",
    "        type = 'scattergeo',\n",
    "        locationmode = 'ISO-3',\n",
    "        lon = sample_aircarfts_DataFrame['longitude'],\n",
    "        lat =sample_aircarfts_DataFrame['latitude'] ,\n",
    "        hoverinfo = 'text',\n",
    "        text = sample_aircarfts_DataFrame.aircraft,\n",
    "        mode = 'markers',\n",
    "        marker = dict(\n",
    "            size=3,\n",
    "            color='rgb(45, 100, 147)',\n",
    "            line = dict(\n",
    "                width=3,\n",
    "                color='rgba(68, 68, 68, 0)'\n",
    "            )\n",
    "        ) ,\n",
    "      name='sample_aircarfts')]\n",
    "\n",
    "\n",
    "\n",
    "\n",
    "layout = dict(\n",
    "        margin = dict( t = 0, l = 0, r = 0, b = 0 ),\n",
    "        showlegend = False,         \n",
    "        geo = dict(\n",
    "            showland = True,\n",
    "            showlakes = True,\n",
    "            showcountries = True,\n",
    "            showocean = True,\n",
    "            countrywidth = 0.5,\n",
    "            landcolor = 'rgb(230, 145, 56)',\n",
    "            lakecolor = 'rgb(0, 255, 255)',\n",
    "            oceancolor = 'rgb(0, 255, 255)',\n",
    "            projection = dict( \n",
    "                type = 'orthographic',\n",
    "                rotation = dict(lon = 0, lat = 0, roll = 0 )            \n",
    "            ),\n",
    "            lonaxis = dict( \n",
    "                showgrid = True,\n",
    "                gridcolor = 'rgb(102, 102, 102)',\n",
    "                gridwidth = 0.5\n",
    "            ),\n",
    "            lataxis = dict( \n",
    "                showgrid = True,\n",
    "                gridcolor = 'rgb(102, 102, 102)',\n",
    "                gridwidth = 0.5\n",
    "            )\n",
    "        )\n",
    "    )\n",
    "\n",
    "sliders = []\n",
    "\n",
    "lon_range = np.arange(-180, 180, 10)\n",
    "lat_range = np.arange(-90, 90, 10)\n",
    "\n",
    "sliders.append( \n",
    "    dict(\n",
    "        active = len(lon_range)/2,\n",
    "        currentvalue = {\"prefix\": \"Longitude: \"},\n",
    "        pad = {\"t\": 0},\n",
    "        steps = [{\n",
    "                'method':'relayout', \n",
    "                'label':str(i),\n",
    "                'args':['geo.projection.rotation.lon', i]} for i in lon_range]\n",
    "    )      \n",
    ")\n",
    "\n",
    "sliders.append( \n",
    "    dict(\n",
    "        active = len(lat_range)/2,\n",
    "        currentvalue = {\"prefix\": \"Latitude: \"},\n",
    "        pad = {\"t\": 100},\n",
    "        steps = [{\n",
    "                'method':'relayout', \n",
    "                'label':str(i),\n",
    "                'args':['geo.projection.rotation.lat', i]} for i in lat_range]\n",
    "    )      \n",
    ")\n",
    "\n",
    "projections = [ \"equirectangular\", \"mercator\", \"orthographic\", \"natural earth\",\"kavrayskiy7\", \n",
    "               \"miller\", \"robinson\", \"eckert4\", \"azimuthal equal area\",\"azimuthal equidistant\", \n",
    "               \"conic equal area\", \"conic conformal\", \"conic equidistant\", \"gnomonic\", \"stereographic\", \n",
    "               \"mollweide\", \"hammer\", \"transverse mercator\", \"albers usa\", \"winkel tripel\" ]\n",
    "\n",
    "buttons = [ dict( args=['geo.projection.type', p], label=p, method='relayout' ) for p in projections ]\n",
    "\n",
    "annot = list([ dict( x=0.1, y=0.8, text='Projection', yanchor='bottom', \n",
    "                    xref='paper', xanchor='right', showarrow=False )])\n",
    "\n",
    "# Update Layout Object\n",
    "\n",
    "layout[ 'updatemenus' ] = list([ dict( x=0.1, y=0.8, buttons=buttons, yanchor='top' )])\n",
    "\n",
    "layout[ 'annotations' ] = annot\n",
    "\n",
    "layout[ 'sliders' ] = sliders\n",
    "fig = dict( data=sample_aircarfts_DataFrame , layout=layout )\n",
    "py.iplot( fig)\n"
   ]
  }
 ],
 "metadata": {
  "kernelspec": {
   "display_name": "Python 3",
   "language": "python",
   "name": "python3"
  },
  "language_info": {
   "codemirror_mode": {
    "name": "ipython",
    "version": 3
   },
   "file_extension": ".py",
   "mimetype": "text/x-python",
   "name": "python",
   "nbconvert_exporter": "python",
   "pygments_lexer": "ipython3",
   "version": "3.7.3"
  }
 },
 "nbformat": 4,
 "nbformat_minor": 2
}
