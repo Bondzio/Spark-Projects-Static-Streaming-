{
 "cells": [
  {
   "cell_type": "code",
   "execution_count": null,
   "metadata": {},
   "outputs": [],
   "source": [
    "complete work about Airports'Data Understanding "
   ]
  },
  {
   "cell_type": "code",
   "execution_count": 39,
   "metadata": {
    "scrolled": true
   },
   "outputs": [
    {
     "name": "stdout",
     "output_type": "stream",
     "text": [
      "55536\n",
      "+------+-----+-------------+--------------------+-----------------+------------------+------------+---------+-----------+----------+------------+-----------------+--------+---------+----------+---------+--------------+--------+\n",
      "|    id|ident|         type|                name|     latitude_deg|     longitude_deg|elevation_ft|continent|iso_country|iso_region|municipality|scheduled_service|gps_code|iata_code|local_code|home_link|wikipedia_link|keywords|\n",
      "+------+-----+-------------+--------------------+-----------------+------------------+------------+---------+-----------+----------+------------+-----------------+--------+---------+----------+---------+--------------+--------+\n",
      "|  6523|  00A|     heliport|   Total Rf Heliport|   40.07080078125|-74.93360137939453|        11.0|       NA|         US|     US-PA|    Bensalem|               no|     00A|     null|       00A|     null|          null|    null|\n",
      "|323361| 00AA|small_airport|Aero B Ranch Airport|        38.704022|       -101.473911|      3435.0|       NA|         US|     US-KS|       Leoti|               no|    00AA|     null|      00AA|     null|          null|    null|\n",
      "|  6524| 00AK|small_airport|        Lowell Field|      59.94919968|    -151.695999146|       450.0|       NA|         US|     US-AK|Anchor Point|               no|    00AK|     null|      00AK|     null|          null|    null|\n",
      "|  6525| 00AL|small_airport|        Epps Airpark|34.86479949951172|-86.77030181884766|       820.0|       NA|         US|     US-AL|     Harvest|               no|    00AL|     null|      00AL|     null|          null|    null|\n",
      "|  6526| 00AR|       closed|Newport Hospital ...|          35.6087|        -91.254898|       237.0|       NA|         US|     US-AR|     Newport|               no|    null|     null|      null|     null|          null|    00AR|\n",
      "+------+-----+-------------+--------------------+-----------------+------------------+------------+---------+-----------+----------+------------+-----------------+--------+---------+----------+---------+--------------+--------+\n",
      "only showing top 5 rows\n",
      "\n",
      "(55536, 18)\n"
     ]
    }
   ],
   "source": [
    "import findspark\n",
    "findspark.init()\n",
    "import pyspark # only run after findspark.init()\n",
    "\n",
    "from pyspark.sql import SparkSession\n",
    "from pyspark.context import SparkContext \n",
    "spark = SparkSession.builder.getOrCreate()#create spark session \n",
    "sc = spark.sparkContext#create sparkContext\n",
    "from pyspark.sql.types import  (StructType, \n",
    "                                StructField, \n",
    "                                DateType, \n",
    "                                BooleanType,\n",
    "                                DoubleType,\n",
    "                                IntegerType,\n",
    "                                StringType,\n",
    "                                DecimalType,\n",
    "                                LongType,\n",
    "                                ArrayType,\n",
    "                                TimestampType)\n",
    "\n",
    "# We can let Spark infer the schema of our csv data but proving pre-defined schema makes the reading process faster. \n",
    "#Further,it helps us to make the colum names to have the format we want, for example, to avoid spaces in the names of the columns.\n",
    "#this is a complete csv of airports with correct names \n",
    "airport_schema = StructType([StructField(\"id\",IntegerType(), True),\n",
    "                            StructField(\"ident\", StringType(), True),\n",
    "                            StructField(\"type\", StringType(), True ),\n",
    "                            StructField(\"name\", StringType(), True),\n",
    "                            StructField(\"latitude_deg\", DoubleType(), True  ),\n",
    "                            StructField(\"longitude_deg\", DoubleType(), True ),\n",
    "                            StructField(\"elevation_ft\", DoubleType(), True ),\n",
    "                            StructField(\"continent\",StringType(), True),\n",
    "                            StructField(\"iso_country\",StringType(), True),\n",
    "                            StructField(\"iso_region\", StringType(), True),\n",
    "                            StructField(\"municipality\", StringType(), True),\n",
    "                            StructField(\"scheduled_service\", StringType(), True),\n",
    "                            StructField(\"gps_code\", StringType(), True),\n",
    "                             StructField(\"iata_code\", StringType(), True),\n",
    "                            StructField(\"local_code\", StringType(), True),\n",
    "                            StructField(\"home_link\", StringType(), True),\n",
    "                             StructField(\"wikipedia_link\", StringType(), True),\n",
    "                            StructField(\"keywords\", StringType(), True)\n",
    "                            ])\n",
    "\n",
    "\n",
    "airport = spark.read.csv(\"C:/PFE/TEST/airports.csv\",\n",
    "                       header = True, \n",
    "                        schema = airport_schema)\n",
    "print(airport.count())\n",
    "airport.show(5)\n",
    "print((airport.count(), len(airport.columns)))"
   ]
  },
  {
   "cell_type": "code",
   "execution_count": 40,
   "metadata": {},
   "outputs": [
    {
     "data": {
      "text/plain": [
       "[Row(iso_country='DZ', count=61),\n",
       " Row(iso_country='LT', count=58),\n",
       " Row(iso_country='MM', count=75),\n",
       " Row(iso_country='CI', count=26),\n",
       " Row(iso_country='TC', count=8),\n",
       " Row(iso_country='AZ', count=35),\n",
       " Row(iso_country='FI', count=111),\n",
       " Row(iso_country='SC', count=16),\n",
       " Row(iso_country='PM', count=2),\n",
       " Row(iso_country='UA', count=192)]"
      ]
     },
     "execution_count": 40,
     "metadata": {},
     "output_type": "execute_result"
    }
   ],
   "source": [
    "#group our airports by contry name\n",
    "groupedByRegion = airport.groupby(airport['iso_country']).count()\n",
    "groupedByRegion.head(10)"
   ]
  },
  {
   "cell_type": "code",
   "execution_count": 41,
   "metadata": {},
   "outputs": [
    {
     "name": "stdout",
     "output_type": "stream",
     "text": [
      "+-----------+-----+\n",
      "|iso_country|count|\n",
      "+-----------+-----+\n",
      "|         TN|   15|\n",
      "+-----------+-----+\n",
      "\n"
     ]
    }
   ],
   "source": [
    "#show the count of tunisia airport \n",
    "Tunisia=groupedByRegion.filter(groupedByRegion['iso_country']=='TN')\n",
    "Tunisia.show()"
   ]
  },
  {
   "cell_type": "code",
   "execution_count": 42,
   "metadata": {
    "scrolled": true
   },
   "outputs": [
    {
     "name": "stdout",
     "output_type": "stream",
     "text": [
      "+-------+--------------+--------------------+------------------+------------------+------------+------------+\n",
      "|  ident|          type|                name|      latitude_deg|     longitude_deg|municipality|elevation_ft|\n",
      "+-------+--------------+--------------------+------------------+------------------+------------+------------+\n",
      "|   DT70| small_airport|    Medenine Airport| 33.35020065307617|10.444000244140625|    Medenine|       427.0|\n",
      "|   DTKA|medium_airport|Tabarka 7 Novembr...| 36.97999954223633|  8.87693977355957|     Tabarka|       230.0|\n",
      "|   DTMB|medium_airport|Monastir Habib Bo...| 35.75809860229492| 10.75469970703125|    Monastir|         9.0|\n",
      "|   DTTA| large_airport|Tunis Carthage In...| 36.85100173950195| 10.22719955444336|       Tunis|        22.0|\n",
      "|   DTTB|medium_airport| Sidi Ahmed Air Base|         37.245398|           9.79145|  Sidi Ahmed|        20.0|\n",
      "|   DTTD|medium_airport|     Remada Air Base| 32.30619812011719|10.382100105285645|      Remada|      1004.0|\n",
      "|   DTTF|medium_airport|Gafsa Ksar Intern...|34.422000885009766| 8.822500228881836|       Gafsa|      1060.0|\n",
      "|   DTTG|medium_airport|Gabès Matmata Int...| 33.87689971923828|10.103300094604492|       Gabès|        26.0|\n",
      "|   DTTI| small_airport|Borj El Amri Airport| 36.72129821777344|  9.94314956665039|Borj El Amri|       110.0|\n",
      "|   DTTJ|medium_airport|Djerba Zarzis Int...|            33.875|10.775500297546387|      Djerba|        19.0|\n",
      "|   DTTR|medium_airport|    El Borma Airport|31.704299926757812| 9.254619598388672|    El Borma|       827.0|\n",
      "|   DTTX|medium_airport|Sfax Thyna Intern...| 34.71799850463867|10.690999984741211|        Sfax|        85.0|\n",
      "|   DTTZ|medium_airport|Tozeur Nefta Inte...|33.939701080322266| 8.110560417175293|      Tozeur|       287.0|\n",
      "|TN-0001|      heliport| La Karouba Air Base|37.247406005859375|  9.82906723022461|    Pêcherie|        null|\n",
      "|TN-0002| large_airport|Enfidha - Hammame...|         36.075833|         10.438611|     Enfidha|        21.0|\n",
      "+-------+--------------+--------------------+------------------+------------------+------------+------------+\n",
      "\n"
     ]
    }
   ],
   "source": [
    "#show tunisia airports\n",
    "airport.filter(groupedByRegion['iso_country']=='TN').select('ident','type','name','latitude_deg','longitude_deg','municipality','elevation_ft').show()\n"
   ]
  },
  {
   "cell_type": "code",
   "execution_count": 43,
   "metadata": {
    "scrolled": false
   },
   "outputs": [
    {
     "name": "stdout",
     "output_type": "stream",
     "text": [
      "+-----+-------------+--------------------+------------+------------+-------------+------------+------------+\n",
      "|ident|         type|                name|municipality|latitude_deg|longitude_deg|elevation_ft|    Hashcode|\n",
      "+-----+-------------+--------------------+------------+------------+-------------+------------+------------+\n",
      "|  00A|     heliport|   Total Rf Heliport|    Bensalem|     40.0708|     -74.9336|        11.0|dr4eyyej2d9j|\n",
      "| 00AA|small_airport|Aero B Ranch Airport|       Leoti|    38.70402|   -101.47391|      3435.0|9wzu4vugq8d3|\n",
      "| 00AK|small_airport|        Lowell Field|Anchor Point|     59.9492|     -151.696|       450.0|bdsjh16m7hb9|\n",
      "| 00AL|small_airport|        Epps Airpark|     Harvest|     34.8648|     -86.7703|       820.0|dn4q36zy1mtw|\n",
      "| 00AR|       closed|Newport Hospital ...|     Newport|     35.6087|     -91.2549|       237.0|9yr4e6q5wyb0|\n",
      "| 00AS|small_airport|      Fulton Airport|        Alex|   34.942802|   -97.818016|      1100.0|9y4qy15he42x|\n",
      "| 00AZ|small_airport|      Cordes Airport|      Cordes|     34.3056|     -112.165|      3810.0|9w05pt5uw51q|\n",
      "| 00CA|small_airport|Goldstone /Gts/ A...|     Barstow|     35.3505|     -116.888|      3038.0|9qkch5kg84mx|\n",
      "| 00CL|small_airport| Williams Ag Airport|       Biggs|    39.42719|   -121.76343|        87.0|9r12m1w842xw|\n",
      "| 00CN|     heliport|Kitchen Creek Hel...| Pine Valley|   32.727375|   -116.45974|      3350.0|9mv4jvudg2uh|\n",
      "+-----+-------------+--------------------+------------+------------+-------------+------------+------------+\n",
      "only showing top 10 rows\n",
      "\n"
     ]
    }
   ],
   "source": [
    "# Create geohash of our airport localisation with precision of 12\n",
    "import geohash2\n",
    "import pyspark.sql.functions as F\n",
    "from pyspark.sql.functions import udf\n",
    "from pyspark.sql.types import *\n",
    "from pyspark.sql.functions import udf\n",
    "from pyspark.sql.types import StringType\n",
    "import pandas as pd\n",
    "from math import radians, cos, sin, asin, sqrt\n",
    "from geopy.geocoders import Nominatim\n",
    "from geopy.extra.rate_limiter import RateLimiter\n",
    "\n",
    "\"\"\" create table location  form our ident,type,name,latitude_deg,longitude_deg,municipality,elevation_ft  ;\n",
    "    string to float to use our geoash encode with type float\n",
    "    \n",
    "\"\"\"\n",
    "\n",
    "airport.createOrReplaceTempView(\"location\")\n",
    "airport_sqlDF = spark.sql(\"SELECT ident,type,name,latitude_deg,longitude_deg,municipality,elevation_ft FROM location\")\n",
    "airport_sqlDF_rows = airport_sqlDF.select(\n",
    "        airport_sqlDF.ident,\n",
    "        airport_sqlDF.type,\n",
    "        airport_sqlDF.name,\n",
    "        airport_sqlDF.municipality,\n",
    "        airport_sqlDF.latitude_deg.cast(\"float\"), \n",
    "        airport_sqlDF.longitude_deg.cast(\"float\"),\n",
    "        airport_sqlDF.elevation_ft.cast(\"float\")\n",
    "    )\n",
    "udf1 = F.udf(lambda x,y: geohash2.encode(x,y,precision=12))\n",
    "airport_sqlDF_rows=airport_sqlDF_rows.withColumn('Hashcode', udf1('latitude_deg','longitude_deg'))\n",
    "airport_sqlDF_rows.show(10)"
   ]
  },
  {
   "cell_type": "code",
   "execution_count": 44,
   "metadata": {},
   "outputs": [
    {
     "name": "stdout",
     "output_type": "stream",
     "text": [
      "+-----+-------------+--------------------+------------+------------+-------------+------------+------------+\n",
      "|ident|         type|                name|municipality|latitude_deg|longitude_deg|elevation_ft|    Hashcode|\n",
      "+-----+-------------+--------------------+------------+------------+-------------+------------+------------+\n",
      "| 0TX3|     heliport|UT Health East Te...|    Carthage|   32.166428|     -94.3461|       296.0|9vsyvper089n|\n",
      "| DTTA|large_airport|Tunis Carthage In...|       Tunis|      36.851|      10.2272|        22.0|snx38sx0xh8e|\n",
      "| K08M|small_airport|Carthage-Leake Co...|    Carthage|     32.7612|     -89.5301|       454.0|djb66eypvd23|\n",
      "+-----+-------------+--------------------+------------+------------+-------------+------------+------------+\n",
      "\n",
      "+-----+--------------+--------------------+------------+------------+-------------+------------+------------+\n",
      "|ident|          type|                name|municipality|latitude_deg|longitude_deg|elevation_ft|    Hashcode|\n",
      "+-----+--------------+--------------------+------------+------------+-------------+------------+------------+\n",
      "| DTMB|medium_airport|Monastir Habib Bo...|    Monastir|     35.7581|      10.7547|         9.0|snrektx648tq|\n",
      "+-----+--------------+--------------------+------------+------------+-------------+------------+------------+\n",
      "\n"
     ]
    }
   ],
   "source": [
    "from pyspark.sql.functions import col\n",
    "airport_sqlDF_rows.filter(col('name').contains(\"Carthage\")).show() #show us tunis carthage airport\n",
    "airport_sqlDF_rows.filter(col('name').contains(\"Monastir Habib\")).show() #show us tunis Monastir airport"
   ]
  },
  {
   "cell_type": "code",
   "execution_count": 47,
   "metadata": {},
   "outputs": [
    {
     "data": {
      "text/plain": [
       "('36.851002', '10.227199')"
      ]
     },
     "execution_count": 47,
     "metadata": {},
     "output_type": "execute_result"
    }
   ],
   "source": [
    "#here we can decode our geoash airport Tunis Carthage\n",
    "geohash2.decode('snx38sx0xh8e')"
   ]
  },
  {
   "cell_type": "code",
   "execution_count": 49,
   "metadata": {},
   "outputs": [
    {
     "name": "stdout",
     "output_type": "stream",
     "text": [
      "قرطاج, قرطاج الشاطئ, قرطاج, تونس, 2016, تونس\n",
      "36 51m 5.8572s N, 10 19m 49.5876s E\n",
      "(36.851627, 10.330441)\n",
      "{'place_id': 12223039, 'licence': 'Data © OpenStreetMap contributors, ODbL 1.0. https://osm.org/copyright', 'osm_type': 'node', 'osm_id': 1136727225, 'boundingbox': ['36.691627', '37.011627', '10.170441', '10.490441'], 'lat': '36.851627', 'lon': '10.330441', 'display_name': 'قرطاج, قرطاج الشاطئ, قرطاج, تونس, 2016, تونس', 'class': 'place', 'type': 'city', 'importance': 0.650740883747435, 'icon': 'https://nominatim.openstreetmap.org/images/mapicons/poi_place_city.p.20.png'}\n"
     ]
    }
   ],
   "source": [
    "#with this we can correct the right name  and adrees of airoport /right laltitue and longitude...\n",
    "from geopy.geocoders import Nominatim\n",
    "from geopy.distance import geodesic\n",
    "geolocator = Nominatim(user_agent=\"change name to address\")\n",
    "location = geolocator.geocode(\"Tunis Carthage\")\n",
    "print(location.address)\n",
    "print(location.point)\n",
    "print((location.latitude, location.longitude))\n",
    "print(location.raw)"
   ]
  },
  {
   "cell_type": "code",
   "execution_count": 50,
   "metadata": {},
   "outputs": [
    {
     "name": "stdout",
     "output_type": "stream",
     "text": [
      "127.18489907304748\n"
     ]
    }
   ],
   "source": [
    "#geodesic distance between 2 point \n",
    "from geopy.distance import geodesic\n",
    "Monastir =(35.75809860229492, 10.75469970703125)\n",
    "Tunis= (36.851627, 10.330441)\n",
    "print(geodesic(Monastir, Tunis).km)"
   ]
  },
  {
   "cell_type": "code",
   "execution_count": 51,
   "metadata": {},
   "outputs": [
    {
     "name": "stdout",
     "output_type": "stream",
     "text": [
      "130.1989667289029\n",
      "127.18489907304748\n"
     ]
    }
   ],
   "source": [
    "#distance between 2 geohash tunis and  monastir airports points using geohash.decode \n",
    "print(geodesic(geohash2.decode('snx38sx0xh8e'), geohash2.decode('snrektx648tq')).kilometers)\n",
    "Tunis= (36.851627, 10.330441)\n",
    "Monastir =(35.75809860229492, 10.75469970703125)\n",
    "print (geodesic(Tunis, Monastir).km)"
   ]
  },
  {
   "cell_type": "code",
   "execution_count": 53,
   "metadata": {},
   "outputs": [
    {
     "name": "stdout",
     "output_type": "stream",
     "text": [
      "المطار الدولي المنستير الحبيب بورقيبة, RR 92 طج, صقانص, المنستير, تونس\n"
     ]
    }
   ],
   "source": [
    "#have Name position from laltiude , longitude \n",
    ">>> location = geolocator.reverse(\"35.75809860229492, 10.75469970703125\")\n",
    ">>> print(location.address)"
   ]
  },
  {
   "cell_type": "code",
   "execution_count": 54,
   "metadata": {
    "scrolled": true
   },
   "outputs": [
    {
     "name": "stdout",
     "output_type": "stream",
     "text": [
      "127435.05556109041\n",
      "berlin 933.4107641236288 km\n",
      "vienna 1238.8047757673298 km\n",
      "sydney 16988.546466908156 km\n",
      "madrid 1263.1019239179498 km\n"
     ]
    }
   ],
   "source": [
    "#calculate haversine distance between 2 point A and B en m\n",
    "import math\n",
    "\n",
    "def haversine(coord1, coord2):\n",
    "    R = 6372800  # Earth radius in meters\n",
    "    lat1, lon1 = coord1\n",
    "    lat2, lon2 = coord2\n",
    "    \n",
    "    phi1, phi2 = math.radians(lat1), math.radians(lat2) \n",
    "    dphi       = math.radians(lat2 - lat1)\n",
    "    dlambda    = math.radians(lon2 - lon1)\n",
    "    \n",
    "    a = math.sin(dphi/2)**2 + \\\n",
    "        math.cos(phi1)*math.cos(phi2)*math.sin(dlambda/2)**2\n",
    "    \n",
    "    return 2*R*math.atan2(math.sqrt(a), math.sqrt(1 - a))\n",
    "x=haversine((36.851627, 10.330441), (35.75809860229492, 10.75469970703125))\n",
    "print(x)\n",
    "#other example\n",
    "london_coord = 51.5073219,  -0.1276474\n",
    "cities = {\n",
    "    'berlin': (52.5170365,  13.3888599),\n",
    "    'vienna': (48.2083537,  16.3725042),\n",
    "    'sydney': (-33.8548157, 151.2164539),\n",
    "    'madrid': (40.4167047,  -3.7035825) \n",
    "}\n",
    "distancesgeo=[930723.2019867426,1235650.1412429416,16997984.55171465,1263769.8859593808]\n",
    "for city, coord in cities.items():\n",
    "    distance = geodesic(london_coord, coord)\n",
    "    \n",
    "    print(city, distance)\n",
    " "
   ]
  },
  {
   "cell_type": "code",
   "execution_count": 75,
   "metadata": {},
   "outputs": [
    {
     "name": "stdout",
     "output_type": "stream",
     "text": [
      "<class 'pandas.core.frame.DataFrame'>\n",
      "RangeIndex: 15 entries, 0 to 14\n",
      "Data columns (total 7 columns):\n",
      "ident            15 non-null object\n",
      "type             15 non-null object\n",
      "name             15 non-null object\n",
      "latitude_deg     15 non-null float64\n",
      "longitude_deg    15 non-null float64\n",
      "municipality     15 non-null object\n",
      "elevation_ft     14 non-null float64\n",
      "dtypes: float64(3), object(4)\n",
      "memory usage: 920.0+ bytes\n"
     ]
    }
   ],
   "source": [
    "#using Pandas power  and  folium to visulase our tunisia airoport  data \n",
    "import folium\n",
    "import pandas as pd\n",
    "# Enable Arrow-based columnar data transfers\n",
    "spark.conf.set(\"spark.sql.execution.arrow.enabled\", \"true\")\n",
    "Tunisia_DataFrame = airport.filter(airport['iso_country']=='TN').select('ident','type','name','latitude_deg','longitude_deg','municipality','elevation_ft')\n",
    "Tunisia_DataFrame = pd.DataFrame.from_records(Tunisia_DataFrame.collect(), columns=Tunisia_DataFrame.columns)\n",
    "\n",
    "Tunisia_DataFrame.info()"
   ]
  },
  {
   "cell_type": "code",
   "execution_count": 76,
   "metadata": {},
   "outputs": [
    {
     "data": {
      "text/html": [
       "<div>\n",
       "<style scoped>\n",
       "    .dataframe tbody tr th:only-of-type {\n",
       "        vertical-align: middle;\n",
       "    }\n",
       "\n",
       "    .dataframe tbody tr th {\n",
       "        vertical-align: top;\n",
       "    }\n",
       "\n",
       "    .dataframe thead th {\n",
       "        text-align: right;\n",
       "    }\n",
       "</style>\n",
       "<table border=\"1\" class=\"dataframe\">\n",
       "  <thead>\n",
       "    <tr style=\"text-align: right;\">\n",
       "      <th></th>\n",
       "      <th>ident</th>\n",
       "      <th>type</th>\n",
       "      <th>name</th>\n",
       "      <th>latitude_deg</th>\n",
       "      <th>longitude_deg</th>\n",
       "      <th>municipality</th>\n",
       "      <th>elevation_ft</th>\n",
       "    </tr>\n",
       "  </thead>\n",
       "  <tbody>\n",
       "    <tr>\n",
       "      <th>0</th>\n",
       "      <td>DT70</td>\n",
       "      <td>small_airport</td>\n",
       "      <td>Medenine Airport</td>\n",
       "      <td>33.350201</td>\n",
       "      <td>10.44400</td>\n",
       "      <td>Medenine</td>\n",
       "      <td>427.0</td>\n",
       "    </tr>\n",
       "    <tr>\n",
       "      <th>1</th>\n",
       "      <td>DTKA</td>\n",
       "      <td>medium_airport</td>\n",
       "      <td>Tabarka 7 Novembre Airport</td>\n",
       "      <td>36.980000</td>\n",
       "      <td>8.87694</td>\n",
       "      <td>Tabarka</td>\n",
       "      <td>230.0</td>\n",
       "    </tr>\n",
       "    <tr>\n",
       "      <th>2</th>\n",
       "      <td>DTMB</td>\n",
       "      <td>medium_airport</td>\n",
       "      <td>Monastir Habib Bourguiba International Airport</td>\n",
       "      <td>35.758099</td>\n",
       "      <td>10.75470</td>\n",
       "      <td>Monastir</td>\n",
       "      <td>9.0</td>\n",
       "    </tr>\n",
       "    <tr>\n",
       "      <th>3</th>\n",
       "      <td>DTTA</td>\n",
       "      <td>large_airport</td>\n",
       "      <td>Tunis Carthage International Airport</td>\n",
       "      <td>36.851002</td>\n",
       "      <td>10.22720</td>\n",
       "      <td>Tunis</td>\n",
       "      <td>22.0</td>\n",
       "    </tr>\n",
       "    <tr>\n",
       "      <th>4</th>\n",
       "      <td>DTTB</td>\n",
       "      <td>medium_airport</td>\n",
       "      <td>Sidi Ahmed Air Base</td>\n",
       "      <td>37.245398</td>\n",
       "      <td>9.79145</td>\n",
       "      <td>Sidi Ahmed</td>\n",
       "      <td>20.0</td>\n",
       "    </tr>\n",
       "  </tbody>\n",
       "</table>\n",
       "</div>"
      ],
      "text/plain": [
       "  ident            type                                            name  \\\n",
       "0  DT70   small_airport                                Medenine Airport   \n",
       "1  DTKA  medium_airport                      Tabarka 7 Novembre Airport   \n",
       "2  DTMB  medium_airport  Monastir Habib Bourguiba International Airport   \n",
       "3  DTTA   large_airport            Tunis Carthage International Airport   \n",
       "4  DTTB  medium_airport                             Sidi Ahmed Air Base   \n",
       "\n",
       "   latitude_deg  longitude_deg municipality  elevation_ft  \n",
       "0     33.350201       10.44400     Medenine         427.0  \n",
       "1     36.980000        8.87694      Tabarka         230.0  \n",
       "2     35.758099       10.75470     Monastir           9.0  \n",
       "3     36.851002       10.22720        Tunis          22.0  \n",
       "4     37.245398        9.79145   Sidi Ahmed          20.0  "
      ]
     },
     "execution_count": 76,
     "metadata": {},
     "output_type": "execute_result"
    }
   ],
   "source": [
    "Tunisia_DataFrame.head(5)"
   ]
  },
  {
   "cell_type": "code",
   "execution_count": 77,
   "metadata": {
    "scrolled": true
   },
   "outputs": [
    {
     "data": {
      "text/html": [
       "<div style=\"width:100%;\"><div style=\"position:relative;width:100%;height:0;padding-bottom:60%;\"><iframe src=\"data:text/html;charset=utf-8;base64,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\" style=\"position:absolute;width:100%;height:100%;left:0;top:0;border:none !important;\" allowfullscreen webkitallowfullscreen mozallowfullscreen></iframe></div></div>"
      ],
      "text/plain": [
       "<folium.folium.Map at 0xc36ccf8>"
      ]
     },
     "execution_count": 77,
     "metadata": {},
     "output_type": "execute_result"
    }
   ],
   "source": [
    "#Folium is a very powerful and an intercative visulation tool \n",
    "from folium.plugins import FloatImage\n",
    "# generate a new map\n",
    "folium_map = folium.Map()\n",
    "\n",
    " \n",
    "Tunisia_DataFrame['latitude_deg'] = pd.to_numeric(Tunisia_DataFrame['latitude_deg'],errors='coerce')\n",
    "Tunisia_DataFrame['Longitude'] = pd.to_numeric(Tunisia_DataFrame['longitude_deg'],errors='coerce')\n",
    "Tunisia_DataFrame['latitude_deg'] = Tunisia_DataFrame['latitude_deg'].astype(float)\n",
    "Tunisia_DataFrame['Longitude'] = Tunisia_DataFrame['longitude_deg'].astype(float)\n",
    "Tunisia_DataFrame=Tunisia_DataFrame.dropna()\n",
    "icon = folium.features.CustomIcon('https://cdn.icon-icons.com/icons2/973/PNG/512/Airport_icon-icons.com_74913.png',icon_size=(50, 50))\n",
    "for index, row in Tunisia_DataFrame.iterrows():\n",
    "    folium.Marker([float(row['latitude_deg']),float( row['longitude_deg'])],\n",
    "         popup = ('ident \t: ' + str(row['ident'] ).capitalize() + '<br>'\n",
    "                 'type: ' + str(row['type']) + '<br>'\n",
    "                 'name: ' + str(row['name']) +'<br>'\n",
    "                ),\n",
    "         icon=folium.features.CustomIcon('https://cdn.icon-icons.com/icons2/973/PNG/512/Airport_icon-icons.com_74913.png',icon_size=(50, 50))\n",
    "         ).add_to(folium_map)\n",
    "folium.Marker([51.5183, 0.5206], \n",
    "              popup='East London',\n",
    "              icon=folium.Icon(color='red',icon='university', prefix='fa') \n",
    "             ).add_to(folium_map)\n",
    "url = ('https://raw.githubusercontent.com/SECOORA/static_assets/'\n",
    "       'master/maps/img/rose.png')\n",
    "\n",
    "FloatImage(url, bottom=40, left=80).add_to(folium_map)\n",
    "folium_map"
   ]
  }
 ],
 "metadata": {
  "kernelspec": {
   "display_name": "Python 3",
   "language": "python",
   "name": "python3"
  },
  "language_info": {
   "codemirror_mode": {
    "name": "ipython",
    "version": 3
   },
   "file_extension": ".py",
   "mimetype": "text/x-python",
   "name": "python",
   "nbconvert_exporter": "python",
   "pygments_lexer": "ipython3",
   "version": "3.7.3"
  }
 },
 "nbformat": 4,
 "nbformat_minor": 2
}
