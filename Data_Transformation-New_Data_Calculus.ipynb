{
 "cells": [
  {
   "cell_type": "code",
   "execution_count": 1,
   "metadata": {},
   "outputs": [],
   "source": [
    "import findspark\n",
    "findspark.init()\n",
    "import pyspark # only run after findspark.init()\n",
    "from pyspark.sql import SparkSession\n",
    "from pyspark.context import SparkContext \n",
    "spark = SparkSession.builder.getOrCreate()#create spark session \n",
    "sc = spark.sparkContext#create sparkContext\n",
    "from pyspark.sql.types import  (StructType, \n",
    "                                StructField, \n",
    "                                DateType, \n",
    "                                BooleanType,\n",
    "                                DoubleType,\n",
    "                                IntegerType,\n",
    "                                StringType,\n",
    "                                DecimalType,\n",
    "                                LongType,\n",
    "                                ArrayType,\n",
    "                                TimestampType)\n",
    "import pandas as pd\n",
    "sample_schema = StructType([StructField(\"id\",  IntegerType(), True),\n",
    "                            StructField(\"timeAtServer\", DoubleType(), True),\n",
    "                            StructField(\"aircraft\",  IntegerType(), True ),\n",
    "                            StructField(\"latitude\", DoubleType(), True),\n",
    "                            StructField(\"longitude\", DoubleType(), True  ),\n",
    "                            StructField(\"baroAltitude\", DoubleType(), True ),\n",
    "                            StructField(\"geoAltitude\", DoubleType(), True ),\n",
    "                            StructField(\"numM\",IntegerType(), True),\n",
    "                            StructField(\"measurements\", StringType(), True)           \n",
    "                            ])\n",
    "sample_aircarft = spark.read.csv(\"C:/PFE/TEST/training_1_category_1.csv\",\n",
    "                       header = True, \n",
    "                        schema = sample_schema)\n",
    "sensors_schema = StructType([StructField(\"serial_S\", LongType(), True),\n",
    "                            StructField(\"latitudes\", DoubleType(), True ),\n",
    "                            StructField(\"longitudes\",DoubleType(), True),\n",
    "                            StructField(\"height\",DoubleType(), True),\n",
    "                            StructField(\"type\", StringType(), True)\n",
    "                            ])\n",
    "sensors = spark.read.csv(\"C:/PFE/TEST/sensors.csv\",\n",
    "                       header = True, \n",
    "                        schema = sensors_schema)\n",
    "\n"
   ]
  },
  {
   "cell_type": "code",
   "execution_count": 2,
   "metadata": {},
   "outputs": [
    {
     "data": {
      "text/plain": [
       "0"
      ]
     },
     "execution_count": 2,
     "metadata": {},
     "output_type": "execute_result"
    }
   ],
   "source": [
    "from pyspark.sql.functions import isnan\n",
    "sample_aircarft.na.drop(how = 'all')\n",
    "sample_aircarft.dropDuplicates()\n",
    "sample_aircarft_filtred=sample_aircarft.filter((sample_aircarft.latitude !=0) & (sample_aircarft.longitude != 0) & (sample_aircarft.baroAltitude != 0)& (sample_aircarft.measurements != 'NA'))\n",
    "sensors.na.drop(how = 'all')\n",
    "sensors.dropDuplicates()\n",
    "sensors_filtred=sensors.filter((sensors.latitudes !=0) & (sensors.longitudes != 0))\n",
    "#let's check our work !\n",
    "sample_aircarft_filtred.filter((sample_aircarft_filtred[\"latitude\"] == \"\") | sample_aircarft_filtred[\"latitude\"].isNull() | isnan(sample_aircarft_filtred[\"latitude\"])).count()\n",
    "#Amazing  we have 0 null , nan  values !!!! "
   ]
  },
  {
   "cell_type": "code",
   "execution_count": 127,
   "metadata": {},
   "outputs": [],
   "source": [
    "from pyspark.sql.functions import *\n",
    "sample_aircarft_filtred = sample_aircarft_filtred.withColumn(\"ArrayOfString\", split(col(\"measurements\"), \"\\],\\s*\\[\").cast(ArrayType(StringType())).alias(\"ArrayOfString\"))                                           \n",
    "sample_aircarft_filtred = sample_aircarft_filtred.withColumn(\"sensors_informations\",explode_outer('ArrayOfString'))\n",
    "sample_aircarft_filtred=sample_aircarft_filtred.withColumn(\"sensors_informations\", regexp_replace(col(\"sensors_informations\"), \"[\\\\[\\\\]]\", \"\"))\n",
    "sample_aircarft_filtred=sample_aircarft_filtred.withColumn(\"sensors_informations\",split(col(\"sensors_informations\"), \",\\s*\").cast(ArrayType(IntegerType())).alias(\"sensors informations\"))\n",
    "sample_aircarft_filtred = sample_aircarft_filtred.withColumn(\"serial_F\",sample_aircarft_filtred[\"sensors_informations\"].getItem(0))\n",
    "sample_aircarft_filtred = sample_aircarft_filtred.withColumn(\"timestamp\",sample_aircarft_filtred[\"sensors_informations\"].getItem(1))\n",
    "sample_aircarft_filtred= sample_aircarft_filtred.withColumn(\"signalstrength\",sample_aircarft_filtred[\"sensors_informations\"].getItem(2))\n"
   ]
  },
  {
   "cell_type": "code",
   "execution_count": 125,
   "metadata": {},
   "outputs": [],
   "source": [
    "#==>Data integration: Using multiple databases\n",
    "#spatial join sesnors data + aircrafts data , i used inner join \n",
    "joined_aircarft_sensors=sample_aircarft_filtred.join(sensors_filtred, sample_aircarft_filtred.serial_F == sensors_filtred.serial_S, 'inner')\n"
   ]
  },
  {
   "cell_type": "code",
   "execution_count": 126,
   "metadata": {
    "scrolled": true
   },
   "outputs": [],
   "source": [
    "#==>Data dimensionality reduction:we will reduce baroaltidue ,measurments , arrayofsting , sensorinfo,serial_S columns \n",
    "joined_aircarft_sensors=joined_aircarft_sensors.select('id','timeAtServer','aircraft','latitude','longitude','geoAltitude','baroAltitude','numM','serial_F','timestamp','signalstrength','latitudes','longitudes','height','type')\n"
   ]
  },
  {
   "cell_type": "markdown",
   "metadata": {},
   "source": [
    "# Data Transformation and New Data Calculus\n",
    "Data transformation (also called feature engineering) is a set of actions that covers \n",
    "transformation of the processed data. \n",
    "Engineering features from your data can use some time, \n",
    "but they can enhance the machine learning performance\n",
    "\n",
    "create new columns :\n",
    "\n",
    "-sensor_geohash : geohash Localisation of  sensor\n",
    "\n",
    "-distance2d: distance between the sensor and the aircraft considering lat and lon\n",
    "\n",
    "-distance3d:distance between the sensor and the aircraft considering lat and lon and alt\n",
    "\n",
    "-aircarft_geohash: geohash Localisation of  aircraft\n",
    "\n",
    "-delta_geo_alt_sensor_aircraft:difference in geoaltitudes between sensor and aircraft"
   ]
  },
  {
   "cell_type": "markdown",
   "metadata": {},
   "source": [
    "# Geohash Calculus"
   ]
  },
  {
   "cell_type": "code",
   "execution_count": 6,
   "metadata": {
    "scrolled": true
   },
   "outputs": [
    {
     "name": "stdout",
     "output_type": "stream",
     "text": [
      "+---+------------+--------+----------------+----------------+-----------+------------+----+--------+---------+--------------+---------+----------+-------+-------+----------------+----------------+\n",
      "| id|timeAtServer|aircraft|        latitude|       longitude|geoAltitude|baroAltitude|numM|serial_F|timestamp|signalstrength|latitudes|longitudes| height|   type|Geohash_aircraft|Geohash__sensors|\n",
      "+---+------------+--------+----------------+----------------+-----------+------------+----+--------+---------+--------------+---------+----------+-------+-------+----------------+----------------+\n",
      "|  1|         0.0|    1787|49.5238952636719|7.80282271535773|    6537.96|      6400.8|   3|     463|963309455|             4|49.471601|  7.696532|273.985|GRX1090|    u0v99x9cdgnq|    u0v3rnh2yny4|\n",
      "|  1|         0.0|    1787|49.5238952636719|7.80282271535773|    6537.96|      6400.8|   3|     424|963315122|            27| 49.42498|   7.75332|277.015|GRX1090|    u0v99x9cdgnq|    u0v90mtc3kn3|\n",
      "+---+------------+--------+----------------+----------------+-----------+------------+----+--------+---------+--------------+---------+----------+-------+-------+----------------+----------------+\n",
      "only showing top 2 rows\n",
      "\n"
     ]
    }
   ],
   "source": [
    "import geohash2\n",
    "import pyspark.sql.functions as F\n",
    "from pyspark.sql.types import *\n",
    "import pandas as pd\n",
    "from math import radians, cos, sin, asin, sqrt\n",
    "from geopy.distance import geodesic\n",
    "from geopy.geocoders import Nominatim\n",
    "from geopy.extra.rate_limiter import RateLimiter\n",
    "#to create geohash positions we  need float num (lat, long)\n",
    "joined_aircarft_sensors.baroAltitude.cast(DoubleType())\n",
    "joined_aircarft_sensors.geoAltitude.cast(DoubleType())\n",
    "joined_aircarft_sensors.height.cast(DoubleType())\n",
    "joined_aircarft_sensors.latitude.cast(DoubleType()) \n",
    "joined_aircarft_sensors.longitude.cast(DoubleType()) \n",
    "joined_aircarft_sensors.latitudes.cast(DoubleType()) \n",
    "joined_aircarft_sensors.longitudes.cast(DoubleType()) \n",
    "#we will create geohash with precision of 12 bit \n",
    "udf1 = F.udf(lambda x,y: geohash2.encode(x,y,precision=12))\n",
    "udf2= F.udf(lambda x,y,z,t: geodesic((x,y),(z,t)))\n",
    "joined_aircarft_sensors=joined_aircarft_sensors.withColumn('Geohash_aircraft', udf1('latitude','longitude'))\n",
    "joined_aircarft_sensors=joined_aircarft_sensors.withColumn('Geohash__sensors', udf1('latitudes','longitudes'))\n",
    "joined_aircarft_sensors.show(2)"
   ]
  },
  {
   "cell_type": "markdown",
   "metadata": {},
   "source": [
    "# Distance2D-Distance3D-delta_geo_alt_sensor_aircraft Calculus\n",
    "We have two method to calculate distance betwen two point :haversine vs geodisc(vincenty)\n",
    "==> Vincenty is more accurate "
   ]
  },
  {
   "cell_type": "code",
   "execution_count": 18,
   "metadata": {
    "scrolled": false
   },
   "outputs": [
    {
     "name": "stdout",
     "output_type": "stream",
     "text": [
      "+----------------+----------------+------------------+\n",
      "|Geohash_aircraft|Geohash__sensors|       Distance_3d|\n",
      "+----------------+----------------+------------------+\n",
      "|    u0v99x9cdgnq|    u0v3rnh2yny4|11504.344974715948|\n",
      "|    u0v99x9cdgnq|    u0v90mtc3kn3|13156.682403385497|\n",
      "|    u0v99x9cdgnq|    u0v2mh90ct7g|30604.046409106202|\n",
      "+----------------+----------------+------------------+\n",
      "only showing top 3 rows\n",
      "\n"
     ]
    }
   ],
   "source": [
    "def haversine(coord1, coord2):\n",
    "    R = 6372800  # Earth radius in meters\n",
    "    lat1, lon1 = coord1\n",
    "    lat2, lon2 = coord2\n",
    "    \n",
    "    phi1, phi2 = math.radians(lat1), math.radians(lat2) \n",
    "    dphi       = math.radians(lat2 - lat1)\n",
    "    dlambda    = math.radians(lon2 - lon1)\n",
    "    \n",
    "    a = math.sin(dphi/2)**2 + \\\n",
    "        math.cos(phi1)*math.cos(phi2)*math.sin(dlambda/2)**2\n",
    "    \n",
    "    return 2*R*math.atan2(math.sqrt(a), math.sqrt(1 - a))\n",
    "\n",
    "def get_distance_2d(lat_1, lng_1, lat_2, lng_2): \n",
    "    A =(lat_1, lng_1)\n",
    "    B = (lat_2, lng_2)\n",
    "    d=geodesic(A, B).meters\n",
    "    return d\n",
    "def get_distance_3d(distance_2d, alt1, alt2): \n",
    "    distance_3d = sqrt(distance_2d**2+(alt2-alt1)**2)\n",
    "    return  distance_3d\n",
    "def get_Difference( alt1, alt2): \n",
    "    Difference= alt1-alt2\n",
    "    return Difference\n",
    "udf_get_distance_2d = F.udf(get_distance_2d)\n",
    "udf_get_distance_3d = F.udf(get_distance_3d)\n",
    "udf_get_Difference = F.udf(get_Difference)\n",
    "joined_aircarft_sensors=joined_aircarft_sensors.withColumn('Distance_2d', udf_get_distance_2d('latitude','longitude','latitudes','longitudes').cast(DoubleType()))\n",
    "joined_aircarft_sensors.Distance_2d.cast(DoubleType())\n",
    "joined_aircarft_sensors=joined_aircarft_sensors.withColumn('Distance_3d', udf_get_distance_3d('Distance_2d','geoAltitude','height').cast(DoubleType()))\n",
    "#6)delta_geo_alt_sensor_aircraft, difference in altitudes that of the sensor and that of the aircraft\n",
    "#7)delta_geo_baro_alt, difference between the baro and geo altitudes of the aircraft\n",
    "joined_aircarft_sensors=joined_aircarft_sensors.withColumn('delta_geo_alt_sensor_aircraft', udf_get_Difference('geoAltitude','height'))\n",
    "joined_aircarft_sensors=joined_aircarft_sensors.withColumn('delta_geo_baro_alt', udf_get_Difference('geoAltitude','baroAltitude'))\n",
    "joined_aircarft_sensors.Distance_3d.cast(DoubleType())\n",
    "joined_aircarft_sensors.select('Geohash_aircraft','Geohash__sensors','Distance_3d').show(3)"
   ]
  },
  {
   "cell_type": "markdown",
   "metadata": {},
   "source": [
    "# Summary statistics of our new column "
   ]
  },
  {
   "cell_type": "code",
   "execution_count": 22,
   "metadata": {},
   "outputs": [
    {
     "name": "stdout",
     "output_type": "stream",
     "text": [
      "+-------+-----------------+\n",
      "|summary|      Distance_3d|\n",
      "+-------+-----------------+\n",
      "|  count|          5605604|\n",
      "|   mean|123938.2030413138|\n",
      "| stddev|77746.93135666501|\n",
      "|    min|814.0754814442822|\n",
      "|    max| 987143.325966745|\n",
      "+-------+-----------------+\n",
      "\n"
     ]
    }
   ],
   "source": [
    "joined_aircarft_sensors.select('Distance_3d').describe().show()"
   ]
  },
  {
   "cell_type": "markdown",
   "metadata": {},
   "source": [
    "# Data Discretization/Histograms of 3d Distance:\n",
    "Histograms are a great way to visualize the distributions of a single variable and it is an  initial exploratory analysis with fewer variables."
   ]
  },
  {
   "cell_type": "code",
   "execution_count": 59,
   "metadata": {},
   "outputs": [],
   "source": [
    "import plotly.offline as py\n",
    "import plotly.graph_objs as go\n",
    "import pandas as pd\n",
    "import requests\n",
    "joined_aircarft_sensors.createOrReplaceTempView(\"joined_aircarft_sensors\")\n",
    "DF_3D= spark.sql(\"SELECT id,Distance_3d from joined_aircarft_sensors \")"
   ]
  },
  {
   "cell_type": "code",
   "execution_count": 86,
   "metadata": {},
   "outputs": [
    {
     "name": "stdout",
     "output_type": "stream",
     "text": [
      "+---+------------------+\n",
      "| id|       Distance_3d|\n",
      "+---+------------------+\n",
      "| 82|35742.512186461805|\n",
      "|108|223191.67280533674|\n",
      "|128|117693.69105898959|\n",
      "+---+------------------+\n",
      "only showing top 3 rows\n",
      "\n"
     ]
    }
   ],
   "source": [
    "#due the bad performance of my laptop i will take a sample with fraction of 0.2=20% of data  and seed of 20\n",
    "DF_3D=DF_3D.sample(False, 0.2, 20)\n",
    "DF_3D.show(3)"
   ]
  },
  {
   "cell_type": "markdown",
   "metadata": {},
   "source": [
    "\n",
    "==>it's defined as a process of converting continuous data attribute values into a finite set of intervals with minimal loss of information.\n",
    "\n",
    "-Distances’ Discretization\n",
    "\n",
    "-Signals Strengths Discretization\n",
    "\n",
    "-Altitudes’Discretization\n",
    "\n",
    "- Choice of the number of classes k = 1 + log2 (num of sample alt = N)\n",
    "\n",
    "- The histogram representation consists in grouping the \"close\" observations into classes:\n",
    "\n",
    "- We sort the vector x (denoted x), and we partition the interval] a0; ak]\n",
    "\n",
    "- (a0 <x 1; ak> x n) in k intervals] ai-1; have] called classes.\n",
    "\n",
    "- The width of class i is noted hi = ai- (ai-1) (and h = (ak -a0) / k if not fixed).\n",
    "\n",
    "- N = count | 5605604\n",
    "\n",
    "- Choice of the number of classes k = 1 + log2 (5605604)=7.748\n",
    "\n",
    "- a0 = min | 814.0754814442822 = 814\n",
    "\n",
    "- ak = max | 987143.325966745 =  987143\n",
    "\n",
    "- h = (ak -a0) / k\n",
    "\n",
    "k = 8\n",
    "\n",
    "h = 123291\n",
    "\n",
    "\n",
    "#Binning our data , we can use also use cut() with pandas if we have  small sample \n",
    "\n",
    "#this work will be repeated for the rest of all the column  we want to bin and discretize"
   ]
  },
  {
   "cell_type": "code",
   "execution_count": 117,
   "metadata": {},
   "outputs": [
    {
     "name": "stdout",
     "output_type": "stream",
     "text": [
      "+------------------+----------+------------------+\n",
      "|       Distance_3d|Discret_3d|Discret_3d_ordinal|\n",
      "+------------------+----------+------------------+\n",
      "|35742.512186461805|       0.0|                 A|\n",
      "|223191.67280533674|       1.0|                 B|\n",
      "|117693.69105898959|       0.0|                 A|\n",
      "|101726.07707472403|       0.0|                 A|\n",
      "| 83620.47134375844|       0.0|                 A|\n",
      "+------------------+----------+------------------+\n",
      "only showing top 5 rows\n",
      "\n"
     ]
    }
   ],
   "source": [
    "from pyspark.ml.feature import Bucketizer\n",
    "from pyspark.sql.functions import udf\n",
    "from pyspark.sql.types import *\n",
    "\n",
    "float_distance = F.udf(lambda x: float(x), DoubleType() )\n",
    "bucketizer = Bucketizer(splits=[ 0, 123291, 246582,369873,493164,616455,739746,863037,986328,float('Inf') ],inputCol=\"Distance_3d\", outputCol=\"Discret_3d\")\n",
    "\n",
    "joined_aircarft_sensors_3d = bucketizer.setHandleInvalid(\"skip\").transform(DF_3D)\n",
    "\n",
    "def categorizer(Distance_3d):\n",
    "    if Distance_3d < 123291:\n",
    "        return \"A\"\n",
    "    elif Distance_3d <  246582:\n",
    "        return \"B\"\n",
    "    elif Distance_3d < 369873:\n",
    "        return \"C\"\n",
    "    elif Distance_3d < 493164:\n",
    "        return \"D\"\n",
    "    elif Distance_3d < 616455:\n",
    "        return \"E\"\n",
    "    elif Distance_3d < 739746:\n",
    "        return \"F\"\n",
    "    elif Distance_3d < 863037:\n",
    "        return \"G\"\n",
    "    else: \n",
    "        return \"H\"\n",
    "bucket_udf = udf(categorizer, StringType() )\n",
    "joined_aircarft_sensors_3d = joined_aircarft_sensors_3d.withColumn(\"Discret_3d_ordinal\", bucket_udf(\"Distance_3d\"))\n",
    "joined_aircarft_sensors_3d.select(\"Distance_3d\",'Discret_3d','Discret_3d_ordinal').show(5)"
   ]
  },
  {
   "cell_type": "code",
   "execution_count": 120,
   "metadata": {},
   "outputs": [
    {
     "name": "stdout",
     "output_type": "stream",
     "text": [
      "+------------------+-----+\n",
      "|Discret_3d_ordinal|count|\n",
      "+------------------+-----+\n",
      "|                 E|    1|\n",
      "|                 B| 2183|\n",
      "|                 D|   55|\n",
      "|                 C|  457|\n",
      "|                 A| 3304|\n",
      "+------------------+-----+\n",
      "\n"
     ]
    }
   ],
   "source": [
    "t=joined_aircarft_sensors_3d.groupBy(\"Discret_3d_ordinal\").count()\n",
    "t.show()"
   ]
  },
  {
   "cell_type": "code",
   "execution_count": 121,
   "metadata": {},
   "outputs": [
    {
     "data": {
      "text/html": [
       "<div>\n",
       "<style scoped>\n",
       "    .dataframe tbody tr th:only-of-type {\n",
       "        vertical-align: middle;\n",
       "    }\n",
       "\n",
       "    .dataframe tbody tr th {\n",
       "        vertical-align: top;\n",
       "    }\n",
       "\n",
       "    .dataframe thead th {\n",
       "        text-align: right;\n",
       "    }\n",
       "</style>\n",
       "<table border=\"1\" class=\"dataframe\">\n",
       "  <thead>\n",
       "    <tr style=\"text-align: right;\">\n",
       "      <th></th>\n",
       "      <th>Discret_3d_ordinal</th>\n",
       "      <th>count</th>\n",
       "    </tr>\n",
       "  </thead>\n",
       "  <tbody>\n",
       "    <tr>\n",
       "      <th>0</th>\n",
       "      <td>E</td>\n",
       "      <td>1</td>\n",
       "    </tr>\n",
       "    <tr>\n",
       "      <th>1</th>\n",
       "      <td>B</td>\n",
       "      <td>2183</td>\n",
       "    </tr>\n",
       "    <tr>\n",
       "      <th>2</th>\n",
       "      <td>D</td>\n",
       "      <td>55</td>\n",
       "    </tr>\n",
       "    <tr>\n",
       "      <th>3</th>\n",
       "      <td>C</td>\n",
       "      <td>457</td>\n",
       "    </tr>\n",
       "    <tr>\n",
       "      <th>4</th>\n",
       "      <td>A</td>\n",
       "      <td>3304</td>\n",
       "    </tr>\n",
       "  </tbody>\n",
       "</table>\n",
       "</div>"
      ],
      "text/plain": [
       "  Discret_3d_ordinal  count\n",
       "0                  E      1\n",
       "1                  B   2183\n",
       "2                  D     55\n",
       "3                  C    457\n",
       "4                  A   3304"
      ]
     },
     "execution_count": 121,
     "metadata": {},
     "output_type": "execute_result"
    }
   ],
   "source": [
    "import plotly.graph_objs as go\n",
    "import pandas as pd\n",
    "import requests\n",
    "import matplotlib.pyplot as plt\n",
    "\n",
    "#We can also use matplotlib and Pandas to visualize the total number of each class a,b,c,d,e,f,g,h\n",
    "import pandas as pd\n",
    "\n",
    "%matplotlib inline\n",
    "t_pandas_DataFrame = pd.DataFrame.from_records(t.collect(), columns=t.columns)\n",
    "t_pandas_DataFrame.head(5)"
   ]
  },
  {
   "cell_type": "code",
   "execution_count": 122,
   "metadata": {},
   "outputs": [
    {
     "data": {
      "image/png": "[encoded data removed]",
      "text/plain": [
       "<Figure size 1440x720 with 1 Axes>"
      ]
     },
     "metadata": {
      "needs_background": "light"
     },
     "output_type": "display_data"
    }
   ],
   "source": [
    "t_pandas_DataFrame = t_pandas_DataFrame.sort_values(by ='count' )\n",
    "t_pandas_DataFrame.plot(figsize = (20,10), kind = \"bar\", color = \"red\",\n",
    "                               x = \"Discret_3d_ordinal\", y = \"count\", legend = False)\n",
    "\n",
    "plt.xlabel(\"Discret_3d_ordinal\", fontsize = 18)\n",
    "plt.ylabel(\"count\", fontsize = 18)\n",
    "plt.title(\"Number of similaire distance Per class\", fontsize = 28)\n",
    "plt.xticks(size = 18)\n",
    "plt.yticks(size = 18)\n",
    "plt.show()"
   ]
  }
 ],
 "metadata": {
  "celltoolbar": "Format de la Cellule Texte Brut",
  "kernelspec": {
   "display_name": "Python 3",
   "language": "python",
   "name": "python3"
  },
  "language_info": {
   "codemirror_mode": {
    "name": "ipython",
    "version": 3
   },
   "file_extension": ".py",
   "mimetype": "text/x-python",
   "name": "python",
   "nbconvert_exporter": "python",
   "pygments_lexer": "ipython3",
   "version": "3.7.3"
  }
 },
 "nbformat": 4,
 "nbformat_minor": 2
}
