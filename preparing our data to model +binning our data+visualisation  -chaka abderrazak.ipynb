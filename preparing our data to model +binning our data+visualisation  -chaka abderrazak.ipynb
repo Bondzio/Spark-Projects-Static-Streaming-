{
 "cells": [
  {
   "cell_type": "code",
   "execution_count": 1,
   "metadata": {},
   "outputs": [],
   "source": [
    "import findspark\n",
    "findspark.init()\n",
    "import pyspark # only run after findspark.init()\n",
    "\n",
    "from pyspark.sql import SparkSession\n",
    "from pyspark.context import SparkContext \n",
    "spark = SparkSession.builder.getOrCreate()#create spark session \n",
    "\n",
    "from pyspark.sql.types import  (StructType, \n",
    "                                StructField, \n",
    "                                DateType, \n",
    "                                BooleanType,\n",
    "                                DoubleType,\n",
    "                                IntegerType,\n",
    "                                StringType,\n",
    "                                DecimalType,\n",
    "                                LongType,\n",
    "                                ArrayType,\n",
    "                                TimestampType)\n"
   ]
  },
  {
   "cell_type": "code",
   "execution_count": 2,
   "metadata": {},
   "outputs": [
    {
     "name": "stdout",
     "output_type": "stream",
     "text": [
      "+------+-----------+----------+--------+---------+\n",
      "|serial|  latitudes|longitudes|  height|     type|\n",
      "+------+-----------+----------+--------+---------+\n",
      "|     1|46.68106661|7.66531348|680.9232|    SBS-3|\n",
      "|     2|  40.337042| -3.770206|735.7872|    SBS-3|\n",
      "|     3|        0.0|       0.0|     0.0|    SBS-3|\n",
      "|     4|  47.143056|  7.243889| 550.164|    SBS-3|\n",
      "|     5|  52.356455|  4.952216|     0.0| dump1090|\n",
      "|     6|    47.1742|    8.5247|     0.0|Radarcape|\n",
      "|     7|  38.898671| 22.430724| 60.0456|Radarcape|\n",
      "|     8|  47.849913|12.1293481|  137.16|    SBS-3|\n",
      "|     9| 45.4109439|11.8875289|     0.0|Radarcape|\n",
      "|    10|   47.40017|   8.63068|430.6824|Radarcape|\n",
      "+------+-----------+----------+--------+---------+\n",
      "only showing top 10 rows\n",
      "\n"
     ]
    }
   ],
   "source": [
    "#Sensor Meta Data File Format\n",
    "#The header line of the sensor meta data files is as follows:\n",
    "#serial,latitude,longitude,height,type\n",
    "#serial: the so called \"serial number\" of each sensor is a globally unique identifier for each sensor. \n",
    "#It can be used to join sensor meta information with measurement data.\n",
    "#It is a signed integer and can therefore be negative.\n",
    "#latitude/longitude/height: the three-dimensional location of the receiver.\n",
    "#Latitude and longitude are in decimal degrees (WGS84), height is in meters.\n",
    "#Note that this information is of varying/unknown accuracy since receiver locations are reported to the OpenSky Network in different ways.\n",
    "#For sensors of type dump1090, these location are entered by the users themselves. \n",
    "#Most users use services such as Google Maps or their smart phones to determine the location of their antenna. \n",
    "#This process is prone to errors, but errors should usually be in the range of meters.\n",
    "#Other users report wrong locations intentionally to masquerade their exact location for privacy reasons. \n",
    "#In this case, locations might be off by several kilometers. \n",
    "#For sensors of types Radarcape or GRX1090 the locations should generally be more accurate since they are automatically reported by the integrated GPS receivers and the GPS antenna is usually located close to the ADS-B antenna.\n",
    "#type: the type of the receiver setup. The OpenSky Network currently supports sensors based on the open-source Mode S software decoder dump1090 and the commercial off-the-shelf devices Radarcape, SBS-3, and GRX1090.\n",
    "#The device type also determines the measurement noise distribution and timestamp accuracy. However, note that these things also depend on many other factors (e.g., temperature, inside/outdoor deployment, ...).\n",
    "sensors_schema = StructType([StructField(\"serial\", LongType(), True),\n",
    "                            StructField(\"latitudes\", DoubleType(), True ),\n",
    "                            StructField(\"longitudes\",DoubleType(), True),\n",
    "                            StructField(\"height\",DoubleType(), True),\n",
    "                            StructField(\"type\", StringType(), True)\n",
    "                            ])\n",
    "\n",
    "\n",
    "#Column descriptions\n",
    "\n",
    "#1*serial: unique sensor ID which can be used to join the sensor information with the measurements data.\n",
    "#2*latitude: latitude of the sensor in decimal degrees. \n",
    "# It has been reported either by the sensor hardware or manually by the sensor operator.\n",
    "#3*longitude: longitude of the sensor in decimal degrees.\n",
    "#It has been reported either by the sensor hardware or manually by the sensor operator.\n",
    "#4*height: height of the sensor in meters.\n",
    "#Is has been reported either by the sensor hardware or manually by the sensor operator.\n",
    "#5*type: type of the sensor hardware that was used to record the measurements.\n",
    "\n",
    "\n",
    "\n",
    "sensors = spark.read.csv(\"C:/PFE/TEST/sensors.csv\",\n",
    "                       header = True, \n",
    "                        schema = sensors_schema)\n",
    "\n",
    "sensors.show(10)"
   ]
  },
  {
   "cell_type": "code",
   "execution_count": 3,
   "metadata": {
    "scrolled": true
   },
   "outputs": [
    {
     "name": "stdout",
     "output_type": "stream",
     "text": [
      "+---+-------------------+--------+----------------+------------------+------------+-----------+---------------+--------------------+\n",
      "| id|       timeAtServer|aircraft|        latitude|         longitude|baroAltitude|geoAltitude|numMeasurements|        measurements|\n",
      "+---+-------------------+--------+----------------+------------------+------------+-----------+---------------+--------------------+\n",
      "|  1|                0.0|    1787|49.5238952636719|  7.80282271535773|      6400.8|    6537.96|              3|[[463,963309455,4...|\n",
      "|  2|                0.0|    1605|50.4821311821372|  7.35423320048564|     10363.2|   10500.36|              5|[[463,963756980,2...|\n",
      "|  3|                0.0|    2022|45.9829505015228|  8.61870574951172|     11277.6|   11445.24|              3|[[14,981538828,29...|\n",
      "|  4|0.00100016593933105|    2359|47.8106379104873|  9.30739182692308|     10820.4|   10965.18|              2|[[125,957894484,8...|\n",
      "|  5|0.00100016593933105|    1283|49.8303533004502|  5.40037412901183|      9753.6|     9906.0|              5|[[463,960120430,4...|\n",
      "|  6|0.00300002098083496|    1602|47.5003672454317|  11.9126305213341|      9448.8|     9715.5|              3|[[125,982469546,8...|\n",
      "|  7|0.00400018692016602|    2200|44.6677551269531|  9.30751255580357|     10668.0|    10820.4|              2|[[113,983717296,7...|\n",
      "|  8|0.00400018692016602|     370|43.4799957275391|  9.03995957485465|     10972.8|   11148.06|              3|[[113,988943718,6...|\n",
      "|  9|0.00600004196166992|    1023|51.6607818603516|   4.7578966295397|     11277.6|   11369.04|              2|[[322,967774218,1...|\n",
      "| 10|0.00600004196166992|    1675|            null|              null|     11582.4|       null|              2|[[238,982721828,2...|\n",
      "| 11|0.00699996948242188|    2769|51.0000457763672|  7.77817184860642|     10668.0|    10858.5|              3|[[436,991448093,1...|\n",
      "| 12| 0.0110001564025879|    1154|49.2757415771484|     10.2978515625|      7010.4|    7231.38|              2|[[320,994009906,7...|\n",
      "| 13| 0.0130000114440918|    2037|49.0434722900391|     10.0634765625|     11277.6|   11460.48|              2|[[123,943118953,7...|\n",
      "| 14| 0.0140001773834229|    1421|50.0188751220703|  9.97074327970806|     11582.4|   11750.04|              2|[[123,964976812,3...|\n",
      "| 15| 0.0140001773834229|     547|46.7197793217029|  10.1790390014648|    10660.38|   10843.26|              2|[[123,975310875,7...|\n",
      "| 16| 0.0150001049041748|    1632|51.4753875732422|-0.317786964210313|      5029.2|    5021.58|              2|[[289,984967218,9...|\n",
      "| 17| 0.0160000324249268|    1082|51.1400756835938|  6.91975361592061|     10668.0|   10812.78|              2|[[115,948296796,7...|\n",
      "| 18| 0.0230000019073486|     353|51.5770111083984|  0.63312427417652|    11590.02|   11643.36|              2|[[191,1000735500,...|\n",
      "| 19| 0.0240001678466797|     552|45.7706909179688|  9.33496242616235|     5273.04|    5402.58|              2|[[113,1012356265,...|\n",
      "| 20| 0.0270001888275147|     207|47.0655670166016|  8.09836578369141|     10668.0|    10896.6|              3|[[14,1011661453,1...|\n",
      "+---+-------------------+--------+----------------+------------------+------------+-----------+---------------+--------------------+\n",
      "only showing top 20 rows\n",
      "\n"
     ]
    }
   ],
   "source": [
    "\n",
    "#Measurement Data File Format\n",
    "\n",
    "#The header line of the measurement data files is as follows:\n",
    "#id,timeAtServer,aircraft,latitude,longitude,baroAltitude,geoAltitude,numMeasurements,measurements\n",
    "\n",
    "#1-id: a unique identifier for each received transponder signal. This identifier will be used to join the result file (output of your localization algorithm) with the measurement data.\n",
    "#2-timeAtServer: a timestamp (double) in seconds indicating the time when the information was received by OpenSky's ingestion server.\n",
    "#In each 1h data set, this timestamp starts with 0 and counts up to 3600 seconds. \n",
    "#This timestamp has roughly millisecond accuracy. \n",
    "#Note that this timestamp was determined after propagation delay, processing delay, and Internet delay.\n",
    "#3-aircraft: an aircraft identifier which is unique for each aircraft within each data set. \n",
    "#This identifier allows grouping the measurements that belong to signals from the same transponder.\n",
    "#Note that aircraft 123 in data set X is not the same transponder as aircraft 123 in data set Y. \n",
    "#This means that data sets cannot be combined.\n",
    "#4-latitude/longitude/geoAltitude: the location that was reported by the transmitting aircraft. \n",
    "#As in the sensor meta data, latitude and longitude are provided in decimal degrees (WGS84), geoAltitude in meters. \n",
    "#The accuracy of these location information is generally unknown. \n",
    "#However, most aircraft should report their locations at a decent accuracy (10s of meters accuracy). \n",
    "#It is worth noting here that there are some aircraft sending location information derived from their intertial system rather that their GPS sensor.\n",
    "#In this case, location information is subject to drifting and might be wrong by several hundred meters. \n",
    "#However, this case is rather rare but should nevertheless be considered when cleansing the data.\n",
    "#5-baroAltitude: the barometric altitude reported by the aircraft in meters. \n",
    "#Note that the barometric altitude is weather dependent and might differ from the geometric altitude by several hundred meters.\n",
    "#However, the difference might be learned from \"known\" aircraft and this information could then be used to estimate the geometric altitude or estimate bounds.\n",
    "#6-numMeasurements: the number of measurements, i.e., the number of sensors which received this particular transponder signal.\n",
    "#7-measurements: the measurement data for each receiver which received this particular transponder signal. \n",
    "#The measurement data is provided as a JSON array string containing triples.\n",
    "#Each triple contains the serial number of the sensor which reported the measurement data, the timestamp for the time of arrival of the signal at the receiver (in nanoseconds), and the received signal strength indicator (RSSI).\n",
    "#The exact definition of the RSSI depends on the type of receiver but is usually provided in dB. \n",
    "#The properties of the nanosecond timestamp also strongly depend of the type of receiver. \n",
    "#For dump1090 receivers, these timestamps are generally unsynchronized and typically have a 12MHz resolution. \n",
    "#Unsynchronized timestamp means in particular that these timestamps are subject to (sometimes heavy) drifting. \n",
    "#For Radarcape and GRX1090, these timestamps are usually GPS synchronized and have a resolution of about 40-60MHz. GPS synchronized means that they are constantly resynchronized to compensate for clock drift.\n",
    "sample_schema = StructType([StructField(\"id\",  IntegerType(), True),\n",
    "                            StructField(\"timeAtServer\", DoubleType(), True),\n",
    "                            StructField(\"aircraft\",  IntegerType(), True ),\n",
    "                            StructField(\"latitude\", DoubleType(), True),\n",
    "                            StructField(\"longitude\", DoubleType(), True  ),\n",
    "                            StructField(\"baroAltitude\", DoubleType(), True ),\n",
    "                            StructField(\"geoAltitude\", DoubleType(), True ),\n",
    "                            StructField(\"numMeasurements\",IntegerType(), True),\n",
    "                            StructField(\"measurements\", StringType(), True)           \n",
    "                            ])\n",
    "                               \n",
    "\n",
    "sample_aircarft = spark.read.csv(\"C:/PFE/TEST/sample.csv\",\n",
    "                       header = True, \n",
    "                        schema = sample_schema)\n",
    "\n",
    "\n",
    "sample_aircarft.show()\n"
   ]
  },
  {
   "cell_type": "code",
   "execution_count": 4,
   "metadata": {},
   "outputs": [
    {
     "data": {
      "text/plain": [
       "[Row(id=1, timeAtServer=0.0, aircraft=1787, latitude=49.5238952636719, longitude=7.80282271535773, baroAltitude=6400.8, geoAltitude=6537.96, numMeasurements=3, measurements='[[463,963309455,4],[424,963315122,27],[412,963373222,0]]'),\n",
       " Row(id=2, timeAtServer=0.0, aircraft=1605, latitude=50.4821311821372, longitude=7.35423320048564, baroAltitude=10363.2, geoAltitude=10500.36, numMeasurements=5, measurements='[[463,963756980,25],[238,963870125,32],[115,963663562,91],[412,963820222,34],[394,963815875,138]]'),\n",
       " Row(id=3, timeAtServer=0.0, aircraft=2022, latitude=45.9829505015228, longitude=8.61870574951172, baroAltitude=11277.6, geoAltitude=11445.24, numMeasurements=3, measurements='[[14,981538828,29],[10,981594515,90],[477,981465852,6]]'),\n",
       " Row(id=4, timeAtServer=0.00100016593933105, aircraft=2359, latitude=47.8106379104873, longitude=9.30739182692308, baroAltitude=10820.4, geoAltitude=10965.18, numMeasurements=2, measurements='[[125,957894484,84],[123,957583812,94]]'),\n",
       " Row(id=5, timeAtServer=0.00100016593933105, aircraft=1283, latitude=49.8303533004502, longitude=5.40037412901183, baroAltitude=9753.6, geoAltitude=9906.0, numMeasurements=5, measurements='[[463,960120430,41],[424,960138097,44],[412,960120172,50],[115,960291484,44],[13,960091359,74]]'),\n",
       " Row(id=6, timeAtServer=0.00300002098083496, aircraft=1602, latitude=47.5003672454317, longitude=11.9126305213341, baroAltitude=9448.8, geoAltitude=9715.5, numMeasurements=3, measurements='[[125,982469546,83],[130,982948828,94],[131,982395250,115]]'),\n",
       " Row(id=7, timeAtServer=0.00400018692016602, aircraft=2200, latitude=44.6677551269531, longitude=9.30751255580357, baroAltitude=10668.0, geoAltitude=10820.4, numMeasurements=2, measurements='[[113,983717296,72],[206,983892921,97]]'),\n",
       " Row(id=8, timeAtServer=0.00400018692016602, aircraft=370, latitude=43.4799957275391, longitude=9.03995957485465, baroAltitude=10972.8, geoAltitude=11148.06, numMeasurements=3, measurements='[[113,988943718,66],[130,989605390,59],[206,989123406,44]]'),\n",
       " Row(id=9, timeAtServer=0.00600004196166992, aircraft=1023, latitude=51.6607818603516, longitude=4.7578966295397, baroAltitude=11277.6, geoAltitude=11369.04, numMeasurements=2, measurements='[[322,967774218,101],[394,968088937,83]]'),\n",
       " Row(id=11, timeAtServer=0.00699996948242188, aircraft=2769, latitude=51.0000457763672, longitude=7.77817184860642, baroAltitude=10668.0, geoAltitude=10858.5, numMeasurements=3, measurements='[[436,991448093,121],[394,991261953,92],[238,991177390,76]]')]"
      ]
     },
     "execution_count": 4,
     "metadata": {},
     "output_type": "execute_result"
    }
   ],
   "source": [
    "#drop null data \n",
    "#remove duplicate data \n",
    "#filter Na and null  values for lat , long,measurements ,geoAltitude,baroAltitude\n",
    "sample_aircarft.na.drop()\n",
    "sample_aircarft.dropDuplicates()\n",
    "sample_aircarft=sample_aircarft.filter((sample_aircarft.latitude !=0) & (sample_aircarft.longitude != 0) & (sample_aircarft.baroAltitude != 0)& (sample_aircarft.measurements != 'NA'))\n",
    "sample_aircarft.head(5)\n"
   ]
  },
  {
   "cell_type": "code",
   "execution_count": 5,
   "metadata": {
    "scrolled": true
   },
   "outputs": [
    {
     "name": "stdout",
     "output_type": "stream",
     "text": [
      "+--------+----------------+----------------+-----------+--------------------+------+---------+--------------+\n",
      "|aircraft|        latitude|       longitude|geoAltitude|        measurements|serial|timestamp|signalstrength|\n",
      "+--------+----------------+----------------+-----------+--------------------+------+---------+--------------+\n",
      "|    1787|49.5238952636719|7.80282271535773|    6537.96|[[463,963309455,4...|   463|963309455|             4|\n",
      "|    1787|49.5238952636719|7.80282271535773|    6537.96|[[463,963309455,4...|   424|963315122|            27|\n",
      "|    1787|49.5238952636719|7.80282271535773|    6537.96|[[463,963309455,4...|   412|963373222|             0|\n",
      "|    1605|50.4821311821372|7.35423320048564|   10500.36|[[463,963756980,2...|   463|963756980|            25|\n",
      "|    1605|50.4821311821372|7.35423320048564|   10500.36|[[463,963756980,2...|   238|963870125|            32|\n",
      "|    1605|50.4821311821372|7.35423320048564|   10500.36|[[463,963756980,2...|   115|963663562|            91|\n",
      "|    1605|50.4821311821372|7.35423320048564|   10500.36|[[463,963756980,2...|   412|963820222|            34|\n",
      "|    1605|50.4821311821372|7.35423320048564|   10500.36|[[463,963756980,2...|   394|963815875|           138|\n",
      "|    2022|45.9829505015228|8.61870574951172|   11445.24|[[14,981538828,29...|    14|981538828|            29|\n",
      "|    2022|45.9829505015228|8.61870574951172|   11445.24|[[14,981538828,29...|    10|981594515|            90|\n",
      "+--------+----------------+----------------+-----------+--------------------+------+---------+--------------+\n",
      "only showing top 10 rows\n",
      "\n"
     ]
    }
   ],
   "source": [
    "#in this stage , we create an array of measurements \n",
    "#we explode this array\n",
    "#we transorform each barcklet \n",
    "#for each , we extract sensor informations [sensorID, timestamp, signalstrength]\n",
    "from pyspark.sql.functions import *\n",
    "sample_aircarft = sample_aircarft.withColumn(\"ArrayOfString\", split(col(\"measurements\"), \"\\],\\s*\\[\").cast(ArrayType(StringType())).alias(\"ArrayOfString\"))\n",
    "                                           \n",
    "sample_aircarft = sample_aircarft.withColumn(\"sensors informations\",explode_outer('ArrayOfString'))\n",
    "\n",
    "sample_aircarft=sample_aircarft.withColumn(\"sensors informations\", regexp_replace(col(\"sensors informations\"), \"[\\\\[\\\\]]\", \"\"))\n",
    "sample_aircarft=sample_aircarft.withColumn(\"sensors informations\",split(col(\"sensors informations\"), \",\\s*\").cast(ArrayType(IntegerType())).alias(\"sensors informations\"))\n",
    "sample_aircarft = sample_aircarft.withColumn(\"serial\", sample_aircarft[\"sensors informations\"].getItem(0))\n",
    "sample_aircarft = sample_aircarft.withColumn(\"timestamp\", sample_aircarft[\"sensors informations\"].getItem(1))\n",
    "sample_aircarft = sample_aircarft.withColumn(\"signalstrength\", sample_aircarft[\"sensors informations\"].getItem(2))\n",
    "sample_aircarft.dropDuplicates()\n",
    "sample_aircarft.select('aircraft','latitude','longitude','geoAltitude','measurements','serial','timestamp','signalstrength').show(10)\n"
   ]
  },
  {
   "cell_type": "code",
   "execution_count": 6,
   "metadata": {
    "scrolled": false
   },
   "outputs": [
    {
     "name": "stdout",
     "output_type": "stream",
     "text": [
      "root\n",
      " |-- id: integer (nullable = true)\n",
      " |-- timeAtServer: double (nullable = true)\n",
      " |-- aircraft: integer (nullable = true)\n",
      " |-- latitude: double (nullable = true)\n",
      " |-- longitude: double (nullable = true)\n",
      " |-- baroAltitude: double (nullable = true)\n",
      " |-- geoAltitude: double (nullable = true)\n",
      " |-- numMeasurements: integer (nullable = true)\n",
      " |-- measurements: string (nullable = true)\n",
      " |-- ArrayOfString: array (nullable = true)\n",
      " |    |-- element: string (containsNull = true)\n",
      " |-- sensors informations: array (nullable = true)\n",
      " |    |-- element: integer (containsNull = true)\n",
      " |-- serial: integer (nullable = true)\n",
      " |-- timestamp: integer (nullable = true)\n",
      " |-- signalstrength: integer (nullable = true)\n",
      "\n",
      "root\n",
      " |-- serial: long (nullable = true)\n",
      " |-- latitudes: double (nullable = true)\n",
      " |-- longitudes: double (nullable = true)\n",
      " |-- height: double (nullable = true)\n",
      " |-- type: string (nullable = true)\n",
      "\n"
     ]
    }
   ],
   "source": [
    "sample_aircarft.printSchema()\n",
    "sensors.printSchema()"
   ]
  },
  {
   "cell_type": "code",
   "execution_count": 7,
   "metadata": {},
   "outputs": [
    {
     "name": "stdout",
     "output_type": "stream",
     "text": [
      "+---+-------------------+--------+----------------+----------------+------------+-----------+---------------+--------------------+--------------------+--------------------+------+---------+--------------+------+----------------+----------------+----------+---------+\n",
      "| id|       timeAtServer|aircraft|        latitude|       longitude|baroAltitude|geoAltitude|numMeasurements|        measurements|       ArrayOfString|sensors informations|serial|timestamp|signalstrength|serial|       latitudes|      longitudes|    height|     type|\n",
      "+---+-------------------+--------+----------------+----------------+------------+-----------+---------------+--------------------+--------------------+--------------------+------+---------+--------------+------+----------------+----------------+----------+---------+\n",
      "|  1|                0.0|    1787|49.5238952636719|7.80282271535773|      6400.8|    6537.96|              3|[[463,963309455,4...|[[[463,963309455,...| [463, 963309455, 4]|   463|963309455|             4|   463|       49.471601|        7.696532|   273.985|  GRX1090|\n",
      "|  1|                0.0|    1787|49.5238952636719|7.80282271535773|      6400.8|    6537.96|              3|[[463,963309455,4...|[[[463,963309455,...|[424, 963315122, 27]|   424|963315122|            27|   424|        49.42498|         7.75332|   277.015|  GRX1090|\n",
      "|  1|                0.0|    1787|49.5238952636719|7.80282271535773|      6400.8|    6537.96|              3|[[463,963309455,4...|[[[463,963309455,...| [412, 963373222, 0]|   412|963373222|             0|   412|       49.287572|        7.603982|   410.652|  GRX1090|\n",
      "|  2|                0.0|    1605|50.4821311821372|7.35423320048564|     10363.2|   10500.36|              5|[[463,963756980,2...|[[[463,963756980,...|[463, 963756980, 25]|   463|963756980|            25|   463|       49.471601|        7.696532|   273.985|  GRX1090|\n",
      "|  2|                0.0|    1605|50.4821311821372|7.35423320048564|     10363.2|   10500.36|              5|[[463,963756980,2...|[[[463,963756980,...|[238, 963870125, 32]|   238|963870125|            32|   238|       51.486576|        7.597741|146.599701|Radarcape|\n",
      "|  2|                0.0|    1605|50.4821311821372|7.35423320048564|     10363.2|   10500.36|              5|[[463,963756980,2...|[[[463,963756980,...|[115, 963663562, 91]|   115|963663562|            91|   115|       50.937081|        7.353797|262.311051|Radarcape|\n",
      "|  2|                0.0|    1605|50.4821311821372|7.35423320048564|     10363.2|   10500.36|              5|[[463,963756980,2...|[[[463,963756980,...|[412, 963820222, 34]|   412|963820222|            34|   412|       49.287572|        7.603982|   410.652|  GRX1090|\n",
      "|  2|                0.0|    1605|50.4821311821372|7.35423320048564|     10363.2|   10500.36|              5|[[463,963756980,2...|[[[463,963756980,...|[394, 963815875, ...|   394|963815875|           138|   394|       51.242813|        6.684991| 43.901066|Radarcape|\n",
      "|  3|                0.0|    2022|45.9829505015228|8.61870574951172|     11277.6|   11445.24|              3|[[14,981538828,29...|[[[14,981538828,2...| [14, 981538828, 29]|    14|981538828|            29|    14|47.2482931862621|8.52975659072399|  625.1448|Radarcape|\n",
      "|  3|                0.0|    2022|45.9829505015228|8.61870574951172|     11277.6|   11445.24|              3|[[14,981538828,29...|[[[14,981538828,2...| [10, 981594515, 90]|    10|981594515|            90|    10|        47.40017|         8.63068|  430.6824|Radarcape|\n",
      "|  3|                0.0|    2022|45.9829505015228|8.61870574951172|     11277.6|   11445.24|              3|[[14,981538828,29...|[[[14,981538828,2...| [477, 981465852, 6]|   477|981465852|             6|   477|       47.377785|        8.552484|   500.404|  GRX1090|\n",
      "|  4|0.00100016593933105|    2359|47.8106379104873|9.30739182692308|     10820.4|   10965.18|              2|[[125,957894484,8...|[[[125,957894484,...|[125, 957894484, 84]|   125|957894484|            84|   125|       48.365643|       11.478421|497.984192|Radarcape|\n",
      "|  4|0.00100016593933105|    2359|47.8106379104873|9.30739182692308|     10820.4|   10965.18|              2|[[125,957894484,8...|[[[125,957894484,...|[123, 957583812, 94]|   123|957583812|            94|   123|       47.511948|       10.280076|754.537476|Radarcape|\n",
      "|  5|0.00100016593933105|    1283|49.8303533004502|5.40037412901183|      9753.6|     9906.0|              5|[[463,960120430,4...|[[[463,960120430,...|[463, 960120430, 41]|   463|960120430|            41|   463|       49.471601|        7.696532|   273.985|  GRX1090|\n",
      "|  5|0.00100016593933105|    1283|49.8303533004502|5.40037412901183|      9753.6|     9906.0|              5|[[463,960120430,4...|[[[463,960120430,...|[424, 960138097, 44]|   424|960138097|            44|   424|        49.42498|         7.75332|   277.015|  GRX1090|\n",
      "|  5|0.00100016593933105|    1283|49.8303533004502|5.40037412901183|      9753.6|     9906.0|              5|[[463,960120430,4...|[[[463,960120430,...|[412, 960120172, 50]|   412|960120172|            50|   412|       49.287572|        7.603982|   410.652|  GRX1090|\n",
      "|  5|0.00100016593933105|    1283|49.8303533004502|5.40037412901183|      9753.6|     9906.0|              5|[[463,960120430,4...|[[[463,960120430,...|[115, 960291484, 44]|   115|960291484|            44|   115|       50.937081|        7.353797|262.311051|Radarcape|\n",
      "|  5|0.00100016593933105|    1283|49.8303533004502|5.40037412901183|      9753.6|     9906.0|              5|[[463,960120430,4...|[[[463,960120430,...| [13, 960091359, 74]|    13|960091359|            74|    13|       50.862327|        4.685708|    19.812|Radarcape|\n",
      "|  6|0.00300002098083496|    1602|47.5003672454317|11.9126305213341|      9448.8|     9715.5|              3|[[125,982469546,8...|[[[125,982469546,...|[125, 982469546, 83]|   125|982469546|            83|   125|       48.365643|       11.478421|497.984192|Radarcape|\n",
      "|  6|0.00300002098083496|    1602|47.5003672454317|11.9126305213341|      9448.8|     9715.5|              3|[[125,982469546,8...|[[[125,982469546,...|[130, 982948828, 94]|   130|982948828|            94|   130|       45.692803|        13.74957| 326.47793|Radarcape|\n",
      "+---+-------------------+--------+----------------+----------------+------------+-----------+---------------+--------------------+--------------------+--------------------+------+---------+--------------+------+----------------+----------------+----------+---------+\n",
      "only showing top 20 rows\n",
      "\n"
     ]
    }
   ],
   "source": [
    "#jointure spatial sesnors data + aircrafts data , i used inner join \n",
    "#i used spark sql to join our data \n",
    "sample_aircarft.createOrReplaceTempView(\"datafilghts\")\n",
    "sensors.createOrReplaceTempView(\"sensors\")\n",
    "\n",
    "joinedflights = spark.sql(\"SELECT datafilghts.*, sensors.* FROM datafilghts INNER JOIN sensors ON datafilghts.serial == sensors.serial\")\n",
    "joinedflights .show(5)"
   ]
  },
  {
   "cell_type": "code",
   "execution_count": 8,
   "metadata": {
    "scrolled": false
   },
   "outputs": [
    {
     "name": "stdout",
     "output_type": "stream",
     "text": [
      "+--------+-----+\n",
      "|aircraft|count|\n",
      "+--------+-----+\n",
      "|    2580|   77|\n",
      "|    2387|   78|\n",
      "|    2235|   88|\n",
      "|     540|   45|\n",
      "|     737|   20|\n",
      "|    1352|   37|\n",
      "|     516|   73|\n",
      "|    1270|    4|\n",
      "|    2443|  105|\n",
      "|    2525|   34|\n",
      "|    2748|    2|\n",
      "|     481|   87|\n",
      "|     898|  120|\n",
      "|    1157|    8|\n",
      "|    1787|  145|\n",
      "|     472|   46|\n",
      "|     296|  131|\n",
      "|    1466|   63|\n",
      "|    2238|   29|\n",
      "|    1888|   17|\n",
      "+--------+-----+\n",
      "only showing top 20 rows\n",
      "\n"
     ]
    }
   ],
   "source": [
    "#group our data by aicrafts \n",
    "gr_filghts = joinedflights .groupby(['aircraft'])\n",
    "gr_filghts.count().show()"
   ]
  },
  {
   "cell_type": "code",
   "execution_count": 9,
   "metadata": {
    "scrolled": true
   },
   "outputs": [
    {
     "name": "stdout",
     "output_type": "stream",
     "text": [
      "+----+-----------------+--------+----------------+----------------+------------+-----------+---------------+--------------------+--------------------+--------------------+------+----------+--------------+------+---------+----------+---------+---------+\n",
      "|  id|     timeAtServer|aircraft|        latitude|       longitude|baroAltitude|geoAltitude|numMeasurements|        measurements|       ArrayOfString|sensors informations|serial| timestamp|signalstrength|serial|latitudes|longitudes|   height|     type|\n",
      "+----+-----------------+--------+----------------+----------------+------------+-----------+---------------+--------------------+--------------------+--------------------+------+----------+--------------+------+---------+----------+---------+---------+\n",
      "| 299|0.523000001907349|       2|49.8963643736759|8.40246252111487|      2400.3|     2400.3|              3|[[440,1509552325,...|[[[440,1509552325...|[463, 1509722780,...|   463|1509722780|            34|   463|49.471601|  7.696532|  273.985|  GRX1090|\n",
      "| 299|0.523000001907349|       2|49.8963643736759|8.40246252111487|      2400.3|     2400.3|              3|[[440,1509552325,...|[[[440,1509552325...|[101, 1509672843,...|   101|1509672843|            46|   101|50.048584|  8.487752|92.620644|Radarcape|\n",
      "| 299|0.523000001907349|       2|49.8963643736759|8.40246252111487|      2400.3|     2400.3|              3|[[440,1509552325,...|[[[440,1509552325...|[440, 1509552325,...|   440|1509552325|            24|   440|50.048573|  8.487899|   82.381|  GRX1090|\n",
      "| 615| 1.11700010299683|       2|49.8959454035355|8.40149750580659|     2407.92|    2407.92|              2|[[101,2104674703,...|[[[101,2104674703...|[101, 2104674703,...|   101|2104674703|            81|   101|50.048584|  8.487752|92.620644|Radarcape|\n",
      "| 615| 1.11700010299683|       2|49.8959454035355|8.40149750580659|     2407.92|    2407.92|              2|[[101,2104674703,...|[[[101,2104674703...|[440, 2104554175,...|   440|2104554175|            21|   440|50.048573|  8.487899|   82.381|  GRX1090|\n",
      "| 847| 1.54299998283386|       2|49.8956660901086|8.40075518633868|     2415.54|    2415.54|              3|[[101,2524676140,...|[[[101,2524676140...|          [440,, 33]|   440|      null|            33|   440|50.048573|  8.487899|   82.381|  GRX1090|\n",
      "| 847| 1.54299998283386|       2|49.8956660901086|8.40075518633868|     2415.54|    2415.54|              3|[[101,2524676140,...|[[[101,2524676140...|          [101,, 32]|   101|      null|            32|   101|50.048584|  8.487752|92.620644|Radarcape|\n",
      "| 847| 1.54299998283386|       2|49.8956660901086|8.40075518633868|     2415.54|    2415.54|              3|[[101,2524676140,...|[[[101,2524676140...|          [463,, 45]|   463|      null|            45|   463|49.471601|  7.696532|  273.985|  GRX1090|\n",
      "|1117| 2.03600001335144|       2|49.8952789306641|8.39991519325658|     2423.16|    2423.16|              2|[[101,3024702015,...|[[[101,3024702015...|          [101,, 83]|   101|      null|            83|   101|50.048584|  8.487752|92.620644|Radarcape|\n",
      "|1117| 2.03600001335144|       2|49.8952789306641|8.39991519325658|     2423.16|    2423.16|              2|[[101,3024702015,...|[[[101,3024702015...|          [440,, 14]|   440|      null|            14|   440|50.048573|  8.487899|   82.381|  GRX1090|\n",
      "|1685| 3.12700009346008|       2|49.8945953886388|8.39786014041385|      2438.4|    2446.02|              2|[[440,4109714750,...|[[[440,4109714750...|          [101,, 77]|   101|      null|            77|   101|50.048584|  8.487752|92.620644|Radarcape|\n",
      "|1685| 3.12700009346008|       2|49.8945953886388|8.39786014041385|      2438.4|    2446.02|              2|[[440,4109714750,...|[[[440,4109714750...|           [440,, 0]|   440|      null|             0|   440|50.048573|  8.487899|   82.381|  GRX1090|\n",
      "|2242| 4.11899995803833|       2|49.8939902095471|8.39622703758446|     2453.64|    2461.26|              2|[[101,5104687875,...|[[[101,5104687875...|          [101,, 74]|   101|      null|            74|   101|50.048584|  8.487752|92.620644|Radarcape|\n",
      "|2242| 4.11899995803833|       2|49.8939902095471|8.39622703758446|     2453.64|    2461.26|              2|[[101,5104687875,...|[[[101,5104687875...|          [440,, 50]|   440|      null|            50|   440|50.048573|  8.487899|   82.381|  GRX1090|\n",
      "|2510| 4.63499999046326|       2|49.8936767578125|8.39536164936266|     2461.26|    2461.26|              2|[[440,5609613475,...|[[[440,5609613475...|          [463,, 47]|   463|      null|            47|   463|49.471601|  7.696532|  273.985|  GRX1090|\n",
      "|2510| 4.63499999046326|       2|49.8936767578125|8.39536164936266|     2461.26|    2461.26|              2|[[440,5609613475,...|[[[440,5609613475...|          [440,, 29]|   440|      null|            29|   440|50.048573|  8.487899|   82.381|  GRX1090|\n",
      "|2797|  5.1470000743866|       2|49.8933384782177|8.39451970280828|     2468.88|     2476.5|              2|[[101,6134911640,...|[[[101,6134911640...|          [101,, 87]|   101|      null|            87|   101|50.048584|  8.487752|92.620644|Radarcape|\n",
      "|2797|  5.1470000743866|       2|49.8933384782177|8.39451970280828|     2468.88|     2476.5|              2|[[101,6134911640,...|[[[101,6134911640...|           [440,, 3]|   440|      null|             3|   440|50.048573|  8.487899|   82.381|  GRX1090|\n",
      "|3102| 5.69099998474121|       2|49.8929660603152|8.39348045555321|      2476.5|     2476.5|              3|[[440,6669628800,...|[[[440,6669628800...|          [463,, 71]|   463|      null|            71|   463|49.471601|  7.696532|  273.985|  GRX1090|\n",
      "|3102| 5.69099998474121|       2|49.8929660603152|8.39348045555321|      2476.5|     2476.5|              3|[[440,6669628800,...|[[[440,6669628800...|          [402,, 37]|   402|      null|            37|   402|49.471547|  7.696765|  261.548|  GRX1090|\n",
      "+----+-----------------+--------+----------------+----------------+------------+-----------+---------------+--------------------+--------------------+--------------------+------+----------+--------------+------+---------+----------+---------+---------+\n",
      "only showing top 20 rows\n",
      "\n"
     ]
    }
   ],
   "source": [
    "#sort our data  by distinct aircraft and time at server \n",
    "sorted_flights = joinedflights .orderBy('aircraft','timeAtServer')\n",
    "sorted_flights.show()"
   ]
  },
  {
   "cell_type": "code",
   "execution_count": 10,
   "metadata": {
    "scrolled": true
   },
   "outputs": [
    {
     "name": "stdout",
     "output_type": "stream",
     "text": [
      "+----+-----------------+--------+----------------+----------------+------------+-----------+---------------+--------------------+--------------------+--------------------+------+----------+--------------+------+---------+----------+----------+---------+\n",
      "|  id|     timeAtServer|aircraft|        latitude|       longitude|baroAltitude|geoAltitude|numMeasurements|        measurements|       ArrayOfString|sensors informations|serial| timestamp|signalstrength|serial|latitudes|longitudes|    height|     type|\n",
      "+----+-----------------+--------+----------------+----------------+------------+-----------+---------------+--------------------+--------------------+--------------------+------+----------+--------------+------+---------+----------+----------+---------+\n",
      "| 195|0.384000062942505|    2443| 50.341403767214|6.53738485800253|     7940.04|     8115.3|              3|[[436,1358836953,...|[[[436,1358836953...|[115, 1358729625,...|   115|1358729625|            89|   115|50.937081|  7.353797|262.311051|Radarcape|\n",
      "| 195|0.384000062942505|    2443| 50.341403767214|6.53738485800253|     7940.04|     8115.3|              3|[[436,1358836953,...|[[[436,1358836953...|[394, 1358772343,...|   394|1358772343|           114|   394|51.242813|  6.684991| 43.901066|Radarcape|\n",
      "| 195|0.384000062942505|    2443| 50.341403767214|6.53738485800253|     7940.04|     8115.3|              3|[[436,1358836953,...|[[[436,1358836953...|[436, 1358836953,...|   436|1358836953|            86|   436|51.341648|  5.893123| 39.085175|Radarcape|\n",
      "| 459|0.855000019073486|    2443|50.3425140380859|6.53758801912007|     7932.42|    8100.06|              2|[[115,1823700187,...|[[[115,1823700187...|[115, 1823700187,...|   115|1823700187|            44|   115|50.937081|  7.353797|262.311051|Radarcape|\n",
      "| 459|0.855000019073486|    2443|50.3425140380859|6.53758801912007|     7932.42|    8100.06|              2|[[115,1823700187,...|[[[115,1823700187...|[394, 1823742859,...|   394|1823742859|            86|   394|51.242813|  6.684991| 43.901066|Radarcape|\n",
      "| 739| 1.35300016403198|    2443|50.3435917223914|6.53783024968328|     7932.42|    8107.68|              3|[[101,2338888765,...|[[[101,2338888765...|         [394,, 113]|   394|      null|           113|   394|51.242813|  6.684991| 43.901066|Radarcape|\n",
      "| 739| 1.35300016403198|    2443|50.3435917223914|6.53783024968328|     7932.42|    8107.68|              3|[[101,2338888765,...|[[[101,2338888765...|          [115,, 88]|   115|      null|            88|   115|50.937081|  7.353797|262.311051|Radarcape|\n",
      "| 739| 1.35300016403198|    2443|50.3435917223914|6.53783024968328|     7932.42|    8107.68|              3|[[101,2338888765,...|[[[101,2338888765...|          [101,, 32]|   101|      null|            32|   101|50.048584|  8.487752| 92.620644|Radarcape|\n",
      "|1042| 1.91000008583069|    2443|50.3448486328125|6.53812717747044|      7924.8|    8100.06|              5|[[436,2878814140,...|[[[436,2878814140...|          [436,, 95]|   436|      null|            95|   436|51.341648|  5.893123| 39.085175|Radarcape|\n",
      "|1042| 1.91000008583069|    2443|50.3448486328125|6.53812717747044|      7924.8|    8100.06|              5|[[436,2878814140,...|[[[436,2878814140...|          [322,, 29]|   322|      null|            29|   322|51.833122|  4.142814| -1.820427|Radarcape|\n",
      "+----+-----------------+--------+----------------+----------------+------------+-----------+---------------+--------------------+--------------------+--------------------+------+----------+--------------+------+---------+----------+----------+---------+\n",
      "only showing top 10 rows\n",
      "\n"
     ]
    }
   ],
   "source": [
    "#exapmle of a flight trip 2443\n",
    "sorted_flights.filter('aircraft= 2443').show(10)"
   ]
  },
  {
   "cell_type": "code",
   "execution_count": 12,
   "metadata": {
    "scrolled": true
   },
   "outputs": [
    {
     "name": "stdout",
     "output_type": "stream",
     "text": [
      "+---------+------+------------------+--------------------+------+------------------+------------------+---+\n",
      "|      _c0|   _c1|               _c2|                 _c3|   _c4|               _c5|               _c6|_c7|\n",
      "+---------+------+------------------+--------------------+------+------------------+------------------+---+\n",
      "|  GRX1090|u0v3rn| 5.983492407411455|1.2661237838487739E7|u0v99x|          6263.975|2.1428571428571406|  4|\n",
      "|  GRX1090|u0v90m|7.1863214028947855|   7236350.243007009|u0v99x|          6260.945|2.1428571428571406| 27|\n",
      "|  GRX1090|u0v2mh| 18.61448097967346|   8532266.517099017|u0v99x|          6127.308|2.1428571428571406|  0|\n",
      "|  GRX1090|u0v3rn| 71.45463850655925|   7440449.203457598|u0vppm|         10226.375|1.3235294117647043| 25|\n",
      "|Radarcape|u1jkuu| 70.20053015736349|   8583267.707449172|u0vppm|10353.760299000001|1.3235294117647043| 32|\n",
      "+---------+------+------------------+--------------------+------+------------------+------------------+---+\n",
      "only showing top 5 rows\n",
      "\n",
      "+---------+------+------------------+--------------------+------+------------------+------------------+---+\n",
      "|      _c0|   _c1|               _c2|                 _c3|   _c4|               _c5|               _c6|_c7|\n",
      "+---------+------+------------------+--------------------+------+------------------+------------------+---+\n",
      "|Radarcape|u14yy7|115.74720638435954|   6746771.937126149|u11n2t|10418.360427000001|0.5147058823529426| 99|\n",
      "|Radarcape|gcpxh7| 83.40122341439681|   9842846.687286189|u11n2t|      10235.278983|0.5147058823529426| 63|\n",
      "|Radarcape|u0qjsk|19.272832212562385|1.0690161170616092E7|u0qh0r|        10702.1376|1.4583333333333375|148|\n",
      "|Radarcape|u0qjke|16.323115445103337|   7235244.484539818|u0qh0r|      10474.633147|1.4583333333333375|105|\n",
      "|  GRX1090|u0qjd8|16.512117179814684|   5196697.271399661|u0qh0r|         10632.416|1.4583333333333375|  0|\n",
      "+---------+------+------------------+--------------------+------+------------------+------------------+---+\n",
      "only showing top 5 rows\n",
      "\n",
      "+-----------+--------------+--------+----------+----------------+--------------------+------------------+---------------+\n",
      "|        _c0|           _c1|     _c2|       _c3|             _c4|                 _c5|               _c6|            _c7|\n",
      "+-----------+--------------+--------+----------+----------------+--------------------+------------------+---------------+\n",
      "|sensor_type|sensor_geohash|distance|distance3d|aircarft_geohash|delta_geo_alt_sen...|delta_geo_baro_alt|signal_strength|\n",
      "+-----------+--------------+--------+----------+----------------+--------------------+------------------+---------------+\n",
      "\n",
      "root\n",
      " |-- id: integer (nullable = true)\n",
      " |-- timeAtServer: double (nullable = true)\n",
      " |-- aircraft: integer (nullable = true)\n",
      " |-- latitude: double (nullable = true)\n",
      " |-- longitude: double (nullable = true)\n",
      " |-- baroAltitude: double (nullable = true)\n",
      " |-- geoAltitude: double (nullable = true)\n",
      " |-- numMeasurements: integer (nullable = true)\n",
      " |-- measurements: string (nullable = true)\n",
      " |-- ArrayOfString: array (nullable = true)\n",
      " |    |-- element: string (containsNull = true)\n",
      " |-- sensors informations: array (nullable = true)\n",
      " |    |-- element: integer (containsNull = true)\n",
      " |-- serial: integer (nullable = true)\n",
      " |-- timestamp: integer (nullable = true)\n",
      " |-- signalstrength: integer (nullable = true)\n",
      " |-- serial: long (nullable = true)\n",
      " |-- latitudes: double (nullable = true)\n",
      " |-- longitudes: double (nullable = true)\n",
      " |-- height: double (nullable = true)\n",
      " |-- type: string (nullable = true)\n",
      "\n"
     ]
    },
    {
     "data": {
      "text/plain": [
       "Row(_c0='sensor_type', _c1='sensor_geohash', _c2='distance', _c3='distance3d', _c4='aircarft_geohash', _c5='delta_geo_alt_sensor_aircraft', _c6='delta_geo_baro_alt', _c7='signal_strength')"
      ]
     },
     "execution_count": 12,
     "metadata": {},
     "output_type": "execute_result"
    }
   ],
   "source": [
    "t2= spark.read.csv(\"C:/PFE/TEST/t1.csv\")\n",
    "t3= spark.read.csv(\"C:/PFE/TEST/t2.csv\")\n",
    "t4= spark.read.csv(\"C:/PFE/TEST/header.csv\")\n",
    "t2.show(5)\n",
    "t3.show(5)\n",
    "t4.show(5)\n",
    "sorted_flights.printSchema()\n",
    "t4.head()"
   ]
  },
  {
   "cell_type": "code",
   "execution_count": null,
   "metadata": {},
   "outputs": [],
   "source": []
  },
  {
   "cell_type": "code",
   "execution_count": 13,
   "metadata": {},
   "outputs": [
    {
     "name": "stdout",
     "output_type": "stream",
     "text": [
      "+----+-----------------+--------+----------------+----------------+------------+-----------+---------------+--------------------+--------------------+--------------------+------+----------+--------------+------+---------+----------+---------+---------+-----------------+----------------+\n",
      "|  id|     timeAtServer|aircraft|        latitude|       longitude|baroAltitude|geoAltitude|numMeasurements|        measurements|       ArrayOfString|sensors informations|serial| timestamp|signalstrength|serial|latitudes|longitudes|   height|     type|Hashcode aircraft|Hashcode sensors|\n",
      "+----+-----------------+--------+----------------+----------------+------------+-----------+---------------+--------------------+--------------------+--------------------+------+----------+--------------+------+---------+----------+---------+---------+-----------------+----------------+\n",
      "| 299|0.523000001907349|       2|49.8963643736759|8.40246252111487|      2400.3|     2400.3|              3|[[440,1509552325,...|[[[440,1509552325...|[440, 1509552325,...|   440|1509552325|            24|   440|50.048573|  8.487899|   82.381|  GRX1090|           u0vgz5|          u0yh9p|\n",
      "| 299|0.523000001907349|       2|49.8963643736759|8.40246252111487|      2400.3|     2400.3|              3|[[440,1509552325,...|[[[440,1509552325...|[101, 1509672843,...|   101|1509672843|            46|   101|50.048584|  8.487752|92.620644|Radarcape|           u0vgz5|          u0yh9p|\n",
      "| 299|0.523000001907349|       2|49.8963643736759|8.40246252111487|      2400.3|     2400.3|              3|[[440,1509552325,...|[[[440,1509552325...|[463, 1509722780,...|   463|1509722780|            34|   463|49.471601|  7.696532|  273.985|  GRX1090|           u0vgz5|          u0v3rn|\n",
      "| 615| 1.11700010299683|       2|49.8959454035355|8.40149750580659|     2407.92|    2407.92|              2|[[101,2104674703,...|[[[101,2104674703...|[101, 2104674703,...|   101|2104674703|            81|   101|50.048584|  8.487752|92.620644|Radarcape|           u0vgz5|          u0yh9p|\n",
      "| 615| 1.11700010299683|       2|49.8959454035355|8.40149750580659|     2407.92|    2407.92|              2|[[101,2104674703,...|[[[101,2104674703...|[440, 2104554175,...|   440|2104554175|            21|   440|50.048573|  8.487899|   82.381|  GRX1090|           u0vgz5|          u0yh9p|\n",
      "| 847| 1.54299998283386|       2|49.8956660901086|8.40075518633868|     2415.54|    2415.54|              3|[[101,2524676140,...|[[[101,2524676140...|          [101,, 32]|   101|      null|            32|   101|50.048584|  8.487752|92.620644|Radarcape|           u0vgz5|          u0yh9p|\n",
      "| 847| 1.54299998283386|       2|49.8956660901086|8.40075518633868|     2415.54|    2415.54|              3|[[101,2524676140,...|[[[101,2524676140...|          [440,, 33]|   440|      null|            33|   440|50.048573|  8.487899|   82.381|  GRX1090|           u0vgz5|          u0yh9p|\n",
      "| 847| 1.54299998283386|       2|49.8956660901086|8.40075518633868|     2415.54|    2415.54|              3|[[101,2524676140,...|[[[101,2524676140...|          [463,, 45]|   463|      null|            45|   463|49.471601|  7.696532|  273.985|  GRX1090|           u0vgz5|          u0v3rn|\n",
      "|1117| 2.03600001335144|       2|49.8952789306641|8.39991519325658|     2423.16|    2423.16|              2|[[101,3024702015,...|[[[101,3024702015...|          [101,, 83]|   101|      null|            83|   101|50.048584|  8.487752|92.620644|Radarcape|           u0vgz5|          u0yh9p|\n",
      "|1117| 2.03600001335144|       2|49.8952789306641|8.39991519325658|     2423.16|    2423.16|              2|[[101,3024702015,...|[[[101,3024702015...|          [440,, 14]|   440|      null|            14|   440|50.048573|  8.487899|   82.381|  GRX1090|           u0vgz5|          u0yh9p|\n",
      "|1685| 3.12700009346008|       2|49.8945953886388|8.39786014041385|      2438.4|    2446.02|              2|[[440,4109714750,...|[[[440,4109714750...|           [440,, 0]|   440|      null|             0|   440|50.048573|  8.487899|   82.381|  GRX1090|           u0vgz5|          u0yh9p|\n",
      "|1685| 3.12700009346008|       2|49.8945953886388|8.39786014041385|      2438.4|    2446.02|              2|[[440,4109714750,...|[[[440,4109714750...|          [101,, 77]|   101|      null|            77|   101|50.048584|  8.487752|92.620644|Radarcape|           u0vgz5|          u0yh9p|\n",
      "|2242| 4.11899995803833|       2|49.8939902095471|8.39622703758446|     2453.64|    2461.26|              2|[[101,5104687875,...|[[[101,5104687875...|          [101,, 74]|   101|      null|            74|   101|50.048584|  8.487752|92.620644|Radarcape|           u0vgz4|          u0yh9p|\n",
      "|2242| 4.11899995803833|       2|49.8939902095471|8.39622703758446|     2453.64|    2461.26|              2|[[101,5104687875,...|[[[101,5104687875...|          [440,, 50]|   440|      null|            50|   440|50.048573|  8.487899|   82.381|  GRX1090|           u0vgz4|          u0yh9p|\n",
      "|2510| 4.63499999046326|       2|49.8936767578125|8.39536164936266|     2461.26|    2461.26|              2|[[440,5609613475,...|[[[440,5609613475...|          [440,, 29]|   440|      null|            29|   440|50.048573|  8.487899|   82.381|  GRX1090|           u0vgz4|          u0yh9p|\n",
      "|2510| 4.63499999046326|       2|49.8936767578125|8.39536164936266|     2461.26|    2461.26|              2|[[440,5609613475,...|[[[440,5609613475...|          [463,, 47]|   463|      null|            47|   463|49.471601|  7.696532|  273.985|  GRX1090|           u0vgz4|          u0v3rn|\n",
      "|2797|  5.1470000743866|       2|49.8933384782177|8.39451970280828|     2468.88|     2476.5|              2|[[101,6134911640,...|[[[101,6134911640...|          [101,, 87]|   101|      null|            87|   101|50.048584|  8.487752|92.620644|Radarcape|           u0vgz4|          u0yh9p|\n",
      "|2797|  5.1470000743866|       2|49.8933384782177|8.39451970280828|     2468.88|     2476.5|              2|[[101,6134911640,...|[[[101,6134911640...|           [440,, 3]|   440|      null|             3|   440|50.048573|  8.487899|   82.381|  GRX1090|           u0vgz4|          u0yh9p|\n",
      "|3102| 5.69099998474121|       2|49.8929660603152|8.39348045555321|      2476.5|     2476.5|              3|[[440,6669628800,...|[[[440,6669628800...|          [440,, 47]|   440|      null|            47|   440|50.048573|  8.487899|   82.381|  GRX1090|           u0vgyf|          u0yh9p|\n",
      "|3102| 5.69099998474121|       2|49.8929660603152|8.39348045555321|      2476.5|     2476.5|              3|[[440,6669628800,...|[[[440,6669628800...|          [463,, 71]|   463|      null|            71|   463|49.471601|  7.696532|  273.985|  GRX1090|           u0vgyf|          u0v3rn|\n",
      "+----+-----------------+--------+----------------+----------------+------------+-----------+---------------+--------------------+--------------------+--------------------+------+----------+--------------+------+---------+----------+---------+---------+-----------------+----------------+\n",
      "only showing top 20 rows\n",
      "\n"
     ]
    }
   ],
   "source": [
    "#create new column \n",
    "#1)sensor_type\n",
    "#2)sensor_geohash : geohash du sensor ou se trouve t il?\n",
    "#3)distance: distance entre le sensor et le aircraft en considerant lat et lon\n",
    "#4)distance3d, distance entre le sensor et le aircraft en considerant lat et lon et alt\n",
    "#5)aircarft_geohash, geohash du aircraft\n",
    "#6)delta_geo_alt_sensor_aircraft, difference des altitudes celle du sensor et celle de l'aircraft\n",
    "#7)delta_geo_baro_alt, difference des altitudes baro et geo du aircraft\n",
    "#9)signal_strength: force du signal\n",
    "\n",
    "import geohash2\n",
    "import pyspark.sql.functions as F\n",
    "from pyspark.sql.functions import udf,col\n",
    "from pyspark.sql.types import IntegerType\n",
    "from pyspark.sql.types import *\n",
    "from pyspark.sql.functions import udf\n",
    "import pandas as pd\n",
    "from math import radians, cos, sin, asin, sqrt\n",
    "from geopy.distance import geodesic\n",
    "from geopy.geocoders import Nominatim\n",
    "from geopy.extra.rate_limiter import RateLimiter\n",
    "from pyspark.sql.functions import lit\n",
    "from pyspark.sql.types import  (StructType, \n",
    "                                StructField, \n",
    "                                DateType, \n",
    "                                BooleanType,\n",
    "                                DoubleType,\n",
    "                                IntegerType,\n",
    "                                StringType,\n",
    "                               TimestampType)\n",
    "\n",
    "sorted_flights.baroAltitude.cast(DoubleType())\n",
    "sorted_flights.geoAltitude.cast(DoubleType())\n",
    "sorted_flights.height.cast(DoubleType())\n",
    "sorted_flights.latitude.cast(DoubleType()) \n",
    "sorted_flights.longitude.cast(DoubleType()) \n",
    "sorted_flights.latitudes.cast(DoubleType()) \n",
    "sorted_flights.longitudes.cast(DoubleType()) \n",
    "\n",
    "\n",
    "udf1 = F.udf(lambda x,y: geohash2.encode(x,y,precision=6))\n",
    "udf2= F.udf(lambda x,y,z,t: geodesic((x,y),(z,t)))\n",
    "sorted_flights=sorted_flights.withColumn('Hashcode aircraft', udf1('latitude','longitude'))\n",
    "sorted_flights=sorted_flights.withColumn('Hashcode sensors', udf1('latitudes','longitudes'))\n",
    "sorted_flights.show(5)\n"
   ]
  },
  {
   "cell_type": "code",
   "execution_count": 14,
   "metadata": {
    "scrolled": true
   },
   "outputs": [
    {
     "name": "stdout",
     "output_type": "stream",
     "text": [
      "+----+-----------------+--------+----------------+----------------+------------+-----------+---------------+--------------------+--------------------+--------------------+------+----------+--------------+------+---------+----------+---------+---------+-----------------+----------------+------------------+------------------+-----------------------------+------------------+\n",
      "|  id|     timeAtServer|aircraft|        latitude|       longitude|baroAltitude|geoAltitude|numMeasurements|        measurements|       ArrayOfString|sensors informations|serial| timestamp|signalstrength|serial|latitudes|longitudes|   height|     type|Hashcode aircraft|Hashcode sensors|       Distance_2d|       Distance_3d|delta_geo_alt_sensor_aircraft|delta_geo_baro_alt|\n",
      "+----+-----------------+--------+----------------+----------------+------------+-----------+---------------+--------------------+--------------------+--------------------+------+----------+--------------+------+---------+----------+---------+---------+-----------------+----------------+------------------+------------------+-----------------------------+------------------+\n",
      "| 299|0.523000001907349|       2|49.8963643736759|8.40246252111487|      2400.3|     2400.3|              3|[[440,1509552325,...|[[[440,1509552325...|[440, 1509552325,...|   440|1509552325|            24|   440|50.048573|  8.487899|   82.381|  GRX1090|           u0vgz5|          u0yh9p| 18.00518279571504|2317.9889294749682|           2317.9190000000003|               0.0|\n",
      "| 299|0.523000001907349|       2|49.8963643736759|8.40246252111487|      2400.3|     2400.3|              3|[[440,1509552325,...|[[[440,1509552325...|[101, 1509672843,...|   101|1509672843|            46|   101|50.048584|  8.487752|92.620644|Radarcape|           u0vgz5|          u0yh9p|18.002746399993125| 2307.749576749288|                  2307.679356|               0.0|\n",
      "| 299|0.523000001907349|       2|49.8963643736759|8.40246252111487|      2400.3|     2400.3|              3|[[440,1509552325,...|[[[440,1509552325...|[463, 1509722780,...|   463|1509722780|            34|   463|49.471601|  7.696532|  273.985|  GRX1090|           u0vgz5|          u0v3rn|  69.4771329881194|  2127.44977643028|                     2126.315|               0.0|\n",
      "| 615| 1.11700010299683|       2|49.8959454035355|8.40149750580659|     2407.92|    2407.92|              2|[[101,2104674703,...|[[[101,2104674703...|[101, 2104674703,...|   101|2104674703|            81|   101|50.048584|  8.487752|92.620644|Radarcape|           u0vgz5|          u0yh9p|18.070177029926292|2315.3698709260057|                  2315.299356|               0.0|\n",
      "| 615| 1.11700010299683|       2|49.8959454035355|8.40149750580659|     2407.92|    2407.92|              2|[[101,2104674703,...|[[[101,2104674703...|[440, 2104554175,...|   440|2104554175|            21|   440|50.048573|  8.487899|   82.381|  GRX1090|           u0vgz5|          u0yh9p| 18.07264161049731|2325.6092236005134|                     2325.539|               0.0|\n",
      "| 847| 1.54299998283386|       2|49.8956660901086|8.40075518633868|     2415.54|    2415.54|              3|[[101,2524676140,...|[[[101,2524676140...|          [101,, 32]|   101|      null|            32|   101|50.048584|  8.487752|92.620644|Radarcape|           u0vgz5|          u0yh9p| 18.11764969725962| 2322.990009386611|                  2322.919356|               0.0|\n",
      "| 847| 1.54299998283386|       2|49.8956660901086|8.40075518633868|     2415.54|    2415.54|              3|[[101,2524676140,...|[[[101,2524676140...|          [440,, 33]|   440|      null|            33|   440|50.048573|  8.487899|   82.381|  GRX1090|           u0vgz5|          u0yh9p|18.120136739047126|2333.2293626294954|                     2333.159|               0.0|\n",
      "| 847| 1.54299998283386|       2|49.8956660901086|8.40075518633868|     2415.54|    2415.54|              3|[[101,2524676140,...|[[[101,2524676140...|          [463,, 45]|   463|      null|            45|   463|49.471601|  7.696532|  273.985|  GRX1090|           u0vgz5|          u0v3rn| 69.33425521677634|2142.6770771563934|                     2141.555|               0.0|\n",
      "|1117| 2.03600001335144|       2|49.8952789306641|8.39991519325658|     2423.16|    2423.16|              2|[[101,3024702015,...|[[[101,3024702015...|          [101,, 83]|   101|      null|            83|   101|50.048584|  8.487752|92.620644|Radarcape|           u0vgz5|          u0yh9p| 18.17889048684045|2330.6102552602456|           2330.5393559999998|               0.0|\n",
      "|1117| 2.03600001335144|       2|49.8952789306641|8.39991519325658|     2423.16|    2423.16|              2|[[101,3024702015,...|[[[101,3024702015...|          [440,, 14]|   440|      null|            14|   440|50.048573|  8.487899|   82.381|  GRX1090|           u0vgz5|          u0yh9p|18.181401238061174|2340.8496086233263|                     2340.779|               0.0|\n",
      "|1685| 3.12700009346008|       2|49.8945953886388|8.39786014041385|      2438.4|    2446.02|              2|[[440,4109714750,...|[[[440,4109714750...|           [440,, 0]|   440|      null|             0|   440|50.048573|  8.487899|   82.381|  GRX1090|           u0vgz5|          u0yh9p|18.304237910331516|2363.7098737887604|                     2363.639| 7.619999999999891|\n",
      "|1685| 3.12700009346008|       2|49.8945953886388|8.39786014041385|      2438.4|    2446.02|              2|[[440,4109714750,...|[[[440,4109714750...|          [101,, 77]|   101|      null|            77|   101|50.048584|  8.487752|92.620644|Radarcape|           u0vgz5|          u0yh9p| 18.30166408375791|  2353.47051813475|                  2353.399356| 7.619999999999891|\n",
      "|2242| 4.11899995803833|       2|49.8939902095471|8.39622703758446|     2453.64|    2461.26|              2|[[101,5104687875,...|[[[101,5104687875...|          [101,, 74]|   101|      null|            74|   101|50.048584|  8.487752|92.620644|Radarcape|           u0vgz4|          u0yh9p|18.406154693374422|2368.7108699296105|                  2368.639356| 7.620000000000346|\n",
      "|2242| 4.11899995803833|       2|49.8939902095471|8.39622703758446|     2453.64|    2461.26|              2|[[101,5104687875,...|[[[101,5104687875...|          [440,, 50]|   440|      null|            50|   440|50.048573|  8.487899|   82.381|  GRX1090|           u0vgz4|          u0yh9p|18.408776605737994|2378.9502264017888|           2378.8790000000004| 7.620000000000346|\n",
      "|2510| 4.63499999046326|       2|49.8936767578125|8.39536164936266|     2461.26|    2461.26|              2|[[440,5609613475,...|[[[440,5609613475...|          [440,, 29]|   440|      null|            29|   440|50.048573|  8.487899|   82.381|  GRX1090|           u0vgz4|          u0yh9p|18.463582283973885|2378.9506511299805|           2378.8790000000004|               0.0|\n",
      "|2510| 4.63499999046326|       2|49.8936767578125|8.39536164936266|     2461.26|    2461.26|              2|[[440,5609613475,...|[[[440,5609613475...|          [463,, 47]|   463|      null|            47|   463|49.471601|  7.696532|  273.985|  GRX1090|           u0vgz4|          u0v3rn| 68.89928589901243|2188.3598966400373|                     2187.275|               0.0|\n",
      "|2797|  5.1470000743866|       2|49.8933384782177|8.39451970280828|     2468.88|     2476.5|              2|[[101,6134911640,...|[[[101,6134911640...|          [101,, 87]|   101|      null|            87|   101|50.048584|  8.487752|92.620644|Radarcape|           u0vgz4|          u0yh9p|18.517795422132583|2383.9512773356487|                  2383.879356| 7.619999999999891|\n",
      "|2797|  5.1470000743866|       2|49.8933384782177|8.39451970280828|     2468.88|     2476.5|              2|[[101,6134911640,...|[[[101,6134911640...|           [440,, 3]|   440|      null|             3|   440|50.048573|  8.487899|   82.381|  GRX1090|           u0vgz4|          u0yh9p|  18.5204665428948|2394.1906343985993|                     2394.119| 7.619999999999891|\n",
      "|3102| 5.69099998474121|       2|49.8929660603152|8.39348045555321|      2476.5|     2476.5|              3|[[440,6669628800,...|[[[440,6669628800...|          [440,, 47]|   440|      null|            47|   440|50.048573|  8.487899|   82.381|  GRX1090|           u0vgyf|          u0yh9p|18.586140917079728|2394.1911433290347|                     2394.119|               0.0|\n",
      "|3102| 5.69099998474121|       2|49.8929660603152|8.39348045555321|      2476.5|     2476.5|              3|[[440,6669628800,...|[[[440,6669628800...|          [463,, 71]|   463|      null|            71|   463|49.471601|  7.696532|  273.985|  GRX1090|           u0vgyf|          u0v3rn| 68.74633649514462|2203.5876165940176|                     2202.515|               0.0|\n",
      "+----+-----------------+--------+----------------+----------------+------------+-----------+---------------+--------------------+--------------------+--------------------+------+----------+--------------+------+---------+----------+---------+---------+-----------------+----------------+------------------+------------------+-----------------------------+------------------+\n",
      "only showing top 20 rows\n",
      "\n"
     ]
    }
   ],
   "source": [
    "import geohash2\n",
    "import pyspark.sql.functions as F\n",
    "from pyspark.sql.functions import udf,col\n",
    "from pyspark.sql.types import IntegerType\n",
    "from pyspark.sql.types import *\n",
    "from pyspark.sql.functions import udf\n",
    "import pandas as pd\n",
    "from math import radians, cos, sin, asin, sqrt\n",
    "from geopy.distance import geodesic\n",
    "from geopy.geocoders import Nominatim\n",
    "from geopy.extra.rate_limiter import RateLimiter\n",
    "from pyspark.sql.functions import lit\n",
    "from pyspark.sql.types import  (StructType, \n",
    "                                StructField, \n",
    "                                DateType, \n",
    "                                BooleanType,\n",
    "                                DoubleType,\n",
    "                                IntegerType,\n",
    "                                StringType,\n",
    "                                TimestampType)\n",
    "\n",
    "# we have two method to calculate distance betwen two point :haversine vs geodisc(vincey)\n",
    "#==> Vincenty is more accurate \n",
    "def haversine(coord1, coord2):\n",
    "    R = 6372800  # Earth radius in meters\n",
    "    lat1, lon1 = coord1\n",
    "    lat2, lon2 = coord2\n",
    "    \n",
    "    phi1, phi2 = math.radians(lat1), math.radians(lat2) \n",
    "    dphi       = math.radians(lat2 - lat1)\n",
    "    dlambda    = math.radians(lon2 - lon1)\n",
    "    \n",
    "    a = math.sin(dphi/2)**2 + \\\n",
    "        math.cos(phi1)*math.cos(phi2)*math.sin(dlambda/2)**2\n",
    "    \n",
    "    return 2*R*math.atan2(math.sqrt(a), math.sqrt(1 - a))\n",
    "\n",
    "def get_distance_2d(lat_1, lng_1, lat_2, lng_2): \n",
    "    A =(lat_1, lng_1)\n",
    "    B = (lat_2, lng_2)\n",
    "    d=geodesic(A, B).kilometers\n",
    "    return d\n",
    "def get_distance_3d(distance_2d, alt1, alt2): \n",
    "    distance_3d = sqrt(distance_2d**2+(alt2-alt1)**2)\n",
    "    return  distance_3d\n",
    "def get_Difference( alt1, alt2): \n",
    "    Difference= alt1-alt2\n",
    "    return Difference\n",
    "udf_get_distance_2d = F.udf(get_distance_2d)\n",
    "udf_get_distance_3d = F.udf(get_distance_3d)\n",
    "udf_get_Difference = F.udf(get_Difference)\n",
    "sorted_flights=sorted_flights.withColumn('Distance_2d', udf_get_distance_2d('latitude','longitude','latitudes','longitudes').cast(DoubleType()))\n",
    "sorted_flights.Distance_2d.cast(DoubleType())\n",
    "sorted_flights=sorted_flights.withColumn('Distance_3d', udf_get_distance_3d('Distance_2d','geoAltitude','height').cast(DoubleType()))\n",
    " #6)delta_geo_alt_sensor_aircraft, difference des altitudes celle du sensor et celle de l'aircraft\n",
    "#7)delta_geo_baro_alt, difference des altitudes baro et geo du aircraft\n",
    "sorted_flights=sorted_flights.withColumn('delta_geo_alt_sensor_aircraft', udf_get_Difference('geoAltitude','height'))\n",
    "sorted_flights=sorted_flights.withColumn('delta_geo_baro_alt', udf_get_Difference('geoAltitude','baroAltitude'))\n",
    "sorted_flights.Distance_3d.cast(DoubleType())\n",
    "sorted_flights.show()\n"
   ]
  },
  {
   "cell_type": "code",
   "execution_count": 15,
   "metadata": {
    "scrolled": true
   },
   "outputs": [
    {
     "name": "stdout",
     "output_type": "stream",
     "text": [
      "+-----------------+\n",
      "|max(timeAtServer)|\n",
      "+-----------------+\n",
      "| 18.4260001182556|\n",
      "+-----------------+\n",
      "\n"
     ]
    }
   ],
   "source": [
    "sorted_flights.select(max('timeAtServer')).show()"
   ]
  },
  {
   "cell_type": "code",
   "execution_count": 16,
   "metadata": {
    "scrolled": false
   },
   "outputs": [
    {
     "name": "stdout",
     "output_type": "stream",
     "text": [
      "+---------+----------------+------------------+------------------+-----------------+-----------------------------+------------------+--------------+\n",
      "|     type|Hashcode sensors|       Distance_2d|       Distance_3d|Hashcode aircraft|delta_geo_alt_sensor_aircraft|delta_geo_baro_alt|signalstrength|\n",
      "+---------+----------------+------------------+------------------+-----------------+-----------------------------+------------------+--------------+\n",
      "|  GRX1090|          u0yh9p| 18.00518279571504|2317.9889294749682|           u0vgz5|           2317.9190000000003|               0.0|            24|\n",
      "|Radarcape|          u0yh9p|18.002746399993125| 2307.749576749288|           u0vgz5|                  2307.679356|               0.0|            46|\n",
      "|  GRX1090|          u0v3rn|  69.4771329881194|  2127.44977643028|           u0vgz5|                     2126.315|               0.0|            34|\n",
      "|Radarcape|          u0yh9p|18.070177029926292|2315.3698709260057|           u0vgz5|                  2315.299356|               0.0|            81|\n",
      "|  GRX1090|          u0yh9p| 18.07264161049731|2325.6092236005134|           u0vgz5|                     2325.539|               0.0|            21|\n",
      "|Radarcape|          u0yh9p| 18.11764969725962| 2322.990009386611|           u0vgz5|                  2322.919356|               0.0|            32|\n",
      "|  GRX1090|          u0yh9p|18.120136739047126|2333.2293626294954|           u0vgz5|                     2333.159|               0.0|            33|\n",
      "|  GRX1090|          u0v3rn| 69.33425521677634|2142.6770771563934|           u0vgz5|                     2141.555|               0.0|            45|\n",
      "|Radarcape|          u0yh9p| 18.17889048684045|2330.6102552602456|           u0vgz5|           2330.5393559999998|               0.0|            83|\n",
      "|  GRX1090|          u0yh9p|18.181401238061174|2340.8496086233263|           u0vgz5|                     2340.779|               0.0|            14|\n",
      "|  GRX1090|          u0yh9p|18.304237910331516|2363.7098737887604|           u0vgz5|                     2363.639| 7.619999999999891|             0|\n",
      "|Radarcape|          u0yh9p| 18.30166408375791|  2353.47051813475|           u0vgz5|                  2353.399356| 7.619999999999891|            77|\n",
      "|Radarcape|          u0yh9p|18.406154693374422|2368.7108699296105|           u0vgz4|                  2368.639356| 7.620000000000346|            74|\n",
      "|  GRX1090|          u0yh9p|18.408776605737994|2378.9502264017888|           u0vgz4|           2378.8790000000004| 7.620000000000346|            50|\n",
      "|  GRX1090|          u0yh9p|18.463582283973885|2378.9506511299805|           u0vgz4|           2378.8790000000004|               0.0|            29|\n",
      "|  GRX1090|          u0v3rn| 68.89928589901243|2188.3598966400373|           u0vgz4|                     2187.275|               0.0|            47|\n",
      "|Radarcape|          u0yh9p|18.517795422132583|2383.9512773356487|           u0vgz4|                  2383.879356| 7.619999999999891|            87|\n",
      "|  GRX1090|          u0yh9p|  18.5204665428948|2394.1906343985993|           u0vgz4|                     2394.119| 7.619999999999891|             3|\n",
      "|  GRX1090|          u0yh9p|18.586140917079728|2394.1911433290347|           u0vgyf|                     2394.119|               0.0|            47|\n",
      "|  GRX1090|          u0v3rn| 68.74633649514462|2203.5876165940176|           u0vgyf|                     2202.515|               0.0|            71|\n",
      "+---------+----------------+------------------+------------------+-----------------+-----------------------------+------------------+--------------+\n",
      "only showing top 20 rows\n",
      "\n"
     ]
    }
   ],
   "source": [
    "\n",
    "sorted_flights.select('type','Hashcode sensors','Distance_2d', 'Distance_3d','Hashcode aircraft','delta_geo_alt_sensor_aircraft','delta_geo_baro_alt','signalstrength').show()"
   ]
  },
  {
   "cell_type": "code",
   "execution_count": 17,
   "metadata": {
    "scrolled": false
   },
   "outputs": [
    {
     "name": "stdout",
     "output_type": "stream",
     "text": [
      "+---------+-----+\n",
      "|     type|count|\n",
      "+---------+-----+\n",
      "|  GRX1090| 4474|\n",
      "|Radarcape|22468|\n",
      "+---------+-----+\n",
      "\n"
     ]
    }
   ],
   "source": [
    "sorted_flights.groupBy(\"type\").count().show()"
   ]
  },
  {
   "cell_type": "code",
   "execution_count": 18,
   "metadata": {},
   "outputs": [
    {
     "data": {
      "text/html": [
       "<div>\n",
       "<style scoped>\n",
       "    .dataframe tbody tr th:only-of-type {\n",
       "        vertical-align: middle;\n",
       "    }\n",
       "\n",
       "    .dataframe tbody tr th {\n",
       "        vertical-align: top;\n",
       "    }\n",
       "\n",
       "    .dataframe thead th {\n",
       "        text-align: right;\n",
       "    }\n",
       "</style>\n",
       "<table border=\"1\" class=\"dataframe\">\n",
       "  <thead>\n",
       "    <tr style=\"text-align: right;\">\n",
       "      <th></th>\n",
       "      <th>type</th>\n",
       "      <th>count</th>\n",
       "    </tr>\n",
       "  </thead>\n",
       "  <tbody>\n",
       "    <tr>\n",
       "      <th>0</th>\n",
       "      <td>GRX1090</td>\n",
       "      <td>4474</td>\n",
       "    </tr>\n",
       "    <tr>\n",
       "      <th>1</th>\n",
       "      <td>Radarcape</td>\n",
       "      <td>22468</td>\n",
       "    </tr>\n",
       "  </tbody>\n",
       "</table>\n",
       "</div>"
      ],
      "text/plain": [
       "        type  count\n",
       "0    GRX1090   4474\n",
       "1  Radarcape  22468"
      ]
     },
     "execution_count": 18,
     "metadata": {},
     "output_type": "execute_result"
    }
   ],
   "source": [
    "\n",
    "\n",
    "import plotly.graph_objs as go\n",
    "import pandas as pd\n",
    "import requests\n",
    "import matplotlib.pyplot as plt\n",
    "t1=sorted_flights.groupBy(\"type\").count()\n",
    "#We can also use matplotlib and Pandas to visualize the total number of crimes per year\n",
    "import pandas as pd\n",
    "\n",
    "%matplotlib inline\n",
    "t1_pandas_DataFrame = pd.DataFrame.from_records(t1.collect(), columns=t1.columns)\n",
    "t1_pandas_DataFrame.head(20)\n",
    "\n"
   ]
  },
  {
   "cell_type": "code",
   "execution_count": 19,
   "metadata": {},
   "outputs": [
    {
     "data": {
      "image/png": "[encoded data removed]",
      "text/plain": [
       "<Figure size 1440x720 with 1 Axes>"
      ]
     },
     "metadata": {
      "needs_background": "light"
     },
     "output_type": "display_data"
    }
   ],
   "source": [
    "t1_pandas_DataFrame.plot(figsize = (20,10), kind = \"bar\", color = \"red\",\n",
    "                               x = \"type\", y = \"count\", legend = False)\n",
    "\n",
    "plt.xlabel(\"type\", fontsize = 18)\n",
    "plt.ylabel(\"count\", fontsize = 18)\n",
    "plt.title(\"Number of sensors Per type\", fontsize = 28)\n",
    "plt.xticks(size = 18)\n",
    "plt.yticks(size = 18)\n",
    "plt.show()"
   ]
  },
  {
   "cell_type": "code",
   "execution_count": null,
   "metadata": {
    "scrolled": true
   },
   "outputs": [],
   "source": []
  },
  {
   "cell_type": "code",
   "execution_count": 20,
   "metadata": {
    "scrolled": false
   },
   "outputs": [
    {
     "name": "stdout",
     "output_type": "stream",
     "text": [
      "+-------+------------------+\n",
      "|summary|       Distance_3d|\n",
      "+-------+------------------+\n",
      "|  count|             26942|\n",
      "|   mean| 9094.907396151699|\n",
      "| stddev| 2746.419944372387|\n",
      "|    min|61.807056960314625|\n",
      "|    max|13139.861884801641|\n",
      "+-------+------------------+\n",
      "\n"
     ]
    }
   ],
   "source": [
    "sorted_flights.describe(\"Distance_3d\").show()"
   ]
  },
  {
   "cell_type": "code",
   "execution_count": 21,
   "metadata": {},
   "outputs": [
    {
     "name": "stdout",
     "output_type": "stream",
     "text": [
      "+------------------+\n",
      "|       Distance_3d|\n",
      "+------------------+\n",
      "|2317.9889294749682|\n",
      "| 2307.749576749288|\n",
      "|  2127.44977643028|\n",
      "|2315.3698709260057|\n",
      "|2325.6092236005134|\n",
      "| 2322.990009386611|\n",
      "|2333.2293626294954|\n",
      "|2142.6770771563934|\n",
      "|2330.6102552602456|\n",
      "|2340.8496086233263|\n",
      "|2363.7098737887604|\n",
      "|  2353.47051813475|\n",
      "|2368.7108699296105|\n",
      "|2378.9502264017888|\n",
      "|2378.9506511299805|\n",
      "|2188.3598966400373|\n",
      "|2383.9512773356487|\n",
      "|2394.1906343985993|\n",
      "|2394.1911433290347|\n",
      "|2203.5876165940176|\n",
      "+------------------+\n",
      "only showing top 20 rows\n",
      "\n"
     ]
    }
   ],
   "source": [
    "his_dataframe=sorted_flights.select(\"Distance_3d\")\n",
    "his_dataframe.show()"
   ]
  },
  {
   "cell_type": "code",
   "execution_count": 22,
   "metadata": {
    "scrolled": true
   },
   "outputs": [
    {
     "data": {
      "text/plain": [
       "array([[<matplotlib.axes._subplots.AxesSubplot object at 0x000000000C958E10>]],\n",
       "      dtype=object)"
      ]
     },
     "execution_count": 22,
     "metadata": {},
     "output_type": "execute_result"
    },
    {
     "data": {
      "image/png": "[encoded data removed]",
      "text/plain": [
       "<Figure size 432x288 with 1 Axes>"
      ]
     },
     "metadata": {
      "needs_background": "light"
     },
     "output_type": "display_data"
    }
   ],
   "source": [
    "#Histograms are a great way to visualize the distributions of a single variable \n",
    "#aand it is one of the must for initial exploratory analysis with fewer variables.\n",
    "%matplotlib inline\n",
    "import matplotlib.pyplot as plt\n",
    "df_pd = pd.DataFrame.from_records(his_dataframe.collect(), columns=his_dataframe.columns)\n",
    "df_pd.hist(column='Distance_3d')\n",
    "\n"
   ]
  },
  {
   "cell_type": "code",
   "execution_count": 23,
   "metadata": {},
   "outputs": [
    {
     "name": "stdout",
     "output_type": "stream",
     "text": [
      "+---------------------+\n",
      "|skewness(Distance_3d)|\n",
      "+---------------------+\n",
      "|   -1.309362467820387|\n",
      "+---------------------+\n",
      "\n"
     ]
    }
   ],
   "source": [
    "#its clear from the plot that we have a negative skew \n",
    "#let's check that \n",
    "from pyspark.sql.functions import col, skewness, kurtosis\n",
    "his_dataframe.select(skewness('Distance_3d')).show()\n",
    "\n"
   ]
  },
  {
   "cell_type": "code",
   "execution_count": 24,
   "metadata": {},
   "outputs": [],
   "source": [
    "#Choix du nombre de classes k=1+log2(num of sample alt=N )\n",
    "#) La représentation par histogramme consiste à regrouper les observations « proches » en classes :\n",
    "#On trie le vecteur x (noté alors x\u0003), et on partitionne l’intervalle ]a0; ak]\n",
    "#(a0 < x\u00031; ak > x\u0003n) en k intervalles ]ai-1; ai] appelés classes.\n",
    "#La largeur de la classe i est notée hi = ai-(ai-1) (et h = (ak -a0)/k si pas fixe).\n",
    "# N= count| 26942\n",
    "#Choix du nombre de classes k=1+log2(26942 )\n",
    "#a0=  min|61.80705696031462=60\n",
    "#ak= max|13139.861884801641= 13150\n",
    "#h = (ak -a0)/k \n",
    "k=5\n",
    "h=2600"
   ]
  },
  {
   "cell_type": "code",
   "execution_count": 25,
   "metadata": {
    "scrolled": true
   },
   "outputs": [
    {
     "name": "stdout",
     "output_type": "stream",
     "text": [
      "+------------------+-------+------+\n",
      "|       Distance_3d|buckets|bucket|\n",
      "+------------------+-------+------+\n",
      "|2317.9889294749682|    0.0|     A|\n",
      "| 2307.749576749288|    0.0|     A|\n",
      "|  2127.44977643028|    0.0|     A|\n",
      "|2315.3698709260057|    0.0|     A|\n",
      "|2325.6092236005134|    0.0|     A|\n",
      "| 2322.990009386611|    0.0|     A|\n",
      "|2333.2293626294954|    0.0|     A|\n",
      "|2142.6770771563934|    0.0|     A|\n",
      "|2330.6102552602456|    0.0|     A|\n",
      "|2340.8496086233263|    0.0|     A|\n",
      "|2363.7098737887604|    0.0|     A|\n",
      "|  2353.47051813475|    0.0|     A|\n",
      "|2368.7108699296105|    0.0|     A|\n",
      "|2378.9502264017888|    0.0|     A|\n",
      "|2378.9506511299805|    0.0|     A|\n",
      "|2188.3598966400373|    0.0|     A|\n",
      "|2383.9512773356487|    0.0|     A|\n",
      "|2394.1906343985993|    0.0|     A|\n",
      "|2394.1911433290347|    0.0|     A|\n",
      "|2203.5876165940176|    0.0|     A|\n",
      "|2216.0183428188075|    0.0|     A|\n",
      "|2399.1917640403867|    0.0|     A|\n",
      "| 2409.431121385407|    0.0|     A|\n",
      "|2406.8118879176927|    0.0|     A|\n",
      "| 2417.051245829986|    0.0|     A|\n",
      "|2226.4328166006344|    0.0|     A|\n",
      "| 2238.863689648273|    0.0|     A|\n",
      "|2414.4319904408317|    0.0|     A|\n",
      "|2424.6713490321094|    0.0|     A|\n",
      "| 2414.432508584247|    0.0|     A|\n",
      "|2424.6718653054245|    0.0|     A|\n",
      "|2234.0449040130816|    0.0|     A|\n",
      "| 2429.672438152891|    0.0|     A|\n",
      "|2439.9117972553904|    0.0|     A|\n",
      "|2429.6727643599543|    0.0|     A|\n",
      "| 2439.912122287845|    0.0|     A|\n",
      "|2249.2740790747634|    0.0|     A|\n",
      "|2444.9128002407233|    0.0|     A|\n",
      "| 2455.152160120042|    0.0|     A|\n",
      "| 2444.913206211796|    0.0|     A|\n",
      "| 2455.152564668356|    0.0|     A|\n",
      "|2264.5025054442267|    0.0|     A|\n",
      "|2460.1532342563037|    0.0|     A|\n",
      "|2470.3925946728004|    0.0|     A|\n",
      "| 2483.013188028847|    0.0|     A|\n",
      "|2493.2525516518044|    0.0|     A|\n",
      "|2475.3937376807144|    0.0|     A|\n",
      "|2485.6330983655503|    0.0|     A|\n",
      "| 2294.961731846696|    0.0|     A|\n",
      "|2498.2535234438665|    0.0|     A|\n",
      "|2508.4928879191893|    0.0|     A|\n",
      "| 2513.493786649443|    0.0|     A|\n",
      "| 2523.733152310477|    0.0|     A|\n",
      "| 2333.037163989052|    0.0|     A|\n",
      "|2523.7335422354463|    0.0|     A|\n",
      "| 2528.734090912943|    0.0|     A|\n",
      "|2538.9734575774605|    0.0|     A|\n",
      "| 2528.734412040458|    0.0|     A|\n",
      "| 2348.267278690582|    0.0|     A|\n",
      "|2538.9737776371835|    0.0|     A|\n",
      "| 2543.974247371132|    0.0|     A|\n",
      "|2554.2136155174394|    0.0|     A|\n",
      "| 2543.974634920768|    0.0|     A|\n",
      "|  2554.21400182504|    0.0|     A|\n",
      "| 2559.214456715894|    0.0|     A|\n",
      "|2569.4538261795265|    0.0|     A|\n",
      "| 2574.454703765202|    0.0|     A|\n",
      "|2584.6940744235894|    0.0|     A|\n",
      "|2574.4549576888444|    0.0|     A|\n",
      "|  2393.95895414757|    0.0|     A|\n",
      "| 2584.694327569327|    0.0|     A|\n",
      "|  2599.93430940905|    0.0|     A|\n",
      "| 2589.694937494043|    0.0|     A|\n",
      "|10594.728985399413|    4.0|     E|\n",
      "|10604.133353054176|    4.0|     E|\n",
      "|10602.347121079487|    4.0|     E|\n",
      "|10611.753120108797|    4.0|     E|\n",
      "|10719.557453821471|    4.0|     E|\n",
      "|10871.217836330161|    4.0|     E|\n",
      "|10594.728658453323|    4.0|     E|\n",
      "|10830.277018482904|    4.0|     E|\n",
      "|10727.177712508515|    4.0|     E|\n",
      "|10822.657326928762|    4.0|     E|\n",
      "|10719.557739103917|    4.0|     E|\n",
      "|10719.558026610495|    4.0|     E|\n",
      "|10594.728346816382|    4.0|     E|\n",
      "|10604.134783958583|    4.0|     E|\n",
      "|10828.042072151089|    4.0|     E|\n",
      "|10719.558268981547|    4.0|     E|\n",
      "|10594.728101738638|    4.0|     E|\n",
      "| 10822.65988025752|    4.0|     E|\n",
      "|10719.558508955863|    4.0|     E|\n",
      "|10604.135435533359|    4.0|     E|\n",
      "|10835.664426055886|    4.0|     E|\n",
      "|10727.178799216188|    4.0|     E|\n",
      "|10830.280614973273|    4.0|     E|\n",
      "|10602.346026209689|    4.0|     E|\n",
      "|10602.345844987936|    4.0|     E|\n",
      "| 10727.17910354754|    4.0|     E|\n",
      "|10594.727708390292|    4.0|     E|\n",
      "+------------------+-------+------+\n",
      "only showing top 100 rows\n",
      "\n"
     ]
    }
   ],
   "source": [
    "#Binning our data , we can use also use cut() with pandas \n",
    "#this work will be repeated for the rest of all thecolumn  you want to bin\n",
    "from pyspark.ml.feature import Bucketizer\n",
    "from pyspark.sql.functions import udf\n",
    "from pyspark.sql.types import *\n",
    "sorted_flights.Distance_3d.cast(DoubleType())\n",
    "udf1 = F.udf(lambda x,y: geohash2.encode(x,y,precision=6))\n",
    "float_distance = F.udf(lambda x: float(x), DoubleType() )\n",
    "bucketizer = Bucketizer(splits=[ 0, 2600, 5200,7800,10400,13150, float('Inf') ],inputCol=\"Distance_3d\", outputCol=\"buckets\")\n",
    "sorted_flights_buck = bucketizer.setHandleInvalid(\"keep\").transform(sorted_flights)\n",
    "\n",
    "def categorizer(age):\n",
    "   if age < 2600:\n",
    "    return \"A\"\n",
    "   elif age <  5200:\n",
    "    return \"B\"\n",
    "   elif age < 7800:\n",
    "    return \"C\"\n",
    "   elif age < 10400:\n",
    "    return \"D\"\n",
    "   else: \n",
    "    return \"E\"\n",
    "bucket_udf = udf(categorizer, StringType() )\n",
    "sorted_flights_buck = sorted_flights_buck.withColumn(\"bucket\", bucket_udf(\"Distance_3d\"))\n",
    "sorted_flights_buck.select(\"Distance_3d\",'buckets','bucket').show(100)"
   ]
  },
  {
   "cell_type": "code",
   "execution_count": 26,
   "metadata": {},
   "outputs": [
    {
     "name": "stdout",
     "output_type": "stream",
     "text": [
      "+------+-----+\n",
      "|bucket|count|\n",
      "+------+-----+\n",
      "|     E|12831|\n",
      "|     B| 2152|\n",
      "|     D| 7249|\n",
      "|     C| 3668|\n",
      "|     A| 1042|\n",
      "+------+-----+\n",
      "\n"
     ]
    }
   ],
   "source": [
    "t=sorted_flights_buck.groupBy(\"bucket\").count()\n",
    "t.show()"
   ]
  },
  {
   "cell_type": "code",
   "execution_count": 27,
   "metadata": {
    "scrolled": true
   },
   "outputs": [
    {
     "data": {
      "text/html": [
       "<div>\n",
       "<style scoped>\n",
       "    .dataframe tbody tr th:only-of-type {\n",
       "        vertical-align: middle;\n",
       "    }\n",
       "\n",
       "    .dataframe tbody tr th {\n",
       "        vertical-align: top;\n",
       "    }\n",
       "\n",
       "    .dataframe thead th {\n",
       "        text-align: right;\n",
       "    }\n",
       "</style>\n",
       "<table border=\"1\" class=\"dataframe\">\n",
       "  <thead>\n",
       "    <tr style=\"text-align: right;\">\n",
       "      <th></th>\n",
       "      <th>bucket</th>\n",
       "      <th>count</th>\n",
       "    </tr>\n",
       "  </thead>\n",
       "  <tbody>\n",
       "    <tr>\n",
       "      <th>0</th>\n",
       "      <td>E</td>\n",
       "      <td>12831</td>\n",
       "    </tr>\n",
       "    <tr>\n",
       "      <th>1</th>\n",
       "      <td>B</td>\n",
       "      <td>2152</td>\n",
       "    </tr>\n",
       "    <tr>\n",
       "      <th>2</th>\n",
       "      <td>D</td>\n",
       "      <td>7249</td>\n",
       "    </tr>\n",
       "    <tr>\n",
       "      <th>3</th>\n",
       "      <td>C</td>\n",
       "      <td>3668</td>\n",
       "    </tr>\n",
       "    <tr>\n",
       "      <th>4</th>\n",
       "      <td>A</td>\n",
       "      <td>1042</td>\n",
       "    </tr>\n",
       "  </tbody>\n",
       "</table>\n",
       "</div>"
      ],
      "text/plain": [
       "  bucket  count\n",
       "0      E  12831\n",
       "1      B   2152\n",
       "2      D   7249\n",
       "3      C   3668\n",
       "4      A   1042"
      ]
     },
     "execution_count": 27,
     "metadata": {},
     "output_type": "execute_result"
    }
   ],
   "source": [
    "import plotly.graph_objs as go\n",
    "import pandas as pd\n",
    "import requests\n",
    "import matplotlib.pyplot as plt\n",
    "\n",
    "#We can also use matplotlib and Pandas to visualize the total number of each class a,b,c,d,e\n",
    "import pandas as pd\n",
    "\n",
    "%matplotlib inline\n",
    "t_pandas_DataFrame = pd.DataFrame.from_records(t.collect(), columns=t.columns)\n",
    "t_pandas_DataFrame.head(20)\n",
    "#from pyspark_dist_explore import hist\n",
    "#import matplotlib.pyplot as plt\n",
    "#fig, ax = plt.subplots()\n",
    "#3hist(ax,DF_3D, bins = 10, color=['red'])\n",
    "#import matplotlib.pyplot as plt\n",
    "# Show histogram of the 'Distance_3d' column\n",
    "#bins, counts = DF_3D.select('Distance_3d').rdd.flatMap(lambda x: x).histogram(10)\n",
    "#.hist(bins[:-1], bins=bins, weights=counts)\n",
    "#%matplotlib inline\n",
    "#import matplotlib.pyplot as plt\n",
    "#DF_3D_pandas.hist(column='Distance_3d',bins=8)\n",
    "#sample_aircarfts_DataFrame = pd.DataFrame.from_records(sample_aircarft.collect(), columns=sample_aircarft.columns)\n",
    "#sensors_DataFrame = pd.DataFrame.from_records(sensors.collect(), columns=sensors.columns)"
   ]
  },
  {
   "cell_type": "code",
   "execution_count": 28,
   "metadata": {},
   "outputs": [],
   "source": [
    "t_pandas_DataFrame = t_pandas_DataFrame.sort_values(by ='count' )"
   ]
  },
  {
   "cell_type": "code",
   "execution_count": 29,
   "metadata": {},
   "outputs": [
    {
     "data": {
      "image/png": "[encoded data removed]",
      "text/plain": [
       "<Figure size 1440x720 with 1 Axes>"
      ]
     },
     "metadata": {
      "needs_background": "light"
     },
     "output_type": "display_data"
    }
   ],
   "source": [
    "t_pandas_DataFrame.plot(figsize = (20,10), kind = \"bar\", color = \"red\",\n",
    "                               x = \"bucket\", y = \"count\", legend = False)\n",
    "\n",
    "plt.xlabel(\"bucket\", fontsize = 18)\n",
    "plt.ylabel(\"count\", fontsize = 18)\n",
    "plt.title(\"Number of similaire distance Per class\", fontsize = 28)\n",
    "plt.xticks(size = 18)\n",
    "plt.yticks(size = 18)\n",
    "plt.show()"
   ]
  }
 ],
 "metadata": {
  "kernelspec": {
   "display_name": "Python 3",
   "language": "python",
   "name": "python3"
  },
  "language_info": {
   "codemirror_mode": {
    "name": "ipython",
    "version": 3
   },
   "file_extension": ".py",
   "mimetype": "text/x-python",
   "name": "python",
   "nbconvert_exporter": "python",
   "pygments_lexer": "ipython3",
   "version": "3.7.3"
  }
 },
 "nbformat": 4,
 "nbformat_minor": 2
}
